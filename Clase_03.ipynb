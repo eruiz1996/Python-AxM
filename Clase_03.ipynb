{
 "cells": [
  {
   "cell_type": "markdown",
   "id": "aa0fc4dc-6a2d-449f-8320-333a33b78d93",
   "metadata": {},
   "source": [
    "# Ejercicios"
   ]
  },
  {
   "cell_type": "markdown",
   "id": "8e4e626f-3838-4b43-a3a5-ccf7cfd71b29",
   "metadata": {},
   "source": [
    "## Promedio de calificaciones\n",
    "Obtener el promedio de las calificaciones de un alumno, el cual obtuvo `9.2`, `8.9` y `7.8`."
   ]
  },
  {
   "cell_type": "markdown",
   "id": "2834a791-c725-4ce7-8d6b-bf04a90290e1",
   "metadata": {},
   "source": [
    "**Enfoque 1**. Realizar ejercicio de manera directa."
   ]
  },
  {
   "cell_type": "code",
   "execution_count": 1,
   "id": "21629056-c704-4d81-97ae-d263ef537547",
   "metadata": {},
   "outputs": [],
   "source": [
    "calificacion_1, calificacion_2, calificacion_3 = 9.2, 8.9, 7.8"
   ]
  },
  {
   "cell_type": "code",
   "execution_count": 2,
   "id": "8a26ae9a-3d1f-42a6-b05f-567079b8ceae",
   "metadata": {},
   "outputs": [
    {
     "data": {
      "text/plain": [
       "25.900000000000002"
      ]
     },
     "execution_count": 2,
     "metadata": {},
     "output_type": "execute_result"
    }
   ],
   "source": [
    "suma_calificaciones = calificacion_1 + calificacion_2 + calificacion_3\n",
    "suma_calificaciones"
   ]
  },
  {
   "cell_type": "code",
   "execution_count": 3,
   "id": "89381e1c-dccf-4a5c-9bbc-cb4600b586d8",
   "metadata": {},
   "outputs": [],
   "source": [
    "promedio = suma_calificaciones/3"
   ]
  },
  {
   "cell_type": "code",
   "execution_count": 4,
   "id": "25d17e50-36f3-498c-866c-541db4184dd7",
   "metadata": {},
   "outputs": [
    {
     "data": {
      "text/plain": [
       "8.633333333333335"
      ]
     },
     "execution_count": 4,
     "metadata": {},
     "output_type": "execute_result"
    }
   ],
   "source": [
    "promedio"
   ]
  },
  {
   "cell_type": "markdown",
   "id": "a622d6fc-88bc-4312-823b-fbc666b12a1d",
   "metadata": {},
   "source": [
    "**Enfoque 2**. Generalizar.\n",
    "\n",
    "### Función `input()`\n",
    "\n",
    "```python\n",
    "input(prompt='')\n",
    "```\n",
    "\n",
    "Imprime el mensaje `promt` y almacena, como **dato de tipo `str`**, el valor tecleado por el usuario."
   ]
  },
  {
   "cell_type": "code",
   "execution_count": 7,
   "id": "5c9c22d0-04c1-4718-adf1-47841438514d",
   "metadata": {},
   "outputs": [
    {
     "name": "stdin",
     "output_type": "stream",
     "text": [
      "Escribe un número 12\n"
     ]
    },
    {
     "data": {
      "text/plain": [
       "'12'"
      ]
     },
     "execution_count": 7,
     "metadata": {},
     "output_type": "execute_result"
    }
   ],
   "source": [
    "input('Escribe un número')"
   ]
  },
  {
   "cell_type": "code",
   "execution_count": 8,
   "id": "1730756d-55b6-4e17-a91f-91de9234ba2a",
   "metadata": {},
   "outputs": [
    {
     "name": "stdin",
     "output_type": "stream",
     "text": [
      "Escribe un número 5\n"
     ]
    },
    {
     "data": {
      "text/plain": [
       "str"
      ]
     },
     "execution_count": 8,
     "metadata": {},
     "output_type": "execute_result"
    }
   ],
   "source": [
    "numero = input('Escribe un número')\n",
    "type(numero)"
   ]
  },
  {
   "cell_type": "markdown",
   "id": "8edf8fbf-6822-4f61-a140-0f29ff2fae4b",
   "metadata": {},
   "source": [
    "### Casting\n",
    "Se refiere a la conversión de un tipo de dato a otro. Se hace por medio de funciones, las cuales llevan por nombre los acrónimos de los diferentes tipos de dato, es decir: `int()` para convertir a tipo entero, `float()` en tipo decimal, `str()` en cadena de texto, etc."
   ]
  },
  {
   "cell_type": "code",
   "execution_count": 9,
   "id": "b1b920dd-9d1c-4cef-87ea-11b9396d3979",
   "metadata": {},
   "outputs": [
    {
     "name": "stdin",
     "output_type": "stream",
     "text": [
      "Introduce la primer calificación 7\n"
     ]
    },
    {
     "name": "stdout",
     "output_type": "stream",
     "text": [
      "La primer calificación es: 7.0\n",
      "Su tipo de dato es: <class 'float'>\n"
     ]
    }
   ],
   "source": [
    "# pedimos al usuario la primer calificación\n",
    "calificacion_1_texto = input('Introduce la primer calificación')\n",
    "# convertimos\n",
    "calificacion_1 = float(calificacion_1_texto)\n",
    "# corroboramos\n",
    "print('La primer calificación es:', calificacion_1)\n",
    "print('Su tipo de dato es:', type(calificacion_1))"
   ]
  },
  {
   "cell_type": "code",
   "execution_count": 10,
   "id": "9f326b6b-f235-46bc-aace-4f720972fbe1",
   "metadata": {},
   "outputs": [
    {
     "name": "stdin",
     "output_type": "stream",
     "text": [
      "Introduce la primer calificación 9.2\n",
      "Introduce la segunda calificación 8.9\n",
      "Introduce la tercer calificación 7.8\n"
     ]
    }
   ],
   "source": [
    "calificacion_1 = float(input('Introduce la primer calificación'))\n",
    "calificacion_2 = float(input('Introduce la segunda calificación'))\n",
    "calificacion_3 = float(input('Introduce la tercer calificación'))"
   ]
  },
  {
   "cell_type": "code",
   "execution_count": 11,
   "id": "e8162c87-dcf9-4f57-9fb8-64468847f7f8",
   "metadata": {},
   "outputs": [
    {
     "data": {
      "text/plain": [
       "8.633333333333335"
      ]
     },
     "execution_count": 11,
     "metadata": {},
     "output_type": "execute_result"
    }
   ],
   "source": [
    "suma_calificaciones = calificacion_1 + calificacion_2 + calificacion_3\n",
    "promedio = suma_calificaciones/3\n",
    "promedio"
   ]
  },
  {
   "cell_type": "markdown",
   "id": "99e1aff5-a964-44f5-81b0-30015c8d8b2d",
   "metadata": {},
   "source": [
    "**Nota**. Si se convierte un dato de tipo `bool` a `int`, nos quedan los valores `1` o `0`."
   ]
  },
  {
   "cell_type": "code",
   "execution_count": 12,
   "id": "e4ce6e99-5288-4d5b-a8ee-028f931eedc4",
   "metadata": {},
   "outputs": [
    {
     "data": {
      "text/plain": [
       "1"
      ]
     },
     "execution_count": 12,
     "metadata": {},
     "output_type": "execute_result"
    }
   ],
   "source": [
    "int(True)"
   ]
  },
  {
   "cell_type": "code",
   "execution_count": 13,
   "id": "2afa0af9-25f5-4856-8523-8651d893c296",
   "metadata": {},
   "outputs": [
    {
     "data": {
      "text/plain": [
       "0"
      ]
     },
     "execution_count": 13,
     "metadata": {},
     "output_type": "execute_result"
    }
   ],
   "source": [
    "int(False)"
   ]
  },
  {
   "cell_type": "markdown",
   "id": "d1f662d9-9420-4133-ab25-4a60b4af7504",
   "metadata": {},
   "source": [
    "### De Celsius a Fahrenheit\n",
    "Pide al usuario que ingrese una temperatura en grados **Celsius**. Luego, convierte esta temperatura a grados **Fahrenheit** utilizando la fórmula: \n",
    "\n",
    "$$F = \\dfrac{9}{5}C + 32$$ \n",
    "\n",
    "donde:\n",
    "- `C` es la temperatura en Celsius\n",
    "- `F` es la temperatura en Fahrenheit\n",
    "\n",
    "Imprime el resultado."
   ]
  },
  {
   "cell_type": "code",
   "execution_count": 18,
   "id": "b74b0b4b-bbba-4199-9404-f791a52fe119",
   "metadata": {},
   "outputs": [
    {
     "name": "stdin",
     "output_type": "stream",
     "text": [
      "Introduce la temperatura en grados Celsius:  40\n"
     ]
    },
    {
     "name": "stdout",
     "output_type": "stream",
     "text": [
      "La temperatura en grados Fahrenheit es de:  104.0\n"
     ]
    }
   ],
   "source": [
    "C = float(input('Introduce la temperatura en grados Celsius: '))\n",
    "F = 9/5 * C + 32\n",
    "print('La temperatura en grados Fahrenheit es de: ', F)"
   ]
  },
  {
   "cell_type": "markdown",
   "id": "67de9ebd-b53d-43b2-a943-25b63a234264",
   "metadata": {},
   "source": [
    "## Índice de Masa Corporal\n",
    "Solicita al usuario que ingrese su peso en kilogramos y su altura en metros. Luego, calcula su IMC utilizando la fórmula\n",
    "\n",
    "$$IMC=\\dfrac{peso}{altura^2}$$\n",
    "\n",
    "Finalmente, imprime el resultado indicando si la persona tiene sobrepeso (usar dato de tipo `bool`). Para esto último básate en que:\n",
    "\n",
    "> De acuerdo con criterios establecidos por la Organización Mundial de la Salud (OMS), se considera que una persona tiene sobrepeso cuando su IMC está entre 25.0 y 29.9\n",
    "\n",
    "Fuente: [aquí](https://www.gob.mx/issste/articulos/la-obesidad-en-mexico#:~:text=La%20obesidad%20se%20puede%20prevenir.&text=En%20M%C3%A9xico%2C%20el%2070%25%20de,y%20algunos%20tipos%20de%20c%C3%A1ncer.)"
   ]
  },
  {
   "cell_type": "code",
   "execution_count": 14,
   "id": "48e196be-9575-45c8-bed5-772b7d60984f",
   "metadata": {},
   "outputs": [
    {
     "name": "stdin",
     "output_type": "stream",
     "text": [
      "Introduce tu peso:  80\n",
      "Introduce tu altura:  1.69\n"
     ]
    }
   ],
   "source": [
    "peso = float(input('Introduce tu peso en kilogramos: '))\n",
    "altura = float(input('Introduce tu altura metros: '))"
   ]
  },
  {
   "cell_type": "code",
   "execution_count": 15,
   "id": "b7ba9bae-6da8-476b-9d48-335bb38a826b",
   "metadata": {},
   "outputs": [],
   "source": [
    "IMC = peso / altura**2"
   ]
  },
  {
   "cell_type": "code",
   "execution_count": 17,
   "id": "359008a9-1f8a-4659-86e0-485407c1adbb",
   "metadata": {},
   "outputs": [
    {
     "data": {
      "text/plain": [
       "28.01022373166206"
      ]
     },
     "execution_count": 17,
     "metadata": {},
     "output_type": "execute_result"
    }
   ],
   "source": [
    "IMC"
   ]
  },
  {
   "cell_type": "code",
   "execution_count": 16,
   "id": "644b5c35-8c91-4eae-b717-bff707588fa6",
   "metadata": {},
   "outputs": [
    {
     "data": {
      "text/plain": [
       "True"
      ]
     },
     "execution_count": 16,
     "metadata": {},
     "output_type": "execute_result"
    }
   ],
   "source": [
    "IMC >= 25 and IMC<=29.9"
   ]
  },
  {
   "cell_type": "markdown",
   "id": "500df77b-9172-471a-915c-a1eb7477afbf",
   "metadata": {},
   "source": [
    "# Sentencias de control\n",
    "Las **sentencias de control** proporcionan mecanismos para dirigir el flujo de ejecución del programa de acuerdo con condiciones específicas o requisitos lógicos, y permiten al programador controlar cómo se ejecutan y gestionan las distintas partes del código.\n",
    "\n",
    "Estas sentencias permiten tomar decisiones (*condicionales*), iterar sobre colecciones de datos o repetir bloques de código mientras se cumplan ciertas condiciones (*ciclos*)"
   ]
  },
  {
   "cell_type": "markdown",
   "id": "55481345-4f3a-4ebe-a3db-2265de899fee",
   "metadata": {},
   "source": [
    "## Sentencias Condicionales\n",
    "### `if`\n",
    "La sentencia `if` se utiliza para tomar decisiones en el código basadas en una condición. Si la condición es verdadera, el bloque de código dentro del `if` se ejecuta.\n",
    "\n",
    "**Sintaxis**\n",
    "\n",
    "```python\n",
    "if condicion:\n",
    "    # Bloque de código que se ejecuta si la condicion es True\n",
    "```\n",
    "\n",
    "**Nota importante**\n",
    "\n",
    "- El bloque de código se encuentra a una identación (sangría) de 4 espacios (o un salto de tabulador)\n",
    "- Esta identación es equivalente a poner símbolos delimitadores (`{}`, `()`, etc.) como en otros lenguajes\n",
    "- Todo lo que esté a esos 4 espacios **es parte del bloque de código**\n",
    "- Significa que si `condicion` es `True`, se va a ejecutar el bloque de código (todo lo que se encuentre a dicha identación)"
   ]
  },
  {
   "cell_type": "code",
   "execution_count": 23,
   "id": "7c7e07a1-8287-4c02-8db7-8e465569bd44",
   "metadata": {},
   "outputs": [
    {
     "name": "stdout",
     "output_type": "stream",
     "text": [
      "Esto siempre se va a ejecutar\n"
     ]
    }
   ],
   "source": [
    "# condición que siempre se ejecuta\n",
    "if True:\n",
    "    print('Esto siempre se va a ejecutar')\n",
    "    \n",
    "# condición que nunca se ejecuta\n",
    "if False:\n",
    "    print('Esto nunca se va a ejecutar :(')"
   ]
  },
  {
   "cell_type": "markdown",
   "id": "0c32f5d1-d45c-42e4-957b-e9308653004c",
   "metadata": {},
   "source": [
    "## `if-else`\n",
    "La sentencia `if-else` se utiliza cuando se desea ejecutar un bloque de código si la condición es verdadera y otro bloque de código si la condición es falsa.\n",
    "\n",
    "**Sintaxis**\n",
    "\n",
    "```python\n",
    "if condicion:\n",
    "    # Bloque de código que se ejecuta si condicion es True\n",
    "else:\n",
    "    # Bloque de código que se ejecuta si condicion es False\n",
    "```"
   ]
  },
  {
   "cell_type": "markdown",
   "id": "3906bf02-855c-4caa-a2ae-b92cb89e5012",
   "metadata": {},
   "source": [
    "### Mayoría de edad\n",
    "Pedir al usuario su edad y determinar si es o no mayor de edad en el país de México."
   ]
  },
  {
   "cell_type": "code",
   "execution_count": 24,
   "id": "2946fdec-1e52-4d3c-8768-d98293ab6b4a",
   "metadata": {},
   "outputs": [
    {
     "name": "stdin",
     "output_type": "stream",
     "text": [
      "Introduce tu edad 19\n"
     ]
    },
    {
     "name": "stdout",
     "output_type": "stream",
     "text": [
      "Eres mayor de edad\n"
     ]
    }
   ],
   "source": [
    "edad = int(input('Introduce tu edad'))\n",
    "# ¿Es mayor de edad?\n",
    "if edad >= 18:\n",
    "    print('Eres mayor de edad')\n",
    "# en caso contrario\n",
    "else:\n",
    "    print('No eres mayor de edad')"
   ]
  },
  {
   "cell_type": "code",
   "execution_count": 25,
   "id": "2e76c99d-df94-41c0-9684-2a9ea714ecde",
   "metadata": {},
   "outputs": [
    {
     "name": "stdin",
     "output_type": "stream",
     "text": [
      "Introduce tu edad 12\n"
     ]
    },
    {
     "name": "stdout",
     "output_type": "stream",
     "text": [
      "No eres mayor de edad\n"
     ]
    }
   ],
   "source": [
    "edad = int(input('Introduce tu edad'))\n",
    "# ¿Es mayor de edad?\n",
    "if edad >= 18:\n",
    "    print('Eres mayor de edad')\n",
    "# en caso contrario\n",
    "else:\n",
    "    print('No eres mayor de edad')"
   ]
  },
  {
   "cell_type": "markdown",
   "id": "a9dd43ba-b9f0-46e3-850a-dab781085e27",
   "metadata": {},
   "source": [
    "## `if-elif-else`\n",
    "La sentencia `if-elif-else` se utiliza cuando hay múltiples condiciones que se deben comprobar secuencialmente. Si la condición del `if` es falsa, se evalúa la siguiente condición en la sentencia `elif` y así sucesivamente. Si ninguna de las condiciones anteriores es verdadera, se ejecuta el bloque de código dentro del `else`.\n",
    "\n",
    "**Sintaxis**\n",
    "\n",
    "```python\n",
    "if condicion_1:\n",
    "    # Bloque de código que se ejecuta si condicion_1 es True\n",
    "elif condicion_2:\n",
    "    # Bloque de código que se ejecuta si condicion_1 es False y condicion_2 es True\n",
    "\n",
    "# aquí pueden existir tantas condiciones como se requiera\n",
    "\n",
    "elif condicion_n:\n",
    "    # Bloque de código que se ejecuta si condicion_1, ..., condicion_n-1 son False y condicion_n es True\n",
    "else:\n",
    "    # Bloque de código que se ejecuta si ninguna de las condiciones anteriores es True\n",
    "```\n",
    "\n",
    "**Hint**. Leer a `else` como *en cualquier otro caso*.\n",
    "\n",
    "**Nota**. No es necesario hacer uso del `else`."
   ]
  },
  {
   "cell_type": "markdown",
   "id": "3e7d7ad9-204d-4488-a525-f41b543b75b5",
   "metadata": {},
   "source": [
    "### Máquina de helados\n",
    "Se tiene una máquina que prepara 5 tipos de helados:\n",
    "- Vaso chico: 20 pesos\n",
    "- Cono sencillo: costo 30 pesos\n",
    "- Vaso mediano: 35 pesos\n",
    "- Cono doble: costo 45 pesos\n",
    "- De a litro: costo 70 pesos\n",
    "\n",
    "Imprimirle al usuario un menú con los distintos tipos de helados, pedirle que seleccione alguno y decirle cuánto tendrá que pagar.\n",
    "\n",
    "Poner un validador para que si se elige alguna opción que no esté en el menú imprima el mensaje `\"Opción no válida\"`"
   ]
  },
  {
   "cell_type": "code",
   "execution_count": 27,
   "id": "5a2f9ead-f347-4f93-843f-c24a68c0c6bc",
   "metadata": {},
   "outputs": [
    {
     "name": "stdout",
     "output_type": "stream",
     "text": [
      "¡Bienvenido!\n",
      "Este es nuestro menú:\n",
      "1. Vaso Chico\n",
      "2. Cono sencillo\n",
      "3. Vaso mediano\n",
      "4. Cono doble\n",
      "5. Litro.\n"
     ]
    },
    {
     "name": "stdin",
     "output_type": "stream",
     "text": [
      "Elige una opción: 4\n"
     ]
    },
    {
     "name": "stdout",
     "output_type": "stream",
     "text": [
      "El precio del helado es de:  45 pesos\n"
     ]
    }
   ],
   "source": [
    "# menú\n",
    "print('¡Bienvenido!\\nEste es nuestro menú:')\n",
    "print('1. Vaso Chico', '2. Cono sencillo', '3. Vaso mediano', '4. Cono doble', '5. Litro.', sep = '\\n')\n",
    "# guardamos la opción\n",
    "opcion = int(input('Elige una opción:'))\n",
    "# asignamos precio según la opción\n",
    "if opcion == 1:\n",
    "    precio = 20\n",
    "elif opcion == 2:\n",
    "    precio = 30\n",
    "elif opcion == 3:\n",
    "    precio = 35\n",
    "elif opcion == 4:\n",
    "    precio = 45\n",
    "elif opcion == 5:\n",
    "    precio = 70\n",
    "# imprimimos precio\n",
    "print('El precio del helado es de:', precio, 'pesos')"
   ]
  },
  {
   "cell_type": "code",
   "execution_count": 28,
   "id": "3acf15d3-41d1-4264-8a35-106212821d4f",
   "metadata": {},
   "outputs": [
    {
     "name": "stdout",
     "output_type": "stream",
     "text": [
      "¡Bienvenido!\n",
      "Este es nuestro menú:\n",
      "1. Vaso Chico\n",
      "2. Cono sencillo\n",
      "3. Vaso mediano\n",
      "4. Cono doble\n",
      "5. Litro.\n"
     ]
    },
    {
     "name": "stdin",
     "output_type": "stream",
     "text": [
      "Elige una opción: 8\n"
     ]
    },
    {
     "name": "stdout",
     "output_type": "stream",
     "text": [
      "Opción no válida\n"
     ]
    }
   ],
   "source": [
    "# menú\n",
    "print('¡Bienvenido!\\nEste es nuestro menú:')\n",
    "print('1. Vaso Chico', '2. Cono sencillo', '3. Vaso mediano', '4. Cono doble', '5. Litro.', sep = '\\n')\n",
    "# guardamos la opción\n",
    "opcion = int(input('Elige una opción:'))\n",
    "# asignamos precio según la opción\n",
    "if opcion == 1:\n",
    "    precio = 20\n",
    "elif opcion == 2:\n",
    "    precio = 30\n",
    "elif opcion == 3:\n",
    "    precio = 35\n",
    "elif opcion == 4:\n",
    "    precio = 45\n",
    "elif opcion == 5:\n",
    "    precio = 70\n",
    "else:\n",
    "    precio = None\n",
    "# validamos que el usuario haya elegido una de las opciones\n",
    "if precio != None:\n",
    "    print('El precio del helado es de:', precio, 'pesos')\n",
    "else:\n",
    "    print(\"Opción no válida\")"
   ]
  },
  {
   "cell_type": "markdown",
   "id": "94c5bebd-7cb9-464a-8588-137929513d3f",
   "metadata": {},
   "source": [
    "**Nota**. En Python el `None` se refiere al valor nulo (`NULL`)"
   ]
  },
  {
   "cell_type": "markdown",
   "id": "d7ddedf8-fae8-4b91-bb86-4bce59a02182",
   "metadata": {},
   "source": [
    "## Método `format()`\n",
    "Se utiliza para formatear cadenas en Python. Permite construir cadenas complejas combinando texto estático con valores de variables y es muy versátil pues ofrece varias formas de especificar el formato de salida.\n",
    "\n",
    "**Sintaxis**\n",
    "```python\n",
    "cadena_formateada = \"texto estático {} texto estático {}\".format(valor1, valor2, ...)\n",
    "```\n",
    " \n",
    "Dentro de la cadena, las llaves `{}` se utilizan como marcadores de posición para los valores que se insertarán. Los valores especificados en el método `format()` se insertarán en orden en los marcadores de posición."
   ]
  },
  {
   "cell_type": "code",
   "execution_count": 29,
   "id": "6f974309-393d-448d-a850-bfddb7a4597b",
   "metadata": {},
   "outputs": [
    {
     "data": {
      "text/plain": [
       "'El número es 12.3456723'"
      ]
     },
     "execution_count": 29,
     "metadata": {},
     "output_type": "execute_result"
    }
   ],
   "source": [
    "numero = 12.3456723\n",
    "'El número es {}'.format(numero)"
   ]
  },
  {
   "cell_type": "markdown",
   "id": "e825d3ff-f716-4826-a4c5-c15aefe3aba2",
   "metadata": {},
   "source": [
    "Además, se puede hacer uso de la función `round(valor, n)` que redondea `valor` al número de decimales `n`."
   ]
  },
  {
   "cell_type": "code",
   "execution_count": 31,
   "id": "5408c5a0-95a5-4cbc-bac7-24cb00198868",
   "metadata": {},
   "outputs": [
    {
     "data": {
      "text/plain": [
       "'El número es 12.35'"
      ]
     },
     "execution_count": 31,
     "metadata": {},
     "output_type": "execute_result"
    }
   ],
   "source": [
    "numero = 12.3456723\n",
    "'El número es {}'.format(round(numero, 2))"
   ]
  },
  {
   "cell_type": "markdown",
   "id": "fa17e3ca-9073-478f-9fb1-b302fc07e17b",
   "metadata": {},
   "source": [
    "También podemos hacer uso de **especificadores de formato** como en el lenguaje de programación `C`."
   ]
  },
  {
   "cell_type": "code",
   "execution_count": 30,
   "id": "32a2ae7e-0bb3-4e9c-8be3-5f434edbd4cf",
   "metadata": {},
   "outputs": [
    {
     "data": {
      "text/plain": [
       "'El número es 12.35'"
      ]
     },
     "execution_count": 30,
     "metadata": {},
     "output_type": "execute_result"
    }
   ],
   "source": [
    "numero = 12.3456723\n",
    "'El número es {:.2f}'.format(numero)"
   ]
  },
  {
   "cell_type": "markdown",
   "id": "1cab2e67-7142-414e-9795-622a1eb4e73c",
   "metadata": {},
   "source": [
    "Otro ejemplo"
   ]
  },
  {
   "cell_type": "code",
   "execution_count": 33,
   "id": "e51a8e97-80a4-4ce8-90f9-f9a0fcf9ce2d",
   "metadata": {},
   "outputs": [
    {
     "name": "stdout",
     "output_type": "stream",
     "text": [
      "Hola, me llamo Juan y tengo 30 años.\n"
     ]
    }
   ],
   "source": [
    "nombre = \"Juan\"\n",
    "edad = 30\n",
    "saludo = \"Hola, me llamo {} y tengo {} años.\".format(nombre, edad)\n",
    "print(saludo)"
   ]
  },
  {
   "cell_type": "markdown",
   "id": "86b68cc9-2cca-40a9-b6b9-26be0b87c231",
   "metadata": {},
   "source": [
    "# `f-strings`\n",
    "Introducidos en Python 3.6, son una forma más legible y concisa de formatear cadenas de texto. Son similares en propósito al método `format()`, pero usan una sintaxis diferente que incorpora directamente las expresiones Python **dentro de las cadenas de texto**.\n",
    "\n",
    "Para usar `f-strings`, simplemente precede la cadena con la letra `f` o `F` antes de las comillas. Puedes insertar variables, expresiones, llamadas a funciones, etc., directamente dentro de las llaves `{}` dentro de la cadena. Python evaluará estas expresiones en tiempo de ejecución y las convertirá en cadenas."
   ]
  },
  {
   "cell_type": "code",
   "execution_count": 34,
   "id": "dd22963b-4df7-4a6e-b5a7-02e6274522c4",
   "metadata": {},
   "outputs": [
    {
     "name": "stdout",
     "output_type": "stream",
     "text": [
      "Hola, me llamo Ana y tengo 28 años.\n"
     ]
    }
   ],
   "source": [
    "nombre = \"Ana\"\n",
    "edad = 28\n",
    "mensaje = f\"Hola, me llamo {nombre} y tengo {edad} años.\"\n",
    "print(mensaje)"
   ]
  },
  {
   "cell_type": "markdown",
   "id": "23fb2831-6e23-4a4e-9b00-1702d9db49ca",
   "metadata": {},
   "source": [
    "## Formateo de números\n",
    "### Precisión de decimales"
   ]
  },
  {
   "cell_type": "code",
   "execution_count": 36,
   "id": "5a1b96d2-c883-45fb-a4e7-3f4b3b44a681",
   "metadata": {},
   "outputs": [
    {
     "name": "stdout",
     "output_type": "stream",
     "text": [
      "El número formateado es: 12340891.25\n"
     ]
    }
   ],
   "source": [
    "numero = 12_340_891.2456 # el separador de _ no afecta a los números en Python\n",
    "print(f'El número formateado es: {numero:.2f}')"
   ]
  },
  {
   "cell_type": "markdown",
   "id": "449400b9-f844-4683-992f-75b3524f8875",
   "metadata": {},
   "source": [
    "### Separador de miles"
   ]
  },
  {
   "cell_type": "code",
   "execution_count": 37,
   "id": "efcf2e19-c37b-41e4-b157-42df519e413d",
   "metadata": {},
   "outputs": [
    {
     "name": "stdout",
     "output_type": "stream",
     "text": [
      "El número formateado es: 12,340,891.25\n"
     ]
    }
   ],
   "source": [
    "print(f'El número formateado es: {numero:,.2f}')"
   ]
  },
  {
   "cell_type": "markdown",
   "id": "eb7590d4-7543-47c3-9d08-993c5ed8cdab",
   "metadata": {},
   "source": [
    "### Consecutivos"
   ]
  },
  {
   "cell_type": "code",
   "execution_count": 39,
   "id": "9f39c584-4ef5-4850-a15e-ac79dca439fd",
   "metadata": {},
   "outputs": [
    {
     "data": {
      "text/plain": [
       "'01'"
      ]
     },
     "execution_count": 39,
     "metadata": {},
     "output_type": "execute_result"
    }
   ],
   "source": [
    "folio1 = f'{1:02}'\n",
    "folio1"
   ]
  },
  {
   "cell_type": "code",
   "execution_count": 40,
   "id": "7be8a065-e770-46ca-9f0c-d13bbc570175",
   "metadata": {},
   "outputs": [
    {
     "data": {
      "text/plain": [
       "'19'"
      ]
     },
     "execution_count": 40,
     "metadata": {},
     "output_type": "execute_result"
    }
   ],
   "source": [
    "folio19 = f'{19:02}'\n",
    "folio19"
   ]
  },
  {
   "cell_type": "markdown",
   "id": "c7789a9e-4433-4c23-9470-7054c4586439",
   "metadata": {},
   "source": [
    "# Práctica"
   ]
  },
  {
   "cell_type": "markdown",
   "id": "2c45bf65-0531-40ea-b0ad-85ca800b33b2",
   "metadata": {
    "tags": []
   },
   "source": [
    "## De Fahrenheit a Celsius\n",
    "Pide al usuario que ingrese una temperatura en grados **Fahrenheit**. Luego, convierte esta temperatura a grados **Celsius**.\n",
    "\n",
    "**Hint**: básate en la fórmula del ejercicio *De Celsius a Fahrenheit*)"
   ]
  },
  {
   "cell_type": "markdown",
   "id": "4a398c43-572d-4bb9-bba9-9f6220b30f15",
   "metadata": {},
   "source": [
    "## Millones de Pesos\n",
    "Pide al usuario una cantidad en pesos e imprime la misma cantidad con el siguiente formato:\n",
    "- En millones de pesos\n",
    "- Que aparezca el texto `'MDP'`\n",
    "- Redondeado a dos decimales\n",
    "\n",
    "Ejemplo: para la cantidad `1234567891.1234567891` se debe de imprimir el texto `'1,234.57 MDP'`"
   ]
  },
  {
   "cell_type": "markdown",
   "id": "8df33b8c-c40e-4757-8e0a-771c1d98cd14",
   "metadata": {},
   "source": [
    "## Mayoría de edad\n",
    "Pide al usuario su edad. Determinar si es mayor de edad en México, o Estados Unidos, o ninguno o ambos países."
   ]
  },
  {
   "cell_type": "markdown",
   "id": "a4b34684-776a-4e70-911b-88586cedf762",
   "metadata": {},
   "source": [
    "## Verificador de Contraseña\n",
    "Solicita al usuario que ingrese una contraseña. Luego, verifica si la contraseña ingresada cumple con los siguientes criterios:\n",
    "- Longitud mínima\n",
    "- Tiene al menos un número\n",
    "- Tiene al menos un caracter especial\n",
    "\n",
    "Finalmente, imprime un mensaje indicando si la contraseña es válida o no.\n",
    "\n",
    "Para este ejercicio necesitamos saber 2 cosas."
   ]
  },
  {
   "cell_type": "markdown",
   "id": "454023db-07d4-4a15-bddb-9505a725f4a8",
   "metadata": {},
   "source": [
    "### Función `len()`\n",
    "Devuelve el tamaño de un **objeto iterable**\n",
    "\n",
    "**Sintaxis**\n",
    "\n",
    "```python\n",
    "len(objeto)\n",
    "```"
   ]
  },
  {
   "cell_type": "code",
   "execution_count": 21,
   "id": "ba7d74ff-a8a1-45b5-8e84-b891030c6149",
   "metadata": {},
   "outputs": [
    {
     "data": {
      "text/plain": [
       "10"
      ]
     },
     "execution_count": 21,
     "metadata": {},
     "output_type": "execute_result"
    }
   ],
   "source": [
    "len('Hola Mundo')"
   ]
  },
  {
   "cell_type": "markdown",
   "id": "c7481e57-7773-4198-b250-e0aa65eb866e",
   "metadata": {},
   "source": [
    "### Operador `in`\n",
    "\n",
    "**Sintaxis**\n",
    "```python\n",
    "elemento in iterable\n",
    "```\n",
    "\n",
    "Devuelve `True` si `elemento` pertenece a `iterable`"
   ]
  },
  {
   "cell_type": "code",
   "execution_count": 19,
   "id": "d80dfac7-b89f-4032-ab3b-f8dc8543ea7d",
   "metadata": {},
   "outputs": [
    {
     "data": {
      "text/plain": [
       "True"
      ]
     },
     "execution_count": 19,
     "metadata": {},
     "output_type": "execute_result"
    }
   ],
   "source": [
    "'@' in 'ejemplo@hotmail.com'"
   ]
  },
  {
   "cell_type": "markdown",
   "id": "1a893bb7-65a4-43c3-85ad-dde0addc81a9",
   "metadata": {
    "tags": []
   },
   "source": [
    "## Calculadora\n",
    "- Pide al usuario 2 números.\n",
    "- Imprime un menú con la siguientes opciones: \n",
    "    - suma\n",
    "    - resta\n",
    "    - multiplicación\n",
    "    - división\n",
    "    - módulo\n",
    "    - elevar\n",
    "- Imprime el resultado con base en los números ingresados y la operación elegida."
   ]
  },
  {
   "cell_type": "markdown",
   "id": "c340cab4-b2aa-406e-892d-29c8b1289de7",
   "metadata": {},
   "source": [
    "# Tarea\n",
    "1. Pide al usuario su año de nacimiento y calcula su edad actual. Imprime el resultado usando `f-strings`.\n",
    "2. Solicita al usuario que ingrese dos números. Imprime cuál de los dos es mayor o si son iguales.\n",
    "2. Pide al usuario un número e imprime si es par o non.\n",
    "3. Pide al usuario un número e imprime si es positivo, negativo o cero.\n",
    "4. Los primeros 5 km de un viaje en taxi cuestan `10` dólares cada uno, y cada kilómetro adicional cuesta `2` dólares. Solicita al usuario la distancia del viaje en kilómetros y calcula el costo total."
   ]
  }
 ],
 "metadata": {
  "kernelspec": {
   "display_name": "Python 3 (ipykernel)",
   "language": "python",
   "name": "python3"
  },
  "language_info": {
   "codemirror_mode": {
    "name": "ipython",
    "version": 3
   },
   "file_extension": ".py",
   "mimetype": "text/x-python",
   "name": "python",
   "nbconvert_exporter": "python",
   "pygments_lexer": "ipython3",
   "version": "3.9.13"
  }
 },
 "nbformat": 4,
 "nbformat_minor": 5
}
