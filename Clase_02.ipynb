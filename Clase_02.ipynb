{
 "cells": [
  {
   "cell_type": "markdown",
   "id": "fa2b41f1",
   "metadata": {},
   "source": [
    "# Memoria en la programación\n",
    "La memoria en la programación es el espacio donde se almacenan los datos mientras un programa se ejecuta.\n",
    "\n",
    "## Tipos de datos\n",
    "Se refieren a los distintos datos que puede manejar un lenguaje de programación y esto es importante de resaltar porque no es lo mismo **reservar** un espacio de memoria para almacenar la edad de un usuario, que para un archivo con la información histórica de una compañía."
   ]
  },
  {
   "cell_type": "markdown",
   "id": "286fe99f",
   "metadata": {},
   "source": [
    "## Built-in scalar types (scalars)\n",
    "Se refiere a los **tipos de datos** que vienen integrados (disponibles directamente en el lenguaje sin necesidad de importar bibliotecas adicionales) en Python y que se suelen compartir con otros lenguajes de programación.\n",
    "\n",
    "Por el momento nos quedaremos con los siguientes:\n",
    "\n",
    "| Tipo de dato          | Ejemplo      | Descripción                                       |\n",
    "|:----------------------|:------------:|:--------------------------------------------------|\n",
    "| Entero (`int`)          | `42`           | Número entero sin parte decimal               |\n",
    "| Flotante (`float`)      | `3.14`         | Número con parte decimal                      |\n",
    "| Booleano (`bool`)       | `True`         | Representa un valor de verdad (verdadero)     |\n",
    "| Cadena de caracteres (`str`) | `\"Hola\"`  | Secuencia de caracteres                       |\n",
    "\n",
    "**Notas**\n",
    "- Existen más *scalars* como `complex` o `bytes`, sin embargo por el momento sólo trabajaremos con estos.\n",
    "- Los `str` se pueden declarar, de manera indistinta, con comillas simples (`''`) o dobles (`\"\"`)"
   ]
  },
  {
   "cell_type": "code",
   "execution_count": 1,
   "id": "63feca1b-f629-4d82-9538-4e5d8f70f955",
   "metadata": {},
   "outputs": [
    {
     "data": {
      "text/plain": [
       "11"
      ]
     },
     "execution_count": 1,
     "metadata": {},
     "output_type": "execute_result"
    }
   ],
   "source": [
    "# entero\n",
    "11"
   ]
  },
  {
   "cell_type": "code",
   "execution_count": 3,
   "id": "0e99933a",
   "metadata": {},
   "outputs": [
    {
     "data": {
      "text/plain": [
       "7"
      ]
     },
     "execution_count": 3,
     "metadata": {},
     "output_type": "execute_result"
    }
   ],
   "source": [
    "10\n",
    "9\n",
    "8 # comentario adelante\n",
    "7"
   ]
  },
  {
   "cell_type": "markdown",
   "id": "cf3942c6-2624-404d-a24b-7a355edc619f",
   "metadata": {},
   "source": [
    "**Nota**. Nos devuelve el entero `11` porque las celdas tipo **Code** de Jupyter nos devuelven la última acción, en este caso, un dato de tipo `int` con el valor de `11`."
   ]
  },
  {
   "cell_type": "markdown",
   "id": "f80262e6-ac42-4425-aaac-6fbd954358fa",
   "metadata": {},
   "source": [
    "### Comentarios\n",
    "Los comentarios en las celdas tipo código se refieren a texto que no va a ser interpretado como código.\n",
    "\n",
    "En Python existen dos tipos de comentarios:\n",
    "- Una **línea**: predecedidos por el símbolo `#`\n",
    "- **Multilínea**: inician con `\"\"\"\"` y terminan con `\"\"\"\"`"
   ]
  },
  {
   "cell_type": "code",
   "execution_count": 4,
   "id": "46fb2ca3-c92e-4fa5-9061-77c12cfb87a1",
   "metadata": {},
   "outputs": [],
   "source": [
    "# comentario de una línea"
   ]
  },
  {
   "cell_type": "markdown",
   "id": "da2bdd4a-b640-492c-9344-8dd58020d699",
   "metadata": {},
   "source": [
    "No ejecuta nada"
   ]
  },
  {
   "cell_type": "code",
   "execution_count": 5,
   "id": "4aa7db43-1c54-46ee-b8ac-e9c9fbd663fa",
   "metadata": {},
   "outputs": [
    {
     "data": {
      "text/plain": [
       "'\\nEste es un comentario de múltiples líneas\\nMira que nos devuelve el texto\\nSin embargo, es un comentario porque no ejecuta nada\\nMira: print(\"Esto no se ejecuta\")\\n'"
      ]
     },
     "execution_count": 5,
     "metadata": {},
     "output_type": "execute_result"
    }
   ],
   "source": [
    "\"\"\"\n",
    "Este es un comentario de múltiples líneas\n",
    "Mira que nos devuelve el texto\n",
    "Sin embargo, es un comentario porque no ejecuta ningún código\n",
    "Mira: print(\"Esto no se ejecuta\")\n",
    "\"\"\""
   ]
  },
  {
   "cell_type": "code",
   "execution_count": 9,
   "id": "535655e1",
   "metadata": {},
   "outputs": [
    {
     "name": "stdout",
     "output_type": "stream",
     "text": [
      "Esto no se ejecuta\n"
     ]
    }
   ],
   "source": [
    "\"\"\"Este es un comentario de múltiples líneas\n",
    "Mira que nos devuelve el texto\n",
    "Sin embargo, es un comentario porque no ejecuta ningún código\n",
    "Mira: print(\"Esto no se ejecuta\")\"\"\"\n",
    "print(\"Esto no se ejecuta\")"
   ]
  },
  {
   "cell_type": "code",
   "execution_count": 6,
   "id": "74598653",
   "metadata": {},
   "outputs": [
    {
     "name": "stdout",
     "output_type": "stream",
     "text": [
      "Esto no se ejecuta\n"
     ]
    }
   ],
   "source": [
    "print(\"Esto no se ejecuta\")"
   ]
  },
  {
   "cell_type": "markdown",
   "id": "73fbf4e7-7282-4ff0-8556-84071ade169e",
   "metadata": {},
   "source": [
    "**Nota**. Nos devuelve el texto, sin embargo, esto es un comentario porque no se está ejecutando ninguna instrución de código."
   ]
  },
  {
   "cell_type": "markdown",
   "id": "5a065c2b-8fba-4640-99c2-564384528217",
   "metadata": {},
   "source": [
    "### Función `type()`\n",
    "Esta función nos dice el tipo de dato de un objeto\n",
    "\n",
    "**Sintaxis**\n",
    "\n",
    "```python\n",
    "type(objeto)\n",
    "```"
   ]
  },
  {
   "cell_type": "code",
   "execution_count": 10,
   "id": "54528646-5a38-417e-8589-ac4451efd4b3",
   "metadata": {},
   "outputs": [],
   "source": [
    "# si tenemos dudas de cualquier función podemos usar ?\n",
    "type?"
   ]
  },
  {
   "cell_type": "code",
   "execution_count": 11,
   "id": "f51bb95f-f008-4135-89aa-40daabff62a9",
   "metadata": {},
   "outputs": [
    {
     "data": {
      "text/plain": [
       "str"
      ]
     },
     "execution_count": 11,
     "metadata": {},
     "output_type": "execute_result"
    }
   ],
   "source": [
    "# entero\n",
    "type(-10)\n",
    "# flotante\n",
    "type(0.5)\n",
    "# booleano\n",
    "type(False)\n",
    "# cadena de texto\n",
    "type(\"¿Por qué sólo se ve este tipo de dato?\") # poner respuesta ABAJO"
   ]
  },
  {
   "cell_type": "markdown",
   "id": "9003c938",
   "metadata": {},
   "source": [
    "Porque sólo se ejecuta la última acción"
   ]
  },
  {
   "cell_type": "markdown",
   "id": "03956a9a-ca19-460d-a912-1d98735282e3",
   "metadata": {},
   "source": [
    "### Función `print()`"
   ]
  },
  {
   "cell_type": "code",
   "execution_count": 14,
   "id": "a0b61606-a96b-4e75-b458-36c7376a83a0",
   "metadata": {},
   "outputs": [],
   "source": [
    "print?"
   ]
  },
  {
   "cell_type": "code",
   "execution_count": 13,
   "id": "da0cac70-138f-4153-ae5c-b3e767f5646f",
   "metadata": {},
   "outputs": [
    {
     "name": "stdout",
     "output_type": "stream",
     "text": [
      "<class 'int'> <class 'float'> <class 'bool'> <class 'str'>\n"
     ]
    }
   ],
   "source": [
    "print(type(-10), type(0.5), type(False), type(\"¿Por qué sólo se ve esto?\"))"
   ]
  },
  {
   "cell_type": "markdown",
   "id": "0a3d55fd-255e-4b28-9522-83bafbd0fa81",
   "metadata": {},
   "source": [
    "**Parámetro `sep`**"
   ]
  },
  {
   "cell_type": "code",
   "execution_count": 15,
   "id": "bfe19edd-947d-4ba3-930f-dfd393d15101",
   "metadata": {},
   "outputs": [
    {
     "name": "stdout",
     "output_type": "stream",
     "text": [
      "<class 'int'> <class 'float'> <class 'bool'> <class 'str'>\n"
     ]
    }
   ],
   "source": [
    "print(type(-10), type(0.5), type(False), type(\"¿Por qué sólo se ve esto?\"), sep = ' ')"
   ]
  },
  {
   "cell_type": "code",
   "execution_count": 16,
   "id": "b1361829-27c0-447a-a2b2-a4d224ca2043",
   "metadata": {},
   "outputs": [
    {
     "name": "stdout",
     "output_type": "stream",
     "text": [
      "texto 1&&&texto 2&&&texto 3\n"
     ]
    }
   ],
   "source": [
    "print(\"texto 1\", \"texto 2\", \"texto 3\", sep = '&&&')"
   ]
  },
  {
   "cell_type": "code",
   "execution_count": 17,
   "id": "f0391b25-5409-4e0e-a533-bc27791b776a",
   "metadata": {},
   "outputs": [
    {
     "name": "stdout",
     "output_type": "stream",
     "text": [
      "texto 1 &&& texto 2 &&& texto 3\n"
     ]
    }
   ],
   "source": [
    "print(\"texto 1\", \"texto 2\", \"texto 3\", sep = ' &&& ')"
   ]
  },
  {
   "cell_type": "code",
   "execution_count": 18,
   "id": "0ab29e3e-c33d-417a-b2f5-75c223d09e01",
   "metadata": {},
   "outputs": [
    {
     "name": "stdout",
     "output_type": "stream",
     "text": [
      "texto 1\n",
      "texto 2\n",
      "texto 3\n"
     ]
    }
   ],
   "source": [
    "print(\"texto 1\", \"texto 2\", \"texto 3\", sep = '\\n')"
   ]
  },
  {
   "cell_type": "markdown",
   "id": "8d4f9a3d-f0f7-47e8-a45f-cbc16ca9ea01",
   "metadata": {},
   "source": [
    "**Conclusión**. Separa los elementos a imprimir <u>según un caracter</u>"
   ]
  },
  {
   "cell_type": "markdown",
   "id": "27e8ad5f-857c-4f42-a81e-eedc181dbeff",
   "metadata": {},
   "source": [
    "#### Brevario cultural\n",
    "En programación se suelen usar los caracteres `\\n` y `\\t` para hacer saltos de línea y de tabulador, respectivamente.\n",
    "\n",
    "En Python, el \"carácter de escape\" (*escape character*) es un carácter especial representado por una barra invertida `\\`. Este carácter se utiliza para indicar que el siguiente carácter después de la barra invertida tiene un significado especial.\n",
    "\n",
    "Ejemplos:\n",
    "\n",
    "1. Querer imprimir `''` o `\"\"`\n",
    "2. Saltos de línea y tabulador"
   ]
  },
  {
   "cell_type": "code",
   "execution_count": 21,
   "id": "03b9bdaa-b669-4456-aa76-708ea6fbedf7",
   "metadata": {},
   "outputs": [
    {
     "name": "stdout",
     "output_type": "stream",
     "text": [
      "\n"
     ]
    }
   ],
   "source": [
    "# intento imprimir comillas\n",
    "print(\"\"\"\"\"\")"
   ]
  },
  {
   "cell_type": "code",
   "execution_count": 22,
   "id": "1b3c6dd0-5da4-4e9e-be37-3ec9e27b47e5",
   "metadata": {},
   "outputs": [
    {
     "name": "stdout",
     "output_type": "stream",
     "text": [
      "\"\"\n"
     ]
    }
   ],
   "source": [
    "# ahora sí\n",
    "print(\"\\\"\\\"\")"
   ]
  },
  {
   "cell_type": "code",
   "execution_count": null,
   "id": "29e09a1e-4215-452d-a81c-c80257563009",
   "metadata": {},
   "outputs": [],
   "source": [
    "# ejemplo salto de tabulador y salto de línea\n",
    "print(\"Hola Mundo\")\n",
    "print(\"\\tHola Mundo\\nSalto de línea\") # con salto de tabulador"
   ]
  },
  {
   "cell_type": "markdown",
   "id": "9ae71bd6-6e25-40df-832e-4d3a8fbcab24",
   "metadata": {},
   "source": [
    "**Parámetro `end`**"
   ]
  },
  {
   "cell_type": "code",
   "execution_count": 23,
   "id": "8dbfd5db-b001-413a-bf29-36077a76a3d9",
   "metadata": {},
   "outputs": [
    {
     "name": "stdout",
     "output_type": "stream",
     "text": [
      "1\n",
      "2\n"
     ]
    }
   ],
   "source": [
    "print(1)\n",
    "print(2)"
   ]
  },
  {
   "cell_type": "markdown",
   "id": "ed472623-3cde-4f92-90c8-35caa8603ef4",
   "metadata": {},
   "source": [
    "Sabemos que el valor **predeterminado** para `end` es el de `\\n`"
   ]
  },
  {
   "cell_type": "code",
   "execution_count": 26,
   "id": "15c60abe-a6a6-48e7-aaf5-6519a6700c3f",
   "metadata": {},
   "outputs": [
    {
     "name": "stdout",
     "output_type": "stream",
     "text": [
      "3.141592 True\n",
      "otro texto\n"
     ]
    }
   ],
   "source": [
    "print(3.141592, end = ' ') # ya no da salto, da un espacio\n",
    "print(True, end = '\\n') # ahora sí pongo el salto (que es lo mismo que no poner nada)\n",
    "print(\"otro texto\")"
   ]
  },
  {
   "cell_type": "code",
   "execution_count": 27,
   "id": "4c3ad79e",
   "metadata": {},
   "outputs": [
    {
     "name": "stdout",
     "output_type": "stream",
     "text": [
      "3.141592 True\n",
      "otro texto\n"
     ]
    }
   ],
   "source": [
    "print(3.141592, end = ' ') # ya no da salto, da un espacio\n",
    "print(True) # ahora sí pongo el salto (que es lo mismo que no poner nada)\n",
    "print(\"otro texto\")"
   ]
  },
  {
   "cell_type": "markdown",
   "id": "d5134c82-ad91-45c1-a1ed-c0e09036d6da",
   "metadata": {},
   "source": [
    "**Sintaxis** función `print()`\n",
    "```python\n",
    "print(valor_1, valor_2, ..., valor_n, sep=' ', end='\\n')\n",
    "```\n",
    "donde:\n",
    "- `valor_i` los objetos que se desean imprimir\n",
    "- `sep` el texto con el que se van a separar los diferentes valores (útil cuando todo es un sólo `print()`)\n",
    "- `end`  el texto con el que va a terminar (últil en múltiples `print()`)"
   ]
  },
  {
   "cell_type": "markdown",
   "id": "a11ea1d7",
   "metadata": {},
   "source": [
    "## Variables\n",
    "En programación una **variable** es un *nombre* que hace *referencia* a un valor *almacenado en la memoria*.\n",
    "\n",
    "### Tipado dinámico\n",
    "Al contrario que en otros lenguajes de programación, en Python no es necesario declarar el tipo de una variable antes de usarla; el tipo de la variable se infiere a partir del valor (**objeto**) que se le asigna.\n",
    "\n",
    "Para crear una variable en Python, simplemente se asigna un valor a un nombre utilizando el **operador de asignación** `=`\n",
    "\n",
    "### Crear variables\n",
    "**Sintaxis**\n",
    "```python\n",
    "nombre_variable = objeto\n",
    "```\n",
    "\n",
    "**Explicación**\n",
    "- Se crea una referencia en la memoria para `objeto`\n",
    "- Al asignar `nombre_variable` a `objeto`, `nombre_variable` ahora hace referencia al mismo objeto en la memoria que `objeto`\n",
    "- Los cambios realizados en el objeto a través de `nombre_variable` también se reflejarán cuando se accede a `objeto`"
   ]
  },
  {
   "cell_type": "markdown",
   "id": "e9f1a4c3-08d0-427f-9097-cdc291dc8be9",
   "metadata": {},
   "source": [
    "**Ejemplo**. Nombre y Edad.\n",
    "\n",
    "Tomemos el nombre y edad del creador de Python."
   ]
  },
  {
   "cell_type": "code",
   "execution_count": 36,
   "id": "d34090e6-c059-45b9-9eb2-773e614d288a",
   "metadata": {},
   "outputs": [],
   "source": [
    "nombre = 'Guido van Rossum'\n",
    "edad = 68\n",
    "lenguaje = 'Python'"
   ]
  },
  {
   "cell_type": "code",
   "execution_count": 34,
   "id": "0ba2a380-dcbd-49eb-9d25-f4f21653ea61",
   "metadata": {
    "scrolled": true
   },
   "outputs": [
    {
     "name": "stdout",
     "output_type": "stream",
     "text": [
      "El nombre del creador de LaTeX es: Leslie Lamport\n",
      "Y su edad es de: 83 años\n"
     ]
    }
   ],
   "source": [
    "print(\"El nombre del creador de\", lenguaje, \"es:\", nombre)\n",
    "print(\"Y su edad es de:\", edad, \"años\")"
   ]
  },
  {
   "cell_type": "markdown",
   "id": "bbc71a45-12bd-469b-bebe-ac8342b6b325",
   "metadata": {},
   "source": [
    "Ahora el del creador de $\\LaTeX{}$."
   ]
  },
  {
   "cell_type": "code",
   "execution_count": 32,
   "id": "5f9c6888-8378-4cb8-bce1-b94156df71ce",
   "metadata": {},
   "outputs": [],
   "source": [
    "nombre = 'Leslie Lamport'\n",
    "edad = 83\n",
    "lenguaje = 'LaTeX'"
   ]
  },
  {
   "cell_type": "code",
   "execution_count": 37,
   "id": "a4480b7c-14c3-47a7-80bc-4e145f3eeb5b",
   "metadata": {},
   "outputs": [
    {
     "name": "stdout",
     "output_type": "stream",
     "text": [
      "El nombre del creador de Python es: Guido van Rossum\n",
      "Y su edad es de: 68 años\n"
     ]
    }
   ],
   "source": [
    "print(\"El nombre del creador de\", lenguaje, \"es:\", nombre)\n",
    "print(\"Y su edad es de:\", edad, \"años\")"
   ]
  },
  {
   "cell_type": "code",
   "execution_count": 35,
   "id": "d1e12aca",
   "metadata": {
    "scrolled": true
   },
   "outputs": [
    {
     "name": "stdout",
     "output_type": "stream",
     "text": [
      "El nombre del creador de LaTeX es: Leslie Lamport\n",
      "Y su edad es de: 83 años\n"
     ]
    }
   ],
   "source": [
    "print(\"El nombre del creador de\", lenguaje, \"es:\", nombre)\n",
    "print(\"Y su edad es de:\", edad, \"años\")"
   ]
  },
  {
   "cell_type": "markdown",
   "id": "5fd07a43-a989-46ee-b01e-bdd311c114c7",
   "metadata": {},
   "source": [
    "¿Qué pasa si vuelvo a ejecutar 3 celdas arriba?"
   ]
  },
  {
   "cell_type": "markdown",
   "id": "f30d2038",
   "metadata": {},
   "source": [
    "Porque las variables están referenciadas a la información de Lamport"
   ]
  },
  {
   "cell_type": "markdown",
   "id": "bd52b103",
   "metadata": {},
   "source": [
    "**Nota**. En Python podemos usar notación científica"
   ]
  },
  {
   "cell_type": "code",
   "execution_count": 38,
   "id": "bd2b3bed",
   "metadata": {},
   "outputs": [],
   "source": [
    "notacion_cientifica = 1e3"
   ]
  },
  {
   "cell_type": "code",
   "execution_count": 39,
   "id": "e182bf7c",
   "metadata": {},
   "outputs": [
    {
     "data": {
      "text/plain": [
       "1000.0"
      ]
     },
     "execution_count": 39,
     "metadata": {},
     "output_type": "execute_result"
    }
   ],
   "source": [
    "notacion_cientifica"
   ]
  },
  {
   "cell_type": "markdown",
   "id": "1a6d7803-e322-4863-a3ca-ae7d80b23d24",
   "metadata": {},
   "source": [
    "## Reglas para crear nombres de variables\n",
    "\n",
    "Los nombres de variables pueden contener:\n",
    "- Letras (mayúsculas y minúsculas)\n",
    "- Números\n",
    "- Guiones bajos (`_`).\n",
    "\n",
    "Cuestiones obligatorias\n",
    "- Los nombres de variables no pueden empezar con un número (`4var`)\n",
    "- No se pueden utilizar espacios en los nombres de variables (`var nombre`)\n",
    "- Python distingue entre mayúsculas y minúsculas (**case sensitive**), por lo que `mi_variable` y `Mi_Variable` son consideradas diferentes\n",
    "- No se pueden utilizar palabras reservadas de Python como nombres de variables (`type`, `print`, `if`, etc.)\n",
    "\n",
    "Recomendaciones\n",
    "- Se recomienda utilizar nombres **descriptivos** y **significativos** (en lugar de usar `x` para guardar un nombre, llamar a la variable `nombre`)\n",
    "- Evitar usar caracteres especiales como `\\`, `#`, `@`, etc., en los nombres de variables.\n",
    "- Usar **snake case** (`mi_variable_importante`) en lugar del **camel case** (`miVariableImportante`)"
   ]
  },
  {
   "cell_type": "code",
   "execution_count": 42,
   "id": "c2d0b0ea-7978-4908-a2d8-70cadc732778",
   "metadata": {},
   "outputs": [],
   "source": [
    "# Van Rossum\n",
    "nombre_1 = \"Guido van Rossum\"\n",
    "edad_1 = 68\n",
    "lenguaje_1 = \"Python\" \n",
    "# Leslie\n",
    "nombre_2 = \"Leslie Lamport\"\n",
    "edad_2 = 83\n",
    "lenguaje_2 = \"Latex\""
   ]
  },
  {
   "cell_type": "code",
   "execution_count": 43,
   "id": "376bd344",
   "metadata": {
    "scrolled": true
   },
   "outputs": [
    {
     "name": "stdout",
     "output_type": "stream",
     "text": [
      "El nombre del creador de Python es: Guido van Rossum\n",
      "Y su edad es de: 68 años\n",
      "El nombre del creador de Latex es: Leslie Lamport\n",
      "Y su edad es de: 83 años\n"
     ]
    }
   ],
   "source": [
    "print(\"El nombre del creador de\", lenguaje_1, \"es:\", nombre_1)\n",
    "print(\"Y su edad es de:\", edad_1, \"años\")\n",
    "\n",
    "print(\"El nombre del creador de\", lenguaje_2, \"es:\", nombre_2)\n",
    "print(\"Y su edad es de:\", edad_2, \"años\")"
   ]
  },
  {
   "cell_type": "markdown",
   "id": "aa2ca6db-44e9-4492-b2b4-1f10173faca4",
   "metadata": {},
   "source": [
    "**Ejemplo**. Calificaciones en los parciales."
   ]
  },
  {
   "cell_type": "code",
   "execution_count": 44,
   "id": "aa4282ff-4c28-46c9-a559-b756947950fc",
   "metadata": {},
   "outputs": [],
   "source": [
    "parcial_1 = 8\n",
    "parcial_2 = 9"
   ]
  },
  {
   "cell_type": "markdown",
   "id": "9e307bfd-77f5-47d8-8719-f185ffb4fb1b",
   "metadata": {},
   "source": [
    "En el 3er parcial volví a sacar la misma calificación que en el 1er parcial"
   ]
  },
  {
   "cell_type": "code",
   "execution_count": 45,
   "id": "a3de2ff9-cd4e-4902-a284-2b4719a8a9da",
   "metadata": {},
   "outputs": [],
   "source": [
    "parcial_3 = parcial_1"
   ]
  },
  {
   "cell_type": "code",
   "execution_count": 46,
   "id": "c0e19d93-cc31-44ba-82e9-f9f2591c734d",
   "metadata": {},
   "outputs": [
    {
     "name": "stdout",
     "output_type": "stream",
     "text": [
      "8\n",
      "9\n",
      "8\n"
     ]
    }
   ],
   "source": [
    "# imprimo cuánto saqué en cada parcial\n",
    "print(parcial_1)\n",
    "print(parcial_2)\n",
    "print(parcial_3)"
   ]
  },
  {
   "cell_type": "markdown",
   "id": "78007881-9430-4178-b922-0110b5250d9f",
   "metadata": {},
   "source": [
    "Pero hubo cambios...\n",
    "\n",
    "¡Resulta que el profesor se equivocó y obtuve un 10 en el 1er parcial!\n",
    "\n",
    "Las demás calificaciones se mantuvieron como anteriormente"
   ]
  },
  {
   "cell_type": "code",
   "execution_count": 47,
   "id": "657be3dc-fcc8-4061-b269-26189309fc1e",
   "metadata": {},
   "outputs": [],
   "source": [
    "# asgino nuevo valor a la variable del primer parcial\n",
    "parcial_1 = 10"
   ]
  },
  {
   "cell_type": "code",
   "execution_count": 48,
   "id": "d646ed8f-dbf3-4f92-9058-71c372437932",
   "metadata": {
    "tags": []
   },
   "outputs": [
    {
     "name": "stdout",
     "output_type": "stream",
     "text": [
      "En el parcial 1 saqué:  10\n",
      "En el parcial 2 saqué:  9\n",
      "En el parcial 3 saqué:  8\n"
     ]
    }
   ],
   "source": [
    "print('En el parcial 1 saqué: ', parcial_1)\n",
    "print('En el parcial 2 saqué: ', parcial_2)\n",
    "print('En el parcial 3 saqué: ', parcial_3)"
   ]
  },
  {
   "cell_type": "markdown",
   "id": "e15840c7-fe70-4705-a44b-444900e2f023",
   "metadata": {
    "tags": []
   },
   "source": [
    "# Operadores\n"
   ]
  },
  {
   "cell_type": "markdown",
   "id": "3174a8bf-a214-49d2-b244-f6158fe09b8a",
   "metadata": {},
   "source": [
    "## Aritméticos\n",
    "\n",
    "|Símbolo|Descripción|\n",
    "|:-----:|:----------|\n",
    "|`a + b`|A `a` le suma `b`|\n",
    "|`a - b`|A `a` le resta `b`|\n",
    "|`a * b`|Multiplica `a` por `b`|\n",
    "|`a / b`|Divide `a` entre `b`|\n",
    "|`a // b`|Divide de manera entera `a` entre `b`|\n",
    "|`a ** b`|Eleva `a` a la `b`|\n",
    "|`a % b`|Obtiene `a` módulo `b`|"
   ]
  },
  {
   "cell_type": "code",
   "execution_count": 49,
   "id": "4fd84c0f-6c27-4ea1-baf6-f6e250b6a696",
   "metadata": {},
   "outputs": [
    {
     "data": {
      "text/plain": [
       "18"
      ]
     },
     "execution_count": 49,
     "metadata": {},
     "output_type": "execute_result"
    }
   ],
   "source": [
    "10 + 8"
   ]
  },
  {
   "cell_type": "code",
   "execution_count": 50,
   "id": "6e3645ad",
   "metadata": {},
   "outputs": [
    {
     "data": {
      "text/plain": [
       "2"
      ]
     },
     "execution_count": 50,
     "metadata": {},
     "output_type": "execute_result"
    }
   ],
   "source": [
    "10 - 8"
   ]
  },
  {
   "cell_type": "code",
   "execution_count": 51,
   "id": "4817fd8c",
   "metadata": {},
   "outputs": [
    {
     "data": {
      "text/plain": [
       "35"
      ]
     },
     "execution_count": 51,
     "metadata": {},
     "output_type": "execute_result"
    }
   ],
   "source": [
    "7 * 5"
   ]
  },
  {
   "cell_type": "code",
   "execution_count": 52,
   "id": "63f40e6d",
   "metadata": {},
   "outputs": [
    {
     "data": {
      "text/plain": [
       "3.0"
      ]
     },
     "execution_count": 52,
     "metadata": {},
     "output_type": "execute_result"
    }
   ],
   "source": [
    "6 / 2"
   ]
  },
  {
   "cell_type": "code",
   "execution_count": 53,
   "id": "8d83f736",
   "metadata": {},
   "outputs": [
    {
     "data": {
      "text/plain": [
       "float"
      ]
     },
     "execution_count": 53,
     "metadata": {},
     "output_type": "execute_result"
    }
   ],
   "source": [
    "type(6 / 2)"
   ]
  },
  {
   "cell_type": "code",
   "execution_count": 54,
   "id": "c5b60cc9",
   "metadata": {},
   "outputs": [
    {
     "data": {
      "text/plain": [
       "3"
      ]
     },
     "execution_count": 54,
     "metadata": {},
     "output_type": "execute_result"
    }
   ],
   "source": [
    "6 // 2"
   ]
  },
  {
   "cell_type": "code",
   "execution_count": 55,
   "id": "8d5e5014",
   "metadata": {},
   "outputs": [
    {
     "data": {
      "text/plain": [
       "1"
      ]
     },
     "execution_count": 55,
     "metadata": {},
     "output_type": "execute_result"
    }
   ],
   "source": [
    "6 // 5"
   ]
  },
  {
   "cell_type": "code",
   "execution_count": 59,
   "id": "e9ab299b",
   "metadata": {},
   "outputs": [
    {
     "data": {
      "text/plain": [
       "8"
      ]
     },
     "execution_count": 59,
     "metadata": {},
     "output_type": "execute_result"
    }
   ],
   "source": [
    "2 ** 3"
   ]
  },
  {
   "cell_type": "code",
   "execution_count": 56,
   "id": "ff593ddc",
   "metadata": {},
   "outputs": [
    {
     "data": {
      "text/plain": [
       "8"
      ]
     },
     "execution_count": 56,
     "metadata": {},
     "output_type": "execute_result"
    }
   ],
   "source": [
    "20 % 12"
   ]
  },
  {
   "cell_type": "code",
   "execution_count": 57,
   "id": "f62c99c7",
   "metadata": {},
   "outputs": [
    {
     "data": {
      "text/plain": [
       "1"
      ]
     },
     "execution_count": 57,
     "metadata": {},
     "output_type": "execute_result"
    }
   ],
   "source": [
    "13 % 12"
   ]
  },
  {
   "cell_type": "code",
   "execution_count": 58,
   "id": "9ae45119",
   "metadata": {},
   "outputs": [
    {
     "data": {
      "text/plain": [
       "2"
      ]
     },
     "execution_count": 58,
     "metadata": {},
     "output_type": "execute_result"
    }
   ],
   "source": [
    "14 % 12"
   ]
  },
  {
   "cell_type": "code",
   "execution_count": 60,
   "id": "30d3ee5e",
   "metadata": {},
   "outputs": [
    {
     "data": {
      "text/plain": [
       "'Hola Mundo'"
      ]
     },
     "execution_count": 60,
     "metadata": {},
     "output_type": "execute_result"
    }
   ],
   "source": [
    "\"Hola \" + \"Mundo\""
   ]
  },
  {
   "cell_type": "markdown",
   "id": "82d6fef3-3b4d-4768-bd19-c847972f0893",
   "metadata": {},
   "source": [
    "## Lógicos\n",
    "También llamados puertas lógicas se sustentan en las tablas de verdad (álgebra de Boole). Se basan en el uso de datos de tipo `bool` y retornan datos del mismo tipo.\n",
    "\n",
    "**Operador `and`**\n",
    "\n",
    "|a|b|a `and` b|\n",
    "|--|--|:-----:|\n",
    "|`True`|`True`|`True`|\n",
    "|`False`|`True`|`False`|\n",
    "|`True`|`False`|`False`|\n",
    "|`False`|`False`|`False`|\n",
    "\n",
    "**Operador `or`**\n",
    "\n",
    "|a|b|a `or` b|\n",
    "|--|--|:-----:|\n",
    "|`True`|`True`|`True`|\n",
    "|`False`|`True`|`True`|\n",
    "|`True`|`False`|`True`|\n",
    "|`False`|`False`|`False`|\n",
    "\n",
    "**Operador `not`**\n",
    "\n",
    "|a|`not` a|\n",
    "|--|:-----:|\n",
    "|`True`|`False`|\n",
    "|`False`|`True`|"
   ]
  },
  {
   "cell_type": "code",
   "execution_count": 61,
   "id": "21dce4f8-8bdc-49ec-81dd-5860b162f8eb",
   "metadata": {},
   "outputs": [
    {
     "data": {
      "text/plain": [
       "True"
      ]
     },
     "execution_count": 61,
     "metadata": {},
     "output_type": "execute_result"
    }
   ],
   "source": [
    "True and True"
   ]
  },
  {
   "cell_type": "code",
   "execution_count": 62,
   "id": "e5ce73fa",
   "metadata": {},
   "outputs": [
    {
     "data": {
      "text/plain": [
       "False"
      ]
     },
     "execution_count": 62,
     "metadata": {},
     "output_type": "execute_result"
    }
   ],
   "source": [
    "True and False"
   ]
  },
  {
   "cell_type": "code",
   "execution_count": 63,
   "id": "0add38f5-ea79-4455-8a51-0e32b2e4be21",
   "metadata": {},
   "outputs": [
    {
     "data": {
      "text/plain": [
       "True"
      ]
     },
     "execution_count": 63,
     "metadata": {},
     "output_type": "execute_result"
    }
   ],
   "source": [
    "True or False"
   ]
  },
  {
   "cell_type": "code",
   "execution_count": 64,
   "id": "ef72fc4c-a08c-4b92-83d3-28df1b7a4529",
   "metadata": {},
   "outputs": [
    {
     "data": {
      "text/plain": [
       "True"
      ]
     },
     "execution_count": 64,
     "metadata": {},
     "output_type": "execute_result"
    }
   ],
   "source": [
    "not False"
   ]
  },
  {
   "cell_type": "code",
   "execution_count": 65,
   "id": "80708527",
   "metadata": {},
   "outputs": [
    {
     "data": {
      "text/plain": [
       "False"
      ]
     },
     "execution_count": 65,
     "metadata": {},
     "output_type": "execute_result"
    }
   ],
   "source": [
    "not True"
   ]
  },
  {
   "cell_type": "markdown",
   "id": "057fac7c-5429-45d5-b872-d0717acee294",
   "metadata": {},
   "source": [
    "Se pueden incluir más sentencias lógicas inclusive usando delimitadores"
   ]
  },
  {
   "cell_type": "code",
   "execution_count": 66,
   "id": "fad3bde7-8e8c-4662-ac6f-dde1fb0cce23",
   "metadata": {},
   "outputs": [
    {
     "data": {
      "text/plain": [
       "True"
      ]
     },
     "execution_count": 66,
     "metadata": {},
     "output_type": "execute_result"
    }
   ],
   "source": [
    "not(True and False)"
   ]
  },
  {
   "cell_type": "code",
   "execution_count": 67,
   "id": "0c341671",
   "metadata": {},
   "outputs": [
    {
     "data": {
      "text/plain": [
       "False"
      ]
     },
     "execution_count": 67,
     "metadata": {},
     "output_type": "execute_result"
    }
   ],
   "source": [
    "not True and False"
   ]
  },
  {
   "cell_type": "code",
   "execution_count": 68,
   "id": "14f6e0ba-3983-47f3-8e13-93fdf1965f81",
   "metadata": {},
   "outputs": [
    {
     "data": {
      "text/plain": [
       "False"
      ]
     },
     "execution_count": 68,
     "metadata": {},
     "output_type": "execute_result"
    }
   ],
   "source": [
    "not not(True and False)"
   ]
  },
  {
   "cell_type": "markdown",
   "id": "4e1d4985-e019-42c4-967d-a8c2f9e31a15",
   "metadata": {},
   "source": [
    "## Relacionales\n",
    "Los operadores relacionales nos ayudan a realizar comparaciones y tomar decisiones basadas en condiciones.\n",
    "\n",
    "|Operador|Significado|Símbolo|\n",
    "|:-------|:----------|:-----:|\n",
    "|Igualdad|Compara si dos valores son iguales|`==`|\n",
    "|Menor que|Compara si un valor es menor que otro valor|`<`|\n",
    "|Menor que|Compara si un valor es menor o igual que otro valor|`<=`|\n",
    "|Mayor que|Compara si un valor es mayor que otro valor|`>`|\n",
    "|Mayor que|Compara si un valor es mayor o igual que otro valor|`>=`|\n",
    "|Diferente|Compara si dos valores son diferentes|`!=`|\n",
    "\n",
    "Retornan un dato de tipo `bool` según se cumpla la relación establecida."
   ]
  },
  {
   "cell_type": "code",
   "execution_count": 69,
   "id": "1ac24a9e",
   "metadata": {},
   "outputs": [
    {
     "data": {
      "text/plain": [
       "True"
      ]
     },
     "execution_count": 69,
     "metadata": {},
     "output_type": "execute_result"
    }
   ],
   "source": [
    "10 == 10"
   ]
  },
  {
   "cell_type": "code",
   "execution_count": 70,
   "id": "a23d08ad",
   "metadata": {},
   "outputs": [
    {
     "data": {
      "text/plain": [
       "False"
      ]
     },
     "execution_count": 70,
     "metadata": {},
     "output_type": "execute_result"
    }
   ],
   "source": [
    "10 == 9"
   ]
  },
  {
   "cell_type": "code",
   "execution_count": 71,
   "id": "8d34b0bb",
   "metadata": {},
   "outputs": [
    {
     "data": {
      "text/plain": [
       "True"
      ]
     },
     "execution_count": 71,
     "metadata": {},
     "output_type": "execute_result"
    }
   ],
   "source": [
    "5 < 9"
   ]
  },
  {
   "cell_type": "code",
   "execution_count": 72,
   "id": "d82a1682",
   "metadata": {},
   "outputs": [
    {
     "data": {
      "text/plain": [
       "True"
      ]
     },
     "execution_count": 72,
     "metadata": {},
     "output_type": "execute_result"
    }
   ],
   "source": [
    "\"a\" < \"b\""
   ]
  },
  {
   "cell_type": "code",
   "execution_count": 73,
   "id": "23fac227",
   "metadata": {},
   "outputs": [
    {
     "data": {
      "text/plain": [
       "False"
      ]
     },
     "execution_count": 73,
     "metadata": {},
     "output_type": "execute_result"
    }
   ],
   "source": [
    "10 != 10"
   ]
  },
  {
   "cell_type": "code",
   "execution_count": 74,
   "id": "42a5f17a",
   "metadata": {},
   "outputs": [
    {
     "data": {
      "text/plain": [
       "True"
      ]
     },
     "execution_count": 74,
     "metadata": {},
     "output_type": "execute_result"
    }
   ],
   "source": [
    "10 != 9"
   ]
  },
  {
   "cell_type": "markdown",
   "id": "17b6f830",
   "metadata": {},
   "source": [
    "1. Ver lo de Ipython (comando)\n",
    "2. Abrir desde otro navegador"
   ]
  },
  {
   "cell_type": "markdown",
   "id": "0f7bf7a5-56d8-41c2-8a66-f1b63bf7d58a",
   "metadata": {},
   "source": [
    "# Extras"
   ]
  },
  {
   "cell_type": "markdown",
   "id": "93f10e7b-a8d9-47e7-a320-78c92b776c80",
   "metadata": {
    "tags": []
   },
   "source": [
    "## Ejecutar IPython desde consola\n",
    "### Método 1\n",
    "Iremos al directorio de `IPython` y ejecutaremos el archivo `.exe`\n",
    "1. Identificar el directorio donde se encuentra ubicado `IPython` con el comando `where ipython`\n",
    "2. Copiar el directorio sin incluir al ejecutable (`ipython.exe`)\n",
    "3. Ir al directorio con `cd directorio`\n",
    "4. Poner el comando `ipython`\n",
    "\n",
    "### Método 2\n",
    "Aquí vamos a ejecutar desde `Python` el módulo `IPython`.\n",
    "1. Poner el comando `Python -m IPython`\n",
    "En el anterior comando tenemos que:\n",
    "- `Python` pone el intérprete de Python.\n",
    "- `-m` especifica que es el nombre de un script\n",
    "- `IPyhon` es el nombre del script a ejecutar"
   ]
  },
  {
   "cell_type": "markdown",
   "id": "c73230a3-89ac-4b5e-a06b-9f3ec18e83ac",
   "metadata": {},
   "source": [
    "## Cambiar el browser predeterminado\n",
    "1. Abrir Configuración (`W + I`)\n",
    "2. Ir a Aplicaciones\n",
    "3. Ir a Aplicaciones Predeterminadas\n",
    "4. Elegir por predeterminado el navegador de preferencia"
   ]
  }
 ],
 "metadata": {
  "kernelspec": {
   "display_name": "Python 3 (ipykernel)",
   "language": "python",
   "name": "python3"
  },
  "language_info": {
   "codemirror_mode": {
    "name": "ipython",
    "version": 3
   },
   "file_extension": ".py",
   "mimetype": "text/x-python",
   "name": "python",
   "nbconvert_exporter": "python",
   "pygments_lexer": "ipython3",
   "version": "3.9.13"
  }
 },
 "nbformat": 4,
 "nbformat_minor": 5
}
