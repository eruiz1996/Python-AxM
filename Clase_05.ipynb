{
 "cells": [
  {
   "cell_type": "markdown",
   "id": "29d071ee-6d79-40f8-ac21-4fd9d06a7611",
   "metadata": {},
   "source": [
    "# Sentencias de control\n",
    "## Ciclos\n",
    "En Python los ciclos nos ayudan a controlar el flujo de información **repitiendo bloques de código** un *número determinado* de veces o *mientras* se cumpla una condición. Por ello se tienen dos tipos de ciclos:\n",
    "\n",
    "- `for`: recorre los elementos de una secuencia o iterable\n",
    "- `while`: repite código mientras se cumpla una condición\n",
    "\n",
    "Estos ciclos son fundamentales para <u>automatizar tareas repetitivas</u> y hacer que nuestros programas sean más eficientes y flexibles."
   ]
  },
  {
   "cell_type": "markdown",
   "id": "2cbfe7af-acef-4369-b912-8ed5d5250468",
   "metadata": {
    "tags": []
   },
   "source": [
    "## Ciclo `for`\n",
    "\n",
    "**Sintaxis**\n",
    "\n",
    "```python\n",
    "for elemento in iterable:\n",
    "    # Bloque de código a repetir\n",
    "```\n",
    "\n",
    "donde:\n",
    "\n",
    "- `elemento` es una variable que **toma el valor** de cada elemento de `iterable` en cada iteración del ciclo.\n",
    "- `iterable` es una secuencia de elementos sobre la cual se va a iterar, como una lista, tupla, cadena de texto, o cualquier otro tipo de objeto iterable en Python.\n",
    "- El bloque de código que sigue al `for` se ejecuta una vez para cada elemento en el iterable."
   ]
  },
  {
   "cell_type": "code",
   "execution_count": 1,
   "id": "88ebfa64-2bab-47c4-a21d-d38183bb043e",
   "metadata": {},
   "outputs": [
    {
     "name": "stdout",
     "output_type": "stream",
     "text": [
      "P\n",
      "y\n",
      "t\n",
      "h\n",
      "o\n",
      "n\n"
     ]
    }
   ],
   "source": [
    "# con una str\n",
    "for caracter in 'Python':\n",
    "    print(caracter)"
   ]
  },
  {
   "cell_type": "code",
   "execution_count": 2,
   "id": "796c8b54-e4c5-4f64-8803-8511454b1e00",
   "metadata": {},
   "outputs": [
    {
     "name": "stdout",
     "output_type": "stream",
     "text": [
      "Índice 0 corresponde a posición 1\n",
      "Índice 1 corresponde a posición 2\n",
      "Índice 2 corresponde a posición 3\n",
      "Índice 3 corresponde a posición 4\n",
      "Índice 4 corresponde a posición 5\n"
     ]
    }
   ],
   "source": [
    "# con un rango\n",
    "for i in range(5):\n",
    "    print(f'Índice {i} corresponde a posición {i+1}')"
   ]
  },
  {
   "cell_type": "code",
   "execution_count": 3,
   "id": "a3eb774e-d1e8-4992-8da7-3ac5b7d3f409",
   "metadata": {},
   "outputs": [
    {
     "name": "stdout",
     "output_type": "stream",
     "text": [
      "Pedro\n",
      "Vilma\n",
      "Pablo\n",
      "Betty\n",
      "Bam-Bam\n"
     ]
    }
   ],
   "source": [
    "# con una lista\n",
    "pica_piedras = ['Pedro', 'Vilma', 'Pablo', 'Betty', 'Bam-Bam']\n",
    "for pica_piedra in pica_piedras:\n",
    "    print(pica_piedra)"
   ]
  },
  {
   "cell_type": "markdown",
   "id": "b73fc93d-51a3-4502-8f43-9bb89b6313f1",
   "metadata": {},
   "source": [
    "### Función `enumerate()`\n",
    "Se utiliza junto con ciclos `for` para rastrear el índice de los elementos en una secuencia. \n",
    "\n",
    "**Sintaxis**\n",
    "\n",
    "```python\n",
    "for indice, elemento in enumerate(iterable):\n",
    "    # Bloque de código a repetir\n",
    "```\n",
    "\n",
    "donde:\n",
    "\n",
    "- `indice` es la variable que almacena el índice actual del elemento en el iterable.\n",
    "- `elemento` es la variable que almacena el valor del elemento en el iterable.\n",
    "- `iterable` es la secuencia sobre la cual se está iterando."
   ]
  },
  {
   "cell_type": "code",
   "execution_count": 4,
   "id": "8db7293e-10d7-489f-bf00-eb3c588cb475",
   "metadata": {},
   "outputs": [
    {
     "name": "stdout",
     "output_type": "stream",
     "text": [
      "1. Pedro\n",
      "2. Vilma\n",
      "3. Pablo\n",
      "4. Betty\n",
      "5. Bam-Bam\n"
     ]
    }
   ],
   "source": [
    "for i, pica_piedra in enumerate(pica_piedras):\n",
    "    print(f'{i+1}. {pica_piedra}')"
   ]
  },
  {
   "cell_type": "markdown",
   "id": "5f12b57b-e84e-4715-97f2-3811cdafd9d0",
   "metadata": {},
   "source": [
    "**Nota**: La función `enumerate()` devuelve un objeto enumerado que produce tuplas que contienen el índice y el elemento correspondiente en cada iteración."
   ]
  },
  {
   "cell_type": "code",
   "execution_count": 5,
   "id": "d39e6d0d-2d88-4492-8c8e-a572eda76f12",
   "metadata": {},
   "outputs": [],
   "source": [
    "mi_tupla = 1, 2, 3"
   ]
  },
  {
   "cell_type": "code",
   "execution_count": 6,
   "id": "e8061373-e18b-4ddd-b1d8-079e4fce3b06",
   "metadata": {},
   "outputs": [],
   "source": [
    "otra_tupla = (1, 2, 3)"
   ]
  },
  {
   "cell_type": "code",
   "execution_count": 7,
   "id": "0c119c1e-66b0-4498-8dfd-d1e05e58bf4d",
   "metadata": {},
   "outputs": [
    {
     "data": {
      "text/plain": [
       "True"
      ]
     },
     "execution_count": 7,
     "metadata": {},
     "output_type": "execute_result"
    }
   ],
   "source": [
    "mi_tupla == otra_tupla"
   ]
  },
  {
   "cell_type": "markdown",
   "id": "66083e99-73bd-4ab7-be1b-ff00ac379026",
   "metadata": {
    "tags": []
   },
   "source": [
    "### Función `zip()`\n",
    "Se utiliza para combinar dos o más secuencias en una secuencia de tuplas.\n",
    "\n",
    "```python\n",
    "zip(iterable_1, iterable_2, ..., iterable_n)\n",
    "```\n",
    "\n",
    "La función `zip()`:\n",
    "\n",
    "- Toma elementos de cada iterable dado y los **empareja en tuplas**\n",
    "- Retorna un objeto `zip`, que es iterable\n",
    "- En cada iteración produce una tupla que contiene el elemento correspondiente de cada secuencia."
   ]
  },
  {
   "cell_type": "markdown",
   "id": "5724299f-e3cf-486c-be81-404748139615",
   "metadata": {},
   "source": [
    "**Ejemplo**. Edades y nombres."
   ]
  },
  {
   "cell_type": "code",
   "execution_count": 8,
   "id": "536f8e65-0c6a-4fec-8546-f134e3f16755",
   "metadata": {},
   "outputs": [
    {
     "data": {
      "text/plain": [
       "zip"
      ]
     },
     "execution_count": 8,
     "metadata": {},
     "output_type": "execute_result"
    }
   ],
   "source": [
    "nombres = [\"Juan\", \"María\", \"Pedro\"]\n",
    "edades = [30, 25, 35]\n",
    "# combinamos con función zip()\n",
    "objeto_zip = zip(nombres, edades)\n",
    "type(objeto_zip)"
   ]
  },
  {
   "cell_type": "markdown",
   "id": "3c4cecfc-ee8e-4174-8326-994cb4833193",
   "metadata": {},
   "source": [
    "Pero `zip` es un iterable, luego se puede usar con el ciclo `for`"
   ]
  },
  {
   "cell_type": "code",
   "execution_count": 9,
   "id": "0d9b04ac-6a6b-46bf-a832-86a0607c2205",
   "metadata": {},
   "outputs": [
    {
     "name": "stdout",
     "output_type": "stream",
     "text": [
      "Juan tiene 30 años\n",
      "María tiene 25 años\n",
      "Pedro tiene 35 años\n"
     ]
    }
   ],
   "source": [
    "for nombre, edad in zip(nombres, edades):\n",
    "    print(f'{nombre} tiene {edad} años')"
   ]
  },
  {
   "cell_type": "markdown",
   "id": "2b5327d0-ea37-4186-88fd-2bb179eafa38",
   "metadata": {},
   "source": [
    "**Explicación**\n",
    "- El objeto `zip` tiene tuplas de la forma: `(nombre_i, edad_i)`\n",
    "- La variable `nombre` toma los primeros elementos de cada tupla\n",
    "- La variable `edad` toma los segundos elementos de cada tupla"
   ]
  },
  {
   "cell_type": "code",
   "execution_count": 10,
   "id": "234a730f-5e7c-4ddb-ae44-13fdecddc41a",
   "metadata": {},
   "outputs": [
    {
     "name": "stdout",
     "output_type": "stream",
     "text": [
      "Juan tiene 30 años\n",
      "María tiene 25 años\n",
      "Pedro tiene 35 años\n"
     ]
    }
   ],
   "source": [
    "# otra manera de pensarlo\n",
    "for tupla_nombre_edad in zip(nombres, edades):\n",
    "    print(f'{tupla_nombre_edad[0]} tiene {tupla_nombre_edad[1]} años')"
   ]
  },
  {
   "cell_type": "markdown",
   "id": "196eea5a-194a-4d40-9ec5-52019503e980",
   "metadata": {},
   "source": [
    "**Ejercicio**. Obtener la suma de los números del `1` al `100`"
   ]
  },
  {
   "cell_type": "code",
   "execution_count": 11,
   "id": "3ba692be-30f6-4e54-ae8c-94fa035f8db4",
   "metadata": {},
   "outputs": [],
   "source": [
    "# opción 1"
   ]
  },
  {
   "cell_type": "code",
   "execution_count": 12,
   "id": "a715133c-afcb-4018-a19c-501598541bd8",
   "metadata": {},
   "outputs": [],
   "source": [
    "# opción 2"
   ]
  },
  {
   "cell_type": "code",
   "execution_count": 13,
   "id": "7d0ac224-8559-41e6-817f-748a1ab0db47",
   "metadata": {},
   "outputs": [],
   "source": [
    "# opción 3"
   ]
  },
  {
   "cell_type": "markdown",
   "id": "f8d83595-f533-40e8-9eae-c8f6d15225dc",
   "metadata": {
    "tags": []
   },
   "source": [
    "## Incrementos\n",
    "Es muy usual que para incrementar una variable se haga uso de la sintaxis\n",
    "\n",
    "```python\n",
    "variable = variable + incremento\n",
    "```\n",
    "\n",
    "En Python, esto se puede simplificar con la siguiente notación:\n",
    "\n",
    "```python\n",
    "variable += incremento\n",
    "```"
   ]
  },
  {
   "cell_type": "code",
   "execution_count": 14,
   "id": "fcd9727e-3cbb-44b5-8510-c04572dbb6cd",
   "metadata": {},
   "outputs": [
    {
     "data": {
      "text/plain": [
       "15"
      ]
     },
     "execution_count": 14,
     "metadata": {},
     "output_type": "execute_result"
    }
   ],
   "source": [
    "numero = 10\n",
    "incremento = 5\n",
    "numero += incremento\n",
    "numero"
   ]
  },
  {
   "cell_type": "markdown",
   "id": "1acc7cfe-66ea-4bc9-9dac-6bd38b7c9438",
   "metadata": {},
   "source": [
    "Además se tienen otro tipo de incrementos correspondientes a los **operadores aritméticos**\n",
    "\n",
    "| Incremento | Sintaxis | Equivalencia |\n",
    "|:-----------|:--------:|:------------:|\n",
    "| Suma | `variable += incremento` | `variable = variable + incremento` |\n",
    "| Resta | `variable -= incremento` | `variable = variable - incremento` |\n",
    "| Multiplicación | `variable *= incremento` | `variable = variable * incremento` |\n",
    "| División | `variable /= incremento` | `variable = variable / incremento` |"
   ]
  },
  {
   "cell_type": "code",
   "execution_count": 15,
   "id": "a577487b-0073-442e-81b7-5664f8f81d59",
   "metadata": {},
   "outputs": [
    {
     "data": {
      "text/plain": [
       "15"
      ]
     },
     "execution_count": 15,
     "metadata": {},
     "output_type": "execute_result"
    }
   ],
   "source": [
    "numero"
   ]
  },
  {
   "cell_type": "code",
   "execution_count": 16,
   "id": "4c9141f3-8432-406c-8a27-5dceaf3eec5e",
   "metadata": {},
   "outputs": [
    {
     "data": {
      "text/plain": [
       "10"
      ]
     },
     "execution_count": 16,
     "metadata": {},
     "output_type": "execute_result"
    }
   ],
   "source": [
    "# resta\n",
    "numero -= incremento\n",
    "numero"
   ]
  },
  {
   "cell_type": "code",
   "execution_count": 17,
   "id": "91a8196b-40ae-4ab5-bc38-28058fcccfa6",
   "metadata": {},
   "outputs": [
    {
     "data": {
      "text/plain": [
       "50"
      ]
     },
     "execution_count": 17,
     "metadata": {},
     "output_type": "execute_result"
    }
   ],
   "source": [
    "# multiplicación\n",
    "numero *= incremento\n",
    "numero"
   ]
  },
  {
   "cell_type": "code",
   "execution_count": 18,
   "id": "85f7ce13-64b5-4e62-b9fb-c8dee95b27b3",
   "metadata": {},
   "outputs": [
    {
     "data": {
      "text/plain": [
       "10.0"
      ]
     },
     "execution_count": 18,
     "metadata": {},
     "output_type": "execute_result"
    }
   ],
   "source": [
    "# división\n",
    "numero /= incremento\n",
    "numero"
   ]
  },
  {
   "cell_type": "markdown",
   "id": "fe45b904-0a85-412d-9ce6-dbcdc5f7c4f5",
   "metadata": {
    "tags": []
   },
   "source": [
    "# Ejercicios.\n",
    "## Vectores\n",
    "Caracterizar las operaciones vectoriales:\n",
    "1. Suma\n",
    "2. Resta\n",
    "3. Producto punto\n",
    "\n",
    "Para los vectores $\\mathbb{v_1}, \\mathbb{v_2}\\in\\mathbb{R}^3$ "
   ]
  },
  {
   "cell_type": "code",
   "execution_count": 19,
   "id": "8d7c6b57-eb28-4c96-8af4-4a278846d1ea",
   "metadata": {},
   "outputs": [
    {
     "data": {
      "text/latex": [
       "Sean $\\mathbb{u}, \\mathbb{v}\\in\\mathbb{R}^3$ definidos como\n",
       "\n",
       "$$\\mathbb{u}:=(u_1, u_2, u_3)$$\n",
       "$$\\mathbb{v}:=(v_1, v_2, v_3)$$\n",
       "\n",
       "Luego,\n",
       "\n",
       "La operación Suma, $+:\\mathbb{R}^3\\rightarrow \\mathbb{R}^3$\n",
       "$$\\mathbb{u} + \\mathbb{v} = (u_1, u_2, u_3) + (v_1, v_2, v_3)= (u_1 + v_1, u_2 + v_2, u_3 + v_3)$$\n",
       "La operación Resta, $-:\\mathbb{R}^3\\rightarrow \\mathbb{R}^3$\n",
       "$$\\mathbb{u} - \\mathbb{v} = (u_1, u_2, u_3) - (v_1, v_2, v_3)= (u_1 - v_1, u_2 - v_2, u_3 - v_3)$$\n",
       "La operación Producto punto, $\\cdot:\\mathbb{R}^3\\rightarrow \\mathbb{R}$\n",
       "$$\\mathbb{u}\\cdot\\mathbb{v} = (u_1, u_2, u_3) \\cdot (v_1, v_2, v_3) = u_1 \\cdot v_1 + u_2 \\cdot v_2 + u_3 \\cdot v_3$$\n"
      ],
      "text/plain": [
       "<IPython.core.display.Latex object>"
      ]
     },
     "metadata": {},
     "output_type": "display_data"
    }
   ],
   "source": [
    "%%latex\n",
    "Sean $\\mathbb{u}, \\mathbb{v}\\in\\mathbb{R}^3$ definidos como\n",
    "\n",
    "$$\\mathbb{u}:=(u_1, u_2, u_3)$$\n",
    "$$\\mathbb{v}:=(v_1, v_2, v_3)$$\n",
    "\n",
    "Luego,\n",
    "\n",
    "La operación Suma, $+:\\mathbb{R}^3\\rightarrow \\mathbb{R}^3$\n",
    "$$\\mathbb{u} + \\mathbb{v} = (u_1, u_2, u_3) + (v_1, v_2, v_3)= (u_1 + v_1, u_2 + v_2, u_3 + v_3)$$\n",
    "La operación Resta, $-:\\mathbb{R}^3\\rightarrow \\mathbb{R}^3$\n",
    "$$\\mathbb{u} - \\mathbb{v} = (u_1, u_2, u_3) - (v_1, v_2, v_3)= (u_1 - v_1, u_2 - v_2, u_3 - v_3)$$\n",
    "La operación Producto punto, $\\cdot:\\mathbb{R}^3\\rightarrow \\mathbb{R}$\n",
    "$$\\mathbb{u}\\cdot\\mathbb{v} = (u_1, u_2, u_3) \\cdot (v_1, v_2, v_3) = u_1 \\cdot v_1 + u_2 \\cdot v_2 + u_3 \\cdot v_3$$"
   ]
  },
  {
   "cell_type": "markdown",
   "id": "745a02c0-ff10-4400-afd6-dc5ceb2a1f09",
   "metadata": {},
   "source": [
    "Ejemplo: Si `u = (1,2,3)` y `v = (-3,0,4)`\n",
    "\n",
    "1. Suma: `(-2, 2, 7)`\n",
    "2. Resta: `(4, 2, -1)`\n",
    "3. Producto punto: `9`"
   ]
  },
  {
   "cell_type": "code",
   "execution_count": 20,
   "id": "03d1a6e7-1e2e-4f6e-ad70-dfddeda52165",
   "metadata": {},
   "outputs": [],
   "source": [
    "# definir los vectores\n",
    "u = (1, 2, 3)\n",
    "v = (-3 ,0, 4)"
   ]
  },
  {
   "cell_type": "code",
   "execution_count": 21,
   "id": "2170d5e4-1a3f-45dc-af82-a128f1feb8a1",
   "metadata": {},
   "outputs": [
    {
     "name": "stdout",
     "output_type": "stream",
     "text": [
      "El vector resultantes es: (-2, 2, 7)\n"
     ]
    }
   ],
   "source": [
    "# suma\n",
    "vector_suma = []\n",
    "for ui, vi in zip(u, v):\n",
    "    vector_suma.append(ui + vi)\n",
    "print(\"El vector resultantes es:\", tuple(vector_suma))"
   ]
  },
  {
   "cell_type": "code",
   "execution_count": 22,
   "id": "f59ed09c-a9e3-480b-9e98-50ff651c7ae4",
   "metadata": {},
   "outputs": [
    {
     "name": "stdout",
     "output_type": "stream",
     "text": [
      "El vector resultantes es: (4, 2, -1)\n"
     ]
    }
   ],
   "source": [
    "# suma\n",
    "vector_resta = []\n",
    "for ui, vi in zip(u, v):\n",
    "    vector_resta.append(ui - vi)\n",
    "print(\"El vector resultantes es:\", tuple(vector_resta))"
   ]
  },
  {
   "cell_type": "code",
   "execution_count": 23,
   "id": "31729fa0-05e4-48c4-b67c-d2744f304837",
   "metadata": {},
   "outputs": [
    {
     "name": "stdout",
     "output_type": "stream",
     "text": [
      "El producto punto es: 9\n"
     ]
    }
   ],
   "source": [
    "# producto punto\n",
    "producto_punto = 0\n",
    "for ui, vi in zip(u, v):\n",
    "    producto_punto += ui * vi\n",
    "print(\"El producto punto es:\", producto_punto)"
   ]
  },
  {
   "cell_type": "markdown",
   "id": "644daffd-451a-4e12-ae6e-fe623cc83c3e",
   "metadata": {},
   "source": [
    "## Manipulando cadenas de texto\n",
    "A continuación se deja un listado de los principales métodos para los objetos `str`\n",
    "\n",
    "| Método         | Descripción                                                                       |\n",
    "| -------------- | --------------------------------------------------------------------------------- |\n",
    "| `capitalize()` | Convierte el primer carácter de la cadena en mayúscula y el resto en minúsculas.  |\n",
    "| `upper()`      | Convierte todos los caracteres de la cadena a mayúsculas.                         |\n",
    "| `lower()`      | Convierte todos los caracteres de la cadena a minúsculas.                         |\n",
    "| `title()`      | Convierte el primer carácter de cada palabra a mayúscula y el resto a minúsculas. |\n",
    "| `strip()`      | Elimina los espacios en blanco al principio y al final de la cadena.              |\n",
    "| `lstrip()`     | Elimina los espacios en blanco al principio de la cadena.                         |\n",
    "| `rstrip()`     | Elimina los espacios en blanco al final de la cadena.                             |\n",
    "| `replace()`    | Reemplaza una subcadena especificada por otra subcadena.                          |\n",
    "| `split()`      | Divide la cadena en una lista de cadenas según un delimitador.                    |\n",
    "| `count()`      | Cuenta cuántas veces aparece una subcadena en la cadena.                          |\n",
    "| `startswith()` | Comprueba si la cadena comienza con una subcadena específica.                     |\n",
    "| `endswith()`   | Comprueba si la cadena termina con una subcadena específica.                      |"
   ]
  },
  {
   "cell_type": "code",
   "execution_count": 24,
   "id": "b1f7fdd5-3a89-4ae1-a6bb-f14b213fdca1",
   "metadata": {
    "tags": []
   },
   "outputs": [
    {
     "name": "stdout",
     "output_type": "stream",
     "text": [
      "----------------------------------------\n",
      "Ejemplo: método capitalize()\n",
      "Cadena original: hola mundo\n",
      "Cadena cambiada: Hola mundo\n",
      "----------------------------------------\n",
      "Ejemplo: método upper()\n",
      "Cadena original: hola mundo\n",
      "Cadena cambiada: HOLA MUNDO\n",
      "----------------------------------------\n",
      "Ejemplo: método lower()\n",
      "Cadena original: Hola Mundo\n",
      "Cadena cambiada: hola mundo\n",
      "----------------------------------------\n",
      "Ejemplo: método title()\n",
      "Cadena original: hola mundo\n",
      "Cadena cambiada: Hola Mundo\n",
      "----------------------------------------\n",
      "Ejemplo: método strip()\n",
      "Cadena original:   hola mundo  \n",
      "Cadena cambiada: hola mundo\n",
      "----------------------------------------\n",
      "Ejemplo: método lstrip()\n",
      "Cadena original:   hola mundo\n",
      "Cadena cambiada: hola mundo\n",
      "----------------------------------------\n",
      "Ejemplo: método rstrip()\n",
      "Cadena original: hola mundo  \n",
      "Cadena cambiada: hola mundo\n",
      "----------------------------------------\n",
      "Ejemplo: método replace()\n",
      "Cadena original: hola mundo\n",
      "Cadena cambiada: adiós mundo\n",
      "----------------------------------------\n",
      "Ejemplo: método split()\n",
      "Cadena original: hola mundo\n",
      "Cadena cambiada: ['hola', 'mundo']\n",
      "----------------------------------------\n",
      "Ejemplo: método count()\n",
      "Cadena original: hola mundo\n",
      "Cadena cambiada: 2\n",
      "----------------------------------------\n",
      "Ejemplo: método startswith()\n",
      "Cadena original: ~$hola mundo\n",
      "Cadena cambiada: True\n",
      "----------------------------------------\n",
      "Ejemplo: método endswith()\n",
      "Cadena original: hola mundo.xlsx\n",
      "Cadena cambiada: True\n"
     ]
    }
   ],
   "source": [
    "# capitalize()\n",
    "print(40*'-')\n",
    "texto = \"hola mundo\"\n",
    "print('Ejemplo: método capitalize()')\n",
    "print(f'Cadena original: {texto}')\n",
    "print(f'Cadena cambiada: {texto.capitalize()}')\n",
    "\n",
    "# upper()\n",
    "print(40*'-')\n",
    "texto = \"hola mundo\"\n",
    "print('Ejemplo: método upper()')\n",
    "print(f'Cadena original: {texto}')\n",
    "print(f'Cadena cambiada: {texto.upper()}')\n",
    "\n",
    "# lower()\n",
    "print(40*'-')\n",
    "texto = \"Hola Mundo\"\n",
    "print('Ejemplo: método lower()')\n",
    "print(f'Cadena original: {texto}')\n",
    "print(f'Cadena cambiada: {texto.lower()}')\n",
    "\n",
    "# title()\n",
    "print(40*'-')\n",
    "texto = \"hola mundo\"\n",
    "print('Ejemplo: método title()')\n",
    "print(f'Cadena original: {texto}')\n",
    "print(f'Cadena cambiada: {texto.title()}')\n",
    "\n",
    "# strip()\n",
    "print(40*'-')\n",
    "texto = \"  hola mundo  \"\n",
    "print('Ejemplo: método strip()')\n",
    "print(f'Cadena original: {texto}')\n",
    "print(f'Cadena cambiada: {texto.strip()}')\n",
    "\n",
    "# lstrip()\n",
    "print(40*'-')\n",
    "texto = \"  hola mundo\"\n",
    "print('Ejemplo: método lstrip()')\n",
    "print(f'Cadena original: {texto}')\n",
    "print(f'Cadena cambiada: {texto.lstrip()}')\n",
    "\n",
    "# rstrip()\n",
    "print(40*'-')\n",
    "texto = \"hola mundo  \"\n",
    "print('Ejemplo: método rstrip()')\n",
    "print(f'Cadena original: {texto}')\n",
    "print(f'Cadena cambiada: {texto.rstrip()}')\n",
    "\n",
    "# replace()\n",
    "print(40*'-')\n",
    "texto = \"hola mundo\"\n",
    "print('Ejemplo: método replace()')\n",
    "print(f'Cadena original: {texto}')\n",
    "print(f'Cadena cambiada: {texto.replace(\"hola\", \"adiós\")}')\n",
    "\n",
    "# split()\n",
    "print(40*'-')\n",
    "texto = \"hola mundo\"\n",
    "print('Ejemplo: método split()')\n",
    "print(f'Cadena original: {texto}')\n",
    "print(f'Cadena cambiada: {texto.split()}')\n",
    "\n",
    "# count()\n",
    "print(40*'-')\n",
    "texto = \"hola mundo\"\n",
    "print('Ejemplo: método count()')\n",
    "print(f'Cadena original: {texto}')\n",
    "print(f'Cadena cambiada: {texto.count(\"o\")}')\n",
    "\n",
    "# startswith()\n",
    "print(40*'-')\n",
    "texto = \"~$hola mundo\"\n",
    "print('Ejemplo: método startswith()')\n",
    "print(f'Cadena original: {texto}')\n",
    "print(f'Cadena cambiada: {texto.startswith(\"~$\")}')\n",
    "\n",
    "# endswith()\n",
    "print(40*'-')\n",
    "texto = \"hola mundo.xlsx\"\n",
    "print('Ejemplo: método endswith()')\n",
    "print(f'Cadena original: {texto}')\n",
    "print(f'Cadena cambiada: {texto.endswith(\".xlsx\")}')"
   ]
  },
  {
   "cell_type": "markdown",
   "id": "b006f28e-d60b-4399-a481-8a667803b12c",
   "metadata": {},
   "source": [
    "### Ejercicio\n",
    "Dar el formato adecuado a las siguientes listas:\n",
    "\n",
    "```python\n",
    "nombres = ['beto', 'alejandro', 'silvia', 'clara']\n",
    "nombres_completos = ['beto hernández flores', 'alejandro lópez pérez', 'silvia saldívar', 'clara blanco medina']\n",
    "nombres_capturados = [' beto hernández flores', 'alejandro lópez pérez   ', 'silvia saldívar', 'CLARA BLANCO MEDINA']\n",
    "```"
   ]
  },
  {
   "cell_type": "code",
   "execution_count": 25,
   "id": "340d83a7-87b2-4a44-9b31-178b7e7cda49",
   "metadata": {},
   "outputs": [
    {
     "name": "stdout",
     "output_type": "stream",
     "text": [
      "Beto\n",
      "Alejandro\n",
      "Silvia\n",
      "Clara\n"
     ]
    }
   ],
   "source": [
    "nombres = ['beto', 'alejandro', 'silvia', 'clara']\n",
    "for nombre in nombres:\n",
    "    print(nombre.capitalize())"
   ]
  },
  {
   "cell_type": "code",
   "execution_count": 26,
   "id": "2c585d65-d94e-41e0-95a0-9461bc2b36bc",
   "metadata": {},
   "outputs": [
    {
     "name": "stdout",
     "output_type": "stream",
     "text": [
      "Beto Hernández Flores\n",
      "Alejandro López Pérez\n",
      "Silvia Saldívar\n",
      "Clara Blanco Medina\n"
     ]
    }
   ],
   "source": [
    "nombres_completos = ['beto hernández flores', 'alejandro lópez pérez', 'silvia saldívar', 'clara blanco medina']\n",
    "for nombre_completo in nombres_completos:\n",
    "    print(nombre_completo.title())"
   ]
  },
  {
   "cell_type": "code",
   "execution_count": 27,
   "id": "f8414c4b-4923-4e22-866c-db580ff77078",
   "metadata": {},
   "outputs": [
    {
     "name": "stdout",
     "output_type": "stream",
     "text": [
      "Beto Hernández Flores\n",
      "Alejandro López Pérez\n",
      "Silvia Saldívar\n",
      "Clara Blanco Medina\n"
     ]
    }
   ],
   "source": [
    "nombres_capturados = [' beto hernández flores', 'alejandro lópez pérez   ', 'silvia saldívar', 'CLARA BLANCO MEDINA']\n",
    "for nombre_capturado in nombres_capturados:\n",
    "    nombre_corregido = nombre_capturado.lstrip().rstrip().title()\n",
    "    print(nombre_corregido)"
   ]
  },
  {
   "cell_type": "markdown",
   "id": "c7ae18e3-e47d-4788-9799-5326ba071902",
   "metadata": {},
   "source": [
    "**Nota**. No estamos cambiando las listas originales."
   ]
  },
  {
   "cell_type": "code",
   "execution_count": 28,
   "id": "57e80df6-2c08-422b-8b00-08a0b1abe62c",
   "metadata": {},
   "outputs": [
    {
     "data": {
      "text/plain": [
       "[' beto hernández flores',\n",
       " 'alejandro lópez pérez   ',\n",
       " 'silvia saldívar',\n",
       " 'CLARA BLANCO MEDINA']"
      ]
     },
     "execution_count": 28,
     "metadata": {},
     "output_type": "execute_result"
    }
   ],
   "source": [
    "nombres_capturados"
   ]
  },
  {
   "cell_type": "markdown",
   "id": "99a5572f-ccac-4007-91f5-235a114ddd11",
   "metadata": {},
   "source": [
    "### Listas por comprensión"
   ]
  },
  {
   "cell_type": "markdown",
   "id": "46c2b2d9-ccc6-4fc4-8fc7-5124e751d4b1",
   "metadata": {},
   "source": [
    "## Ciclo `while`"
   ]
  }
 ],
 "metadata": {
  "kernelspec": {
   "display_name": "Python 3 (ipykernel)",
   "language": "python",
   "name": "python3"
  },
  "language_info": {
   "codemirror_mode": {
    "name": "ipython",
    "version": 3
   },
   "file_extension": ".py",
   "mimetype": "text/x-python",
   "name": "python",
   "nbconvert_exporter": "python",
   "pygments_lexer": "ipython3",
   "version": "3.9.13"
  }
 },
 "nbformat": 4,
 "nbformat_minor": 5
}
