{
 "cells": [
  {
   "cell_type": "markdown",
   "id": "29d071ee-6d79-40f8-ac21-4fd9d06a7611",
   "metadata": {},
   "source": [
    "# Sentencias de control\n",
    "## Ciclos\n",
    "En Python los ciclos nos ayudan a controlar el flujo de información **repitiendo bloques de código** un *número determinado* de veces o *mientras* se cumpla una condición. Por ello se tienen dos tipos de ciclos:\n",
    "\n",
    "- `for`: recorre los elementos de una secuencia o iterable\n",
    "- `while`: repite código mientras se cumpla una condición\n",
    "\n",
    "Estos ciclos son fundamentales para <u>automatizar tareas repetitivas</u> y hacer que nuestros programas sean más eficientes y flexibles."
   ]
  },
  {
   "cell_type": "markdown",
   "id": "2cbfe7af-acef-4369-b912-8ed5d5250468",
   "metadata": {
    "tags": []
   },
   "source": [
    "## Ciclo `for`\n",
    "\n",
    "**Sintaxis**\n",
    "\n",
    "```python\n",
    "for elemento in iterable:\n",
    "    # Bloque de código a repetir\n",
    "```\n",
    "\n",
    "donde:\n",
    "\n",
    "- `elemento` es una variable que **toma el valor** de cada elemento de `iterable` en cada iteración del ciclo.\n",
    "- `iterable` es una secuencia de elementos sobre la cual se va a iterar, como una lista, tupla, cadena de texto, o cualquier otro tipo de objeto iterable en Python.\n",
    "- El bloque de código que sigue al `for` se ejecuta una vez para cada elemento en el iterable."
   ]
  },
  {
   "cell_type": "code",
   "execution_count": 1,
   "id": "88ebfa64-2bab-47c4-a21d-d38183bb043e",
   "metadata": {
    "tags": []
   },
   "outputs": [
    {
     "name": "stdout",
     "output_type": "stream",
     "text": [
      "P\n",
      "y\n",
      "t\n",
      "h\n",
      "o\n",
      "n\n"
     ]
    }
   ],
   "source": [
    "# con una str\n",
    "for caracter in 'Python':\n",
    "    print(caracter)"
   ]
  },
  {
   "cell_type": "code",
   "execution_count": 2,
   "id": "796c8b54-e4c5-4f64-8803-8511454b1e00",
   "metadata": {
    "tags": []
   },
   "outputs": [
    {
     "name": "stdout",
     "output_type": "stream",
     "text": [
      "Índice 0 corresponde a posición 1\n",
      "Índice 1 corresponde a posición 2\n",
      "Índice 2 corresponde a posición 3\n",
      "Índice 3 corresponde a posición 4\n",
      "Índice 4 corresponde a posición 5\n"
     ]
    }
   ],
   "source": [
    "# con un rango\n",
    "for i in range(5):\n",
    "    print(f'Índice {i} corresponde a posición {i+1}')"
   ]
  },
  {
   "cell_type": "code",
   "execution_count": 3,
   "id": "a3eb774e-d1e8-4992-8da7-3ac5b7d3f409",
   "metadata": {},
   "outputs": [
    {
     "name": "stdout",
     "output_type": "stream",
     "text": [
      "Pedro\n",
      "Vilma\n",
      "Pablo\n",
      "Betty\n",
      "Bam-Bam\n"
     ]
    }
   ],
   "source": [
    "# con una lista\n",
    "pica_piedras = ['Pedro', 'Vilma', 'Pablo', 'Betty', 'Bam-Bam']\n",
    "for pica_piedra in pica_piedras:\n",
    "    print(pica_piedra)"
   ]
  },
  {
   "cell_type": "code",
   "execution_count": 4,
   "id": "a6fd915b-ef8d-41a6-a64c-d690a6d7962c",
   "metadata": {},
   "outputs": [
    {
     "name": "stdout",
     "output_type": "stream",
     "text": [
      "1. Pedro\n",
      "2. Vilma\n",
      "3. Pablo\n",
      "4. Betty\n",
      "5. Bam-Bam\n"
     ]
    }
   ],
   "source": [
    "for i in range(len(pica_piedras)):\n",
    "    print(f'{i+1}. {pica_piedras[i]}')"
   ]
  },
  {
   "cell_type": "markdown",
   "id": "b73fc93d-51a3-4502-8f43-9bb89b6313f1",
   "metadata": {},
   "source": [
    "### Función `enumerate()`\n",
    "Se utiliza junto con ciclos `for` para rastrear el índice de los elementos en una secuencia. \n",
    "\n",
    "**Sintaxis**\n",
    "\n",
    "```python\n",
    "for indice, elemento in enumerate(iterable):\n",
    "    # Bloque de código a repetir\n",
    "```\n",
    "\n",
    "donde:\n",
    "\n",
    "- `indice` es la variable que almacena el índice actual del elemento en el iterable.\n",
    "- `elemento` es la variable que almacena el valor del elemento en el iterable.\n",
    "- `iterable` es la secuencia sobre la cual se está iterando."
   ]
  },
  {
   "cell_type": "code",
   "execution_count": 5,
   "id": "8db7293e-10d7-489f-bf00-eb3c588cb475",
   "metadata": {},
   "outputs": [
    {
     "name": "stdout",
     "output_type": "stream",
     "text": [
      "1. Pedro\n",
      "2. Vilma\n",
      "3. Pablo\n",
      "4. Betty\n",
      "5. Bam-Bam\n"
     ]
    }
   ],
   "source": [
    "for i, pica_piedra in enumerate(pica_piedras):\n",
    "    print(f'{i+1}. {pica_piedra}')"
   ]
  },
  {
   "cell_type": "markdown",
   "id": "5f12b57b-e84e-4715-97f2-3811cdafd9d0",
   "metadata": {},
   "source": [
    "**Nota**: La función `enumerate()` devuelve un objeto enumerado que produce tuplas que contienen el índice y el elemento correspondiente en cada iteración."
   ]
  },
  {
   "cell_type": "code",
   "execution_count": 6,
   "id": "d39e6d0d-2d88-4492-8c8e-a572eda76f12",
   "metadata": {},
   "outputs": [],
   "source": [
    "mi_tupla = 1, 2, 3"
   ]
  },
  {
   "cell_type": "code",
   "execution_count": 7,
   "id": "4784eb37-0015-4154-bff2-b3531dfe5e2d",
   "metadata": {},
   "outputs": [
    {
     "data": {
      "text/plain": [
       "tuple"
      ]
     },
     "execution_count": 7,
     "metadata": {},
     "output_type": "execute_result"
    }
   ],
   "source": [
    "type(mi_tupla)"
   ]
  },
  {
   "cell_type": "code",
   "execution_count": 8,
   "id": "e8061373-e18b-4ddd-b1d8-079e4fce3b06",
   "metadata": {},
   "outputs": [],
   "source": [
    "otra_tupla = (1, 2, 3)"
   ]
  },
  {
   "cell_type": "code",
   "execution_count": 9,
   "id": "0c119c1e-66b0-4498-8dfd-d1e05e58bf4d",
   "metadata": {},
   "outputs": [
    {
     "data": {
      "text/plain": [
       "True"
      ]
     },
     "execution_count": 9,
     "metadata": {},
     "output_type": "execute_result"
    }
   ],
   "source": [
    "mi_tupla == otra_tupla"
   ]
  },
  {
   "cell_type": "markdown",
   "id": "66083e99-73bd-4ab7-be1b-ff00ac379026",
   "metadata": {
    "tags": []
   },
   "source": [
    "### Función `zip()`\n",
    "Se utiliza para combinar dos o más secuencias en una secuencia de tuplas.\n",
    "\n",
    "```python\n",
    "zip(iterable_1, iterable_2, ..., iterable_n)\n",
    "```\n",
    "\n",
    "La función `zip()`:\n",
    "\n",
    "- Toma elementos de cada iterable dado y los **empareja en tuplas**\n",
    "- Retorna un objeto `zip`, que es iterable\n",
    "- En cada iteración produce una tupla que contiene el elemento correspondiente de cada secuencia."
   ]
  },
  {
   "cell_type": "markdown",
   "id": "5724299f-e3cf-486c-be81-404748139615",
   "metadata": {},
   "source": [
    "**Ejemplo**. Edades y nombres."
   ]
  },
  {
   "cell_type": "code",
   "execution_count": 10,
   "id": "536f8e65-0c6a-4fec-8546-f134e3f16755",
   "metadata": {},
   "outputs": [
    {
     "data": {
      "text/plain": [
       "zip"
      ]
     },
     "execution_count": 10,
     "metadata": {},
     "output_type": "execute_result"
    }
   ],
   "source": [
    "nombres = [\"Juan\", \"María\", \"Pedro\"]\n",
    "edades = [30, 25, 35]\n",
    "# combinamos con función zip()\n",
    "objeto_zip = zip(nombres, edades)\n",
    "type(objeto_zip)"
   ]
  },
  {
   "cell_type": "markdown",
   "id": "3c4cecfc-ee8e-4174-8326-994cb4833193",
   "metadata": {},
   "source": [
    "Pero `zip` es un iterable, luego se puede usar con el ciclo `for`"
   ]
  },
  {
   "cell_type": "code",
   "execution_count": 11,
   "id": "0d9b04ac-6a6b-46bf-a832-86a0607c2205",
   "metadata": {},
   "outputs": [
    {
     "name": "stdout",
     "output_type": "stream",
     "text": [
      "Juan tiene 30 años\n",
      "María tiene 25 años\n",
      "Pedro tiene 35 años\n"
     ]
    }
   ],
   "source": [
    "for nombre, edad in zip(nombres, edades):\n",
    "    print(f'{nombre} tiene {edad} años')"
   ]
  },
  {
   "cell_type": "markdown",
   "id": "2b5327d0-ea37-4186-88fd-2bb179eafa38",
   "metadata": {},
   "source": [
    "**Explicación**\n",
    "- El objeto `zip` tiene tuplas de la forma: `(nombre_i, edad_i)`\n",
    "- La variable `nombre` toma los primeros elementos de cada tupla\n",
    "- La variable `edad` toma los segundos elementos de cada tupla"
   ]
  },
  {
   "cell_type": "code",
   "execution_count": 12,
   "id": "234a730f-5e7c-4ddb-ae44-13fdecddc41a",
   "metadata": {},
   "outputs": [
    {
     "name": "stdout",
     "output_type": "stream",
     "text": [
      "Juan tiene 30 años\n",
      "María tiene 25 años\n",
      "Pedro tiene 35 años\n"
     ]
    }
   ],
   "source": [
    "# otra manera de pensarlo\n",
    "for tupla_nombre_edad in zip(nombres, edades):\n",
    "    print(f'{tupla_nombre_edad[0]} tiene {tupla_nombre_edad[1]} años')"
   ]
  },
  {
   "cell_type": "markdown",
   "id": "196eea5a-194a-4d40-9ec5-52019503e980",
   "metadata": {},
   "source": [
    "**Ejercicio**. Obtener la suma de los números del `1` al `100`"
   ]
  },
  {
   "cell_type": "code",
   "execution_count": 13,
   "id": "a715133c-afcb-4018-a19c-501598541bd8",
   "metadata": {},
   "outputs": [
    {
     "name": "stdout",
     "output_type": "stream",
     "text": [
      "5050\n"
     ]
    }
   ],
   "source": [
    "# opción 1\n",
    "suma = 0\n",
    "for n in range(1, 101):\n",
    "    suma = suma + n\n",
    "print(suma)"
   ]
  },
  {
   "cell_type": "code",
   "execution_count": 14,
   "id": "3ba692be-30f6-4e54-ae8c-94fa035f8db4",
   "metadata": {},
   "outputs": [
    {
     "data": {
      "text/plain": [
       "5050"
      ]
     },
     "execution_count": 14,
     "metadata": {},
     "output_type": "execute_result"
    }
   ],
   "source": [
    "# opción 2\n",
    "rango = range(1, 101)\n",
    "numeros = list(rango)\n",
    "sum(numeros)"
   ]
  },
  {
   "cell_type": "code",
   "execution_count": 15,
   "id": "7d0ac224-8559-41e6-817f-748a1ab0db47",
   "metadata": {},
   "outputs": [
    {
     "name": "stdout",
     "output_type": "stream",
     "text": [
      "5050.0\n"
     ]
    }
   ],
   "source": [
    "# opción 3\n",
    "n = 100\n",
    "suma = n * (n+1) / 2\n",
    "print(suma)"
   ]
  },
  {
   "cell_type": "markdown",
   "id": "f8d83595-f533-40e8-9eae-c8f6d15225dc",
   "metadata": {
    "tags": []
   },
   "source": [
    "## Incrementos\n",
    "Es muy usual que para incrementar una variable se haga uso de la sintaxis\n",
    "\n",
    "```python\n",
    "variable = variable + incremento\n",
    "```\n",
    "\n",
    "En Python, esto se puede simplificar con la siguiente notación:\n",
    "\n",
    "```python\n",
    "variable += incremento\n",
    "```"
   ]
  },
  {
   "cell_type": "code",
   "execution_count": 16,
   "id": "fcd9727e-3cbb-44b5-8510-c04572dbb6cd",
   "metadata": {},
   "outputs": [
    {
     "data": {
      "text/plain": [
       "15"
      ]
     },
     "execution_count": 16,
     "metadata": {},
     "output_type": "execute_result"
    }
   ],
   "source": [
    "numero = 10\n",
    "incremento = 5\n",
    "numero += incremento\n",
    "numero"
   ]
  },
  {
   "cell_type": "markdown",
   "id": "1acc7cfe-66ea-4bc9-9dac-6bd38b7c9438",
   "metadata": {},
   "source": [
    "Además se tienen otro tipo de incrementos correspondientes a los **operadores aritméticos**\n",
    "\n",
    "| Incremento | Sintaxis | Equivalencia |\n",
    "|:-----------|:--------:|:------------:|\n",
    "| Suma | `variable += incremento` | `variable = variable + incremento` |\n",
    "| Resta | `variable -= incremento` | `variable = variable - incremento` |\n",
    "| Multiplicación | `variable *= incremento` | `variable = variable * incremento` |\n",
    "| División | `variable /= incremento` | `variable = variable / incremento` |"
   ]
  },
  {
   "cell_type": "code",
   "execution_count": 17,
   "id": "a577487b-0073-442e-81b7-5664f8f81d59",
   "metadata": {},
   "outputs": [
    {
     "data": {
      "text/plain": [
       "15"
      ]
     },
     "execution_count": 17,
     "metadata": {},
     "output_type": "execute_result"
    }
   ],
   "source": [
    "numero"
   ]
  },
  {
   "cell_type": "code",
   "execution_count": 18,
   "id": "4c9141f3-8432-406c-8a27-5dceaf3eec5e",
   "metadata": {},
   "outputs": [
    {
     "data": {
      "text/plain": [
       "10"
      ]
     },
     "execution_count": 18,
     "metadata": {},
     "output_type": "execute_result"
    }
   ],
   "source": [
    "# resta\n",
    "numero -= incremento\n",
    "numero"
   ]
  },
  {
   "cell_type": "code",
   "execution_count": 19,
   "id": "91a8196b-40ae-4ab5-bc38-28058fcccfa6",
   "metadata": {},
   "outputs": [
    {
     "data": {
      "text/plain": [
       "50"
      ]
     },
     "execution_count": 19,
     "metadata": {},
     "output_type": "execute_result"
    }
   ],
   "source": [
    "# multiplicación\n",
    "numero *= incremento\n",
    "numero"
   ]
  },
  {
   "cell_type": "code",
   "execution_count": 20,
   "id": "85f7ce13-64b5-4e62-b9fb-c8dee95b27b3",
   "metadata": {},
   "outputs": [
    {
     "data": {
      "text/plain": [
       "10.0"
      ]
     },
     "execution_count": 20,
     "metadata": {},
     "output_type": "execute_result"
    }
   ],
   "source": [
    "# división\n",
    "numero /= incremento\n",
    "numero"
   ]
  },
  {
   "cell_type": "markdown",
   "id": "fe45b904-0a85-412d-9ce6-dbcdc5f7c4f5",
   "metadata": {
    "tags": []
   },
   "source": [
    "# Ejercicios.\n",
    "## Vectores\n",
    "Caracterizar las operaciones vectoriales:\n",
    "1. Suma\n",
    "2. Resta\n",
    "3. Producto punto\n",
    "\n",
    "Para los vectores $\\mathbb{v_1}, \\mathbb{v_2}\\in\\mathbb{R}^3$ "
   ]
  },
  {
   "cell_type": "code",
   "execution_count": 21,
   "id": "8d7c6b57-eb28-4c96-8af4-4a278846d1ea",
   "metadata": {},
   "outputs": [
    {
     "data": {
      "text/latex": [
       "Sean $\\mathbb{u}, \\mathbb{v}\\in\\mathbb{R}^3$ definidos como\n",
       "\n",
       "$$\\mathbb{u}:=(u_1, u_2, u_3)$$\n",
       "$$\\mathbb{v}:=(v_1, v_2, v_3)$$\n",
       "\n",
       "Luego,\n",
       "\n",
       "La operación Suma, $+:\\mathbb{R}^3\\rightarrow \\mathbb{R}^3$\n",
       "$$\\mathbb{u} + \\mathbb{v} = (u_1, u_2, u_3) + (v_1, v_2, v_3)= (u_1 + v_1, u_2 + v_2, u_3 + v_3)$$\n",
       "La operación Resta, $-:\\mathbb{R}^3\\rightarrow \\mathbb{R}^3$\n",
       "$$\\mathbb{u} - \\mathbb{v} = (u_1, u_2, u_3) - (v_1, v_2, v_3)= (u_1 - v_1, u_2 - v_2, u_3 - v_3)$$\n",
       "La operación Producto punto, $\\cdot:\\mathbb{R}^3\\rightarrow \\mathbb{R}$\n",
       "$$\\mathbb{u}\\cdot\\mathbb{v} = (u_1, u_2, u_3) \\cdot (v_1, v_2, v_3) = u_1 \\cdot v_1 + u_2 \\cdot v_2 + u_3 \\cdot v_3$$\n"
      ],
      "text/plain": [
       "<IPython.core.display.Latex object>"
      ]
     },
     "metadata": {},
     "output_type": "display_data"
    }
   ],
   "source": [
    "%%latex\n",
    "Sean $\\mathbb{u}, \\mathbb{v}\\in\\mathbb{R}^3$ definidos como\n",
    "\n",
    "$$\\mathbb{u}:=(u_1, u_2, u_3)$$\n",
    "$$\\mathbb{v}:=(v_1, v_2, v_3)$$\n",
    "\n",
    "Luego,\n",
    "\n",
    "La operación Suma, $+:\\mathbb{R}^3\\rightarrow \\mathbb{R}^3$\n",
    "$$\\mathbb{u} + \\mathbb{v} = (u_1, u_2, u_3) + (v_1, v_2, v_3)= (u_1 + v_1, u_2 + v_2, u_3 + v_3)$$\n",
    "La operación Resta, $-:\\mathbb{R}^3\\rightarrow \\mathbb{R}^3$\n",
    "$$\\mathbb{u} - \\mathbb{v} = (u_1, u_2, u_3) - (v_1, v_2, v_3)= (u_1 - v_1, u_2 - v_2, u_3 - v_3)$$\n",
    "La operación Producto punto, $\\cdot:\\mathbb{R}^3\\rightarrow \\mathbb{R}$\n",
    "$$\\mathbb{u}\\cdot\\mathbb{v} = (u_1, u_2, u_3) \\cdot (v_1, v_2, v_3) = u_1 \\cdot v_1 + u_2 \\cdot v_2 + u_3 \\cdot v_3$$"
   ]
  },
  {
   "cell_type": "markdown",
   "id": "745a02c0-ff10-4400-afd6-dc5ceb2a1f09",
   "metadata": {},
   "source": [
    "Ejemplo: Si `u = (1,2,3)` y `v = (-3,0,4)`\n",
    "\n",
    "1. Suma: `(-2, 2, 7)`\n",
    "2. Resta: `(4, 2, -1)`\n",
    "3. Producto punto: `9`"
   ]
  },
  {
   "cell_type": "code",
   "execution_count": 22,
   "id": "03d1a6e7-1e2e-4f6e-ad70-dfddeda52165",
   "metadata": {},
   "outputs": [],
   "source": [
    "# definir los vectores\n",
    "u = (1, 2, 3)\n",
    "v = (-3 ,0, 4)"
   ]
  },
  {
   "cell_type": "code",
   "execution_count": 23,
   "id": "2170d5e4-1a3f-45dc-af82-a128f1feb8a1",
   "metadata": {},
   "outputs": [
    {
     "name": "stdout",
     "output_type": "stream",
     "text": [
      "El vector resultantes es: (-2, 2, 7)\n"
     ]
    }
   ],
   "source": [
    "# suma\n",
    "vector_suma = []\n",
    "for ui, vi in zip(u, v):\n",
    "    vector_suma.append(ui + vi)\n",
    "print(\"El vector resultantes es:\", tuple(vector_suma))"
   ]
  },
  {
   "cell_type": "code",
   "execution_count": 24,
   "id": "f59ed09c-a9e3-480b-9e98-50ff651c7ae4",
   "metadata": {},
   "outputs": [
    {
     "name": "stdout",
     "output_type": "stream",
     "text": [
      "El vector resultantes es: (4, 2, -1)\n"
     ]
    }
   ],
   "source": [
    "# suma\n",
    "vector_resta = []\n",
    "for ui, vi in zip(u, v):\n",
    "    vector_resta.append(ui - vi)\n",
    "print(\"El vector resultantes es:\", tuple(vector_resta))"
   ]
  },
  {
   "cell_type": "code",
   "execution_count": 25,
   "id": "31729fa0-05e4-48c4-b67c-d2744f304837",
   "metadata": {},
   "outputs": [
    {
     "name": "stdout",
     "output_type": "stream",
     "text": [
      "El producto punto es: 9\n"
     ]
    }
   ],
   "source": [
    "# producto punto\n",
    "producto_punto = 0\n",
    "for ui, vi in zip(u, v):\n",
    "    producto_punto += ui * vi\n",
    "print(\"El producto punto es:\", producto_punto)"
   ]
  },
  {
   "cell_type": "markdown",
   "id": "644daffd-451a-4e12-ae6e-fe623cc83c3e",
   "metadata": {},
   "source": [
    "## Manipulando cadenas de texto\n",
    "A continuación se deja un listado de los principales métodos para los objetos `str`\n",
    "\n",
    "| Método         | Descripción                                                                       |\n",
    "| -------------- | --------------------------------------------------------------------------------- |\n",
    "| `capitalize()` | Convierte el primer carácter de la cadena en mayúscula y el resto en minúsculas.  |\n",
    "| `upper()`      | Convierte todos los caracteres de la cadena a mayúsculas.                         |\n",
    "| `lower()`      | Convierte todos los caracteres de la cadena a minúsculas.                         |\n",
    "| `title()`      | Convierte el primer carácter de cada palabra a mayúscula y el resto a minúsculas. |\n",
    "| `strip()`      | Elimina los espacios en blanco al principio y al final de la cadena.              |\n",
    "| `lstrip()`     | Elimina los espacios en blanco al principio de la cadena.                         |\n",
    "| `rstrip()`     | Elimina los espacios en blanco al final de la cadena.                             |\n",
    "| `replace()`    | Reemplaza una subcadena especificada por otra subcadena.                          |\n",
    "| `split()`      | Divide la cadena en una lista de cadenas según un delimitador.                    |\n",
    "| `count()`      | Cuenta cuántas veces aparece una subcadena en la cadena.                          |\n",
    "| `startswith()` | Comprueba si la cadena comienza con una subcadena específica.                     |\n",
    "| `endswith()`   | Comprueba si la cadena termina con una subcadena específica.                      |"
   ]
  },
  {
   "cell_type": "code",
   "execution_count": 26,
   "id": "b1f7fdd5-3a89-4ae1-a6bb-f14b213fdca1",
   "metadata": {
    "jupyter": {
     "source_hidden": true
    },
    "tags": []
   },
   "outputs": [
    {
     "name": "stdout",
     "output_type": "stream",
     "text": [
      "----------------------------------------\n",
      "Ejemplo: método capitalize()\n",
      "Cadena original: hola mundo\n",
      "Cadena cambiada: Hola mundo\n",
      "----------------------------------------\n",
      "Ejemplo: método upper()\n",
      "Cadena original: hola mundo\n",
      "Cadena cambiada: HOLA MUNDO\n",
      "----------------------------------------\n",
      "Ejemplo: método lower()\n",
      "Cadena original: Hola Mundo\n",
      "Cadena cambiada: hola mundo\n",
      "----------------------------------------\n",
      "Ejemplo: método title()\n",
      "Cadena original: hola mundo\n",
      "Cadena cambiada: Hola Mundo\n",
      "----------------------------------------\n",
      "Ejemplo: método strip()\n",
      "Cadena original:   hola mundo  \n",
      "Cadena cambiada: hola mundo\n",
      "----------------------------------------\n",
      "Ejemplo: método lstrip()\n",
      "Cadena original:   hola mundo\n",
      "Cadena cambiada: hola mundo\n",
      "----------------------------------------\n",
      "Ejemplo: método rstrip()\n",
      "Cadena original: hola mundo  \n",
      "Cadena cambiada: hola mundo\n",
      "----------------------------------------\n",
      "Ejemplo: método replace()\n",
      "Cadena original: hola mundo\n",
      "Cadena cambiada: adiós mundo\n",
      "----------------------------------------\n",
      "Ejemplo: método split()\n",
      "Cadena original: hola mundo\n",
      "Cadena cambiada: ['hola', 'mundo']\n",
      "----------------------------------------\n",
      "Ejemplo: método count()\n",
      "Cadena original: hola mundo\n",
      "Cadena cambiada: 2\n",
      "----------------------------------------\n",
      "Ejemplo: método startswith()\n",
      "Cadena original: ~$hola mundo\n",
      "Cadena cambiada: True\n",
      "----------------------------------------\n",
      "Ejemplo: método endswith()\n",
      "Cadena original: hola mundo.xlsx\n",
      "Cadena cambiada: True\n"
     ]
    }
   ],
   "source": [
    "# capitalize()\n",
    "print(40*'-')\n",
    "texto = \"hola mundo\"\n",
    "print('Ejemplo: método capitalize()')\n",
    "print(f'Cadena original: {texto}')\n",
    "print(f'Cadena cambiada: {texto.capitalize()}')\n",
    "\n",
    "# upper()\n",
    "print(40*'-')\n",
    "texto = \"hola mundo\"\n",
    "print('Ejemplo: método upper()')\n",
    "print(f'Cadena original: {texto}')\n",
    "print(f'Cadena cambiada: {texto.upper()}')\n",
    "\n",
    "# lower()\n",
    "print(40*'-')\n",
    "texto = \"Hola Mundo\"\n",
    "print('Ejemplo: método lower()')\n",
    "print(f'Cadena original: {texto}')\n",
    "print(f'Cadena cambiada: {texto.lower()}')\n",
    "\n",
    "# title()\n",
    "print(40*'-')\n",
    "texto = \"hola mundo\"\n",
    "print('Ejemplo: método title()')\n",
    "print(f'Cadena original: {texto}')\n",
    "print(f'Cadena cambiada: {texto.title()}')\n",
    "\n",
    "# strip()\n",
    "print(40*'-')\n",
    "texto = \"  hola mundo  \"\n",
    "print('Ejemplo: método strip()')\n",
    "print(f'Cadena original: {texto}')\n",
    "print(f'Cadena cambiada: {texto.strip()}')\n",
    "\n",
    "# lstrip()\n",
    "print(40*'-')\n",
    "texto = \"  hola mundo\"\n",
    "print('Ejemplo: método lstrip()')\n",
    "print(f'Cadena original: {texto}')\n",
    "print(f'Cadena cambiada: {texto.lstrip()}')\n",
    "\n",
    "# rstrip()\n",
    "print(40*'-')\n",
    "texto = \"hola mundo  \"\n",
    "print('Ejemplo: método rstrip()')\n",
    "print(f'Cadena original: {texto}')\n",
    "print(f'Cadena cambiada: {texto.rstrip()}')\n",
    "\n",
    "# replace()\n",
    "print(40*'-')\n",
    "texto = \"hola mundo\"\n",
    "print('Ejemplo: método replace()')\n",
    "print(f'Cadena original: {texto}')\n",
    "print(f'Cadena cambiada: {texto.replace(\"hola\", \"adiós\")}')\n",
    "\n",
    "# split()\n",
    "print(40*'-')\n",
    "texto = \"hola mundo\"\n",
    "print('Ejemplo: método split()')\n",
    "print(f'Cadena original: {texto}')\n",
    "print(f'Cadena cambiada: {texto.split()}')\n",
    "\n",
    "# count()\n",
    "print(40*'-')\n",
    "texto = \"hola mundo\"\n",
    "print('Ejemplo: método count()')\n",
    "print(f'Cadena original: {texto}')\n",
    "print(f'Cadena cambiada: {texto.count(\"o\")}')\n",
    "\n",
    "# startswith()\n",
    "print(40*'-')\n",
    "texto = \"~$hola mundo\"\n",
    "print('Ejemplo: método startswith()')\n",
    "print(f'Cadena original: {texto}')\n",
    "print(f'Cadena cambiada: {texto.startswith(\"~$\")}')\n",
    "\n",
    "# endswith()\n",
    "print(40*'-')\n",
    "texto = \"hola mundo.xlsx\"\n",
    "print('Ejemplo: método endswith()')\n",
    "print(f'Cadena original: {texto}')\n",
    "print(f'Cadena cambiada: {texto.endswith(\".xlsx\")}')"
   ]
  },
  {
   "cell_type": "markdown",
   "id": "b006f28e-d60b-4399-a481-8a667803b12c",
   "metadata": {},
   "source": [
    "### Ejercicio\n",
    "Dar el formato adecuado a las siguientes listas:\n",
    "\n",
    "```python\n",
    "nombres = ['beto', 'alejandro', 'silvia', 'clara']\n",
    "nombres_completos = ['beto hernández flores', 'alejandro lópez pérez', 'silvia saldívar', 'clara blanco medina']\n",
    "nombres_capturados = [' beto hernández flores', 'alejandro lópez pérez   ', 'silvia saldívar', 'CLARA BLANCO MEDINA']\n",
    "```"
   ]
  },
  {
   "cell_type": "code",
   "execution_count": 27,
   "id": "340d83a7-87b2-4a44-9b31-178b7e7cda49",
   "metadata": {},
   "outputs": [
    {
     "name": "stdout",
     "output_type": "stream",
     "text": [
      "Beto\n",
      "Alejandro\n",
      "Silvia\n",
      "Clara\n"
     ]
    }
   ],
   "source": [
    "nombres = ['beto', 'alejandro', 'silvia', 'clara']\n",
    "for nombre in nombres:\n",
    "    print(nombre.capitalize())"
   ]
  },
  {
   "cell_type": "code",
   "execution_count": 28,
   "id": "2c585d65-d94e-41e0-95a0-9461bc2b36bc",
   "metadata": {},
   "outputs": [
    {
     "name": "stdout",
     "output_type": "stream",
     "text": [
      "Beto Hernández Flores\n",
      "Alejandro López Pérez\n",
      "Silvia Saldívar\n",
      "Clara Blanco Medina\n"
     ]
    }
   ],
   "source": [
    "nombres_completos = ['beto hernández flores', 'alejandro lópez pérez', 'silvia saldívar', 'clara blanco medina']\n",
    "for nombre_completo in nombres_completos:\n",
    "    print(nombre_completo.title())"
   ]
  },
  {
   "cell_type": "code",
   "execution_count": 29,
   "id": "f8414c4b-4923-4e22-866c-db580ff77078",
   "metadata": {},
   "outputs": [
    {
     "name": "stdout",
     "output_type": "stream",
     "text": [
      "Beto Hernández Flores\n",
      "Alejandro López Pérez\n",
      "Silvia Saldívar\n",
      "Clara Blanco Medina\n"
     ]
    }
   ],
   "source": [
    "nombres_capturados = [' beto hernández flores', 'alejandro lópez pérez   ', 'silvia saldívar', 'CLARA BLANCO MEDINA']\n",
    "for nombre_capturado in nombres_capturados:\n",
    "    nombre_corregido = nombre_capturado.lstrip().rstrip().title()\n",
    "    print(nombre_corregido)"
   ]
  },
  {
   "cell_type": "markdown",
   "id": "c7ae18e3-e47d-4788-9799-5326ba071902",
   "metadata": {},
   "source": [
    "**Nota**. No estamos cambiando las listas originales."
   ]
  },
  {
   "cell_type": "code",
   "execution_count": 30,
   "id": "57e80df6-2c08-422b-8b00-08a0b1abe62c",
   "metadata": {},
   "outputs": [
    {
     "data": {
      "text/plain": [
       "[' beto hernández flores',\n",
       " 'alejandro lópez pérez   ',\n",
       " 'silvia saldívar',\n",
       " 'CLARA BLANCO MEDINA']"
      ]
     },
     "execution_count": 30,
     "metadata": {},
     "output_type": "execute_result"
    }
   ],
   "source": [
    "nombres_capturados"
   ]
  },
  {
   "cell_type": "markdown",
   "id": "46c2b2d9-ccc6-4fc4-8fc7-5124e751d4b1",
   "metadata": {},
   "source": [
    "## Ciclo `while`\n",
    "Es una estructura de control que permite ejecutar repetidamente un bloque de código *mientras* se cumpla una condición. Es decir, el ciclo continuará su ejecución hasta que la condición evaluada resulte en `False`. Esto lo convierte en una herramienta muy útil para realizar tareas repetitivas, especialmente cuando <u>no se conoce de antemano el número de iteraciones</u> necesarias.\n",
    "\n",
    "**Sintaxis**\n",
    "\n",
    "```python\n",
    "while condicion:\n",
    "    # Bloque de código a ejecutar\n",
    "```\n",
    "\n",
    "Donde `condicion` es una expresión que el ciclo evalúa antes de cada iteración\n",
    "\n",
    "- Si la condición es verdadera (`condicion = True`), el bloque de código dentro del ciclo se ejecuta\n",
    "- Después de cada ejecución, la condición se evalúa nuevamente\n",
    "- Cuando la condición se convierte en falsa (`condicion = False`), el ciclo termina y el programa continúa con cualquier código que siga después del bloque `while`"
   ]
  },
  {
   "cell_type": "markdown",
   "id": "cd7cc3ef-a7fb-4797-b618-9b7d9e9049dd",
   "metadata": {},
   "source": [
    "### Ejemplos\n",
    "1. Obtener la suma de los números del `1` al `100`\n",
    "2. Solicita al usuario que ingrese números de manera indefinida hasta que ingrese el número `0`. Al final, muestra la suma de todos los números ingresados.\n",
    "3. Emula un ciclo `do-while` con el ejercicio anterior"
   ]
  },
  {
   "cell_type": "code",
   "execution_count": 31,
   "id": "9cf77fad-c32f-4c95-bf8d-56be68836dea",
   "metadata": {},
   "outputs": [
    {
     "name": "stdout",
     "output_type": "stream",
     "text": [
      "5050\n"
     ]
    }
   ],
   "source": [
    "# ejemplo 1\n",
    "suma, contador = 0, 1\n",
    "while contador <= 100:\n",
    "    suma += contador\n",
    "    contador += 1\n",
    "print(suma)"
   ]
  },
  {
   "cell_type": "code",
   "execution_count": 32,
   "id": "36de567c-93f6-48b6-bf24-a0d933f86ef1",
   "metadata": {},
   "outputs": [
    {
     "name": "stdin",
     "output_type": "stream",
     "text": [
      "Introduce un número:  1\n",
      "Introduce un número:  9\n",
      "Introduce un número:  8\n",
      "Introduce un número:  0\n"
     ]
    },
    {
     "name": "stdout",
     "output_type": "stream",
     "text": [
      "18.0\n"
     ]
    }
   ],
   "source": [
    "# ejemplo 2\n",
    "n = float(input('Introduce un número: '))\n",
    "intentos = []\n",
    "while n != 0:\n",
    "    intentos.append(n)\n",
    "    n = float(input('Introduce un número: '))\n",
    "print(sum(intentos))"
   ]
  },
  {
   "cell_type": "code",
   "execution_count": 33,
   "id": "9d425f59-300e-427b-b283-69b51c57217b",
   "metadata": {
    "tags": []
   },
   "outputs": [
    {
     "name": "stdin",
     "output_type": "stream",
     "text": [
      "Introduce un número:  1\n",
      "Introduce un número:  9\n",
      "Introduce un número:  8\n",
      "Introduce un número:  0\n"
     ]
    },
    {
     "name": "stdout",
     "output_type": "stream",
     "text": [
      "18.0\n"
     ]
    }
   ],
   "source": [
    "# ejemplo 3\n",
    "n = 1 # siempre 1 != 0\n",
    "intentos = []\n",
    "while n != 0:\n",
    "    n = float(input('Introduce un número: '))\n",
    "    intentos.append(n)\n",
    "print(sum(intentos))"
   ]
  },
  {
   "cell_type": "markdown",
   "id": "e37dce14-cbab-4be6-b634-02cfe1484ddf",
   "metadata": {
    "tags": []
   },
   "source": [
    "# Ejercicios\n",
    "1. Ingresos vs Gastos\n",
    "    - Pedirle al usuario su ingreso en pesos\n",
    "    - Preguntarle por sus gastos tomando en consideración:\n",
    "        - No hayan superado sus ingresos. En ese caso poner el mensaje: `\"Te acabaste tus ingresos, debes xxx pesos\"`\n",
    "        - Si el usuario ya no quiere reportar más gastos. En ese caso poner el mensaje: `\"Tu saldo es de xxx pesos\"`\n",
    "2. Promedio de calificaciones\n",
    "    - Pedirle al usuario cuántas calificaciones desea introducir\n",
    "    - Darle el promedio de las calificaciones dadas"
   ]
  },
  {
   "cell_type": "markdown",
   "id": "0a9faa8c-33c5-46ee-a57a-06a0cc38e086",
   "metadata": {},
   "source": [
    "# Funciones\n",
    "Las funciones en programación permiten organizar código de manera más eficiente, <u>evitando repeticiones</u> lo que resulta en un código **más legible** y **mantenible**. "
   ]
  },
  {
   "cell_type": "markdown",
   "id": "1ad42297-337d-49c6-a1eb-40e7c7a13c24",
   "metadata": {},
   "source": [
    "## Definición. \n",
    "Una función es un **bloque de código** que se **ejecuta** cuando es **llamado**. \n",
    "\n",
    "Las funciones pueden:\n",
    "- Recibir datos (parámetros)\n",
    "- Procesar esos datos\n",
    "- Si se desea, devolver un resultado\n",
    "\n",
    "En Python, puedes definir tus propias funciones usando la palabra clave `def`"
   ]
  },
  {
   "cell_type": "markdown",
   "id": "9d6e8c15-1a27-4d2e-8ae7-68e7daa961a0",
   "metadata": {},
   "source": [
    "**Sintaxis**\n",
    "\n",
    "```python\n",
    "def nombre_de_la_funcion(parametros):\n",
    "    \"\"\" docstring \"\"\"\n",
    "    # Cuerpo de la función\n",
    "    return resultado\n",
    "```\n",
    "\n",
    "donde:\n",
    "\n",
    "- `nombre_de_la_funcion`: nombre <u>identificador</u> con el que se llama a la función (como con las variables)\n",
    "- `# Cuerpo de la función`: el <u>conjunto de instrucciones que se ejecutan</u> cada vez que se llama a la función\n",
    "- `parametros` (**opcional**): lista de parámetros que recibe la función. Los parámetros son opcionales; una función puede no recibir ningún parámetro.\n",
    "- `\"\"\"docstring\"\"\"` (**opcional**): un string opcional que puede contener la descripción/documentación de la función. Es lo que se muestra al consultar la ayuda de la función con `help(nombre_de_la_funcion)`.\n",
    "- `return` (**opcional**): palabra clave que termina la función y opcionalmente pasa un valor de vuelta al llamador."
   ]
  },
  {
   "cell_type": "markdown",
   "id": "20cce00d-d943-48fb-a714-bca6f1b2b408",
   "metadata": {},
   "source": [
    "## Funciones sin parámetros\n",
    "### Sin valor de retorno"
   ]
  },
  {
   "cell_type": "code",
   "execution_count": 34,
   "id": "f6498d4c-276b-4ee9-a848-88569f07c20b",
   "metadata": {},
   "outputs": [],
   "source": [
    "def saludar():\n",
    "    \"\"\" imprime la cadena de texto: '¡Hola! Espero te encuentres bien.' \"\"\"\n",
    "    print('¡Hola! Espero te encuentres bien.')"
   ]
  },
  {
   "cell_type": "code",
   "execution_count": 35,
   "id": "0dc91708-c2e2-4ea2-8604-b030bc0d84de",
   "metadata": {},
   "outputs": [
    {
     "name": "stdout",
     "output_type": "stream",
     "text": [
      "¡Hola! Espero te encuentres bien.\n"
     ]
    }
   ],
   "source": [
    "saludar()"
   ]
  },
  {
   "cell_type": "markdown",
   "id": "3628540d-dc6b-4260-9450-066527d6c251",
   "metadata": {},
   "source": [
    "Observa para qué nos sirve el `docstrings`"
   ]
  },
  {
   "cell_type": "code",
   "execution_count": 36,
   "id": "bee52d6a-3b21-4a90-9942-1dd3f5e7c5d2",
   "metadata": {},
   "outputs": [
    {
     "name": "stdout",
     "output_type": "stream",
     "text": [
      "Help on function saludar in module __main__:\n",
      "\n",
      "saludar()\n",
      "    imprime la cadena de texto: '¡Hola! Espero te encuentres bien.'\n",
      "\n"
     ]
    }
   ],
   "source": [
    "help(saludar)"
   ]
  },
  {
   "cell_type": "code",
   "execution_count": 37,
   "id": "e6a55eef-2012-4762-98a0-dc109cbafe24",
   "metadata": {},
   "outputs": [
    {
     "data": {
      "text/plain": [
       "\u001b[1;31mSignature:\u001b[0m \u001b[0msaludar\u001b[0m\u001b[1;33m(\u001b[0m\u001b[1;33m)\u001b[0m\u001b[1;33m\u001b[0m\u001b[1;33m\u001b[0m\u001b[0m\n",
       "\u001b[1;31mDocstring:\u001b[0m imprime la cadena de texto: '¡Hola! Espero te encuentres bien.' \n",
       "\u001b[1;31mFile:\u001b[0m      c:\\users\\ed_22\\appdata\\local\\temp\\ipykernel_26324\\885132403.py\n",
       "\u001b[1;31mType:\u001b[0m      function\n"
      ]
     },
     "metadata": {},
     "output_type": "display_data"
    }
   ],
   "source": [
    "saludar?"
   ]
  },
  {
   "cell_type": "code",
   "execution_count": 38,
   "id": "6f3da68e-2817-4cba-9c1b-9bbba4c1f938",
   "metadata": {},
   "outputs": [],
   "source": [
    "def despedirse():\n",
    "    \"\"\" imprime la cadena de texto 'Que tengas un buen día.' \"\"\"\n",
    "    print('Que tengas un buen día.')"
   ]
  },
  {
   "cell_type": "code",
   "execution_count": 39,
   "id": "beefb339-a693-4c7b-a17d-8d1621e240d1",
   "metadata": {},
   "outputs": [
    {
     "name": "stdout",
     "output_type": "stream",
     "text": [
      "Que tengas un buen día.\n"
     ]
    }
   ],
   "source": [
    "despedirse()"
   ]
  },
  {
   "cell_type": "markdown",
   "id": "0bc532de-3423-4b57-a1a0-3352500b28fe",
   "metadata": {},
   "source": [
    "### Con valor de retorno"
   ]
  },
  {
   "cell_type": "code",
   "execution_count": 40,
   "id": "01d619ae-c828-4e86-938f-68b67beb01ef",
   "metadata": {},
   "outputs": [],
   "source": [
    "def retornar_saludo():\n",
    "    \"\"\" devuelve la cadena de texto: '¡Hola! Espero te encuentres bien.' \"\"\"\n",
    "    return '¡Hola! Espero te encuentres bien.'"
   ]
  },
  {
   "cell_type": "code",
   "execution_count": 41,
   "id": "5be3e68a-0086-46e3-bc4c-70f106b0f9ed",
   "metadata": {},
   "outputs": [
    {
     "data": {
      "text/plain": [
       "'¡Hola! Espero te encuentres bien.'"
      ]
     },
     "execution_count": 41,
     "metadata": {},
     "output_type": "execute_result"
    }
   ],
   "source": [
    "retornar_saludo()"
   ]
  },
  {
   "cell_type": "markdown",
   "id": "822950a7-c26c-4519-95cd-88dcd1701c13",
   "metadata": {},
   "source": [
    "Parece que no hay una diferencia entre retornar o no retornar un valor, pero examinemos a mayor detalle."
   ]
  },
  {
   "cell_type": "code",
   "execution_count": 42,
   "id": "da5dab59-a651-4757-84ed-a034af505ea6",
   "metadata": {},
   "outputs": [
    {
     "name": "stdout",
     "output_type": "stream",
     "text": [
      "Otras instrucciones\n"
     ]
    }
   ],
   "source": [
    "retornar_saludo()\n",
    "print('Otras instrucciones')"
   ]
  },
  {
   "cell_type": "code",
   "execution_count": 43,
   "id": "1333ef7e-ac09-4f8a-aec5-94dc219a7517",
   "metadata": {},
   "outputs": [
    {
     "name": "stdout",
     "output_type": "stream",
     "text": [
      "¡Hola! Espero te encuentres bien.\n",
      "Otras instrucciones\n"
     ]
    }
   ],
   "source": [
    "saludo = retornar_saludo()\n",
    "print(saludo)\n",
    "print('Otras instrucciones')"
   ]
  },
  {
   "cell_type": "markdown",
   "id": "e8787fdc-a33e-4d6a-ad3e-e4ad4b12e4cf",
   "metadata": {},
   "source": [
    "### Con múltiples valores de retorno\n",
    "Cuando una función tiene múltiples valores de retorno, los devuelve como una **tupla**."
   ]
  },
  {
   "cell_type": "code",
   "execution_count": 44,
   "id": "214b7356-52e4-4dad-a208-9c0f040239b1",
   "metadata": {},
   "outputs": [],
   "source": [
    "def multiples_retornos():\n",
    "    \"\"\" devuelve 3 tipos de datos diferentes \"\"\"\n",
    "    return True, 'Hola Mundo', list(range(5))"
   ]
  },
  {
   "cell_type": "code",
   "execution_count": 45,
   "id": "dddac308-139c-4522-8cae-0c40ad00100b",
   "metadata": {},
   "outputs": [
    {
     "data": {
      "text/plain": [
       "tuple"
      ]
     },
     "execution_count": 45,
     "metadata": {},
     "output_type": "execute_result"
    }
   ],
   "source": [
    "x = multiples_retornos()\n",
    "type(x)"
   ]
  },
  {
   "cell_type": "code",
   "execution_count": 46,
   "id": "509a25e8-a898-4b2b-9c4c-1218ace4fa7d",
   "metadata": {},
   "outputs": [
    {
     "data": {
      "text/plain": [
       "True"
      ]
     },
     "execution_count": 46,
     "metadata": {},
     "output_type": "execute_result"
    }
   ],
   "source": [
    "x[0]"
   ]
  },
  {
   "cell_type": "code",
   "execution_count": 47,
   "id": "efe0ad8e-4a7a-4d3d-ad08-57d8a9ae3914",
   "metadata": {},
   "outputs": [
    {
     "data": {
      "text/plain": [
       "'Hola Mundo'"
      ]
     },
     "execution_count": 47,
     "metadata": {},
     "output_type": "execute_result"
    }
   ],
   "source": [
    "x[1]"
   ]
  },
  {
   "cell_type": "code",
   "execution_count": 48,
   "id": "9f714667-a192-490f-99a0-26a5c5e3ce3a",
   "metadata": {},
   "outputs": [
    {
     "data": {
      "text/plain": [
       "4"
      ]
     },
     "execution_count": 48,
     "metadata": {},
     "output_type": "execute_result"
    }
   ],
   "source": [
    "x[2][-1]"
   ]
  },
  {
   "cell_type": "markdown",
   "id": "7fe836dc-bc06-479d-9d27-fb1a00eea33d",
   "metadata": {},
   "source": [
    "Esto da pie a la **asignación múltiple** que resulta ser muy cómoda"
   ]
  },
  {
   "cell_type": "code",
   "execution_count": 49,
   "id": "bf537ded-b3d6-43bf-90ce-61693b6f9497",
   "metadata": {},
   "outputs": [],
   "source": [
    "dato_bool, cadena_texto, lista_numeros = multiples_retornos()"
   ]
  },
  {
   "cell_type": "code",
   "execution_count": 50,
   "id": "625ff4c0-93fe-48cb-922f-2ab3fc2c0c85",
   "metadata": {},
   "outputs": [
    {
     "data": {
      "text/plain": [
       "1"
      ]
     },
     "execution_count": 50,
     "metadata": {},
     "output_type": "execute_result"
    }
   ],
   "source": [
    "lista_numeros[1]"
   ]
  },
  {
   "cell_type": "code",
   "execution_count": 51,
   "id": "539c3a86-3719-42d6-9f37-0fd8f0702f9f",
   "metadata": {},
   "outputs": [
    {
     "data": {
      "text/plain": [
       "True"
      ]
     },
     "execution_count": 51,
     "metadata": {},
     "output_type": "execute_result"
    }
   ],
   "source": [
    "dato_bool"
   ]
  },
  {
   "cell_type": "markdown",
   "id": "fdaf9d29-019d-4109-bad3-f74c4e17a615",
   "metadata": {},
   "source": [
    "## Funciones con parámetros\n",
    "Al igual que las funciones sin parámetros pueden no retonar un valor, retornar un valor o retornar múltiples valores."
   ]
  },
  {
   "cell_type": "code",
   "execution_count": 52,
   "id": "0c2a403e-ac60-4867-b04c-c8aca6bb9739",
   "metadata": {},
   "outputs": [],
   "source": [
    "def saludar_persona(persona):\n",
    "    \"\"\" retorna un saludo a la cadena de texto persona, con un saludo predeterminado \"\"\"\n",
    "    return f'Hola, {persona}.'"
   ]
  },
  {
   "cell_type": "code",
   "execution_count": 53,
   "id": "33430c0f-c933-4552-b120-7898da88e563",
   "metadata": {},
   "outputs": [
    {
     "data": {
      "text/plain": [
       "'Hola, Julio Cortázar.'"
      ]
     },
     "execution_count": 53,
     "metadata": {},
     "output_type": "execute_result"
    }
   ],
   "source": [
    "saludar_persona('Julio Cortázar')"
   ]
  },
  {
   "cell_type": "markdown",
   "id": "bae67204-8e3c-4118-9000-810805e87d7e",
   "metadata": {},
   "source": [
    "### Múltiples parámetros"
   ]
  },
  {
   "cell_type": "code",
   "execution_count": 54,
   "id": "9be4e3cc-7a49-464c-ac13-4a832b3fbe0c",
   "metadata": {},
   "outputs": [],
   "source": [
    "def sumar_numeros(n1, n2):\n",
    "    \"\"\" retorna la suma de n1 y n2 \"\"\"\n",
    "    return n1 + n2"
   ]
  },
  {
   "cell_type": "code",
   "execution_count": 55,
   "id": "a7272dc0-4218-467a-98e9-bc3cdef3e414",
   "metadata": {},
   "outputs": [
    {
     "data": {
      "text/plain": [
       "11"
      ]
     },
     "execution_count": 55,
     "metadata": {},
     "output_type": "execute_result"
    }
   ],
   "source": [
    "sumar_numeros(5, 6)"
   ]
  },
  {
   "cell_type": "markdown",
   "id": "dba6f808-8c13-458d-b192-175736db4187",
   "metadata": {},
   "source": [
    "**Nota**. Los parámetros son <u>posicionales</u> lo que significa que basta que se pongan en el mismo orden en el que están definidos."
   ]
  },
  {
   "cell_type": "code",
   "execution_count": 56,
   "id": "972e59d5-b9eb-45e8-a58d-e406f9edfdd4",
   "metadata": {},
   "outputs": [],
   "source": [
    "def restar_numeros(n1, n2):\n",
    "    \"\"\" retonar la resta de n1 menos n2 \"\"\"\n",
    "    return n1 - n2"
   ]
  },
  {
   "cell_type": "code",
   "execution_count": 57,
   "id": "36ee4197-d94b-42ef-b08a-0a4742d366b2",
   "metadata": {},
   "outputs": [
    {
     "data": {
      "text/plain": [
       "3"
      ]
     },
     "execution_count": 57,
     "metadata": {},
     "output_type": "execute_result"
    }
   ],
   "source": [
    "restar_numeros(4, 1)"
   ]
  },
  {
   "cell_type": "code",
   "execution_count": 58,
   "id": "f70d58d8-5c11-4fce-9eba-7a734fdfc8d1",
   "metadata": {},
   "outputs": [
    {
     "data": {
      "text/plain": [
       "-3"
      ]
     },
     "execution_count": 58,
     "metadata": {},
     "output_type": "execute_result"
    }
   ],
   "source": [
    "restar_numeros(1, 4)"
   ]
  },
  {
   "cell_type": "markdown",
   "id": "3c28c6bc-eb45-4ce0-b260-9b420ac6e37e",
   "metadata": {},
   "source": [
    "Sin embargo, si se especifica el valor del parámetro no importa el orden."
   ]
  },
  {
   "cell_type": "code",
   "execution_count": 59,
   "id": "2cf39eee-4350-4d07-abba-b4ba48f071ad",
   "metadata": {},
   "outputs": [
    {
     "data": {
      "text/plain": [
       "3"
      ]
     },
     "execution_count": 59,
     "metadata": {},
     "output_type": "execute_result"
    }
   ],
   "source": [
    "restar_numeros(n1 = 4, n2 = 1)"
   ]
  },
  {
   "cell_type": "markdown",
   "id": "3915d02b-6fe7-451e-b5fe-fc1b6d1f6ee5",
   "metadata": {},
   "source": [
    "### Parámetros por defecto\n",
    "Se pueden establecer parámetros con cierto valor predefinido."
   ]
  },
  {
   "cell_type": "code",
   "execution_count": 60,
   "id": "f139eee4-dc22-478d-b0d1-54be8b3e0b74",
   "metadata": {},
   "outputs": [],
   "source": [
    "def calcular_con_impuesto(monto, impuesto = 0.16):\n",
    "    \"\"\" retorna el monto más la cantidad del impuesto de sobre la variable monto \"\"\"\n",
    "    extra = impuesto * monto\n",
    "    precio_final = monto + extra\n",
    "    return precio_final"
   ]
  },
  {
   "cell_type": "code",
   "execution_count": 61,
   "id": "ccfbb64e-5763-4706-a38e-604836459e96",
   "metadata": {},
   "outputs": [
    {
     "data": {
      "text/plain": [
       "348.0"
      ]
     },
     "execution_count": 61,
     "metadata": {},
     "output_type": "execute_result"
    }
   ],
   "source": [
    "comida = 300\n",
    "precio_pagar = calcular_con_impuesto(comida)\n",
    "precio_pagar"
   ]
  },
  {
   "cell_type": "code",
   "execution_count": 62,
   "id": "a1b900f4-f46c-459b-b004-633157261f57",
   "metadata": {},
   "outputs": [
    {
     "data": {
      "text/plain": [
       "348.0"
      ]
     },
     "execution_count": 62,
     "metadata": {},
     "output_type": "execute_result"
    }
   ],
   "source": [
    "300 * 1.16"
   ]
  },
  {
   "cell_type": "code",
   "execution_count": 63,
   "id": "fd8bfadf-1dba-49fc-be69-ab4533a6cbf1",
   "metadata": {},
   "outputs": [
    {
     "data": {
      "text/plain": [
       "360.0"
      ]
     },
     "execution_count": 63,
     "metadata": {},
     "output_type": "execute_result"
    }
   ],
   "source": [
    "precio_pagar = calcular_con_impuesto(comida, 0.2)\n",
    "precio_pagar"
   ]
  },
  {
   "cell_type": "markdown",
   "id": "e8092787-43d9-4dca-867e-bcacb68310fe",
   "metadata": {},
   "source": [
    "# Ejercicios\n",
    "1. Crea la función `palindromo()` que recibe por parámetro un `str` y retorna `True` si la cadena es una palindromo.\n",
    "2. Crea la función `unique_elements()` que recibe un objeto lista (`my_list`) y devuelve los valores únicos de la lista. \n",
    "3. Crea la función `factorial()` que recibe un número entero positivo (`number`) y devuelve el cálculo del factorial.\n",
    "\n",
    "**Hint**. El factorial de un número se calcula con la función recursiva\n",
    "\n",
    "$$n!=n(n-1)!$$\n",
    "\n",
    "donde $0!:=1$"
   ]
  },
  {
   "cell_type": "markdown",
   "id": "c312fc23-fe18-419c-b92e-ee372a082737",
   "metadata": {},
   "source": [
    "## Ejercicio 1"
   ]
  },
  {
   "cell_type": "code",
   "execution_count": 64,
   "id": "e4fb4486-95b7-406f-a59d-89e1f727ec4d",
   "metadata": {},
   "outputs": [],
   "source": [
    "def palindromo(texto):\n",
    "    return texto == texto[::-1]"
   ]
  },
  {
   "cell_type": "code",
   "execution_count": 65,
   "id": "9018ab7e-8bdf-4c18-87b7-067b6cd04853",
   "metadata": {},
   "outputs": [
    {
     "data": {
      "text/plain": [
       "True"
      ]
     },
     "execution_count": 65,
     "metadata": {},
     "output_type": "execute_result"
    }
   ],
   "source": [
    "palindromo('anitalavalatina')"
   ]
  },
  {
   "cell_type": "code",
   "execution_count": 66,
   "id": "f69709e4-14c1-4c6c-8d3b-b14a807493cb",
   "metadata": {},
   "outputs": [
    {
     "data": {
      "text/plain": [
       "False"
      ]
     },
     "execution_count": 66,
     "metadata": {},
     "output_type": "execute_result"
    }
   ],
   "source": [
    "palindromo('otro_texto')"
   ]
  },
  {
   "cell_type": "code",
   "execution_count": 67,
   "id": "612d825d-1903-4b01-b074-4fbaa5bb65d0",
   "metadata": {},
   "outputs": [],
   "source": [
    "# ejercicio 2\n",
    "def unique_elements(my_list):\n",
    "    result = []\n",
    "    for element in my_list:\n",
    "        if element not in result:\n",
    "            result.append(element)\n",
    "    return result"
   ]
  },
  {
   "cell_type": "code",
   "execution_count": 68,
   "id": "60a31a62-7647-4430-902c-49ce2b0d1102",
   "metadata": {},
   "outputs": [
    {
     "data": {
      "text/plain": [
       "[1, 2, 3, 4, 5]"
      ]
     },
     "execution_count": 68,
     "metadata": {},
     "output_type": "execute_result"
    }
   ],
   "source": [
    "unique_elements([1,2,3,4,1,2,1,5])"
   ]
  },
  {
   "cell_type": "code",
   "execution_count": 69,
   "id": "97488478-525d-47b1-95b0-c5cf0fef066d",
   "metadata": {},
   "outputs": [],
   "source": [
    "# ejercicio 3, versión 1\n",
    "def factorial(number):\n",
    "    result = 1\n",
    "    for n in range(1, number + 1):\n",
    "        result *= n\n",
    "    return result"
   ]
  },
  {
   "cell_type": "code",
   "execution_count": 70,
   "id": "56ec40de-fb2a-41b5-87da-23d3ab20a892",
   "metadata": {},
   "outputs": [
    {
     "data": {
      "text/plain": [
       "40320"
      ]
     },
     "execution_count": 70,
     "metadata": {},
     "output_type": "execute_result"
    }
   ],
   "source": [
    "factorial(8)"
   ]
  },
  {
   "cell_type": "code",
   "execution_count": 71,
   "id": "bbfd94ad-1902-44e0-870f-5fef6704de3b",
   "metadata": {},
   "outputs": [],
   "source": [
    "# ejercicio 3, versión 2\n",
    "def factorial(number):\n",
    "    if int(number) == number and number > 0:\n",
    "        result = 1\n",
    "        for n in range(1, number + 1):\n",
    "            result *= n\n",
    "        return result\n",
    "    else:\n",
    "        print('Número inválido')"
   ]
  },
  {
   "cell_type": "code",
   "execution_count": 72,
   "id": "5a9c8957-7234-4d05-9319-5534afca48f9",
   "metadata": {},
   "outputs": [
    {
     "data": {
      "text/plain": [
       "120"
      ]
     },
     "execution_count": 72,
     "metadata": {},
     "output_type": "execute_result"
    }
   ],
   "source": [
    "factorial(5)"
   ]
  },
  {
   "cell_type": "code",
   "execution_count": 73,
   "id": "4779fc30-91e6-4bac-a199-9d2e75ef1f9b",
   "metadata": {},
   "outputs": [
    {
     "name": "stdout",
     "output_type": "stream",
     "text": [
      "Número inválido\n"
     ]
    }
   ],
   "source": [
    "factorial(5.5)"
   ]
  },
  {
   "cell_type": "markdown",
   "id": "9f9656cc-69c6-4f54-8e3a-17f39dccbdc6",
   "metadata": {},
   "source": [
    "## Operadores de identidad\n",
    "Se utilizan para verificar si dos variables hacen referencia al mismo objeto en la memoria, es decir, si ambas variables están apuntando al mismo lugar en la memoria\n",
    "\n",
    "| Operador | Descripción |\n",
    "|:--------:|:------------|\n",
    "| `is` | Retorna `True` si ambas variables son el mismo objeto |\n",
    "| `is not` | Retorna `True` si las variables no son el mismo objeto |"
   ]
  },
  {
   "cell_type": "code",
   "execution_count": 74,
   "id": "517b1840-e17a-4a6f-9377-e18b7271f1c2",
   "metadata": {},
   "outputs": [],
   "source": [
    "# creamos obj1\n",
    "obj1 = 'Cadena texto'\n",
    "# creamos obj2\n",
    "obj2 = 'Cadena texto'"
   ]
  },
  {
   "cell_type": "markdown",
   "id": "27d5b1ac-5e7e-4262-b5d4-3c326d2978b9",
   "metadata": {},
   "source": [
    "La variable `obj1` hace referencia al espacio de memoria donde se encuentra almacenada `\"Cadena texto\"`\n",
    "\n",
    "La variable `obj2` hace referencia al espacio de memoria donde se encuentra almacenada **otra** `\"Cadena texto\"`"
   ]
  },
  {
   "cell_type": "code",
   "execution_count": 75,
   "id": "356449e5-88ed-45a1-8554-796e3244324d",
   "metadata": {},
   "outputs": [
    {
     "data": {
      "text/plain": [
       "True"
      ]
     },
     "execution_count": 75,
     "metadata": {},
     "output_type": "execute_result"
    }
   ],
   "source": [
    "obj1 == obj2"
   ]
  },
  {
   "cell_type": "markdown",
   "id": "3293833e-65d4-4321-af0f-04bc75a49fcf",
   "metadata": {},
   "source": [
    "`True` porque almacenan la misma información."
   ]
  },
  {
   "cell_type": "code",
   "execution_count": 76,
   "id": "cb623f3c-11f0-4d3c-ba0f-edb72c181072",
   "metadata": {},
   "outputs": [
    {
     "data": {
      "text/plain": [
       "False"
      ]
     },
     "execution_count": 76,
     "metadata": {},
     "output_type": "execute_result"
    }
   ],
   "source": [
    "obj1 is obj2"
   ]
  },
  {
   "cell_type": "markdown",
   "id": "8176b1e0-21e4-4ccb-a075-606ea040e494",
   "metadata": {},
   "source": [
    "`False` porque aunque almacenan la misma información, hacen referencia a dos lugares de memoria."
   ]
  },
  {
   "cell_type": "code",
   "execution_count": 77,
   "id": "9dd1400a-8ded-476b-80c9-4617283207c1",
   "metadata": {},
   "outputs": [],
   "source": [
    "# ejercicio 3, versión 3\n",
    "def factorial(number):\n",
    "    if type(number) is int and number > 0:\n",
    "        result = 1\n",
    "        for n in range(1, number + 1):\n",
    "            result *= n\n",
    "        return result\n",
    "    else:\n",
    "        print('Número inválido')"
   ]
  },
  {
   "cell_type": "code",
   "execution_count": 78,
   "id": "4134b920-4958-4b96-aa45-a4764471f042",
   "metadata": {
    "tags": []
   },
   "outputs": [
    {
     "name": "stdout",
     "output_type": "stream",
     "text": [
      "Número inválido\n"
     ]
    }
   ],
   "source": [
    "factorial(-8)"
   ]
  },
  {
   "cell_type": "code",
   "execution_count": 79,
   "id": "d7409149-7c13-4f27-810f-3276366c226d",
   "metadata": {},
   "outputs": [
    {
     "name": "stdout",
     "output_type": "stream",
     "text": [
      "Número inválido\n"
     ]
    }
   ],
   "source": [
    "factorial(3.9)"
   ]
  },
  {
   "cell_type": "markdown",
   "id": "c59c0a31-ecf4-451a-9b39-462809518133",
   "metadata": {},
   "source": [
    "#### Función `isinstance()`\n",
    "\n",
    "**Sintaxis**\n",
    "\n",
    "```python\n",
    "isinstance(objeto, tipo)\n",
    "```\n",
    "\n",
    "Retorna `True` si `objeto` es una *instancia* de `tipo`"
   ]
  },
  {
   "cell_type": "code",
   "execution_count": 80,
   "id": "f5b847d9-9c07-4083-90f8-f9370bc921e2",
   "metadata": {},
   "outputs": [],
   "source": [
    "# ejercicio 3, versión 4\n",
    "def factorial(number):\n",
    "    if isinstance(number, int) and number > 0:\n",
    "        result = 1\n",
    "        for n in range(1, number + 1):\n",
    "            result *= n\n",
    "        return result\n",
    "    else:\n",
    "        print('Número inválido')"
   ]
  },
  {
   "cell_type": "markdown",
   "id": "091770c7-cf83-4217-b324-2b98b255d4b3",
   "metadata": {},
   "source": [
    "## Funciones recursivas"
   ]
  },
  {
   "cell_type": "code",
   "execution_count": 81,
   "id": "fd9d1a86-13f3-42f8-a44c-c67f7cfc8748",
   "metadata": {},
   "outputs": [],
   "source": [
    "def factorial(number):\n",
    "    if number == 0:\n",
    "        return 1\n",
    "    else:\n",
    "        return number * factorial(number - 1)"
   ]
  },
  {
   "cell_type": "code",
   "execution_count": 82,
   "id": "6083f279-1a2b-4c1a-8e0a-943bcaf0c3d5",
   "metadata": {},
   "outputs": [
    {
     "data": {
      "text/plain": [
       "120"
      ]
     },
     "execution_count": 82,
     "metadata": {},
     "output_type": "execute_result"
    }
   ],
   "source": [
    "factorial(5)"
   ]
  },
  {
   "cell_type": "markdown",
   "id": "e49ff044-889b-44e1-ac87-798fcabcf30a",
   "metadata": {},
   "source": [
    "## Funciones con parámetros indeterminados\n",
    "Este tipo de funciones permiten recibir un número variable de **argumentos posicionales** a los que se les suele dar el nombre de `*args`, luego basta con recorrer con un ciclo `for` cada uno de sus elementos.\n",
    "\n",
    "**Nota**: La palabra `args` puede cambiarse a conveniencia, lo importante es el símbolo `*`."
   ]
  },
  {
   "cell_type": "code",
   "execution_count": 83,
   "id": "bdc821f8-c8b2-4342-9f1f-a5474111f473",
   "metadata": {},
   "outputs": [],
   "source": [
    "def sumar_numeros(*args):\n",
    "    resultado = 0\n",
    "    for num in args:\n",
    "        resultado += num\n",
    "    print(resultado)"
   ]
  },
  {
   "cell_type": "code",
   "execution_count": 84,
   "id": "0b229696-a082-4e2b-be94-57a5d3fad393",
   "metadata": {},
   "outputs": [
    {
     "name": "stdout",
     "output_type": "stream",
     "text": [
      "3\n"
     ]
    }
   ],
   "source": [
    "sumar_numeros(1,2)"
   ]
  },
  {
   "cell_type": "code",
   "execution_count": 85,
   "id": "e0188ad6-283d-4e64-a775-5cbdcf3271a5",
   "metadata": {},
   "outputs": [
    {
     "name": "stdout",
     "output_type": "stream",
     "text": [
      "28\n"
     ]
    }
   ],
   "source": [
    "sumar_numeros(1, 20, -1, 8)"
   ]
  },
  {
   "cell_type": "code",
   "execution_count": 86,
   "id": "32458724-f223-420b-a222-31dbc7f35710",
   "metadata": {},
   "outputs": [
    {
     "name": "stdout",
     "output_type": "stream",
     "text": [
      "120\n"
     ]
    }
   ],
   "source": [
    "sumar_numeros(1, 20, -1, 8, 9, 10, 55, 18)"
   ]
  }
 ],
 "metadata": {
  "kernelspec": {
   "display_name": "Python 3 (ipykernel)",
   "language": "python",
   "name": "python3"
  },
  "language_info": {
   "codemirror_mode": {
    "name": "ipython",
    "version": 3
   },
   "file_extension": ".py",
   "mimetype": "text/x-python",
   "name": "python",
   "nbconvert_exporter": "python",
   "pygments_lexer": "ipython3",
   "version": "3.9.13"
  }
 },
 "nbformat": 4,
 "nbformat_minor": 5
}
