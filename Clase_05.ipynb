{
 "cells": [
  {
   "cell_type": "markdown",
   "id": "29d071ee-6d79-40f8-ac21-4fd9d06a7611",
   "metadata": {},
   "source": [
    "# Sentencias de control\n",
    "## Ciclos\n",
    "En Python los ciclos nos ayudan a controlar el flujo de información **repitiendo bloques de código** un *número determinado* de veces o *mientras* se cumpla una condición. Por ello se tienen dos tipos de ciclos:\n",
    "\n",
    "- `for`: recorre los elementos de una secuencia o iterable\n",
    "- `while`: repite código mientras se cumpla una condición\n",
    "\n",
    "Estos ciclos son fundamentales para <u>automatizar tareas repetitivas</u> y hacer que nuestros programas sean más eficientes y flexibles."
   ]
  },
  {
   "cell_type": "markdown",
   "id": "2cbfe7af-acef-4369-b912-8ed5d5250468",
   "metadata": {
    "tags": []
   },
   "source": [
    "## Ciclo `for`\n",
    "\n",
    "**Sintaxis**\n",
    "\n",
    "```python\n",
    "for elemento in iterable:\n",
    "    # Bloque de código a repetir\n",
    "```\n",
    "\n",
    "donde:\n",
    "\n",
    "- `elemento` es una variable que **toma el valor** de cada elemento de `iterable` en cada iteración del ciclo.\n",
    "- `iterable` es una secuencia de elementos sobre la cual se va a iterar, como una lista, tupla, cadena de texto, o cualquier otro tipo de objeto iterable en Python.\n",
    "- El bloque de código que sigue al `for` se ejecuta una vez para cada elemento en el iterable."
   ]
  },
  {
   "cell_type": "code",
   "execution_count": null,
   "id": "88ebfa64-2bab-47c4-a21d-d38183bb043e",
   "metadata": {},
   "outputs": [],
   "source": [
    "# con una str\n",
    "for caracter in 'Python':\n",
    "    print(caracter)"
   ]
  },
  {
   "cell_type": "code",
   "execution_count": null,
   "id": "796c8b54-e4c5-4f64-8803-8511454b1e00",
   "metadata": {},
   "outputs": [],
   "source": [
    "# con un rango\n",
    "for i in range(5):\n",
    "    print(f'Índice {i} corresponde a posición {i+1}')"
   ]
  },
  {
   "cell_type": "code",
   "execution_count": null,
   "id": "a3eb774e-d1e8-4992-8da7-3ac5b7d3f409",
   "metadata": {},
   "outputs": [],
   "source": [
    "# con una lista\n",
    "pica_piedras = ['Pedro', 'Vilma', 'Pablo', 'Betty', 'Bam-Bam']\n",
    "for pica_piedra in pica_piedras:\n",
    "    print(pica_piedra)"
   ]
  },
  {
   "cell_type": "markdown",
   "id": "b73fc93d-51a3-4502-8f43-9bb89b6313f1",
   "metadata": {},
   "source": [
    "### Función `enumerate()`\n",
    "Se utiliza junto con ciclos `for` para rastrear el índice de los elementos en una secuencia. \n",
    "\n",
    "**Sintaxis**\n",
    "\n",
    "```python\n",
    "for indice, elemento in enumerate(iterable):\n",
    "    # Bloque de código a repetir\n",
    "```\n",
    "\n",
    "donde:\n",
    "\n",
    "- `indice` es la variable que almacena el índice actual del elemento en el iterable.\n",
    "- `elemento` es la variable que almacena el valor del elemento en el iterable.\n",
    "- `iterable` es la secuencia sobre la cual se está iterando."
   ]
  },
  {
   "cell_type": "code",
   "execution_count": null,
   "id": "8db7293e-10d7-489f-bf00-eb3c588cb475",
   "metadata": {},
   "outputs": [],
   "source": [
    "for i, pica_piedra in enumerate(pica_piedras):\n",
    "    print(f'{i+1}. {pica_piedra}')"
   ]
  },
  {
   "cell_type": "markdown",
   "id": "5f12b57b-e84e-4715-97f2-3811cdafd9d0",
   "metadata": {},
   "source": [
    "**Nota**: La función `enumerate()` devuelve un objeto enumerado que produce tuplas que contienen el índice y el elemento correspondiente en cada iteración."
   ]
  },
  {
   "cell_type": "code",
   "execution_count": null,
   "id": "d39e6d0d-2d88-4492-8c8e-a572eda76f12",
   "metadata": {},
   "outputs": [],
   "source": [
    "mi_tupla = 1, 2, 3"
   ]
  },
  {
   "cell_type": "code",
   "execution_count": null,
   "id": "e8061373-e18b-4ddd-b1d8-079e4fce3b06",
   "metadata": {},
   "outputs": [],
   "source": [
    "otra_tupla = (1, 2, 3)"
   ]
  },
  {
   "cell_type": "code",
   "execution_count": null,
   "id": "0c119c1e-66b0-4498-8dfd-d1e05e58bf4d",
   "metadata": {},
   "outputs": [],
   "source": [
    "mi_tupla == otra_tupla"
   ]
  },
  {
   "cell_type": "markdown",
   "id": "66083e99-73bd-4ab7-be1b-ff00ac379026",
   "metadata": {
    "tags": []
   },
   "source": [
    "### Función `zip()`\n",
    "Se utiliza para combinar dos o más secuencias en una secuencia de tuplas.\n",
    "\n",
    "```python\n",
    "zip(iterable_1, iterable_2, ..., iterable_n)\n",
    "```\n",
    "\n",
    "La función `zip()`:\n",
    "\n",
    "- Toma elementos de cada iterable dado y los **empareja en tuplas**\n",
    "- Retorna un objeto `zip`, que es iterable\n",
    "- En cada iteración produce una tupla que contiene el elemento correspondiente de cada secuencia."
   ]
  },
  {
   "cell_type": "markdown",
   "id": "5724299f-e3cf-486c-be81-404748139615",
   "metadata": {},
   "source": [
    "**Ejemplo**. Edades y nombres."
   ]
  },
  {
   "cell_type": "code",
   "execution_count": null,
   "id": "536f8e65-0c6a-4fec-8546-f134e3f16755",
   "metadata": {},
   "outputs": [],
   "source": [
    "nombres = [\"Juan\", \"María\", \"Pedro\"]\n",
    "edades = [30, 25, 35]\n",
    "# combinamos con función zip()\n",
    "objeto_zip = zip(nombres, edades)\n",
    "type(objeto_zip)"
   ]
  },
  {
   "cell_type": "markdown",
   "id": "3c4cecfc-ee8e-4174-8326-994cb4833193",
   "metadata": {},
   "source": [
    "Pero `zip` es un iterable, luego se puede usar con el ciclo `for`"
   ]
  },
  {
   "cell_type": "code",
   "execution_count": null,
   "id": "0d9b04ac-6a6b-46bf-a832-86a0607c2205",
   "metadata": {},
   "outputs": [],
   "source": [
    "for nombre, edad in zip(nombres, edades):\n",
    "    print(f'{nombre} tiene {edad} años')"
   ]
  },
  {
   "cell_type": "markdown",
   "id": "2b5327d0-ea37-4186-88fd-2bb179eafa38",
   "metadata": {},
   "source": [
    "**Explicación**\n",
    "- El objeto `zip` tiene tuplas de la forma: `(nombre_i, edad_i)`\n",
    "- La variable `nombre` toma los primeros elementos de cada tupla\n",
    "- La variable `edad` toma los segundos elementos de cada tupla"
   ]
  },
  {
   "cell_type": "code",
   "execution_count": null,
   "id": "234a730f-5e7c-4ddb-ae44-13fdecddc41a",
   "metadata": {},
   "outputs": [],
   "source": [
    "# otra manera de pensarlo\n",
    "for tupla_nombre_edad in zip(nombres, edades):\n",
    "    print(f'{tupla_nombre_edad[0]} tiene {tupla_nombre_edad[1]} años')"
   ]
  },
  {
   "cell_type": "markdown",
   "id": "196eea5a-194a-4d40-9ec5-52019503e980",
   "metadata": {},
   "source": [
    "**Ejercicio**. Obtener la suma de los números del `1` al `100`"
   ]
  },
  {
   "cell_type": "code",
   "execution_count": null,
   "id": "3ba692be-30f6-4e54-ae8c-94fa035f8db4",
   "metadata": {},
   "outputs": [],
   "source": [
    "# opción 1"
   ]
  },
  {
   "cell_type": "code",
   "execution_count": null,
   "id": "a715133c-afcb-4018-a19c-501598541bd8",
   "metadata": {},
   "outputs": [],
   "source": [
    "# opción 2"
   ]
  },
  {
   "cell_type": "code",
   "execution_count": null,
   "id": "7d0ac224-8559-41e6-817f-748a1ab0db47",
   "metadata": {},
   "outputs": [],
   "source": [
    "# opción 3"
   ]
  },
  {
   "cell_type": "markdown",
   "id": "f8d83595-f533-40e8-9eae-c8f6d15225dc",
   "metadata": {
    "tags": []
   },
   "source": [
    "## Incrementos\n",
    "Es muy usual que para incrementar una variable se haga uso de la sintaxis\n",
    "\n",
    "```python\n",
    "variable = variable + incremento\n",
    "```\n",
    "\n",
    "En Python, esto se puede simplificar con la siguiente notación:\n",
    "\n",
    "```python\n",
    "variable += incremento\n",
    "```"
   ]
  },
  {
   "cell_type": "code",
   "execution_count": null,
   "id": "fcd9727e-3cbb-44b5-8510-c04572dbb6cd",
   "metadata": {},
   "outputs": [],
   "source": [
    "numero = 10\n",
    "incremento = 5\n",
    "numero += incremento\n",
    "numero"
   ]
  },
  {
   "cell_type": "markdown",
   "id": "1acc7cfe-66ea-4bc9-9dac-6bd38b7c9438",
   "metadata": {},
   "source": [
    "Además se tienen otro tipo de incrementos correspondientes a los **operadores aritméticos**\n",
    "\n",
    "| Incremento | Sintaxis | Equivalencia |\n",
    "|:-----------|:--------:|:------------:|\n",
    "| Suma | `variable += incremento` | `variable = variable + incremento` |\n",
    "| Resta | `variable -= incremento` | `variable = variable - incremento` |\n",
    "| Multiplicación | `variable *= incremento` | `variable = variable * incremento` |\n",
    "| División | `variable /= incremento` | `variable = variable / incremento` |"
   ]
  },
  {
   "cell_type": "code",
   "execution_count": null,
   "id": "a577487b-0073-442e-81b7-5664f8f81d59",
   "metadata": {},
   "outputs": [],
   "source": [
    "numero"
   ]
  },
  {
   "cell_type": "code",
   "execution_count": null,
   "id": "4c9141f3-8432-406c-8a27-5dceaf3eec5e",
   "metadata": {},
   "outputs": [],
   "source": [
    "# resta\n",
    "numero -= incremento\n",
    "numero"
   ]
  },
  {
   "cell_type": "code",
   "execution_count": null,
   "id": "91a8196b-40ae-4ab5-bc38-28058fcccfa6",
   "metadata": {},
   "outputs": [],
   "source": [
    "# multiplicación\n",
    "numero *= incremento\n",
    "numero"
   ]
  },
  {
   "cell_type": "code",
   "execution_count": null,
   "id": "85f7ce13-64b5-4e62-b9fb-c8dee95b27b3",
   "metadata": {},
   "outputs": [],
   "source": [
    "# división\n",
    "numero /= incremento\n",
    "numero"
   ]
  },
  {
   "cell_type": "markdown",
   "id": "fe45b904-0a85-412d-9ce6-dbcdc5f7c4f5",
   "metadata": {
    "tags": []
   },
   "source": [
    "# Ejercicios.\n",
    "## Vectores\n",
    "Caracterizar las operaciones vectoriales:\n",
    "1. Suma\n",
    "2. Resta\n",
    "3. Producto punto\n",
    "\n",
    "Para los vectores $\\mathbb{v_1}, \\mathbb{v_2}\\in\\mathbb{R}^3$ "
   ]
  },
  {
   "cell_type": "code",
   "execution_count": null,
   "id": "8d7c6b57-eb28-4c96-8af4-4a278846d1ea",
   "metadata": {},
   "outputs": [],
   "source": [
    "%%latex\n",
    "Sean $\\mathbb{u}, \\mathbb{v}\\in\\mathbb{R}^3$ definidos como\n",
    "\n",
    "$$\\mathbb{u}:=(u_1, u_2, u_3)$$\n",
    "$$\\mathbb{v}:=(v_1, v_2, v_3)$$\n",
    "\n",
    "Luego,\n",
    "\n",
    "La operación Suma, $+:\\mathbb{R}^3\\rightarrow \\mathbb{R}^3$\n",
    "$$\\mathbb{u} + \\mathbb{v} = (u_1, u_2, u_3) + (v_1, v_2, v_3)= (u_1 + v_1, u_2 + v_2, u_3 + v_3)$$\n",
    "La operación Resta, $-:\\mathbb{R}^3\\rightarrow \\mathbb{R}^3$\n",
    "$$\\mathbb{u} - \\mathbb{v} = (u_1, u_2, u_3) - (v_1, v_2, v_3)= (u_1 - v_1, u_2 - v_2, u_3 - v_3)$$\n",
    "La operación Producto punto, $\\cdot:\\mathbb{R}^3\\rightarrow \\mathbb{R}$\n",
    "$$\\mathbb{u}\\cdot\\mathbb{v} = (u_1, u_2, u_3) \\cdot (v_1, v_2, v_3) = u_1 \\cdot v_1 + u_2 \\cdot v_2 + u_3 \\cdot v_3$$"
   ]
  },
  {
   "cell_type": "markdown",
   "id": "745a02c0-ff10-4400-afd6-dc5ceb2a1f09",
   "metadata": {},
   "source": [
    "Ejemplo: Si `u = (1,2,3)` y `v = (-3,0,4)`\n",
    "\n",
    "1. Suma: `(-2, 2, 7)`\n",
    "2. Resta: `(4, 2, -1)`\n",
    "3. Producto punto: `9`"
   ]
  },
  {
   "cell_type": "code",
   "execution_count": null,
   "id": "03d1a6e7-1e2e-4f6e-ad70-dfddeda52165",
   "metadata": {},
   "outputs": [],
   "source": [
    "# definir los vectores\n",
    "u = (1, 2, 3)\n",
    "v = (-3 ,0, 4)"
   ]
  },
  {
   "cell_type": "code",
   "execution_count": null,
   "id": "2170d5e4-1a3f-45dc-af82-a128f1feb8a1",
   "metadata": {},
   "outputs": [],
   "source": [
    "# suma\n",
    "vector_suma = []\n",
    "for ui, vi in zip(u, v):\n",
    "    vector_suma.append(ui + vi)\n",
    "print(\"El vector resultantes es:\", tuple(vector_suma))"
   ]
  },
  {
   "cell_type": "code",
   "execution_count": null,
   "id": "f59ed09c-a9e3-480b-9e98-50ff651c7ae4",
   "metadata": {},
   "outputs": [],
   "source": [
    "# suma\n",
    "vector_resta = []\n",
    "for ui, vi in zip(u, v):\n",
    "    vector_resta.append(ui - vi)\n",
    "print(\"El vector resultantes es:\", tuple(vector_resta))"
   ]
  },
  {
   "cell_type": "code",
   "execution_count": null,
   "id": "31729fa0-05e4-48c4-b67c-d2744f304837",
   "metadata": {},
   "outputs": [],
   "source": [
    "# producto punto\n",
    "producto_punto = 0\n",
    "for ui, vi in zip(u, v):\n",
    "    producto_punto += ui * vi\n",
    "print(\"El producto punto es:\", producto_punto)"
   ]
  },
  {
   "cell_type": "markdown",
   "id": "644daffd-451a-4e12-ae6e-fe623cc83c3e",
   "metadata": {},
   "source": [
    "## Manipulando cadenas de texto\n",
    "A continuación se deja un listado de los principales métodos para los objetos `str`\n",
    "\n",
    "| Método         | Descripción                                                                       |\n",
    "| -------------- | --------------------------------------------------------------------------------- |\n",
    "| `capitalize()` | Convierte el primer carácter de la cadena en mayúscula y el resto en minúsculas.  |\n",
    "| `upper()`      | Convierte todos los caracteres de la cadena a mayúsculas.                         |\n",
    "| `lower()`      | Convierte todos los caracteres de la cadena a minúsculas.                         |\n",
    "| `title()`      | Convierte el primer carácter de cada palabra a mayúscula y el resto a minúsculas. |\n",
    "| `strip()`      | Elimina los espacios en blanco al principio y al final de la cadena.              |\n",
    "| `lstrip()`     | Elimina los espacios en blanco al principio de la cadena.                         |\n",
    "| `rstrip()`     | Elimina los espacios en blanco al final de la cadena.                             |\n",
    "| `replace()`    | Reemplaza una subcadena especificada por otra subcadena.                          |\n",
    "| `split()`      | Divide la cadena en una lista de cadenas según un delimitador.                    |\n",
    "| `count()`      | Cuenta cuántas veces aparece una subcadena en la cadena.                          |\n",
    "| `startswith()` | Comprueba si la cadena comienza con una subcadena específica.                     |\n",
    "| `endswith()`   | Comprueba si la cadena termina con una subcadena específica.                      |"
   ]
  },
  {
   "cell_type": "code",
   "execution_count": null,
   "id": "b1f7fdd5-3a89-4ae1-a6bb-f14b213fdca1",
   "metadata": {
    "tags": []
   },
   "outputs": [],
   "source": [
    "# capitalize()\n",
    "print(40*'-')\n",
    "texto = \"hola mundo\"\n",
    "print('Ejemplo: método capitalize()')\n",
    "print(f'Cadena original: {texto}')\n",
    "print(f'Cadena cambiada: {texto.capitalize()}')\n",
    "\n",
    "# upper()\n",
    "print(40*'-')\n",
    "texto = \"hola mundo\"\n",
    "print('Ejemplo: método upper()')\n",
    "print(f'Cadena original: {texto}')\n",
    "print(f'Cadena cambiada: {texto.upper()}')\n",
    "\n",
    "# lower()\n",
    "print(40*'-')\n",
    "texto = \"Hola Mundo\"\n",
    "print('Ejemplo: método lower()')\n",
    "print(f'Cadena original: {texto}')\n",
    "print(f'Cadena cambiada: {texto.lower()}')\n",
    "\n",
    "# title()\n",
    "print(40*'-')\n",
    "texto = \"hola mundo\"\n",
    "print('Ejemplo: método title()')\n",
    "print(f'Cadena original: {texto}')\n",
    "print(f'Cadena cambiada: {texto.title()}')\n",
    "\n",
    "# strip()\n",
    "print(40*'-')\n",
    "texto = \"  hola mundo  \"\n",
    "print('Ejemplo: método strip()')\n",
    "print(f'Cadena original: {texto}')\n",
    "print(f'Cadena cambiada: {texto.strip()}')\n",
    "\n",
    "# lstrip()\n",
    "print(40*'-')\n",
    "texto = \"  hola mundo\"\n",
    "print('Ejemplo: método lstrip()')\n",
    "print(f'Cadena original: {texto}')\n",
    "print(f'Cadena cambiada: {texto.lstrip()}')\n",
    "\n",
    "# rstrip()\n",
    "print(40*'-')\n",
    "texto = \"hola mundo  \"\n",
    "print('Ejemplo: método rstrip()')\n",
    "print(f'Cadena original: {texto}')\n",
    "print(f'Cadena cambiada: {texto.rstrip()}')\n",
    "\n",
    "# replace()\n",
    "print(40*'-')\n",
    "texto = \"hola mundo\"\n",
    "print('Ejemplo: método replace()')\n",
    "print(f'Cadena original: {texto}')\n",
    "print(f'Cadena cambiada: {texto.replace(\"hola\", \"adiós\")}')\n",
    "\n",
    "# split()\n",
    "print(40*'-')\n",
    "texto = \"hola mundo\"\n",
    "print('Ejemplo: método split()')\n",
    "print(f'Cadena original: {texto}')\n",
    "print(f'Cadena cambiada: {texto.split()}')\n",
    "\n",
    "# count()\n",
    "print(40*'-')\n",
    "texto = \"hola mundo\"\n",
    "print('Ejemplo: método count()')\n",
    "print(f'Cadena original: {texto}')\n",
    "print(f'Cadena cambiada: {texto.count(\"o\")}')\n",
    "\n",
    "# startswith()\n",
    "print(40*'-')\n",
    "texto = \"~$hola mundo\"\n",
    "print('Ejemplo: método startswith()')\n",
    "print(f'Cadena original: {texto}')\n",
    "print(f'Cadena cambiada: {texto.startswith(\"~$\")}')\n",
    "\n",
    "# endswith()\n",
    "print(40*'-')\n",
    "texto = \"hola mundo.xlsx\"\n",
    "print('Ejemplo: método endswith()')\n",
    "print(f'Cadena original: {texto}')\n",
    "print(f'Cadena cambiada: {texto.endswith(\".xlsx\")}')"
   ]
  },
  {
   "cell_type": "markdown",
   "id": "b006f28e-d60b-4399-a481-8a667803b12c",
   "metadata": {},
   "source": [
    "### Ejercicio\n",
    "Dar el formato adecuado a las siguientes listas:\n",
    "\n",
    "```python\n",
    "nombres = ['beto', 'alejandro', 'silvia', 'clara']\n",
    "nombres_completos = ['beto hernández flores', 'alejandro lópez pérez', 'silvia saldívar', 'clara blanco medina']\n",
    "nombres_capturados = [' beto hernández flores', 'alejandro lópez pérez   ', 'silvia saldívar', 'CLARA BLANCO MEDINA']\n",
    "```"
   ]
  },
  {
   "cell_type": "code",
   "execution_count": null,
   "id": "340d83a7-87b2-4a44-9b31-178b7e7cda49",
   "metadata": {},
   "outputs": [],
   "source": [
    "nombres = ['beto', 'alejandro', 'silvia', 'clara']\n",
    "for nombre in nombres:\n",
    "    print(nombre.capitalize())"
   ]
  },
  {
   "cell_type": "code",
   "execution_count": null,
   "id": "2c585d65-d94e-41e0-95a0-9461bc2b36bc",
   "metadata": {},
   "outputs": [],
   "source": [
    "nombres_completos = ['beto hernández flores', 'alejandro lópez pérez', 'silvia saldívar', 'clara blanco medina']\n",
    "for nombre_completo in nombres_completos:\n",
    "    print(nombre_completo.title())"
   ]
  },
  {
   "cell_type": "code",
   "execution_count": null,
   "id": "f8414c4b-4923-4e22-866c-db580ff77078",
   "metadata": {},
   "outputs": [],
   "source": [
    "nombres_capturados = [' beto hernández flores', 'alejandro lópez pérez   ', 'silvia saldívar', 'CLARA BLANCO MEDINA']\n",
    "for nombre_capturado in nombres_capturados:\n",
    "    nombre_corregido = nombre_capturado.lstrip().rstrip().title()\n",
    "    print(nombre_corregido)"
   ]
  },
  {
   "cell_type": "markdown",
   "id": "c7ae18e3-e47d-4788-9799-5326ba071902",
   "metadata": {},
   "source": [
    "**Nota**. No estamos cambiando las listas originales."
   ]
  },
  {
   "cell_type": "code",
   "execution_count": null,
   "id": "57e80df6-2c08-422b-8b00-08a0b1abe62c",
   "metadata": {},
   "outputs": [],
   "source": [
    "nombres_capturados"
   ]
  },
  {
   "cell_type": "markdown",
   "id": "46c2b2d9-ccc6-4fc4-8fc7-5124e751d4b1",
   "metadata": {},
   "source": [
    "## Ciclo `while`\n",
    "Es una estructura de control que permite ejecutar repetidamente un bloque de código *mientras* se cumpla una condición. Es decir, el ciclo continuará su ejecución hasta que la condición evaluada resulte en `False`. Esto lo convierte en una herramienta muy útil para realizar tareas repetitivas, especialmente cuando <u>no se conoce de antemano el número de iteraciones</u> necesarias.\n",
    "\n",
    "**Sintaxis**\n",
    "\n",
    "```python\n",
    "while condicion:\n",
    "    # Bloque de código a ejecutar\n",
    "```\n",
    "\n",
    "Donde `condicion` es una expresión que el ciclo evalúa antes de cada iteración\n",
    "\n",
    "- Si la condición es verdadera (`condicion = True`), el bloque de código dentro del ciclo se ejecuta\n",
    "- Después de cada ejecución, la condición se evalúa nuevamente\n",
    "- Cuando la condición se convierte en falsa (`condicion = False`), el ciclo termina y el programa continúa con cualquier código que siga después del bloque `while`"
   ]
  },
  {
   "cell_type": "markdown",
   "id": "cd7cc3ef-a7fb-4797-b618-9b7d9e9049dd",
   "metadata": {},
   "source": [
    "### Ejemplos\n",
    "1. Obtener la suma de los números del `1` al `100`\n",
    "2. Solicita al usuario que ingrese números de manera indefinida hasta que ingrese el número `0`. Al final, muestra la suma de todos los números ingresados.\n",
    "3. Emula un ciclo `do-while` con el ejercicio anterior"
   ]
  },
  {
   "cell_type": "code",
   "execution_count": null,
   "id": "9cf77fad-c32f-4c95-bf8d-56be68836dea",
   "metadata": {},
   "outputs": [],
   "source": [
    "# ejemplo 1\n",
    "suma, contador = 0, 1\n",
    "while contador <= 10:\n",
    "    suma += contador\n",
    "    contador += 1\n",
    "print(suma)"
   ]
  },
  {
   "cell_type": "code",
   "execution_count": null,
   "id": "36de567c-93f6-48b6-bf24-a0d933f86ef1",
   "metadata": {},
   "outputs": [],
   "source": [
    "# ejemplo 2\n",
    "n = float(input('Introduce un número: '))\n",
    "intentos = []\n",
    "while n != 0:\n",
    "    intentos.append(n)\n",
    "    n = float(input('Introduce un número: '))\n",
    "print(sum(intentos))"
   ]
  },
  {
   "cell_type": "code",
   "execution_count": null,
   "id": "9d425f59-300e-427b-b283-69b51c57217b",
   "metadata": {
    "tags": []
   },
   "outputs": [],
   "source": [
    "# ejemplo 3\n",
    "n = 1\n",
    "intentos = []\n",
    "while n != 0:\n",
    "    n = float(input('Introduce un número: '))\n",
    "    intentos.append(n)\n",
    "print(sum(intentos))"
   ]
  },
  {
   "cell_type": "markdown",
   "id": "e37dce14-cbab-4be6-b634-02cfe1484ddf",
   "metadata": {
    "tags": []
   },
   "source": [
    "# Ejercicios\n",
    "1. Ingresos vs Gastos\n",
    "    - Pedirle al usuario su ingreso en pesos\n",
    "    - Preguntarle por sus gastos tomando en consideración:\n",
    "        - No hayan superado sus ingresos. En ese caso poner el mensaje: `\"Te acabaste tus ingresos, debes xxx pesos\"`\n",
    "        - Si el usuario ya no quiere reportar más gastos. En ese caso poner el mensaje: `\"Tu saldo es de xxx pesos\"`\n",
    "2. Promedio de calificaciones\n",
    "    - Pedirle al usuario cuántas calificaciones desea introducir\n",
    "    - Darle el promedio de las calificaciones dadas"
   ]
  },
  {
   "cell_type": "markdown",
   "id": "0a9faa8c-33c5-46ee-a57a-06a0cc38e086",
   "metadata": {},
   "source": [
    "# Funciones\n",
    "Las funciones en programación permiten organizar código de manera más eficiente, <u>evitando repeticiones</u> lo que resulta en un código **más legible** y **mantenible**. "
   ]
  },
  {
   "cell_type": "markdown",
   "id": "1ad42297-337d-49c6-a1eb-40e7c7a13c24",
   "metadata": {},
   "source": [
    "## Definición. \n",
    "Una función es un **bloque de código** que se **ejecuta** cuando es **llamado**. \n",
    "\n",
    "Las funciones pueden:\n",
    "- Recibir datos (parámetros)\n",
    "- Procesar esos datos\n",
    "- Si se desea, devolver un resultado\n",
    "\n",
    "En Python, puedes definir tus propias funciones usando la palabra clave `def`"
   ]
  },
  {
   "cell_type": "markdown",
   "id": "9d6e8c15-1a27-4d2e-8ae7-68e7daa961a0",
   "metadata": {},
   "source": [
    "**Sintaxis**\n",
    "\n",
    "```python\n",
    "def nombre_de_la_funcion(parametros):\n",
    "    \"\"\" docstring \"\"\"\n",
    "    # Cuerpo de la función\n",
    "    return resultado\n",
    "```\n",
    "\n",
    "donde:\n",
    "\n",
    "- `nombre_de_la_funcion`: nombre <u>identificador</u> con el que se llama a la función (como con las variables)\n",
    "- `# Cuerpo de la función`: el <u>conjunto de instrucciones que se ejecutan</u> cada vez que se llama a la función\n",
    "- `parametros` (**opcional**): lista de parámetros que recibe la función. Los parámetros son opcionales; una función puede no recibir ningún parámetro.\n",
    "- `\"\"\"docstring\"\"\"` (**opcional**): un string opcional que puede contener la descripción/documentación de la función. Es lo que se muestra al consultar la ayuda de la función con `help(nombre_de_la_funcion)`.\n",
    "- `return` (**opcional**): palabra clave que termina la función y opcionalmente pasa un valor de vuelta al llamador."
   ]
  },
  {
   "cell_type": "markdown",
   "id": "20cce00d-d943-48fb-a714-bca6f1b2b408",
   "metadata": {},
   "source": [
    "## Funciones sin parámetros\n",
    "### Sin valor de retorno"
   ]
  },
  {
   "cell_type": "code",
   "execution_count": null,
   "id": "f6498d4c-276b-4ee9-a848-88569f07c20b",
   "metadata": {},
   "outputs": [],
   "source": [
    "def saludar():\n",
    "    \"\"\" imprime la cadena de texto: '¡Hola! Espero te encuentres bien.' \"\"\"\n",
    "    print('¡Hola! Espero te encuentres bien.')"
   ]
  },
  {
   "cell_type": "code",
   "execution_count": null,
   "id": "0dc91708-c2e2-4ea2-8604-b030bc0d84de",
   "metadata": {},
   "outputs": [],
   "source": [
    "saludar()"
   ]
  },
  {
   "cell_type": "markdown",
   "id": "3628540d-dc6b-4260-9450-066527d6c251",
   "metadata": {},
   "source": [
    "Observa para qué nos sirve el `docstrings`"
   ]
  },
  {
   "cell_type": "code",
   "execution_count": null,
   "id": "bee52d6a-3b21-4a90-9942-1dd3f5e7c5d2",
   "metadata": {},
   "outputs": [],
   "source": [
    "help(saludar)"
   ]
  },
  {
   "cell_type": "code",
   "execution_count": null,
   "id": "e6a55eef-2012-4762-98a0-dc109cbafe24",
   "metadata": {},
   "outputs": [],
   "source": [
    "saludar?"
   ]
  },
  {
   "cell_type": "code",
   "execution_count": null,
   "id": "6f3da68e-2817-4cba-9c1b-9bbba4c1f938",
   "metadata": {},
   "outputs": [],
   "source": [
    "def despedirse():\n",
    "    \"\"\" imprime la cadena de texto 'Que tengas un buen día.' \"\"\"\n",
    "    print('Que tengas un buen día.')"
   ]
  },
  {
   "cell_type": "code",
   "execution_count": null,
   "id": "beefb339-a693-4c7b-a17d-8d1621e240d1",
   "metadata": {},
   "outputs": [],
   "source": [
    "despedirse()"
   ]
  },
  {
   "cell_type": "markdown",
   "id": "0bc532de-3423-4b57-a1a0-3352500b28fe",
   "metadata": {},
   "source": [
    "### Con valor de retorno"
   ]
  },
  {
   "cell_type": "code",
   "execution_count": null,
   "id": "01d619ae-c828-4e86-938f-68b67beb01ef",
   "metadata": {},
   "outputs": [],
   "source": [
    "def retornar_saludo():\n",
    "    \"\"\" devuelve la cadena de texto: '¡Hola! Espero te encuentres bien.' \"\"\"\n",
    "    return '¡Hola! Espero te encuentres bien.'"
   ]
  },
  {
   "cell_type": "code",
   "execution_count": null,
   "id": "5be3e68a-0086-46e3-bc4c-70f106b0f9ed",
   "metadata": {},
   "outputs": [],
   "source": [
    "retornar_saludo()"
   ]
  },
  {
   "cell_type": "markdown",
   "id": "822950a7-c26c-4519-95cd-88dcd1701c13",
   "metadata": {},
   "source": [
    "Parece que no hay una diferencia entre retornar o no retornar un valor, pero examinemos a mayor detalle."
   ]
  },
  {
   "cell_type": "code",
   "execution_count": null,
   "id": "da5dab59-a651-4757-84ed-a034af505ea6",
   "metadata": {},
   "outputs": [],
   "source": [
    "retornar_saludo()\n",
    "print('Otras instrucciones')"
   ]
  },
  {
   "cell_type": "code",
   "execution_count": null,
   "id": "1333ef7e-ac09-4f8a-aec5-94dc219a7517",
   "metadata": {},
   "outputs": [],
   "source": [
    "saludo = retornar_saludo()\n",
    "print(saludo)\n",
    "print('Otras instrucciones')"
   ]
  }
 ],
 "metadata": {
  "kernelspec": {
   "display_name": "Python 3 (ipykernel)",
   "language": "python",
   "name": "python3"
  },
  "language_info": {
   "codemirror_mode": {
    "name": "ipython",
    "version": 3
   },
   "file_extension": ".py",
   "mimetype": "text/x-python",
   "name": "python",
   "nbconvert_exporter": "python",
   "pygments_lexer": "ipython3",
   "version": "3.9.13"
  }
 },
 "nbformat": 4,
 "nbformat_minor": 5
}
