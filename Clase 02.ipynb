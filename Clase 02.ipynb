{
 "cells": [
  {
   "cell_type": "markdown",
   "id": "fa2b41f1",
   "metadata": {},
   "source": [
    "# Memoria en la programación\n",
    "La memoria en la programación es el espacio donde se almacenan los datos mientras un programa se ejecuta.\n",
    "\n",
    "## Tipos de datos\n",
    "Se refieren a los distintos datos que puede manejar un lenguaje de programación y esto es importante de resaltar porque no es lo mismo **reservar** un espacio de memoria para almacenar la edad de un usuario, que para un archivo con la información histórica de una compañía."
   ]
  },
  {
   "cell_type": "markdown",
   "id": "286fe99f",
   "metadata": {},
   "source": [
    "## Built-in scalar types (scalars)\n",
    "Se refiere a los **tipos de datos** que vienen integrados (disponibles directamente en el lenguaje sin necesidad de importar bibliotecas adicionales) en Python y que son comunes para todos los lenguajes de programación.\n",
    "\n",
    "Por el momento nos quedaremos con los siguientes:\n",
    "\n",
    "| Tipo de dato          | Ejemplo      | Descripción                                       |\n",
    "|:----------------------|:------------:|:--------------------------------------------------|\n",
    "| Entero (`int`)          | `42`           | Número entero sin parte decimal               |\n",
    "| Flotante (`float`)      | `3.14`         | Número con parte decimal                      |\n",
    "| Booleano (`bool`)       | `True`         | Representa un valor de verdad (verdadero)     |\n",
    "| Cadena de caracteres (`str`) | `\"Hola\"`  | Secuencia de caracteres                       |\n",
    "\n",
    "**Nota**: Existen más *scalars* como `complex` o `bytes`, sin embargo por el momento sólo trabajaremos con estos."
   ]
  },
  {
   "cell_type": "markdown",
   "id": "a11ea1d7",
   "metadata": {},
   "source": [
    "## Variables\n",
    "En programación una **variable** es un *nombre* que hace *referencia* a un valor *almacenado en la memoria*.\n",
    "\n",
    "### Tipado dinámico\n",
    "Al contrario que en otros lenguajes de programación, en Python no es necesario declarar el tipo de una variable antes de usarla; el tipo de la variable se infiere a partir del valor (**objeto**) que se le asigna.\n",
    "\n",
    "Para crear una variable en Python, simplemente se asigna un valor a un nombre utilizando el **operador de asignación** `=`\n",
    "\n",
    "### Crear variables\n",
    "**Sintaxis**\n",
    "```python\n",
    "nombre_variable = objeto\n",
    "```\n",
    "\n",
    "**Explicación**\n",
    "- Se crea una referencia en la memoria para `objeto`\n",
    "- Al asignar `nombre_variable` a `objeto`, `nombre_variable` ahora hace referencia al mismo objeto en la memoria que `objeto`\n",
    "- Los cambios realizados en el objeto a través de `nombre_variable` también se reflejarán cuando se accede a `objeto`"
   ]
  },
  {
   "cell_type": "markdown",
   "id": "6edd4e64",
   "metadata": {},
   "source": [
    "### Enteros"
   ]
  }
 ],
 "metadata": {
  "kernelspec": {
   "display_name": "Python 3 (ipykernel)",
   "language": "python",
   "name": "python3"
  },
  "language_info": {
   "codemirror_mode": {
    "name": "ipython",
    "version": 3
   },
   "file_extension": ".py",
   "mimetype": "text/x-python",
   "name": "python",
   "nbconvert_exporter": "python",
   "pygments_lexer": "ipython3",
   "version": "3.8.5"
  }
 },
 "nbformat": 4,
 "nbformat_minor": 5
}
