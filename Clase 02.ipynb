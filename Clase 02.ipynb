{
 "cells": [
  {
   "cell_type": "markdown",
   "id": "fa2b41f1",
   "metadata": {},
   "source": [
    "# Memoria en la programación\n",
    "La memoria en la programación es el espacio donde se almacenan los datos mientras un programa se ejecuta.\n",
    "\n",
    "## Tipos de datos\n",
    "Se refieren a los distintos datos que puede manejar un lenguaje de programación y esto es importante de resaltar porque no es lo mismo **reservar** un espacio de memoria para almacenar la edad de un usuario, que para un archivo con la información histórica de una compañía."
   ]
  },
  {
   "cell_type": "markdown",
   "id": "286fe99f",
   "metadata": {},
   "source": [
    "## Built-in scalar types (scalars)\n",
    "Se refiere a los **tipos de datos** que vienen integrados (disponibles directamente en el lenguaje sin necesidad de importar bibliotecas adicionales) en Python y que son comunes para todos los lenguajes de programación.\n",
    "\n",
    "Por el momento nos quedaremos con los siguientes:\n",
    "\n",
    "| Tipo de dato          | Ejemplo      | Descripción                                       |\n",
    "|:----------------------|:------------:|:--------------------------------------------------|\n",
    "| Entero (`int`)          | `42`           | Número entero sin parte decimal               |\n",
    "| Flotante (`float`)      | `3.14`         | Número con parte decimal                      |\n",
    "| Booleano (`bool`)       | `True`         | Representa un valor de verdad (verdadero)     |\n",
    "| Cadena de caracteres (`str`) | `\"Hola\"`  | Secuencia de caracteres                       |\n",
    "\n",
    "**Nota**: Existen más *scalars* como `complex` o `bytes`, sin embargo por el momento sólo trabajaremos con estos."
   ]
  },
  {
   "cell_type": "code",
   "execution_count": 1,
   "id": "63feca1b-f629-4d82-9538-4e5d8f70f955",
   "metadata": {},
   "outputs": [
    {
     "data": {
      "text/plain": [
       "11"
      ]
     },
     "execution_count": 1,
     "metadata": {},
     "output_type": "execute_result"
    }
   ],
   "source": [
    "# entero\n",
    "11"
   ]
  },
  {
   "cell_type": "markdown",
   "id": "cf3942c6-2624-404d-a24b-7a355edc619f",
   "metadata": {},
   "source": [
    "**Nota**. Nos devuelve el entero `11` porque las celdas tipo **Code** de Jupyter nos devuelven la última acción, en este caso, un número entero con el valor de `11`."
   ]
  },
  {
   "cell_type": "markdown",
   "id": "f80262e6-ac42-4425-aaac-6fbd954358fa",
   "metadata": {},
   "source": [
    "### Comentarios\n",
    "Los comentarios en las celdas tipo código se refieren a texto que no va a ser interpretado como código y en Python existen de dos tipos:\n",
    "- Una línea: predecedidos por el símbolo `#`\n",
    "- Multilínea: inician con `'''` y terminan con `'''`"
   ]
  },
  {
   "cell_type": "code",
   "execution_count": 5,
   "id": "46fb2ca3-c92e-4fa5-9061-77c12cfb87a1",
   "metadata": {},
   "outputs": [],
   "source": [
    "# comentario de una línea"
   ]
  },
  {
   "cell_type": "markdown",
   "id": "da2bdd4a-b640-492c-9344-8dd58020d699",
   "metadata": {},
   "source": [
    "No ejecuta nada"
   ]
  },
  {
   "cell_type": "code",
   "execution_count": 6,
   "id": "4aa7db43-1c54-46ee-b8ac-e9c9fbd663fa",
   "metadata": {},
   "outputs": [
    {
     "data": {
      "text/plain": [
       "'\\nEste es un comentario de múltiples líneas\\nLos colores de los textos van a variar dependiendo del editor\\nprint(\"Hola Mundo\")\\n'"
      ]
     },
     "execution_count": 6,
     "metadata": {},
     "output_type": "execute_result"
    }
   ],
   "source": [
    "\"\"\"\n",
    "Este es un comentario de múltiples líneas\n",
    "Los colores de los textos van a variar dependiendo del editor\n",
    "print(\"Hola Mundo\")\n",
    "\"\"\""
   ]
  },
  {
   "cell_type": "markdown",
   "id": "73fbf4e7-7282-4ff0-8556-84071ade169e",
   "metadata": {},
   "source": [
    "**Nota**. Nos devuelve el texto, sin embargo, esto es un comentario porque no se está ejecutando ninguna instrución de código."
   ]
  },
  {
   "cell_type": "markdown",
   "id": "5a065c2b-8fba-4640-99c2-564384528217",
   "metadata": {},
   "source": [
    "### Función `type()`\n",
    "Esta función nos dice el tipo de dato de un objeto\n",
    "\n",
    "**Sintaxis**\n",
    "\n",
    "```python\n",
    "type(objeto)\n",
    "```"
   ]
  },
  {
   "cell_type": "code",
   "execution_count": 8,
   "id": "54528646-5a38-417e-8589-ac4451efd4b3",
   "metadata": {},
   "outputs": [
    {
     "data": {
      "text/plain": [
       "\u001b[1;31mInit signature:\u001b[0m \u001b[0mtype\u001b[0m\u001b[1;33m(\u001b[0m\u001b[0mself\u001b[0m\u001b[1;33m,\u001b[0m \u001b[1;33m/\u001b[0m\u001b[1;33m,\u001b[0m \u001b[1;33m*\u001b[0m\u001b[0margs\u001b[0m\u001b[1;33m,\u001b[0m \u001b[1;33m**\u001b[0m\u001b[0mkwargs\u001b[0m\u001b[1;33m)\u001b[0m\u001b[1;33m\u001b[0m\u001b[1;33m\u001b[0m\u001b[0m\n",
       "\u001b[1;31mDocstring:\u001b[0m     \n",
       "type(object_or_name, bases, dict)\n",
       "type(object) -> the object's type\n",
       "type(name, bases, dict) -> a new type\n",
       "\u001b[1;31mType:\u001b[0m           type\n",
       "\u001b[1;31mSubclasses:\u001b[0m     ABCMeta, EnumMeta, NamedTupleMeta, _TypedDictMeta, _ABC, MetaHasDescriptors, _TemplateMetaclass, PyCStructType, UnionType, PyCPointerType, ...\n"
      ]
     },
     "metadata": {},
     "output_type": "display_data"
    }
   ],
   "source": [
    "# si tenemos dudas de cualquier función podemos usar ?\n",
    "type?"
   ]
  },
  {
   "cell_type": "code",
   "execution_count": 12,
   "id": "f51bb95f-f008-4135-89aa-40daabff62a9",
   "metadata": {},
   "outputs": [
    {
     "data": {
      "text/plain": [
       "str"
      ]
     },
     "execution_count": 12,
     "metadata": {},
     "output_type": "execute_result"
    }
   ],
   "source": [
    "# entero\n",
    "type(-10)\n",
    "# flotante\n",
    "type(0.5)\n",
    "# booleano\n",
    "type(False)\n",
    "# cadena de texto\n",
    "type(\"¿Por qué sólo se ve este tipo de dato?\")"
   ]
  },
  {
   "cell_type": "markdown",
   "id": "03956a9a-ca19-460d-a912-1d98735282e3",
   "metadata": {},
   "source": [
    "### Función `print()`"
   ]
  },
  {
   "cell_type": "code",
   "execution_count": 10,
   "id": "a0b61606-a96b-4e75-b458-36c7376a83a0",
   "metadata": {},
   "outputs": [
    {
     "data": {
      "text/plain": [
       "\u001b[1;31mDocstring:\u001b[0m\n",
       "print(value, ..., sep=' ', end='\\n', file=sys.stdout, flush=False)\n",
       "\n",
       "Prints the values to a stream, or to sys.stdout by default.\n",
       "Optional keyword arguments:\n",
       "file:  a file-like object (stream); defaults to the current sys.stdout.\n",
       "sep:   string inserted between values, default a space.\n",
       "end:   string appended after the last value, default a newline.\n",
       "flush: whether to forcibly flush the stream.\n",
       "\u001b[1;31mType:\u001b[0m      builtin_function_or_method\n"
      ]
     },
     "metadata": {},
     "output_type": "display_data"
    }
   ],
   "source": [
    "print?"
   ]
  },
  {
   "cell_type": "code",
   "execution_count": 11,
   "id": "da0cac70-138f-4153-ae5c-b3e767f5646f",
   "metadata": {},
   "outputs": [
    {
     "name": "stdout",
     "output_type": "stream",
     "text": [
      "<class 'int'> <class 'float'> <class 'bool'> <class 'str'>\n"
     ]
    }
   ],
   "source": [
    "print(type(-10), type(0.5), type(False), type(\"¿Por qué sólo se ve esto?\"), sep = ' ')"
   ]
  },
  {
   "cell_type": "markdown",
   "id": "0a3d55fd-255e-4b28-9522-83bafbd0fa81",
   "metadata": {},
   "source": [
    "**Parámetro `sep`**"
   ]
  },
  {
   "cell_type": "code",
   "execution_count": 13,
   "id": "b1361829-27c0-447a-a2b2-a4d224ca2043",
   "metadata": {},
   "outputs": [
    {
     "name": "stdout",
     "output_type": "stream",
     "text": [
      "texto 1&&&texto 2&&&texto 3\n"
     ]
    }
   ],
   "source": [
    "print(\"texto 1\", \"texto 2\", \"texto 3\", sep = '&&&')"
   ]
  },
  {
   "cell_type": "code",
   "execution_count": 14,
   "id": "f0391b25-5409-4e0e-a533-bc27791b776a",
   "metadata": {},
   "outputs": [
    {
     "name": "stdout",
     "output_type": "stream",
     "text": [
      "texto 1 &&& texto 2 &&& texto 3\n"
     ]
    }
   ],
   "source": [
    "print(\"texto 1\", \"texto 2\", \"texto 3\", sep = ' &&& ')"
   ]
  },
  {
   "cell_type": "code",
   "execution_count": 15,
   "id": "0ab29e3e-c33d-417a-b2f5-75c223d09e01",
   "metadata": {},
   "outputs": [
    {
     "name": "stdout",
     "output_type": "stream",
     "text": [
      "texto 1\n",
      "texto 2\n",
      "texto 3\n"
     ]
    }
   ],
   "source": [
    "print(\"texto 1\", \"texto 2\", \"texto 3\", sep = '\\n')"
   ]
  },
  {
   "cell_type": "markdown",
   "id": "9ae71bd6-6e25-40df-832e-4d3a8fbcab24",
   "metadata": {},
   "source": [
    "**Parámetro `end`**"
   ]
  },
  {
   "cell_type": "code",
   "execution_count": 16,
   "id": "8dbfd5db-b001-413a-bf29-36077a76a3d9",
   "metadata": {},
   "outputs": [
    {
     "name": "stdout",
     "output_type": "stream",
     "text": [
      "1\n",
      "2\n"
     ]
    }
   ],
   "source": [
    "print(1)\n",
    "print(2)"
   ]
  },
  {
   "cell_type": "code",
   "execution_count": 19,
   "id": "15c60abe-a6a6-48e7-aaf5-6519a6700c3f",
   "metadata": {},
   "outputs": [
    {
     "name": "stdout",
     "output_type": "stream",
     "text": [
      "3.141592 True\n",
      "otro texto\n"
     ]
    }
   ],
   "source": [
    "print(3.141592, end = ' ')\n",
    "print(True, end = '\\n')\n",
    "print(\"otro texto\")"
   ]
  },
  {
   "cell_type": "markdown",
   "id": "d5134c82-ad91-45c1-a1ed-c0e09036d6da",
   "metadata": {},
   "source": [
    "**Sintaxis** función `print()`\n",
    "```python\n",
    "print(value_1, value_2, ..., value_n, sep=' ', end='\\n')\n",
    "```\n",
    "donde:\n",
    "- `value_i` los objetos que se desean imprimir\n",
    "- `sep` el texto con el que se van a separar los diferentes valores (útil cuando todo es un sólo `print()`)\n",
    "- `end`  el texto con el que va a terminar (últil en múltiples `print()`)"
   ]
  },
  {
   "cell_type": "markdown",
   "id": "a11ea1d7",
   "metadata": {},
   "source": [
    "## Variables\n",
    "En programación una **variable** es un *nombre* que hace *referencia* a un valor *almacenado en la memoria*.\n",
    "\n",
    "### Tipado dinámico\n",
    "Al contrario que en otros lenguajes de programación, en Python no es necesario declarar el tipo de una variable antes de usarla; el tipo de la variable se infiere a partir del valor (**objeto**) que se le asigna.\n",
    "\n",
    "Para crear una variable en Python, simplemente se asigna un valor a un nombre utilizando el **operador de asignación** `=`\n",
    "\n",
    "### Crear variables\n",
    "**Sintaxis**\n",
    "```python\n",
    "nombre_variable = objeto\n",
    "```\n",
    "\n",
    "**Explicación**\n",
    "- Se crea una referencia en la memoria para `objeto`\n",
    "- Al asignar `nombre_variable` a `objeto`, `nombre_variable` ahora hace referencia al mismo objeto en la memoria que `objeto`\n",
    "- Los cambios realizados en el objeto a través de `nombre_variable` también se reflejarán cuando se accede a `objeto`"
   ]
  }
 ],
 "metadata": {
  "kernelspec": {
   "display_name": "Python 3 (ipykernel)",
   "language": "python",
   "name": "python3"
  },
  "language_info": {
   "codemirror_mode": {
    "name": "ipython",
    "version": 3
   },
   "file_extension": ".py",
   "mimetype": "text/x-python",
   "name": "python",
   "nbconvert_exporter": "python",
   "pygments_lexer": "ipython3",
   "version": "3.8.5"
  }
 },
 "nbformat": 4,
 "nbformat_minor": 5
}
