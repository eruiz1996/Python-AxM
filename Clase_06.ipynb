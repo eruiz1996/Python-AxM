{
 "cells": [
  {
   "cell_type": "markdown",
   "id": "24732174-3c9f-48c1-ad7c-68054e425ead",
   "metadata": {},
   "source": [
    "# Funciones anónimas\n",
    "Las funciones anónimas, también conocidas como **funciones lambda** (por el cálculo lambda), permiten definir funciones en una sola línea de código, lo que puede hace que el código sea más legible y conciso, especialmente para funciones simples.\n",
    "\n",
    "**Sintaxis** (Definir función)\n",
    "\n",
    "```python\n",
    "lambda argumentos: expresion\n",
    "```\n",
    "\n",
    "**Sintaxis** (Evaluando función)\n",
    "\n",
    "```python\n",
    "(lambda argumentos: expresion)(argumentos_aplicar)\n",
    "```\n",
    "\n",
    "donde:\n",
    "\n",
    "- `argumentos`: es el listado de parámetros\n",
    "- `expresion`: el resultado que la función devolverá\n",
    "- `argumentos_aplicar` (opcional): si se desea evaluar la función se da un listado de argumentos"
   ]
  },
  {
   "cell_type": "markdown",
   "id": "ca16e5fe-81ff-4d06-b06d-8e10b536ff89",
   "metadata": {},
   "source": [
    "## Evaluando"
   ]
  },
  {
   "cell_type": "code",
   "execution_count": 2,
   "id": "9fe9098b-907e-4f3f-b064-e14de1a578ac",
   "metadata": {},
   "outputs": [
    {
     "data": {
      "text/plain": [
       "3"
      ]
     },
     "execution_count": 2,
     "metadata": {},
     "output_type": "execute_result"
    }
   ],
   "source": [
    "(lambda x: x + 1)(2)"
   ]
  },
  {
   "cell_type": "markdown",
   "id": "9a8b7d1f-fe87-4b4d-a6e9-0579949d130c",
   "metadata": {},
   "source": [
    "## Definiendo una función una función anónima\n",
    "### Con un argumento"
   ]
  },
  {
   "cell_type": "code",
   "execution_count": 3,
   "id": "0ff8867e-8e0d-4e79-818a-8f44ae634fa6",
   "metadata": {},
   "outputs": [
    {
     "data": {
      "text/plain": [
       "3"
      ]
     },
     "execution_count": 3,
     "metadata": {},
     "output_type": "execute_result"
    }
   ],
   "source": [
    "sumar_uno = lambda x: x + 1\n",
    "sumar_uno(2)"
   ]
  },
  {
   "cell_type": "markdown",
   "id": "9e6e4c7b-92ba-452f-b668-8313a9345366",
   "metadata": {},
   "source": [
    "### Con dos parámetros"
   ]
  },
  {
   "cell_type": "code",
   "execution_count": 4,
   "id": "917a8c89-c88c-4bcf-99e3-4cc6de0c6f5f",
   "metadata": {},
   "outputs": [
    {
     "data": {
      "text/plain": [
       "8"
      ]
     },
     "execution_count": 4,
     "metadata": {},
     "output_type": "execute_result"
    }
   ],
   "source": [
    "elevar = lambda x, y: x ** y\n",
    "elevar(2, 3)"
   ]
  },
  {
   "cell_type": "markdown",
   "id": "75beddf5-ef55-4b75-969f-1aff3ebf4a19",
   "metadata": {},
   "source": [
    "## Aplicando otras funciones\n",
    "Las funciones lambda tienen la característica de ser funciones de **orden superior**, lo que significa que pueden <u>aceptar otras funciones como argumentos</u> o <u>devolver funciones</u> como resultados. "
   ]
  },
  {
   "cell_type": "code",
   "execution_count": 1,
   "id": "b5d85d99-a49d-472f-bf94-2f547bdb5cd2",
   "metadata": {},
   "outputs": [],
   "source": [
    "orden_superior = lambda arg1, arg2, func: func(arg1, arg2)"
   ]
  },
  {
   "cell_type": "code",
   "execution_count": 5,
   "id": "954a77f1-c273-414d-abb6-4b8352d0e7f7",
   "metadata": {},
   "outputs": [
    {
     "data": {
      "text/plain": [
       "8"
      ]
     },
     "execution_count": 5,
     "metadata": {},
     "output_type": "execute_result"
    }
   ],
   "source": [
    "orden_superior(2, 3, elevar)"
   ]
  },
  {
   "cell_type": "markdown",
   "id": "660b4298-ffd0-4e2d-bc26-a49770805ecf",
   "metadata": {},
   "source": [
    "**Ejemplo**. Obtener la longitud, mínimo, suma y máximo de una lista con los números del `0` al `4`."
   ]
  },
  {
   "cell_type": "code",
   "execution_count": 6,
   "id": "a96bc23d-67b6-4ffd-9cc9-37f99840029b",
   "metadata": {},
   "outputs": [
    {
     "name": "stdout",
     "output_type": "stream",
     "text": [
      "La longitud de la lista [0, 1, 2, 3, 4] es: 5\n",
      "El mínimo de la lista [0, 1, 2, 3, 4] es: 0\n",
      "La suma de la lista [0, 1, 2, 3, 4] es: 10\n",
      "El máximo de la lista [0, 1, 2, 3, 4] es: 4\n"
     ]
    }
   ],
   "source": [
    "# definimos lista\n",
    "numeros = list(range(5))\n",
    "# definimos función anónima\n",
    "aplicar_funcion = lambda lista, func: func(lista)\n",
    "# aplicamos\n",
    "longitud = aplicar_funcion(numeros, len)\n",
    "minimo = aplicar_funcion(numeros, min)\n",
    "suma = aplicar_funcion(numeros, sum)\n",
    "maximo = aplicar_funcion(numeros, max)\n",
    "# verificamos\n",
    "print(f'La longitud de la lista {numeros} es: {longitud}')\n",
    "print(f'El mínimo de la lista {numeros} es: {minimo}')\n",
    "print(f'La suma de la lista {numeros} es: {suma}')\n",
    "print(f'El máximo de la lista {numeros} es: {maximo}')"
   ]
  },
  {
   "cell_type": "markdown",
   "id": "241d538d-e0d3-4181-8973-08c4b671542d",
   "metadata": {},
   "source": [
    "# Diccionarios\n",
    "Son estructuras de datos que almacenan **pares de elementos**, cada uno consistiendo en una **clave** y un **valor**. Son *mutables* y están optimizados para recuperar valores cuando se conoce la clave.\n",
    "\n",
    "**Sintaxis**\n",
    "\n",
    "```python\n",
    "diccionario = {\n",
    "    clave_1:valor_1,\n",
    "    clave_2:valor_2,\n",
    "    clave_3:valor_3,\n",
    "    ...\n",
    "    clave_n:valor_n\n",
    "}\n",
    "```\n",
    "\n",
    "donde para obtener `valor_i` hay que aplicar `diccionario[clave_i]`"
   ]
  },
  {
   "cell_type": "code",
   "execution_count": 7,
   "id": "e155fb7f-06ce-4c39-b090-4cf52ab2b126",
   "metadata": {},
   "outputs": [],
   "source": [
    "datos = {\n",
    "    'nombre':'Josué',\n",
    "    'edad':24,\n",
    "    'correo':'josué@ejemplo.com'\n",
    "}"
   ]
  },
  {
   "cell_type": "markdown",
   "id": "6c72e155-5d2b-40b0-9909-6744f7b541bd",
   "metadata": {},
   "source": [
    "## Acceder a elementos"
   ]
  },
  {
   "cell_type": "code",
   "execution_count": 8,
   "id": "05809bb0-0d73-4746-ba37-891b914c0248",
   "metadata": {},
   "outputs": [
    {
     "data": {
      "text/plain": [
       "24"
      ]
     },
     "execution_count": 8,
     "metadata": {},
     "output_type": "execute_result"
    }
   ],
   "source": [
    "datos['edad']"
   ]
  },
  {
   "cell_type": "markdown",
   "id": "8ded128d-e7b7-4f37-9b51-5ce464189ba7",
   "metadata": {},
   "source": [
    "## Modificar elementos\n",
    "Para modificar los elementos basta con reescribirlos."
   ]
  },
  {
   "cell_type": "code",
   "execution_count": 9,
   "id": "d519b566-bd02-4f5d-9a30-ffa55552698e",
   "metadata": {},
   "outputs": [],
   "source": [
    "datos['edad'] = 25"
   ]
  },
  {
   "cell_type": "code",
   "execution_count": 10,
   "id": "a247af62-818d-4c69-98c4-f6fcb715aea0",
   "metadata": {},
   "outputs": [
    {
     "data": {
      "text/plain": [
       "{'nombre': 'Josué', 'edad': 25, 'correo': 'josué@ejemplo.com'}"
      ]
     },
     "execution_count": 10,
     "metadata": {},
     "output_type": "execute_result"
    }
   ],
   "source": [
    "datos"
   ]
  },
  {
   "cell_type": "markdown",
   "id": "b8aec831-1084-45f1-84ba-6057b062b9db",
   "metadata": {},
   "source": [
    "## Agregar elementos\n",
    "**Sintaxis**\n",
    "\n",
    "```python\n",
    "diccionario[nueva_clave] = valor\n",
    "```\n",
    "\n",
    "Agrega `valor` asociado a `nueva_clave`"
   ]
  },
  {
   "cell_type": "code",
   "execution_count": 11,
   "id": "c07fbdaf-86ea-44bb-b909-075d663fa43f",
   "metadata": {},
   "outputs": [],
   "source": [
    "datos['fecha_nacimiento'] = '22-feb-2000'"
   ]
  },
  {
   "cell_type": "code",
   "execution_count": 12,
   "id": "5a3e0b79-af35-4d6e-9e92-dc903e913dcb",
   "metadata": {},
   "outputs": [
    {
     "data": {
      "text/plain": [
       "{'nombre': 'Josué',\n",
       " 'edad': 25,\n",
       " 'correo': 'josué@ejemplo.com',\n",
       " 'fecha_nacimiento': '22-feb-2000'}"
      ]
     },
     "execution_count": 12,
     "metadata": {},
     "output_type": "execute_result"
    }
   ],
   "source": [
    "datos"
   ]
  },
  {
   "cell_type": "markdown",
   "id": "600d8d70-71b4-411b-834a-300e9b121920",
   "metadata": {},
   "source": [
    "## Métodos `keys()` y `values()`\n",
    "Nos permiten acceder a las **claves** y **valores**, respectivamente."
   ]
  },
  {
   "cell_type": "code",
   "execution_count": 13,
   "id": "a629b47a-e934-4f7f-8e8e-416fd3928fac",
   "metadata": {},
   "outputs": [
    {
     "data": {
      "text/plain": [
       "dict_keys(['nombre', 'edad', 'correo', 'fecha_nacimiento'])"
      ]
     },
     "execution_count": 13,
     "metadata": {},
     "output_type": "execute_result"
    }
   ],
   "source": [
    "datos.keys()"
   ]
  },
  {
   "cell_type": "code",
   "execution_count": 14,
   "id": "dd5aecdd-0b4a-4729-9e2b-05c481596aa9",
   "metadata": {},
   "outputs": [
    {
     "data": {
      "text/plain": [
       "dict_values(['Josué', 25, 'josué@ejemplo.com', '22-feb-2000'])"
      ]
     },
     "execution_count": 14,
     "metadata": {},
     "output_type": "execute_result"
    }
   ],
   "source": [
    "datos.values()"
   ]
  },
  {
   "cell_type": "markdown",
   "id": "b101a69a-f6a7-433e-a5d4-c87ffa2b861e",
   "metadata": {},
   "source": [
    "## Iterar sobre un diccionario\n",
    "### Usando `keys()` y `values()`"
   ]
  },
  {
   "cell_type": "code",
   "execution_count": 15,
   "id": "eda84227-6cc2-4e7b-a47d-2101b830302a",
   "metadata": {},
   "outputs": [
    {
     "name": "stdout",
     "output_type": "stream",
     "text": [
      "nombre Josué\n",
      "edad 25\n",
      "correo josué@ejemplo.com\n",
      "fecha_nacimiento 22-feb-2000\n"
     ]
    }
   ],
   "source": [
    "for clave, valor in zip(datos.keys(), datos.values()):\n",
    "    print(clave, valor)"
   ]
  },
  {
   "cell_type": "markdown",
   "id": "a50989df-e153-4968-a24f-7b89cd7475f9",
   "metadata": {},
   "source": [
    "### Usando `items()`"
   ]
  },
  {
   "cell_type": "code",
   "execution_count": 16,
   "id": "9e5fd356-fe28-4bc8-bb75-1e27b2289089",
   "metadata": {},
   "outputs": [
    {
     "name": "stdout",
     "output_type": "stream",
     "text": [
      "nombre Josué\n",
      "edad 25\n",
      "correo josué@ejemplo.com\n",
      "fecha_nacimiento 22-feb-2000\n"
     ]
    }
   ],
   "source": [
    "for clave, valor in datos.items():\n",
    "    print(clave, valor)"
   ]
  },
  {
   "cell_type": "markdown",
   "id": "3c8e4c5d-4d47-481c-90de-21fa164cda83",
   "metadata": {},
   "source": [
    "## Diccionarios vacíos"
   ]
  },
  {
   "cell_type": "code",
   "execution_count": 17,
   "id": "ac2984aa-8ffe-4976-af7c-7a8006dba6e1",
   "metadata": {},
   "outputs": [
    {
     "data": {
      "text/plain": [
       "{}"
      ]
     },
     "execution_count": 17,
     "metadata": {},
     "output_type": "execute_result"
    }
   ],
   "source": [
    "{}"
   ]
  },
  {
   "cell_type": "code",
   "execution_count": 18,
   "id": "2d1334c6-9ac2-4c4f-b72d-a60e17b4d614",
   "metadata": {},
   "outputs": [
    {
     "data": {
      "text/plain": [
       "{}"
      ]
     },
     "execution_count": 18,
     "metadata": {},
     "output_type": "execute_result"
    }
   ],
   "source": [
    "dict()"
   ]
  },
  {
   "cell_type": "markdown",
   "id": "9bfbc605-88a4-428f-b850-66ca2f829ef8",
   "metadata": {},
   "source": [
    "### Ejemplo. Contador de palabras\n",
    "Dado un texto, imprime en un listado el número de palabras diferentes que tenga y cuántas veces aparece cada una."
   ]
  },
  {
   "cell_type": "code",
   "execution_count": 19,
   "id": "fd6c22fc-53ac-402f-b1fd-c0d7ab4b31d6",
   "metadata": {
    "tags": []
   },
   "outputs": [
    {
     "name": "stdout",
     "output_type": "stream",
     "text": [
      "La palabra \"hola\" aparece 3 veces\n",
      "La palabra \"mundo\" aparece una vez\n",
      "La palabra \"todos\" aparece 2 veces\n",
      "La palabra \"adiós\" aparece una vez\n",
      "La palabra \"otra\" aparece una vez\n"
     ]
    }
   ],
   "source": [
    "texto = \"hola mundo hola todos adiós hola otra todos\"\n",
    "palabras = texto.split()\n",
    "\n",
    "contador_palabras = {}\n",
    "for palabra in palabras:\n",
    "    # si la palabra ya se encuentra en el diccionario\n",
    "    if palabra in contador_palabras:\n",
    "        # incrementa el contador\n",
    "        contador_palabras[palabra] += 1\n",
    "    # en otro caso, la palabra no existe en el diccionario\n",
    "    else:\n",
    "        # por lo que agregamso la palabra con contador = 1\n",
    "        contador_palabras[palabra] = 1\n",
    "\n",
    "for palabra, contador in contador_palabras.items():\n",
    "    # si aparece más de una vez\n",
    "    if contador > 1:\n",
    "        print(f'La palabra \"{palabra}\" aparece {contador} veces')\n",
    "    else:\n",
    "        print(f'La palabra \"{palabra}\" aparece una vez')"
   ]
  },
  {
   "cell_type": "markdown",
   "id": "4448548b-a055-4719-87be-04d29debd55e",
   "metadata": {},
   "source": [
    "**Nota**\n",
    "\n",
    "Se puede pensar a los objetos de tipo diccionario como una generalización de las listas, o dicho de otro modo, se puede pensar a las listas como diccionarios donde las claves son <u>índices</u> que empiezan en el número `0`."
   ]
  },
  {
   "cell_type": "markdown",
   "id": "36e27065-a527-4a52-993d-90dd4daff8cd",
   "metadata": {},
   "source": [
    "# Conjuntos\n",
    "Son estrucutras de datos con las siguientes características:\n",
    "- Sus elementos carecen de un orden\n",
    "- No hay elementos duplicados\n",
    "- Sus elementos deben de ser inmutables\n",
    "\n",
    "**Sintaxis**\n",
    "```python\n",
    "{elemento_1, elemento_2, ... , elemento_n}\n",
    "```"
   ]
  },
  {
   "cell_type": "code",
   "execution_count": 20,
   "id": "184cc735-bf1b-4362-b773-7e9b7324ad48",
   "metadata": {},
   "outputs": [
    {
     "data": {
      "text/plain": [
       "set"
      ]
     },
     "execution_count": 20,
     "metadata": {},
     "output_type": "execute_result"
    }
   ],
   "source": [
    "conjunto = {1, 2, 3, 4}\n",
    "type(conjunto)"
   ]
  },
  {
   "cell_type": "code",
   "execution_count": 21,
   "id": "6578835b-af61-4ecd-bc87-7d142728c632",
   "metadata": {},
   "outputs": [
    {
     "data": {
      "text/plain": [
       "{1, 2, 3, 4}"
      ]
     },
     "execution_count": 21,
     "metadata": {},
     "output_type": "execute_result"
    }
   ],
   "source": [
    "conjunto"
   ]
  },
  {
   "cell_type": "code",
   "execution_count": 22,
   "id": "c6398759-da77-48f4-b8bd-7ab72bbc556f",
   "metadata": {},
   "outputs": [],
   "source": [
    "con_repetidos = {1, 2, 3, 3, 2, 1, 1, 4}"
   ]
  },
  {
   "cell_type": "code",
   "execution_count": 24,
   "id": "75d68579-b02b-4b5e-a42f-af412f6f8ed8",
   "metadata": {},
   "outputs": [
    {
     "data": {
      "text/plain": [
       "True"
      ]
     },
     "execution_count": 24,
     "metadata": {},
     "output_type": "execute_result"
    }
   ],
   "source": [
    "conjunto == con_repetidos"
   ]
  },
  {
   "cell_type": "code",
   "execution_count": 23,
   "id": "802c243b-86bd-403f-81c8-4c1ab1178786",
   "metadata": {},
   "outputs": [
    {
     "data": {
      "text/plain": [
       "{1, 2, 3, 4}"
      ]
     },
     "execution_count": 23,
     "metadata": {},
     "output_type": "execute_result"
    }
   ],
   "source": [
    "con_repetidos"
   ]
  },
  {
   "cell_type": "markdown",
   "id": "e2d9de12-70f5-4db8-b4ab-6a14596e209d",
   "metadata": {},
   "source": [
    "## Conjuntos vacíos"
   ]
  },
  {
   "cell_type": "code",
   "execution_count": 25,
   "id": "d346ac31-c6e3-4d59-99df-17b429071c20",
   "metadata": {
    "tags": []
   },
   "outputs": [
    {
     "data": {
      "text/plain": [
       "set"
      ]
     },
     "execution_count": 25,
     "metadata": {},
     "output_type": "execute_result"
    }
   ],
   "source": [
    "vacio = set()\n",
    "type(vacio)"
   ]
  },
  {
   "cell_type": "markdown",
   "id": "ab8fd5e2-7ca1-4c53-90a8-e69004977b92",
   "metadata": {},
   "source": [
    "## A partir de un iterable\n",
    "Se puede crear un conjunto a partir de un objeto iterable con la siguiente sintaxis:\n",
    "\n",
    "**Sintaxis**\n",
    "```python\n",
    "set(iterable)\n",
    "```"
   ]
  },
  {
   "cell_type": "code",
   "execution_count": 26,
   "id": "1f42e972-0414-4b35-8404-528558de6cbf",
   "metadata": {},
   "outputs": [],
   "source": [
    "jugadores = {'j1', 'j1', 'j2', 'j3', 'j1', 'j2'}"
   ]
  },
  {
   "cell_type": "code",
   "execution_count": 27,
   "id": "51a50913-2784-401f-bdd2-ecf544db8116",
   "metadata": {},
   "outputs": [
    {
     "data": {
      "text/plain": [
       "{'j1', 'j2', 'j3'}"
      ]
     },
     "execution_count": 27,
     "metadata": {},
     "output_type": "execute_result"
    }
   ],
   "source": [
    "jugadores"
   ]
  },
  {
   "cell_type": "code",
   "execution_count": 28,
   "id": "db958f92-a42a-4f72-a9f4-15e066168b60",
   "metadata": {},
   "outputs": [
    {
     "data": {
      "text/plain": [
       "{'a', 'c', 'd', 'e', 'i', 'l', 'm', 'n', 'o', 'r', 's', 't'}"
      ]
     },
     "execution_count": 28,
     "metadata": {},
     "output_type": "execute_result"
    }
   ],
   "source": [
    "palabra = 'esternocleidomastoideo'\n",
    "letras = set(palabra)\n",
    "letras"
   ]
  },
  {
   "cell_type": "markdown",
   "id": "4d4926ae-263d-453e-87dd-218f9c6abdd2",
   "metadata": {},
   "source": [
    "**Elementos Inmutables**\n",
    "\n",
    "Los conjuntos no pueden tener elementos que sean mutables."
   ]
  },
  {
   "cell_type": "code",
   "execution_count": 29,
   "id": "d684cbef-12ec-4335-b529-8b1b884ad789",
   "metadata": {},
   "outputs": [
    {
     "data": {
      "text/plain": [
       "{(False, True), 1, 'Ejemplo'}"
      ]
     },
     "execution_count": 29,
     "metadata": {},
     "output_type": "execute_result"
    }
   ],
   "source": [
    "{1, (False, True), 'Ejemplo'}"
   ]
  },
  {
   "cell_type": "code",
   "execution_count": 30,
   "id": "57b31d12-4ce0-4a18-8f52-ea6d75272421",
   "metadata": {},
   "outputs": [
    {
     "ename": "TypeError",
     "evalue": "unhashable type: 'list'",
     "output_type": "error",
     "traceback": [
      "\u001b[1;31m---------------------------------------------------------------------------\u001b[0m",
      "\u001b[1;31mTypeError\u001b[0m                                 Traceback (most recent call last)",
      "\u001b[1;32m~\\AppData\\Local\\Temp\\ipykernel_11164\\3685719995.py\u001b[0m in \u001b[0;36m<module>\u001b[1;34m\u001b[0m\n\u001b[1;32m----> 1\u001b[1;33m \u001b[1;33m{\u001b[0m\u001b[1;36m1\u001b[0m\u001b[1;33m,\u001b[0m \u001b[1;33m[\u001b[0m\u001b[1;32mFalse\u001b[0m\u001b[1;33m,\u001b[0m \u001b[1;32mTrue\u001b[0m\u001b[1;33m]\u001b[0m\u001b[1;33m,\u001b[0m \u001b[1;34m'Ejemplo'\u001b[0m\u001b[1;33m}\u001b[0m\u001b[1;33m\u001b[0m\u001b[1;33m\u001b[0m\u001b[0m\n\u001b[0m",
      "\u001b[1;31mTypeError\u001b[0m: unhashable type: 'list'"
     ]
    }
   ],
   "source": [
    "{1, [False, True], 'Ejemplo'}"
   ]
  },
  {
   "cell_type": "markdown",
   "id": "8edfe940-ed46-48ef-b1c9-aac87549b1ad",
   "metadata": {},
   "source": [
    "## Método `union()`\n",
    "\n",
    "**Sintaxis**\n",
    "\n",
    "```python\n",
    "conjunto1.union(conjunto2)\n",
    "```\n",
    "\n",
    "retorna la unión de los elementos únicos entre `conjunto1` y `conjunto2`"
   ]
  },
  {
   "cell_type": "code",
   "execution_count": 31,
   "id": "686b48b2-0001-4c90-9188-b6f88828099c",
   "metadata": {},
   "outputs": [
    {
     "data": {
      "text/plain": [
       "{'Aguascalientes', 'Chiapas', 'Morelia', 'México', 'San Juan del Río'}"
      ]
     },
     "execution_count": 31,
     "metadata": {},
     "output_type": "execute_result"
    }
   ],
   "source": [
    "llamadas_matutinas = ['México', 'San Juan del Río', 'México', 'Aguascalientes', 'Aguascalientes']\n",
    "llamadas_vespertinas = ['Aguascalientes', 'Morelia', 'Chiapas', 'México']\n",
    "llamadas = set(llamadas_matutinas).union(set(llamadas_vespertinas))\n",
    "llamadas"
   ]
  },
  {
   "cell_type": "markdown",
   "id": "11125622-8ff7-4f05-89ef-a0feae1104bb",
   "metadata": {},
   "source": [
    "## Método `intersection()`\n",
    "\n",
    "**Sintaxis**\n",
    "\n",
    "```python\n",
    "conjunto1.intersection(conjunto2)\n",
    "```\n",
    "\n",
    "retorna los elementos únicos que tienen en común `conjunto1` y `conjunto2`"
   ]
  },
  {
   "cell_type": "code",
   "execution_count": 32,
   "id": "4a7ec882-8614-4974-86ca-582d9c94ba04",
   "metadata": {},
   "outputs": [
    {
     "data": {
      "text/plain": [
       "{'Aguascalientes', 'México'}"
      ]
     },
     "execution_count": 32,
     "metadata": {},
     "output_type": "execute_result"
    }
   ],
   "source": [
    "llamadas = set(llamadas_matutinas).intersection(set(llamadas_vespertinas))\n",
    "llamadas"
   ]
  },
  {
   "cell_type": "markdown",
   "id": "dc350308-b032-4e41-861b-a6d4140a3d98",
   "metadata": {},
   "source": [
    "# Excepciones\n",
    "El manejo de excepciones nos ayuda a evitar que no se interrumpa el flujo de un código puesto que, cuando hay un error a la hora de estar ejecutando un programa, se interrumpe todo.\n",
    "\n",
    "Veamos un ejemplo:\n",
    "\n",
    "Supongamos que tenemos las siguientes variables:"
   ]
  },
  {
   "cell_type": "code",
   "execution_count": 33,
   "id": "6ee58923-0083-4400-826d-4f0f71e16338",
   "metadata": {},
   "outputs": [],
   "source": [
    "numerador = 10\n",
    "denominador = 5"
   ]
  },
  {
   "cell_type": "markdown",
   "id": "3f2a3275-c122-4232-b832-296f0b68ede8",
   "metadata": {},
   "source": [
    "Y por alguna razón sucede que:"
   ]
  },
  {
   "cell_type": "code",
   "execution_count": 34,
   "id": "202dde4f-08d9-4146-9fe8-71b17e3267ec",
   "metadata": {},
   "outputs": [],
   "source": [
    "denominador -= 5"
   ]
  },
  {
   "cell_type": "code",
   "execution_count": 35,
   "id": "1d5d3081-1fe1-4027-aaf1-ee90388db7b1",
   "metadata": {},
   "outputs": [
    {
     "ename": "ZeroDivisionError",
     "evalue": "division by zero",
     "output_type": "error",
     "traceback": [
      "\u001b[1;31m---------------------------------------------------------------------------\u001b[0m",
      "\u001b[1;31mZeroDivisionError\u001b[0m                         Traceback (most recent call last)",
      "\u001b[1;32m~\\AppData\\Local\\Temp\\ipykernel_11164\\361893215.py\u001b[0m in \u001b[0;36m<module>\u001b[1;34m\u001b[0m\n\u001b[1;32m----> 1\u001b[1;33m \u001b[0mprint\u001b[0m\u001b[1;33m(\u001b[0m\u001b[1;34mf'El resultado es: {numerador/denominador}'\u001b[0m\u001b[1;33m)\u001b[0m\u001b[1;33m\u001b[0m\u001b[1;33m\u001b[0m\u001b[0m\n\u001b[0m\u001b[0;32m      2\u001b[0m \u001b[0mprint\u001b[0m\u001b[1;33m(\u001b[0m\u001b[1;34m'Todo el proceso que siga ya no se va a ejecutar'\u001b[0m\u001b[1;33m)\u001b[0m\u001b[1;33m\u001b[0m\u001b[1;33m\u001b[0m\u001b[0m\n",
      "\u001b[1;31mZeroDivisionError\u001b[0m: division by zero"
     ]
    }
   ],
   "source": [
    "print(f'El resultado es: {numerador/denominador}')\n",
    "print('Todo el proceso que siga ya no se va a ejecutar')"
   ]
  },
  {
   "cell_type": "markdown",
   "id": "ca9ac71a-c8b1-464d-8e39-f69b64d08f4f",
   "metadata": {},
   "source": [
    "Si bien se puede corregir este error con una condición, existen muchos otros tipos de errores que nos conviene identificarlos."
   ]
  },
  {
   "cell_type": "markdown",
   "id": "eb384d04-bafb-47f8-8cee-5a8bb377a684",
   "metadata": {},
   "source": [
    "## Estructura `try`-`except`\n",
    "**Sintaxis**\n",
    "\n",
    "```python\n",
    "try:\n",
    "    # código que se quiere ejecutar\n",
    "except:\n",
    "    # código que se va a ejecutar en caso de ocurrir algún error\n",
    "\n",
    "```"
   ]
  },
  {
   "cell_type": "code",
   "execution_count": 38,
   "id": "c62889ed-7696-418d-a7e9-f6d2e1307f74",
   "metadata": {},
   "outputs": [
    {
     "name": "stdout",
     "output_type": "stream",
     "text": [
      "Otros procesos\n",
      "Ha ocurrido un error, revisar la división de numerador/denominador\n",
      "Se ejecutan los demás procesos\n"
     ]
    }
   ],
   "source": [
    "numerador = 10\n",
    "denominador = 5\n",
    "print('Otros procesos')\n",
    "denominador -= 5\n",
    "try:\n",
    "    print(numerador/denominador)\n",
    "except:\n",
    "    print('Ha ocurrido un error, revisar la división de numerador/denominador')\n",
    "print('Se ejecutan los demás procesos')"
   ]
  },
  {
   "cell_type": "markdown",
   "id": "d942673b-6345-47a1-afb5-04832d6d1d5f",
   "metadata": {},
   "source": [
    "## Manejo específico de las excepciones\n",
    "**Sintaxis**\n",
    "\n",
    "```python\n",
    "try:\n",
    "    # código que se quiere ejecutar\n",
    "except tipoError_1:\n",
    "    # código que se ejecuta cuando ocurre el tipo de Error 1\n",
    "except tipoError_2:\n",
    "    # código que se ejecuta cuando ocurre el tipo de Error 2\n",
    "...\n",
    "except tipoError_n:\n",
    "    # código que se ejecuta cuando ocurre el tipo de Error n\n",
    "```\n",
    "\n",
    "donde `tipoError_i` pueden ser todos los que se encuentran [aquí](https://docs.python.org/3/library/exceptions.html)"
   ]
  },
  {
   "cell_type": "code",
   "execution_count": 43,
   "id": "47a550e3-77bc-459c-aa53-9f7cf9abf11f",
   "metadata": {},
   "outputs": [],
   "source": [
    "def ejemplo_excepciones(n1, n2):\n",
    "    try:\n",
    "        division = n1/n2\n",
    "        return division\n",
    "    except ZeroDivisionError:\n",
    "        print('Dividiste entre 0, operación no válida')\n",
    "    except NameError:\n",
    "        print('Alguna de tus variables no está definida')"
   ]
  },
  {
   "cell_type": "code",
   "execution_count": 40,
   "id": "281e85f2-e1dc-4494-88d1-4329269aa2b1",
   "metadata": {},
   "outputs": [
    {
     "data": {
      "text/plain": [
       "4.0"
      ]
     },
     "execution_count": 40,
     "metadata": {},
     "output_type": "execute_result"
    }
   ],
   "source": [
    "ejemplo_excepciones(8, 2)"
   ]
  },
  {
   "cell_type": "code",
   "execution_count": 41,
   "id": "f9675bab-ec38-4226-95bf-aaa1cd4ea0ac",
   "metadata": {},
   "outputs": [
    {
     "name": "stdout",
     "output_type": "stream",
     "text": [
      "Dividiste entre 0, operación no válida\n"
     ]
    }
   ],
   "source": [
    "numerador = 10\n",
    "denominador = 0\n",
    "ejemplo_excepciones(numerador, denominador)"
   ]
  },
  {
   "cell_type": "code",
   "execution_count": 46,
   "id": "12305b87-00a8-4702-b5bd-15ec7e7ee48f",
   "metadata": {},
   "outputs": [
    {
     "name": "stdout",
     "output_type": "stream",
     "text": [
      "Alguna de las variables no es un número\n"
     ]
    }
   ],
   "source": [
    "def ejemplo_excepciones(n1, n2):\n",
    "    try:\n",
    "        division = n1/n2\n",
    "        return division\n",
    "    except ZeroDivisionError:\n",
    "        print('Dividiste entre 0, operación no válida')\n",
    "    except TypeError:\n",
    "        print('Alguna de las variables no es un número')\n",
    "n1 = 10\n",
    "n2 = '5'\n",
    "ejemplo_excepciones(n1, n2)"
   ]
  },
  {
   "cell_type": "markdown",
   "id": "b6ea2c93-034f-4039-bd0f-34d451982bc3",
   "metadata": {},
   "source": [
    "## Estructura `try`-`except`-`else`-`finally`\n",
    "Es la estructura más robusta para el manejo de las excepciones\n",
    "\n",
    "**Sintaxis**\n",
    "```python\n",
    "try:\n",
    "    # código que se quiere ejecutar\n",
    "except tipoError_1:\n",
    "    # código que se ejecuta cuando ocurre el tipo de Error 1\n",
    "except tipoError_2:\n",
    "    # código que se ejecuta cuando ocurre el tipo de Error 2\n",
    "...\n",
    "except tipoError_n:\n",
    "    # código que se ejecuta cuando ocurre el tipo de Error n\n",
    "else:\n",
    "    # código que se va a ejecutar si no hubo NINGÚN error\n",
    "finally:\n",
    "    # código que se va a ejecutar SIEMPRE\n",
    "```"
   ]
  },
  {
   "cell_type": "code",
   "execution_count": 67,
   "id": "21f752af-c20b-4382-aec7-de330b36e490",
   "metadata": {},
   "outputs": [],
   "source": [
    "def ejemplo_excepciones_final(n1, n2, lista):\n",
    "    try:\n",
    "        # hacemos división\n",
    "        division = n1/n2\n",
    "        # accedemos al cuarto elemento de la lista\n",
    "        cuarta_posicion = lista[3]\n",
    "    except ZeroDivisionError:\n",
    "        print('Dividiste entre 0, operación no válida')\n",
    "    except TypeError:\n",
    "        print('Alguna de las variables no es un número')\n",
    "    except IndexError:\n",
    "        print('Índice fuera del rango de la lista')\n",
    "    else:\n",
    "        print(f'La división es: {n1/n2} y la 4ta posición es {cuarta_posicion}')\n",
    "    finally:\n",
    "        print('Que tengas un buen día!')"
   ]
  },
  {
   "cell_type": "code",
   "execution_count": 68,
   "id": "c71ebdeb-2c59-4c73-9330-4ed3403871e6",
   "metadata": {},
   "outputs": [
    {
     "name": "stdout",
     "output_type": "stream",
     "text": [
      "Dividiste entre 0, operación no válida\n",
      "Que tengas un buen día!\n"
     ]
    }
   ],
   "source": [
    "n1 = 1\n",
    "n2 = 0\n",
    "lista = ['a', 'b', 'c', 'd', 'e']\n",
    "ejemplo_excepciones_final(n1, n2, lista)"
   ]
  },
  {
   "cell_type": "code",
   "execution_count": 69,
   "id": "337436f9-75f3-4380-9f5a-9ebebfb93eaf",
   "metadata": {},
   "outputs": [
    {
     "name": "stdout",
     "output_type": "stream",
     "text": [
      "Alguna de las variables no es un número\n",
      "Que tengas un buen día!\n"
     ]
    }
   ],
   "source": [
    "n1 = 1\n",
    "n2 = '1'\n",
    "lista = ['a', 'b', 'c', 'd', 'e']\n",
    "ejemplo_excepciones_final(n1, n2, lista)"
   ]
  },
  {
   "cell_type": "code",
   "execution_count": 70,
   "id": "f17272f6-5562-4f42-b01b-776a5ff6ee64",
   "metadata": {},
   "outputs": [
    {
     "name": "stdout",
     "output_type": "stream",
     "text": [
      "Índice fuera del rango de la lista\n",
      "Que tengas un buen día!\n"
     ]
    }
   ],
   "source": [
    "n1 = 1\n",
    "n2 = 2\n",
    "lista = ['a', 'b']\n",
    "ejemplo_excepciones_final(n1, n2, lista)"
   ]
  },
  {
   "cell_type": "code",
   "execution_count": 71,
   "id": "0d7475ea-3a7b-4098-8ef2-05789e4ed4b8",
   "metadata": {},
   "outputs": [
    {
     "name": "stdout",
     "output_type": "stream",
     "text": [
      "La división es: 0.5 y la 4ta posición es d\n",
      "Que tengas un buen día!\n"
     ]
    }
   ],
   "source": [
    "n1 = 1\n",
    "n2 = 2\n",
    "lista = ['a', 'b', 'c', 'd', 'e']\n",
    "ejemplo_excepciones_final(n1, n2, lista)"
   ]
  },
  {
   "cell_type": "markdown",
   "id": "9be91f4c-c0ba-430d-a9be-ecd1d0e8b9c1",
   "metadata": {},
   "source": [
    "# Listas por comprensión\n",
    "Permiten construir una lista mediante la evaluación de una expresión para cada elemento de otro iterable.\n",
    "\n",
    "**Sintaxis**\n",
    "\n",
    "```python\n",
    "nueva_lista = [expresion for elemento in secuencia]\n",
    "```"
   ]
  },
  {
   "cell_type": "code",
   "execution_count": 72,
   "id": "f67e1e1b-9476-42af-8e1e-3abeff911cae",
   "metadata": {},
   "outputs": [
    {
     "data": {
      "text/plain": [
       "['Guido', 'Leslie', 'Ritchie']"
      ]
     },
     "execution_count": 72,
     "metadata": {},
     "output_type": "execute_result"
    }
   ],
   "source": [
    "nombres = ['guido', 'leslie', 'ritchie']\n",
    "[nombre.title() for nombre in nombres]"
   ]
  },
  {
   "cell_type": "code",
   "execution_count": 73,
   "id": "67e6e04c-cd0b-4eb7-a5fb-18360a5df6b6",
   "metadata": {},
   "outputs": [],
   "source": [
    "numeros = list(range(1, 10))\n",
    "cuadrados = [numero**2 for numero in numeros]"
   ]
  },
  {
   "cell_type": "code",
   "execution_count": 74,
   "id": "cf47e2c3-9f70-4a5c-839a-64ffcd40f53b",
   "metadata": {},
   "outputs": [
    {
     "data": {
      "text/plain": [
       "[1, 4, 9, 16, 25, 36, 49, 64, 81]"
      ]
     },
     "execution_count": 74,
     "metadata": {},
     "output_type": "execute_result"
    }
   ],
   "source": [
    "cuadrados"
   ]
  },
  {
   "cell_type": "markdown",
   "id": "0f94081b-9277-47f4-bf18-deea54bf0406",
   "metadata": {},
   "source": [
    "## Con `if`\n",
    "**Sintaxis**\n",
    "\n",
    "```python\n",
    "nueva_lista = [expresion for elemento in secuencia if condicion]\n",
    "```"
   ]
  },
  {
   "cell_type": "code",
   "execution_count": 75,
   "id": "e6b34b43-badc-4ece-943f-94c989100266",
   "metadata": {},
   "outputs": [],
   "source": [
    "cuadrados_pares = [numero**2 for numero in numeros if numero%2==0]"
   ]
  },
  {
   "cell_type": "code",
   "execution_count": 76,
   "id": "0edbb54f-ce22-4e30-8a12-89d92999e760",
   "metadata": {},
   "outputs": [
    {
     "data": {
      "text/plain": [
       "[4, 16, 36, 64]"
      ]
     },
     "execution_count": 76,
     "metadata": {},
     "output_type": "execute_result"
    }
   ],
   "source": [
    "cuadrados_pares"
   ]
  },
  {
   "cell_type": "markdown",
   "id": "06101fce-4b47-4caa-9733-26145d9198cf",
   "metadata": {
    "tags": []
   },
   "source": [
    "## Con `if`-`else`\n",
    "**Sintaxis**\n",
    "\n",
    "```python\n",
    "nueva_lista = [expresion_true if condicion else expresion_false for elemento in secuencia]\n",
    "```"
   ]
  },
  {
   "cell_type": "markdown",
   "id": "ceb29439-2ece-4bce-82e4-988276f34560",
   "metadata": {},
   "source": [
    "**Ejemplo**. Crea una lista que contenga `\"par\"` si el número es par o `\"non\"` si no es par, en el rango del 1 al 10."
   ]
  },
  {
   "cell_type": "code",
   "execution_count": 77,
   "id": "084c9b31-4232-46c1-8ad9-016ef932c5f4",
   "metadata": {},
   "outputs": [
    {
     "data": {
      "text/plain": [
       "['non', 'par', 'non', 'par', 'non', 'par', 'non', 'par', 'non', 'par']"
      ]
     },
     "execution_count": 77,
     "metadata": {},
     "output_type": "execute_result"
    }
   ],
   "source": [
    "par_impar = [\"par\" if x % 2 == 0 else \"non\" for x in range(1, 11)]\n",
    "par_impar"
   ]
  }
 ],
 "metadata": {
  "kernelspec": {
   "display_name": "Python 3 (ipykernel)",
   "language": "python",
   "name": "python3"
  },
  "language_info": {
   "codemirror_mode": {
    "name": "ipython",
    "version": 3
   },
   "file_extension": ".py",
   "mimetype": "text/x-python",
   "name": "python",
   "nbconvert_exporter": "python",
   "pygments_lexer": "ipython3",
   "version": "3.9.13"
  }
 },
 "nbformat": 4,
 "nbformat_minor": 5
}
