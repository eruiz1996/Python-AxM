{
 "cells": [
  {
   "cell_type": "markdown",
   "id": "24732174-3c9f-48c1-ad7c-68054e425ead",
   "metadata": {},
   "source": [
    "# Funciones anónimas\n",
    "Las funciones anónimas, también conocidas como **funciones lambda** (por el cálculo lambda), permiten definir funciones en una sola línea de código, lo que puede hacer que el código sea más legible y conciso, especialmente para funciones simples.\n",
    "\n",
    "**Sintaxis**\n",
    "\n",
    "```python\n",
    "lambda argumentos: expresion(argumentos_aplicar)\n",
    "```\n",
    "\n",
    "donde:\n",
    "\n",
    "- `argumentos`: es el listado de parámetros\n",
    "- `expresion`: el resultado que la función devolverá\n",
    "- `argumentos_aplicar` (opcional): si se desea evaluar la función se da un listado de argumentos"
   ]
  },
  {
   "cell_type": "markdown",
   "id": "ca16e5fe-81ff-4d06-b06d-8e10b536ff89",
   "metadata": {},
   "source": [
    "## Evaluando"
   ]
  },
  {
   "cell_type": "code",
   "execution_count": 1,
   "id": "9fe9098b-907e-4f3f-b064-e14de1a578ac",
   "metadata": {},
   "outputs": [
    {
     "data": {
      "text/plain": [
       "3"
      ]
     },
     "execution_count": 1,
     "metadata": {},
     "output_type": "execute_result"
    }
   ],
   "source": [
    "(lambda x: x + 1)(2)"
   ]
  },
  {
   "cell_type": "markdown",
   "id": "9a8b7d1f-fe87-4b4d-a6e9-0579949d130c",
   "metadata": {},
   "source": [
    "## Definiendo una función una función anónima\n",
    "### Con un argumento"
   ]
  },
  {
   "cell_type": "code",
   "execution_count": 2,
   "id": "0ff8867e-8e0d-4e79-818a-8f44ae634fa6",
   "metadata": {},
   "outputs": [
    {
     "data": {
      "text/plain": [
       "3"
      ]
     },
     "execution_count": 2,
     "metadata": {},
     "output_type": "execute_result"
    }
   ],
   "source": [
    "sumar_uno = lambda x: x + 1\n",
    "sumar_uno(2)"
   ]
  },
  {
   "cell_type": "markdown",
   "id": "9e6e4c7b-92ba-452f-b668-8313a9345366",
   "metadata": {},
   "source": [
    "### Con dos parámetros"
   ]
  },
  {
   "cell_type": "code",
   "execution_count": 3,
   "id": "917a8c89-c88c-4bcf-99e3-4cc6de0c6f5f",
   "metadata": {},
   "outputs": [
    {
     "data": {
      "text/plain": [
       "8"
      ]
     },
     "execution_count": 3,
     "metadata": {},
     "output_type": "execute_result"
    }
   ],
   "source": [
    "elevar = lambda x, y: x ** y\n",
    "elevar(2, 3)"
   ]
  },
  {
   "cell_type": "markdown",
   "id": "75beddf5-ef55-4b75-969f-1aff3ebf4a19",
   "metadata": {},
   "source": [
    "## Aplicando otras funciones\n",
    "Las funciones lambda son funciones de **orden superior**, lo que significa que pueden <u>aceptar otras funciones como argumentos</u> o <u>devolver funciones</u> como resultados. "
   ]
  },
  {
   "cell_type": "code",
   "execution_count": 4,
   "id": "b5d85d99-a49d-472f-bf94-2f547bdb5cd2",
   "metadata": {},
   "outputs": [],
   "source": [
    "orden_superior = lambda arg1, arg2, func: func(arg1, arg2)"
   ]
  },
  {
   "cell_type": "code",
   "execution_count": 5,
   "id": "954a77f1-c273-414d-abb6-4b8352d0e7f7",
   "metadata": {},
   "outputs": [
    {
     "data": {
      "text/plain": [
       "8"
      ]
     },
     "execution_count": 5,
     "metadata": {},
     "output_type": "execute_result"
    }
   ],
   "source": [
    "orden_superior(2, 3, elevar)"
   ]
  },
  {
   "cell_type": "markdown",
   "id": "660b4298-ffd0-4e2d-bc26-a49770805ecf",
   "metadata": {},
   "source": [
    "**Ejemplo**. Obtener la longitud, mínimo, suma y máximo de la lista con los números dek 0 al 4."
   ]
  },
  {
   "cell_type": "code",
   "execution_count": 6,
   "id": "a96bc23d-67b6-4ffd-9cc9-37f99840029b",
   "metadata": {},
   "outputs": [
    {
     "name": "stdout",
     "output_type": "stream",
     "text": [
      "La longitud de la lista [0, 1, 2, 3, 4] es: 5\n",
      "El mínimo de la lista [0, 1, 2, 3, 4] es: 0\n",
      "La suma de la lista [0, 1, 2, 3, 4] es: 10\n",
      "El máximo de la lista [0, 1, 2, 3, 4] es: 4\n"
     ]
    }
   ],
   "source": [
    "# definimos lista\n",
    "numeros = list(range(5))\n",
    "# definimos función anónima\n",
    "aplicar_funcion = lambda lista, func: func(lista)\n",
    "# aplicamos\n",
    "longitud = aplicar_funcion(numeros, len)\n",
    "minimo = aplicar_funcion(numeros, min)\n",
    "suma = aplicar_funcion(numeros, sum)\n",
    "maximo = aplicar_funcion(numeros, max)\n",
    "# verificamos\n",
    "print(f'La longitud de la lista {numeros} es: {longitud}')\n",
    "print(f'El mínimo de la lista {numeros} es: {minimo}')\n",
    "print(f'La suma de la lista {numeros} es: {suma}')\n",
    "print(f'El máximo de la lista {numeros} es: {maximo}')"
   ]
  },
  {
   "cell_type": "markdown",
   "id": "241d538d-e0d3-4181-8973-08c4b671542d",
   "metadata": {},
   "source": [
    "# Diccionarios\n",
    "Son estructuras de datos que almacenan **pares de elementos**, cada uno consistiendo en una **clave** y un **valor**. Son *mutables* y están optimizados para recuperar valores cuando se conoce la clave.\n",
    "\n",
    "**Sintaxis**\n",
    "\n",
    "```python\n",
    "diccionario = {\n",
    "    clave_1:valor_1,\n",
    "    clave_2:valor_2,\n",
    "    clave_3:valor_3,\n",
    "    ...\n",
    "    clave_n:valor_n\n",
    "}\n",
    "```\n",
    "\n",
    "donde para obtener `valor_i` hay que aplicar `diccionario[clave_i]`"
   ]
  },
  {
   "cell_type": "code",
   "execution_count": 20,
   "id": "e155fb7f-06ce-4c39-b090-4cf52ab2b126",
   "metadata": {},
   "outputs": [],
   "source": [
    "datos = {\n",
    "    'nombre':'Josué',\n",
    "    'edad':24,\n",
    "    'correo':'josué@ejemplo.com'\n",
    "}"
   ]
  },
  {
   "cell_type": "markdown",
   "id": "6c72e155-5d2b-40b0-9909-6744f7b541bd",
   "metadata": {},
   "source": [
    "## Acceder a elementos"
   ]
  },
  {
   "cell_type": "code",
   "execution_count": 21,
   "id": "05809bb0-0d73-4746-ba37-891b914c0248",
   "metadata": {},
   "outputs": [
    {
     "data": {
      "text/plain": [
       "24"
      ]
     },
     "execution_count": 21,
     "metadata": {},
     "output_type": "execute_result"
    }
   ],
   "source": [
    "datos['edad']"
   ]
  },
  {
   "cell_type": "markdown",
   "id": "8ded128d-e7b7-4f37-9b51-5ce464189ba7",
   "metadata": {},
   "source": [
    "## Modificar elementos"
   ]
  },
  {
   "cell_type": "code",
   "execution_count": 22,
   "id": "d519b566-bd02-4f5d-9a30-ffa55552698e",
   "metadata": {},
   "outputs": [],
   "source": [
    "datos['edad'] = 25"
   ]
  },
  {
   "cell_type": "code",
   "execution_count": 23,
   "id": "a247af62-818d-4c69-98c4-f6fcb715aea0",
   "metadata": {},
   "outputs": [
    {
     "data": {
      "text/plain": [
       "{'nombre': 'Josué', 'edad': 25, 'correo': 'josué@ejemplo.com'}"
      ]
     },
     "execution_count": 23,
     "metadata": {},
     "output_type": "execute_result"
    }
   ],
   "source": [
    "datos"
   ]
  },
  {
   "cell_type": "markdown",
   "id": "b8aec831-1084-45f1-84ba-6057b062b9db",
   "metadata": {},
   "source": [
    "## Agregar elementos"
   ]
  },
  {
   "cell_type": "code",
   "execution_count": 26,
   "id": "c07fbdaf-86ea-44bb-b909-075d663fa43f",
   "metadata": {},
   "outputs": [],
   "source": [
    "datos['fecha_nacimiento'] = '22-feb-2000'"
   ]
  },
  {
   "cell_type": "code",
   "execution_count": 27,
   "id": "5a3e0b79-af35-4d6e-9e92-dc903e913dcb",
   "metadata": {},
   "outputs": [
    {
     "data": {
      "text/plain": [
       "{'nombre': 'Josué',\n",
       " 'edad': 25,\n",
       " 'correo': 'josué@ejemplo.com',\n",
       " 'fecha_nacimiento': '22-feb-2000'}"
      ]
     },
     "execution_count": 27,
     "metadata": {},
     "output_type": "execute_result"
    }
   ],
   "source": [
    "datos"
   ]
  },
  {
   "cell_type": "markdown",
   "id": "600d8d70-71b4-411b-834a-300e9b121920",
   "metadata": {},
   "source": [
    "## Métodos `keys()` y `values()`\n",
    "Nos permiten acceder a las **claves** y **valores**, respectivamente."
   ]
  },
  {
   "cell_type": "code",
   "execution_count": 28,
   "id": "a629b47a-e934-4f7f-8e8e-416fd3928fac",
   "metadata": {},
   "outputs": [
    {
     "data": {
      "text/plain": [
       "dict_keys(['nombre', 'edad', 'correo', 'fecha_nacimiento'])"
      ]
     },
     "execution_count": 28,
     "metadata": {},
     "output_type": "execute_result"
    }
   ],
   "source": [
    "datos.keys()"
   ]
  },
  {
   "cell_type": "code",
   "execution_count": 29,
   "id": "dd5aecdd-0b4a-4729-9e2b-05c481596aa9",
   "metadata": {},
   "outputs": [
    {
     "data": {
      "text/plain": [
       "dict_values(['Josué', 25, 'josué@ejemplo.com', '22-feb-2000'])"
      ]
     },
     "execution_count": 29,
     "metadata": {},
     "output_type": "execute_result"
    }
   ],
   "source": [
    "datos.values()"
   ]
  },
  {
   "cell_type": "markdown",
   "id": "b101a69a-f6a7-433e-a5d4-c87ffa2b861e",
   "metadata": {},
   "source": [
    "## Iterar sobre un diccionario\n",
    "### Usando `keys()` y `values()`"
   ]
  },
  {
   "cell_type": "code",
   "execution_count": 30,
   "id": "eda84227-6cc2-4e7b-a47d-2101b830302a",
   "metadata": {},
   "outputs": [
    {
     "name": "stdout",
     "output_type": "stream",
     "text": [
      "nombre Josué\n",
      "edad 25\n",
      "correo josué@ejemplo.com\n",
      "fecha_nacimiento 22-feb-2000\n"
     ]
    }
   ],
   "source": [
    "for clave, valor in zip(datos.keys(), datos.values()):\n",
    "    print(clave, valor)"
   ]
  },
  {
   "cell_type": "markdown",
   "id": "a50989df-e153-4968-a24f-7b89cd7475f9",
   "metadata": {},
   "source": [
    "### Usando `items()`"
   ]
  },
  {
   "cell_type": "code",
   "execution_count": 31,
   "id": "9e5fd356-fe28-4bc8-bb75-1e27b2289089",
   "metadata": {},
   "outputs": [
    {
     "name": "stdout",
     "output_type": "stream",
     "text": [
      "nombre Josué\n",
      "edad 25\n",
      "correo josué@ejemplo.com\n",
      "fecha_nacimiento 22-feb-2000\n"
     ]
    }
   ],
   "source": [
    "for clave, valor in datos.items():\n",
    "    print(clave, valor)"
   ]
  },
  {
   "cell_type": "markdown",
   "id": "3c8e4c5d-4d47-481c-90de-21fa164cda83",
   "metadata": {},
   "source": [
    "## Diccionarios vacíos"
   ]
  },
  {
   "cell_type": "code",
   "execution_count": 35,
   "id": "ac2984aa-8ffe-4976-af7c-7a8006dba6e1",
   "metadata": {},
   "outputs": [
    {
     "data": {
      "text/plain": [
       "{}"
      ]
     },
     "execution_count": 35,
     "metadata": {},
     "output_type": "execute_result"
    }
   ],
   "source": [
    "{}"
   ]
  },
  {
   "cell_type": "code",
   "execution_count": 36,
   "id": "2d1334c6-9ac2-4c4f-b72d-a60e17b4d614",
   "metadata": {},
   "outputs": [
    {
     "data": {
      "text/plain": [
       "{}"
      ]
     },
     "execution_count": 36,
     "metadata": {},
     "output_type": "execute_result"
    }
   ],
   "source": [
    "dict()"
   ]
  },
  {
   "cell_type": "markdown",
   "id": "9bfbc605-88a4-428f-b850-66ca2f829ef8",
   "metadata": {},
   "source": [
    "### Ejemplo. Contador de palabras\n",
    "Dado un texto, imprime en un listado con el número de palabras diferentes y cuántas veces aparece cada una."
   ]
  },
  {
   "cell_type": "code",
   "execution_count": 34,
   "id": "fd6c22fc-53ac-402f-b1fd-c0d7ab4b31d6",
   "metadata": {},
   "outputs": [
    {
     "name": "stdout",
     "output_type": "stream",
     "text": [
      "La palabra \"hola\" aparece 3 veces\n",
      "La palabra \"mundo\" aparece una vez\n",
      "La palabra \"todos\" aparece 2 veces\n",
      "La palabra \"adiós\" aparece una vez\n",
      "La palabra \"otra\" aparece una vez\n"
     ]
    }
   ],
   "source": [
    "texto = \"hola mundo hola todos adiós hola otra todos\"\n",
    "palabras = texto.split()\n",
    "\n",
    "contador_palabras = {}\n",
    "for palabra in palabras:\n",
    "    if palabra in contador_palabras:\n",
    "        contador_palabras[palabra] += 1  # Incrementa el contador si la palabra ya existe\n",
    "    else:\n",
    "        contador_palabras[palabra] = 1  # Agrega la palabra al diccionario con contador 1\n",
    "\n",
    "for palabra, contador in contador_palabras.items():\n",
    "    if contador > 1:\n",
    "        print(f'La palabra \"{palabra}\" aparece {contador} veces')\n",
    "    else:\n",
    "        print(f'La palabra \"{palabra}\" aparece una vez')"
   ]
  },
  {
   "cell_type": "markdown",
   "id": "36e27065-a527-4a52-993d-90dd4daff8cd",
   "metadata": {},
   "source": [
    "# Conjuntos\n",
    "Son estrucutras de datos con las siguientes características:\n",
    "- Sus elementos carecen de un orden\n",
    "- No hay elementos duplicados\n",
    "- Sus elementos deben de ser inmutables\n",
    "\n",
    "**Sintaxis**\n",
    "```python\n",
    "{elemento_1, elemento_2, ... , elemento_n}\n",
    "```"
   ]
  },
  {
   "cell_type": "code",
   "execution_count": 37,
   "id": "184cc735-bf1b-4362-b773-7e9b7324ad48",
   "metadata": {},
   "outputs": [
    {
     "data": {
      "text/plain": [
       "set"
      ]
     },
     "execution_count": 37,
     "metadata": {},
     "output_type": "execute_result"
    }
   ],
   "source": [
    "conjunto = {1, 2, 3, 4}\n",
    "type(conjunto)"
   ]
  },
  {
   "cell_type": "code",
   "execution_count": 38,
   "id": "6578835b-af61-4ecd-bc87-7d142728c632",
   "metadata": {},
   "outputs": [
    {
     "data": {
      "text/plain": [
       "{1, 2, 3, 4}"
      ]
     },
     "execution_count": 38,
     "metadata": {},
     "output_type": "execute_result"
    }
   ],
   "source": [
    "conjunto"
   ]
  },
  {
   "cell_type": "code",
   "execution_count": 39,
   "id": "c6398759-da77-48f4-b8bd-7ab72bbc556f",
   "metadata": {},
   "outputs": [],
   "source": [
    "con_repetidos = {1, 2, 3, 3, 2, 1, 1, 4}"
   ]
  },
  {
   "cell_type": "code",
   "execution_count": 40,
   "id": "802c243b-86bd-403f-81c8-4c1ab1178786",
   "metadata": {},
   "outputs": [
    {
     "data": {
      "text/plain": [
       "{1, 2, 3, 4}"
      ]
     },
     "execution_count": 40,
     "metadata": {},
     "output_type": "execute_result"
    }
   ],
   "source": [
    "con_repetidos"
   ]
  },
  {
   "cell_type": "markdown",
   "id": "e2d9de12-70f5-4db8-b4ab-6a14596e209d",
   "metadata": {},
   "source": [
    "## Conjuntos vacíos"
   ]
  },
  {
   "cell_type": "code",
   "execution_count": 42,
   "id": "d346ac31-c6e3-4d59-99df-17b429071c20",
   "metadata": {
    "tags": []
   },
   "outputs": [
    {
     "data": {
      "text/plain": [
       "set"
      ]
     },
     "execution_count": 42,
     "metadata": {},
     "output_type": "execute_result"
    }
   ],
   "source": [
    "vacio = set()\n",
    "type(vacio)"
   ]
  },
  {
   "cell_type": "markdown",
   "id": "ab8fd5e2-7ca1-4c53-90a8-e69004977b92",
   "metadata": {},
   "source": [
    "## A partir de un iterable\n",
    "Se puede crear un conjunto a partir de un objeto iterable con la siguiente sintaxis:\n",
    "\n",
    "**Sintaxis**\n",
    "```python\n",
    "set(iterable)\n",
    "```"
   ]
  },
  {
   "cell_type": "code",
   "execution_count": 43,
   "id": "1f42e972-0414-4b35-8404-528558de6cbf",
   "metadata": {},
   "outputs": [],
   "source": [
    "jugadores = {'j1', 'j1', 'j2', 'j3', 'j1', 'j2'}"
   ]
  },
  {
   "cell_type": "code",
   "execution_count": 44,
   "id": "51a50913-2784-401f-bdd2-ecf544db8116",
   "metadata": {},
   "outputs": [
    {
     "data": {
      "text/plain": [
       "{'j1', 'j2', 'j3'}"
      ]
     },
     "execution_count": 44,
     "metadata": {},
     "output_type": "execute_result"
    }
   ],
   "source": [
    "jugadores"
   ]
  },
  {
   "cell_type": "code",
   "execution_count": 45,
   "id": "db958f92-a42a-4f72-a9f4-15e066168b60",
   "metadata": {},
   "outputs": [
    {
     "data": {
      "text/plain": [
       "{'a', 'c', 'd', 'e', 'i', 'l', 'm', 'n', 'o', 'r', 's', 't'}"
      ]
     },
     "execution_count": 45,
     "metadata": {},
     "output_type": "execute_result"
    }
   ],
   "source": [
    "palabra = 'esternocleidomastoideo'\n",
    "letras = set(palabra)\n",
    "letras"
   ]
  },
  {
   "cell_type": "markdown",
   "id": "4d4926ae-263d-453e-87dd-218f9c6abdd2",
   "metadata": {},
   "source": [
    "**Elementos Inmutables**\n",
    "\n",
    "Los conjuntos no pueden tener elementos que sean mutables."
   ]
  },
  {
   "cell_type": "code",
   "execution_count": 46,
   "id": "d684cbef-12ec-4335-b529-8b1b884ad789",
   "metadata": {},
   "outputs": [
    {
     "data": {
      "text/plain": [
       "{(False, True), 1, 'Ejemplo'}"
      ]
     },
     "execution_count": 46,
     "metadata": {},
     "output_type": "execute_result"
    }
   ],
   "source": [
    "{1, (False, True), 'Ejemplo'}"
   ]
  },
  {
   "cell_type": "code",
   "execution_count": 47,
   "id": "57b31d12-4ce0-4a18-8f52-ea6d75272421",
   "metadata": {},
   "outputs": [
    {
     "ename": "TypeError",
     "evalue": "unhashable type: 'list'",
     "output_type": "error",
     "traceback": [
      "\u001b[1;31m---------------------------------------------------------------------------\u001b[0m",
      "\u001b[1;31mTypeError\u001b[0m                                 Traceback (most recent call last)",
      "\u001b[1;32m~\\AppData\\Local\\Temp\\ipykernel_20076\\3685719995.py\u001b[0m in \u001b[0;36m<module>\u001b[1;34m\u001b[0m\n\u001b[1;32m----> 1\u001b[1;33m \u001b[1;33m{\u001b[0m\u001b[1;36m1\u001b[0m\u001b[1;33m,\u001b[0m \u001b[1;33m[\u001b[0m\u001b[1;32mFalse\u001b[0m\u001b[1;33m,\u001b[0m \u001b[1;32mTrue\u001b[0m\u001b[1;33m]\u001b[0m\u001b[1;33m,\u001b[0m \u001b[1;34m'Ejemplo'\u001b[0m\u001b[1;33m}\u001b[0m\u001b[1;33m\u001b[0m\u001b[1;33m\u001b[0m\u001b[0m\n\u001b[0m",
      "\u001b[1;31mTypeError\u001b[0m: unhashable type: 'list'"
     ]
    }
   ],
   "source": [
    "{1, [False, True], 'Ejemplo'}"
   ]
  },
  {
   "cell_type": "markdown",
   "id": "8edfe940-ed46-48ef-b1c9-aac87549b1ad",
   "metadata": {},
   "source": [
    "## Método `union()`\n",
    "\n",
    "**Sintaxis**\n",
    "\n",
    "```python\n",
    "conjunto1.union(conjunto2)\n",
    "```\n",
    "\n",
    "retorna la unión de los elementos únicos entre `conjunto1` y `conjunto2`"
   ]
  },
  {
   "cell_type": "code",
   "execution_count": 48,
   "id": "686b48b2-0001-4c90-9188-b6f88828099c",
   "metadata": {},
   "outputs": [
    {
     "data": {
      "text/plain": [
       "{'Aguascalientes', 'Chiapas', 'Morelia', 'México', 'San Juan del Río'}"
      ]
     },
     "execution_count": 48,
     "metadata": {},
     "output_type": "execute_result"
    }
   ],
   "source": [
    "llamadas_matutinas = ['México', 'San Juan del Río', 'México', 'Aguascalientes', 'Aguascalientes']\n",
    "llamadas_vespertinas = ['Aguascalientes', 'Morelia', 'Chiapas', 'México']\n",
    "llamadas = set(llamadas_matutinas).union(set(llamadas_vespertinas))\n",
    "llamadas"
   ]
  },
  {
   "cell_type": "markdown",
   "id": "11125622-8ff7-4f05-89ef-a0feae1104bb",
   "metadata": {},
   "source": [
    "## Método `intersection()`\n",
    "\n",
    "**Sintaxis**\n",
    "\n",
    "```python\n",
    "conjunto1.intersection(conjunto2)\n",
    "```\n",
    "\n",
    "retorna los elementos únicos que tienen en común `conjunto1` y `conjunto2`"
   ]
  },
  {
   "cell_type": "code",
   "execution_count": 50,
   "id": "4a7ec882-8614-4974-86ca-582d9c94ba04",
   "metadata": {},
   "outputs": [
    {
     "data": {
      "text/plain": [
       "{'Aguascalientes', 'México'}"
      ]
     },
     "execution_count": 50,
     "metadata": {},
     "output_type": "execute_result"
    }
   ],
   "source": [
    "llamadas = set(llamadas_matutinas).intersection(set(llamadas_vespertinas))\n",
    "llamadas"
   ]
  },
  {
   "cell_type": "markdown",
   "id": "dc350308-b032-4e41-861b-a6d4140a3d98",
   "metadata": {},
   "source": [
    "# Excepciones"
   ]
  },
  {
   "cell_type": "markdown",
   "id": "9be91f4c-c0ba-430d-a9be-ecd1d0e8b9c1",
   "metadata": {},
   "source": [
    "# Listas por comprensión"
   ]
  },
  {
   "cell_type": "markdown",
   "id": "cdac1a0c-1b03-4150-82a9-767fefe3467e",
   "metadata": {},
   "source": [
    "# Ejercicios."
   ]
  },
  {
   "cell_type": "markdown",
   "id": "7d95ab67-2c75-4275-9f81-a4c4a5213043",
   "metadata": {},
   "source": []
  }
 ],
 "metadata": {
  "kernelspec": {
   "display_name": "Python 3 (ipykernel)",
   "language": "python",
   "name": "python3"
  },
  "language_info": {
   "codemirror_mode": {
    "name": "ipython",
    "version": 3
   },
   "file_extension": ".py",
   "mimetype": "text/x-python",
   "name": "python",
   "nbconvert_exporter": "python",
   "pygments_lexer": "ipython3",
   "version": "3.9.13"
  }
 },
 "nbformat": 4,
 "nbformat_minor": 5
}
