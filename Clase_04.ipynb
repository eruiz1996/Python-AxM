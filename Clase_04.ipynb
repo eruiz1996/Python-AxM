{
 "cells": [
  {
   "cell_type": "markdown",
   "id": "b2119088-33df-4aa2-8664-2476aefcb21d",
   "metadata": {},
   "source": [
    "# Listas\n",
    "En Python, una lista (dato tipo `list`) es una <u>estructura de datos</u> que permite almacenar una <u>colección ordenada de elementos</u>. Estos elementos pueden ser de cualquier tipo de dato: `int`, `float`, `str`, `bool`, etc. o incluso, otras listas u otros objetos más complejos.\n",
    "\n",
    "Una lista se puede definir por sus siguientes propiedades:\n",
    "\n",
    "- Son **indexadas**\n",
    "- Son **mutables**\n",
    "- Pueden almacenar cualquier tipo de dato\n",
    "\n",
    "**Sintaxis**\n",
    "\n",
    "```python\n",
    "nombre_lista = [elemento_1, elemento_2, ..., elemento_n]\n",
    "```"
   ]
  },
  {
   "cell_type": "code",
   "execution_count": 2,
   "id": "b01e9fa6-1780-4bf4-a0d2-9b9226cf9fd9",
   "metadata": {},
   "outputs": [],
   "source": [
    "# lista de calificaciones\n",
    "calificaciones = [9, 10, 8, 9.5, 10, 6, 8.7]"
   ]
  },
  {
   "cell_type": "markdown",
   "id": "91c4d4a3-8188-4f83-8654-79d5e83a51b2",
   "metadata": {},
   "source": [
    "## Indexación\n",
    "Se refiere al proceso de **acceder a elementos** individuales en una secuencia utilizando un **índice** el cual hace referencia a la **posición** del elemento en la lista.\n",
    "\n",
    "En Python, la <u>indexación comienza en 0</u>, lo que significa que:\n",
    "- El índice `0` corresponde al **1er elemento**\n",
    "- El índice `1` corresponde al **2do elemento**\n",
    "- El índice `2` corresponde al **3er elemento**\n",
    "\n",
    "- ...\n",
    "\n",
    "- El índice `n - 1` corresponde al **n-ésimo elemento**"
   ]
  },
  {
   "cell_type": "code",
   "execution_count": 3,
   "id": "c86e312d-ebda-4263-87a6-b9d9ca3c4a65",
   "metadata": {},
   "outputs": [
    {
     "data": {
      "text/plain": [
       "9"
      ]
     },
     "execution_count": 3,
     "metadata": {},
     "output_type": "execute_result"
    }
   ],
   "source": [
    "calificaciones[0]"
   ]
  },
  {
   "cell_type": "code",
   "execution_count": 4,
   "id": "4b60925d-9f00-4c87-bdf9-4ff6b6080ed5",
   "metadata": {},
   "outputs": [
    {
     "data": {
      "text/plain": [
       "10"
      ]
     },
     "execution_count": 4,
     "metadata": {},
     "output_type": "execute_result"
    }
   ],
   "source": [
    "calificaciones[1]"
   ]
  },
  {
   "cell_type": "markdown",
   "id": "3351b188-f6d3-4b6a-9687-b9f221afa23d",
   "metadata": {},
   "source": [
    "### Acceder al último elemento\n",
    "Acceder al último elemento de una lista se puede hacer de 3 formas diferentes:\n",
    "1. Por medio de su índice correspondiente\n",
    "2. Usando la función `len()`\n",
    "3. Usando el índice `-1`"
   ]
  },
  {
   "cell_type": "markdown",
   "id": "1de7b215-2e46-4f5c-b193-fa80391df8bd",
   "metadata": {},
   "source": [
    "**Opción 1**. Índice correspondiente"
   ]
  },
  {
   "cell_type": "code",
   "execution_count": 5,
   "id": "3640c555-862f-4a50-839e-b869123016c4",
   "metadata": {},
   "outputs": [
    {
     "data": {
      "text/plain": [
       "8.7"
      ]
     },
     "execution_count": 5,
     "metadata": {},
     "output_type": "execute_result"
    }
   ],
   "source": [
    "calificaciones[6]"
   ]
  },
  {
   "cell_type": "markdown",
   "id": "6642e668-c3b2-4f61-a1d0-c51c53444d86",
   "metadata": {},
   "source": [
    "*Explicación*\n",
    "\n",
    "- El índice `0` accede al **1er elemento** de la lista\n",
    "- El índice `1` accede al **2do elemento** de la lista\n",
    "- La lista tiene 7 elementos\n",
    "- El índice `6` accede al **7mo elemento** (y último) de la lista"
   ]
  },
  {
   "cell_type": "markdown",
   "id": "89ae436a-43e7-4462-af12-9d2bd90e42f2",
   "metadata": {},
   "source": [
    "**Opción 2**. Función `len()`"
   ]
  },
  {
   "cell_type": "code",
   "execution_count": 6,
   "id": "9f6583b3",
   "metadata": {},
   "outputs": [
    {
     "data": {
      "text/plain": [
       "7"
      ]
     },
     "execution_count": 6,
     "metadata": {},
     "output_type": "execute_result"
    }
   ],
   "source": [
    "len(calificaciones)"
   ]
  },
  {
   "cell_type": "code",
   "execution_count": 7,
   "id": "3137083d-d3d6-4993-a4bc-9772c8eab7d6",
   "metadata": {},
   "outputs": [
    {
     "data": {
      "text/plain": [
       "8.7"
      ]
     },
     "execution_count": 7,
     "metadata": {},
     "output_type": "execute_result"
    }
   ],
   "source": [
    "n = len(calificaciones) - 1\n",
    "calificaciones[n]"
   ]
  },
  {
   "cell_type": "markdown",
   "id": "7322f49c-3f55-42db-a2d7-d3d69a62e980",
   "metadata": {},
   "source": [
    "*Explicación*\n",
    "\n",
    "- La función `len()` nos da el tamaño de un iterable, es decir, cuántos elementos tiene la lista\n",
    "- El índice `len(lista) - 1` corresponde a la posición del último de la lista"
   ]
  },
  {
   "cell_type": "markdown",
   "id": "6f256df0-e234-4e7d-9bfe-7ccddd0c5b60",
   "metadata": {},
   "source": [
    "Usando índice `-1`"
   ]
  },
  {
   "cell_type": "code",
   "execution_count": 8,
   "id": "4340ea99-d737-443c-b468-552511079fae",
   "metadata": {},
   "outputs": [
    {
     "data": {
      "text/plain": [
       "8.7"
      ]
     },
     "execution_count": 8,
     "metadata": {},
     "output_type": "execute_result"
    }
   ],
   "source": [
    "calificaciones[-1]"
   ]
  },
  {
   "cell_type": "markdown",
   "id": "316daa0a-fce0-4426-b53c-80e421237443",
   "metadata": {},
   "source": [
    "*Explicación*\n",
    "\n",
    "- En Python el índice `-1` corresponde a la última posición de la lista"
   ]
  },
  {
   "cell_type": "markdown",
   "id": "934fe17a-7e9a-42b4-825e-bc1710d66aca",
   "metadata": {},
   "source": [
    "¿Qué pasa con los índices `-2`, `-3`, etc.?"
   ]
  },
  {
   "cell_type": "code",
   "execution_count": 9,
   "id": "b25ad765-bfed-44bd-ab43-b341949038cd",
   "metadata": {},
   "outputs": [
    {
     "data": {
      "text/plain": [
       "6"
      ]
     },
     "execution_count": 9,
     "metadata": {},
     "output_type": "execute_result"
    }
   ],
   "source": [
    "calificaciones[-2]"
   ]
  },
  {
   "cell_type": "code",
   "execution_count": 10,
   "id": "79a339b0-527d-43be-a485-5dfb2f3f058f",
   "metadata": {},
   "outputs": [
    {
     "data": {
      "text/plain": [
       "10"
      ]
     },
     "execution_count": 10,
     "metadata": {},
     "output_type": "execute_result"
    }
   ],
   "source": [
    "calificaciones[-3]"
   ]
  },
  {
   "cell_type": "markdown",
   "id": "e2d10899-7c62-44b2-8323-f367b66a43c1",
   "metadata": {},
   "source": [
    "*Respuesta*: Los índices **positivos van en ascenso** y los **negativos en descenso**."
   ]
  },
  {
   "cell_type": "code",
   "execution_count": 11,
   "id": "d1073ef4-033a-491a-853e-3c7028fc376c",
   "metadata": {},
   "outputs": [
    {
     "data": {
      "text/plain": [
       "True"
      ]
     },
     "execution_count": 11,
     "metadata": {},
     "output_type": "execute_result"
    }
   ],
   "source": [
    "calificaciones[-1] == calificaciones[n]"
   ]
  },
  {
   "cell_type": "code",
   "execution_count": 12,
   "id": "efa8992b-1a4f-422e-b459-991f72d3305b",
   "metadata": {},
   "outputs": [
    {
     "data": {
      "text/plain": [
       "True"
      ]
     },
     "execution_count": 12,
     "metadata": {},
     "output_type": "execute_result"
    }
   ],
   "source": [
    "calificaciones[-2] == calificaciones[n - 1]"
   ]
  },
  {
   "cell_type": "markdown",
   "id": "1df79560-49f9-4559-8ff0-7cdc717dbf22",
   "metadata": {},
   "source": [
    "### Slicing\n",
    "En Python el **slicing** una forma de acceder a porciones (*slice*) de un <u>iterable</u> utilizando una sintaxis compacta y expresiva, permitiendo seleccionar elementos específicos de una secuencia utilizando un rango de índices.\n",
    "\n",
    "**Sintaxis**\n",
    "\n",
    "```python\n",
    "secuencia[inicio=0:final=-1:paso=1]\n",
    "```\n",
    "\n",
    "donde:\n",
    "\n",
    "- `inicio`: Es el índice donde comienza el slice \n",
    "    - Se incluirá el elemento correspondiente a este índice en el resultado\n",
    "    - <u>Si se omite</u>, se toma como `0` (el primer elemento de la secuencia)\n",
    "- `final`: Es el índice donde termina el slice \n",
    "    - El elemento correspondiente a este índice **no se incluirá en el resultado**\n",
    "    - <u>Si se omite</u>, se tomará como `-1` (el final de la secuencia)\n",
    "- `paso`: Es el tamaño del paso o incremento entre elementos del slice\n",
    "    - Si se omite, se toma como `1`"
   ]
  },
  {
   "cell_type": "code",
   "execution_count": 13,
   "id": "6e105de6-19a1-4913-9536-fa2f578b73ef",
   "metadata": {},
   "outputs": [],
   "source": [
    "ordinales = ['1er', '2do', '3er', '4to', '5to', '6to', '7mo', '8vo']"
   ]
  },
  {
   "cell_type": "markdown",
   "id": "9a9f9d7c-0838-4eb6-9501-ecf4674866d7",
   "metadata": {},
   "source": [
    "Primeros dos elementos"
   ]
  },
  {
   "cell_type": "code",
   "execution_count": 14,
   "id": "b0abee7b-2f0f-46ea-a142-a501d4978f07",
   "metadata": {},
   "outputs": [
    {
     "data": {
      "text/plain": [
       "['1er', '2do']"
      ]
     },
     "execution_count": 14,
     "metadata": {},
     "output_type": "execute_result"
    }
   ],
   "source": [
    "ordinales[0:2]"
   ]
  },
  {
   "cell_type": "markdown",
   "id": "d5de9f68-2d47-498c-ae52-62ccdbdb5665",
   "metadata": {},
   "source": [
    "O bien"
   ]
  },
  {
   "cell_type": "code",
   "execution_count": 15,
   "id": "1122f955-9c16-4bd6-9b7e-100b36e1d54a",
   "metadata": {},
   "outputs": [
    {
     "data": {
      "text/plain": [
       "['1er', '2do']"
      ]
     },
     "execution_count": 15,
     "metadata": {},
     "output_type": "execute_result"
    }
   ],
   "source": [
    "ordinales[:2]"
   ]
  },
  {
   "cell_type": "markdown",
   "id": "3ac431d1-dd5b-4aad-ba2e-4e1bc5945d91",
   "metadata": {},
   "source": [
    "Del quinto al séptimo"
   ]
  },
  {
   "cell_type": "code",
   "execution_count": 16,
   "id": "259ad14f-d743-481c-ad80-0353a6f6615a",
   "metadata": {},
   "outputs": [
    {
     "data": {
      "text/plain": [
       "['5to', '6to', '7mo']"
      ]
     },
     "execution_count": 16,
     "metadata": {},
     "output_type": "execute_result"
    }
   ],
   "source": [
    "ordinales[4:7]"
   ]
  },
  {
   "cell_type": "markdown",
   "id": "a743a80e-d3ad-44b9-8e99-23a8530097c0",
   "metadata": {},
   "source": [
    "Últimos dos"
   ]
  },
  {
   "cell_type": "code",
   "execution_count": 18,
   "id": "85254ab0-99f1-49a6-aadc-3d3c7945fec1",
   "metadata": {},
   "outputs": [
    {
     "name": "stdout",
     "output_type": "stream",
     "text": [
      "Esto está bien: ['7mo', '8vo']\n",
      "Esto está mejor: ['7mo', '8vo']\n",
      "Esto está elegante: ['7mo', '8vo']\n"
     ]
    }
   ],
   "source": [
    "print(f'Esto está bien: {ordinales[6:8]}')\n",
    "print(f'Esto está mejor: {ordinales[-2:8]}')\n",
    "print(f'Esto está elegante: {ordinales[-2:]}')"
   ]
  },
  {
   "cell_type": "markdown",
   "id": "f2e283ac-0e46-4a91-ac79-5003818e1d43",
   "metadata": {},
   "source": [
    "¿Qué pasa con el siguiente *slicing*?"
   ]
  },
  {
   "cell_type": "code",
   "execution_count": 19,
   "id": "5c1104ea-100d-4290-8a26-3198ab4e4856",
   "metadata": {},
   "outputs": [
    {
     "data": {
      "text/plain": [
       "['1er', '2do', '3er', '4to', '5to', '6to', '7mo', '8vo']"
      ]
     },
     "execution_count": 19,
     "metadata": {},
     "output_type": "execute_result"
    }
   ],
   "source": [
    "ordinales[:]"
   ]
  },
  {
   "cell_type": "markdown",
   "id": "7e031678-78c2-4917-9f3c-369638468025",
   "metadata": {},
   "source": [
    "Los nones"
   ]
  },
  {
   "cell_type": "code",
   "execution_count": 20,
   "id": "cb3c2aef-d138-4658-8fc8-8cc94ac8cfe6",
   "metadata": {},
   "outputs": [
    {
     "data": {
      "text/plain": [
       "['1er', '3er', '5to', '7mo']"
      ]
     },
     "execution_count": 20,
     "metadata": {},
     "output_type": "execute_result"
    }
   ],
   "source": [
    "ordinales[::2]"
   ]
  },
  {
   "cell_type": "markdown",
   "id": "b4ffc11d-4629-427c-b86e-c01a7c9d2c63",
   "metadata": {},
   "source": [
    "¿Cómo puedo invertir una lista?"
   ]
  },
  {
   "cell_type": "code",
   "execution_count": 21,
   "id": "d2ccd759-e7a9-4070-8fce-ea326b556823",
   "metadata": {},
   "outputs": [
    {
     "data": {
      "text/plain": [
       "['8vo', '7mo', '6to', '5to', '4to', '3er', '2do', '1er']"
      ]
     },
     "execution_count": 21,
     "metadata": {},
     "output_type": "execute_result"
    }
   ],
   "source": [
    "# pon tu respuesta\n",
    "ordinales[::-1]"
   ]
  },
  {
   "cell_type": "markdown",
   "id": "c5089bee-cee4-4255-9e8c-e74cc21177fb",
   "metadata": {},
   "source": [
    "**Nota**. Para la definición del *slicing* hicimos uso de la palabra <u>secuencia</u> porque aplica para todos los iterables, entre ellos incluidos los `str`"
   ]
  },
  {
   "cell_type": "code",
   "execution_count": 22,
   "id": "d65fd1d0-4dc6-44ca-b550-5577c613b494",
   "metadata": {
    "scrolled": true
   },
   "outputs": [
    {
     "data": {
      "text/plain": [
       "'Hola M'"
      ]
     },
     "execution_count": 22,
     "metadata": {},
     "output_type": "execute_result"
    }
   ],
   "source": [
    "\"Hola Mundo\"[:6]"
   ]
  },
  {
   "cell_type": "markdown",
   "id": "897f1347-a055-4951-89fc-60b61069d294",
   "metadata": {},
   "source": [
    "## Mutabilidad\n",
    "Significa que a las listas se le pueden modificar, agregar o eliminar elementos sin necesidad de crear una lista nueva."
   ]
  },
  {
   "cell_type": "markdown",
   "id": "aecbf196-691b-4b81-888c-7ce5313864c4",
   "metadata": {},
   "source": [
    "### Modificar\n",
    "Los pasos a seguir son:\n",
    "1. Acceder al elemento que se deseé modificar\n",
    "2. Usar el operador de asignación (`=`) con el nuevo elemento"
   ]
  },
  {
   "cell_type": "code",
   "execution_count": 23,
   "id": "864267a0-a7ee-4cb1-a0bb-c6f7ed4b383b",
   "metadata": {},
   "outputs": [],
   "source": [
    "# apellidos de programadores\n",
    "programadores = ['Van Rossum', 'Lamport', 'Ritchi']"
   ]
  },
  {
   "cell_type": "markdown",
   "id": "2d0f5cea-659e-4e5c-8c0d-402e82536b75",
   "metadata": {},
   "source": [
    "Pero el creador de `C` se llama Dennis Ritchie"
   ]
  },
  {
   "cell_type": "code",
   "execution_count": 24,
   "id": "f462b936-d5ff-47c3-8922-7cc440a73b46",
   "metadata": {},
   "outputs": [],
   "source": [
    "programadores[-1] = 'Ritchie'"
   ]
  },
  {
   "cell_type": "code",
   "execution_count": 25,
   "id": "1ece6d6e-aea0-40fd-95d9-a057b24198e7",
   "metadata": {},
   "outputs": [
    {
     "data": {
      "text/plain": [
       "['Van Rossum', 'Lamport', 'Ritchie']"
      ]
     },
     "execution_count": 25,
     "metadata": {},
     "output_type": "execute_result"
    }
   ],
   "source": [
    "programadores"
   ]
  },
  {
   "cell_type": "markdown",
   "id": "82dc0538-724e-4352-9b80-8e10d16115c2",
   "metadata": {},
   "source": [
    "Ahora poniendo su nombre completo"
   ]
  },
  {
   "cell_type": "code",
   "execution_count": 26,
   "id": "ba29f7cc-ae45-483d-9b0b-1997a584208b",
   "metadata": {},
   "outputs": [
    {
     "data": {
      "text/plain": [
       "['Guido Van Rossum', 'Lesli Lamport', 'Dennis Ritchie']"
      ]
     },
     "execution_count": 26,
     "metadata": {},
     "output_type": "execute_result"
    }
   ],
   "source": [
    "programadores[0] = 'Guido Van Rossum'\n",
    "programadores[1] = 'Lesli Lamport'\n",
    "programadores[2] = 'Dennis Ritchie'\n",
    "programadores"
   ]
  },
  {
   "cell_type": "markdown",
   "id": "57044ea6-dd47-4d6d-af78-82affe0ba13c",
   "metadata": {},
   "source": [
    "**Nota**. Los `str` son objetos inmutables porque no podemos modificarlos por medio de sus índices."
   ]
  },
  {
   "cell_type": "code",
   "execution_count": 27,
   "id": "3a86ae9c-88ab-45f8-a86f-fadd1bd51d9d",
   "metadata": {},
   "outputs": [
    {
     "name": "stdout",
     "output_type": "stream",
     "text": [
      "soy una cadena de texto\n"
     ]
    }
   ],
   "source": [
    "saludo = 'Hola, soy una cadena de texto'\n",
    "print(saludo[6:])"
   ]
  },
  {
   "cell_type": "code",
   "execution_count": 28,
   "id": "ad252c88-1497-4ed1-8a4f-117ca8e88e85",
   "metadata": {
    "scrolled": true
   },
   "outputs": [
    {
     "ename": "TypeError",
     "evalue": "'str' object does not support item assignment",
     "output_type": "error",
     "traceback": [
      "\u001b[1;31m---------------------------------------------------------------------------\u001b[0m",
      "\u001b[1;31mTypeError\u001b[0m                                 Traceback (most recent call last)",
      "\u001b[1;32m~\\AppData\\Local\\Temp\\ipykernel_5916\\3241257866.py\u001b[0m in \u001b[0;36m<module>\u001b[1;34m\u001b[0m\n\u001b[1;32m----> 1\u001b[1;33m \u001b[0msaludo\u001b[0m\u001b[1;33m[\u001b[0m\u001b[1;36m6\u001b[0m\u001b[1;33m:\u001b[0m\u001b[1;33m]\u001b[0m \u001b[1;33m=\u001b[0m \u001b[1;34m'no me pueden modificar'\u001b[0m\u001b[1;33m\u001b[0m\u001b[1;33m\u001b[0m\u001b[0m\n\u001b[0m",
      "\u001b[1;31mTypeError\u001b[0m: 'str' object does not support item assignment"
     ]
    }
   ],
   "source": [
    "saludo[6:] = 'no me pueden modificar'"
   ]
  },
  {
   "cell_type": "markdown",
   "id": "6ca26018-5363-45b7-8b2d-ca424fce9d20",
   "metadata": {},
   "source": [
    "### Casting entre `str` y `list`\n",
    "Se puede convertir un objeto de tipo `str` a `list`"
   ]
  },
  {
   "cell_type": "code",
   "execution_count": 29,
   "id": "0f6b6f0b-fdd3-44ec-99aa-f5b0fcbb584e",
   "metadata": {},
   "outputs": [
    {
     "data": {
      "text/plain": [
       "['P', 'y', 't', 'h', 'o', 'n']"
      ]
     },
     "execution_count": 29,
     "metadata": {},
     "output_type": "execute_result"
    }
   ],
   "source": [
    "texto = 'Python'\n",
    "list(texto)"
   ]
  },
  {
   "cell_type": "code",
   "execution_count": 30,
   "id": "964c3d28",
   "metadata": {},
   "outputs": [
    {
     "data": {
      "text/plain": [
       "['H', 'o', 'l', 'a', ' ', 'M', 'u', 'n', 'd', 'o']"
      ]
     },
     "execution_count": 30,
     "metadata": {},
     "output_type": "execute_result"
    }
   ],
   "source": [
    "otro_texto = 'Hola Mundo'\n",
    "list(otro_texto)"
   ]
  },
  {
   "cell_type": "markdown",
   "id": "63e5352a-caec-4238-a473-b998203e2782",
   "metadata": {},
   "source": [
    "Sin embargo, el resultado de hacer lo inverso no queda lo que nosotros podemos pensar en primera instancia."
   ]
  },
  {
   "cell_type": "code",
   "execution_count": 31,
   "id": "6e60963a-f35b-4193-918c-761d0fa41ffc",
   "metadata": {},
   "outputs": [
    {
     "data": {
      "text/plain": [
       "\"['P', 'y', 't', 'h', 'o', 'n']\""
      ]
     },
     "execution_count": 31,
     "metadata": {},
     "output_type": "execute_result"
    }
   ],
   "source": [
    "str(list(texto))"
   ]
  },
  {
   "cell_type": "markdown",
   "id": "18ecd896-daef-4458-bb07-2d9114e414b1",
   "metadata": {},
   "source": [
    "Para ello necesitamos un método de los objetos `str`, llamado `join()`\n",
    "\n",
    "**Sintaxis**\n",
    "\n",
    "```python\n",
    "cadena_separadora.join(iterable)\n",
    "```\n",
    "\n",
    "- `cadena_separadora`: Es la cadena que se usará para separar los elementos del iterable al concatenarlos. Este argumento debe ser de tipo `str`.\n",
    "\n",
    "- `iterable`: Es cualquier iterable (o secuencia) cuyos elementos serán concatenados en una sola cadena utilizando la cadena separadora especificada."
   ]
  },
  {
   "cell_type": "code",
   "execution_count": 36,
   "id": "3ded33cd",
   "metadata": {},
   "outputs": [
    {
     "data": {
      "text/plain": [
       "['P', 'y', 't', 'h', 'o', 'n']"
      ]
     },
     "execution_count": 36,
     "metadata": {},
     "output_type": "execute_result"
    }
   ],
   "source": [
    "lista_texto = list(texto)\n",
    "lista_texto"
   ]
  },
  {
   "cell_type": "code",
   "execution_count": 37,
   "id": "8c51132d",
   "metadata": {},
   "outputs": [],
   "source": [
    "sin_separar = ''.join(lista_texto)"
   ]
  },
  {
   "cell_type": "code",
   "execution_count": 38,
   "id": "18234ac8",
   "metadata": {},
   "outputs": [
    {
     "data": {
      "text/plain": [
       "'Python'"
      ]
     },
     "execution_count": 38,
     "metadata": {},
     "output_type": "execute_result"
    }
   ],
   "source": [
    "sin_separar"
   ]
  },
  {
   "cell_type": "code",
   "execution_count": 39,
   "id": "ae43df75-3603-4d37-a724-261cfea11b25",
   "metadata": {},
   "outputs": [
    {
     "data": {
      "text/plain": [
       "'P-y-t-h-o-n'"
      ]
     },
     "execution_count": 39,
     "metadata": {},
     "output_type": "execute_result"
    }
   ],
   "source": [
    "separando = '-'.join(lista_texto)\n",
    "separando"
   ]
  },
  {
   "cell_type": "markdown",
   "id": "cd00d847-e952-45e3-a16c-e961a2b88f51",
   "metadata": {
    "tags": []
   },
   "source": [
    "### Agregar elementos\n",
    "#### Método `append()`\n",
    "\n",
    "**Sintaxis**\n",
    "\n",
    "```python\n",
    "lista.append(elemento)\n",
    "```\n",
    "\n",
    "Agrega `elemento` **al final** de la `lista`"
   ]
  },
  {
   "cell_type": "code",
   "execution_count": 40,
   "id": "a300a30a-4422-4b55-9230-d8bfb2a54010",
   "metadata": {},
   "outputs": [],
   "source": [
    "cuatro_grandes = ['Metallica', 'Megadeth', 'Slayer']"
   ]
  },
  {
   "cell_type": "markdown",
   "id": "e7ee48cd-ff6d-49b8-9d8a-925643205d33",
   "metadata": {},
   "source": [
    "Nos falta uno de los Cuatro Grandes que es **Anthrax**"
   ]
  },
  {
   "cell_type": "code",
   "execution_count": 41,
   "id": "7ce0d0d0-0301-4981-b9d6-16fdfb1f7f11",
   "metadata": {},
   "outputs": [
    {
     "data": {
      "text/plain": [
       "['Metallica', 'Megadeth', 'Slayer', 'Anthrax']"
      ]
     },
     "execution_count": 41,
     "metadata": {},
     "output_type": "execute_result"
    }
   ],
   "source": [
    "cuatro_grandes.append('Anthrax')\n",
    "cuatro_grandes"
   ]
  },
  {
   "cell_type": "code",
   "execution_count": 55,
   "id": "5f75dac5",
   "metadata": {},
   "outputs": [
    {
     "data": {
      "text/plain": [
       "['Metallica', 'Megadeth', 'Slayer', '', 'Anthrax']"
      ]
     },
     "execution_count": 55,
     "metadata": {},
     "output_type": "execute_result"
    }
   ],
   "source": [
    "cuatro_grandes = ['Metallica', 'Megadeth', 'Slayer']\n",
    "dos_elementos = ['', 'Anthrax']\n",
    "cuatro_grandes + dos_elementos"
   ]
  },
  {
   "cell_type": "code",
   "execution_count": 56,
   "id": "4317f470",
   "metadata": {},
   "outputs": [
    {
     "data": {
      "text/plain": [
       "['Metallica', 'Megadeth', 'Slayer']"
      ]
     },
     "execution_count": 56,
     "metadata": {},
     "output_type": "execute_result"
    }
   ],
   "source": [
    "cuatro_grandes"
   ]
  },
  {
   "cell_type": "markdown",
   "id": "dfc41f70-f064-4032-a678-e9ed90499731",
   "metadata": {},
   "source": [
    "Muchas veces vamos a partir de una **lista vacía** a la que iremos llenando de elementos conforme se cumplen ciertas condiciones.\n",
    "\n",
    "Para ellos necesitamos saber que se pueden crear, de dos maneras diferentes, listas vacías."
   ]
  },
  {
   "cell_type": "code",
   "execution_count": 42,
   "id": "e2e99cb0-739e-4b46-a7d3-98069d2458b1",
   "metadata": {},
   "outputs": [
    {
     "data": {
      "text/plain": [
       "[]"
      ]
     },
     "execution_count": 42,
     "metadata": {},
     "output_type": "execute_result"
    }
   ],
   "source": [
    "list()"
   ]
  },
  {
   "cell_type": "code",
   "execution_count": 43,
   "id": "9edb3886-8c96-4e7a-80db-dadbbd4d5cb4",
   "metadata": {},
   "outputs": [
    {
     "data": {
      "text/plain": [
       "[]"
      ]
     },
     "execution_count": 43,
     "metadata": {},
     "output_type": "execute_result"
    }
   ],
   "source": [
    "[]"
   ]
  },
  {
   "cell_type": "code",
   "execution_count": 44,
   "id": "33e4525b-513a-4360-8d07-2c088848bbbf",
   "metadata": {},
   "outputs": [],
   "source": [
    "# creamos lista de clientes\n",
    "clientes = []"
   ]
  },
  {
   "cell_type": "code",
   "execution_count": 45,
   "id": "5a72632d-62c9-4499-b538-f8e98d9b157d",
   "metadata": {},
   "outputs": [
    {
     "data": {
      "text/plain": [
       "['Ramón']"
      ]
     },
     "execution_count": 45,
     "metadata": {},
     "output_type": "execute_result"
    }
   ],
   "source": [
    "# agregamos al primer cliente\n",
    "clientes.append('Ramón')\n",
    "clientes"
   ]
  },
  {
   "cell_type": "code",
   "execution_count": 46,
   "id": "07065f91",
   "metadata": {},
   "outputs": [],
   "source": [
    "clientes.append('Silvia')"
   ]
  },
  {
   "cell_type": "code",
   "execution_count": 47,
   "id": "b6508016",
   "metadata": {},
   "outputs": [
    {
     "data": {
      "text/plain": [
       "['Ramón', 'Silvia']"
      ]
     },
     "execution_count": 47,
     "metadata": {},
     "output_type": "execute_result"
    }
   ],
   "source": [
    "clientes"
   ]
  },
  {
   "cell_type": "markdown",
   "id": "82e01d1f-0408-496e-8b05-bdf14b8e56bc",
   "metadata": {},
   "source": [
    "#### Sumando lista\n",
    "Si sumamos dos listas nos da su unión respetando el orden de los elementos"
   ]
  },
  {
   "cell_type": "code",
   "execution_count": 53,
   "id": "38efbd81-067e-4154-af3a-c4ad174a3dfc",
   "metadata": {},
   "outputs": [],
   "source": [
    "lista1 = [3, 4]\n",
    "lista2 = [2, 3, 5, 5]\n",
    "lista1 = lista1 + lista2"
   ]
  },
  {
   "cell_type": "code",
   "execution_count": 54,
   "id": "fc25c054",
   "metadata": {},
   "outputs": [
    {
     "data": {
      "text/plain": [
       "[3, 4, 2, 3, 5, 5]"
      ]
     },
     "execution_count": 54,
     "metadata": {},
     "output_type": "execute_result"
    }
   ],
   "source": [
    "lista1"
   ]
  },
  {
   "cell_type": "code",
   "execution_count": 50,
   "id": "554d2e92",
   "metadata": {},
   "outputs": [
    {
     "data": {
      "text/plain": [
       "[2, 3, 5, 5]"
      ]
     },
     "execution_count": 50,
     "metadata": {},
     "output_type": "execute_result"
    }
   ],
   "source": [
    "lista2"
   ]
  },
  {
   "cell_type": "markdown",
   "id": "8c40b376-2795-4692-9c59-e228bc835f1c",
   "metadata": {
    "tags": []
   },
   "source": [
    "#### Método `extend()`\n",
    "**Nota**: NO ES MUY USADO\n",
    "\n",
    "**Sintaxis**\n",
    "\n",
    "```python\n",
    "lista1.extend(lista2)\n",
    "```\n",
    "\n",
    "Extiende la `lista1` agregando todos los elementos de `lista2`, pero no retorna nada."
   ]
  },
  {
   "cell_type": "code",
   "execution_count": 51,
   "id": "a65737e2-6bc2-4c96-877c-8c57bbbee290",
   "metadata": {},
   "outputs": [
    {
     "name": "stdout",
     "output_type": "stream",
     "text": [
      "[3, 4]\n",
      "[2, 3, 5, 5]\n",
      "None\n"
     ]
    }
   ],
   "source": [
    "print(lista1)\n",
    "print(lista2)\n",
    "print(lista1.extend(lista2))"
   ]
  },
  {
   "cell_type": "code",
   "execution_count": 52,
   "id": "48add6f3-c0ab-4562-b1de-15f5da883a6b",
   "metadata": {},
   "outputs": [
    {
     "data": {
      "text/plain": [
       "[3, 4, 2, 3, 5, 5]"
      ]
     },
     "execution_count": 52,
     "metadata": {},
     "output_type": "execute_result"
    }
   ],
   "source": [
    "lista1"
   ]
  },
  {
   "cell_type": "markdown",
   "id": "62b36700-1845-44e6-9de4-9613ae280cbf",
   "metadata": {
    "tags": []
   },
   "source": [
    "#### Método `insert()`\n",
    "\n",
    "**Sintaxis**\n",
    "\n",
    "```python\n",
    "lista1.insert(indice, elemento)\n",
    "```\n",
    "\n",
    "Añade `elemento` en la posición correspondiente a `indice`"
   ]
  },
  {
   "cell_type": "code",
   "execution_count": 57,
   "id": "f2c9888f-8b07-4153-b8db-273a8ac180b1",
   "metadata": {
    "scrolled": true
   },
   "outputs": [
    {
     "data": {
      "text/plain": [
       "[3, 4, 2, 3, 5, 5]"
      ]
     },
     "execution_count": 57,
     "metadata": {},
     "output_type": "execute_result"
    }
   ],
   "source": [
    "lista1"
   ]
  },
  {
   "cell_type": "code",
   "execution_count": 58,
   "id": "3a420500-6966-49f2-8700-324bc9625728",
   "metadata": {},
   "outputs": [
    {
     "data": {
      "text/plain": [
       "[3, 4, 1000000, 2, 3, 5, 5]"
      ]
     },
     "execution_count": 58,
     "metadata": {},
     "output_type": "execute_result"
    }
   ],
   "source": [
    "lista1.insert(2, 1_000_000)\n",
    "lista1"
   ]
  },
  {
   "cell_type": "markdown",
   "id": "39557f63-cb7e-4400-9d1f-f1ff39f68263",
   "metadata": {},
   "source": [
    "### Eliminar elementos\n"
   ]
  },
  {
   "cell_type": "markdown",
   "id": "4d4618d4-4213-499e-8a1f-c17d07a0f21d",
   "metadata": {
    "tags": []
   },
   "source": [
    "#### Método `pop()`\n",
    "\n",
    "**Sintaxis**\n",
    "\n",
    "```python\n",
    "lista.pop(indice)\n",
    "```\n",
    "\n",
    "Elimina y devuelve el elemento ubicado en `indice`"
   ]
  },
  {
   "cell_type": "code",
   "execution_count": 59,
   "id": "6489d759-eb62-4c8d-92d8-9d8efc238660",
   "metadata": {},
   "outputs": [],
   "source": [
    "sistemas_operativos = ['Windows', 'Linux', 'Unix', 'Mac']"
   ]
  },
  {
   "cell_type": "code",
   "execution_count": 60,
   "id": "eedb6941-ccdf-47b8-b8db-286d13ac3575",
   "metadata": {},
   "outputs": [
    {
     "data": {
      "text/plain": [
       "'Unix'"
      ]
     },
     "execution_count": 60,
     "metadata": {},
     "output_type": "execute_result"
    }
   ],
   "source": [
    "sistemas_operativos.pop(2)"
   ]
  },
  {
   "cell_type": "code",
   "execution_count": 61,
   "id": "319ec579-85fd-410d-a5a7-9332444a49cd",
   "metadata": {},
   "outputs": [
    {
     "data": {
      "text/plain": [
       "['Windows', 'Linux', 'Mac']"
      ]
     },
     "execution_count": 61,
     "metadata": {},
     "output_type": "execute_result"
    }
   ],
   "source": [
    "sistemas_operativos"
   ]
  },
  {
   "cell_type": "code",
   "execution_count": 62,
   "id": "b733f9bb",
   "metadata": {},
   "outputs": [],
   "source": [
    "sistemas_operativos = ['Windows', 'Linux', 'Unix', 'Mac']\n",
    "eliminado = sistemas_operativos.pop(-2)"
   ]
  },
  {
   "cell_type": "code",
   "execution_count": 63,
   "id": "1dc9d38e",
   "metadata": {},
   "outputs": [
    {
     "data": {
      "text/plain": [
       "'Unix'"
      ]
     },
     "execution_count": 63,
     "metadata": {},
     "output_type": "execute_result"
    }
   ],
   "source": [
    "eliminado"
   ]
  },
  {
   "cell_type": "markdown",
   "id": "8ab3ee02-c2b8-420c-983a-83766a50586c",
   "metadata": {
    "tags": []
   },
   "source": [
    "#### Método `clear()`\n",
    "\n",
    "**Sintaxis**\n",
    "\n",
    "```python\n",
    "lista.clear()\n",
    "```\n",
    "\n",
    "Elimina todos los elementos de `lista`"
   ]
  },
  {
   "cell_type": "code",
   "execution_count": 64,
   "id": "a251361f-b59b-4996-92ad-8f706f0edb3c",
   "metadata": {},
   "outputs": [
    {
     "data": {
      "text/plain": [
       "[3, 4, 1000000, 2, 3, 5, 5]"
      ]
     },
     "execution_count": 64,
     "metadata": {},
     "output_type": "execute_result"
    }
   ],
   "source": [
    "lista1"
   ]
  },
  {
   "cell_type": "code",
   "execution_count": 65,
   "id": "24fd505b-7772-4bc8-baf0-26a4dcef6927",
   "metadata": {},
   "outputs": [],
   "source": [
    "lista1.clear()"
   ]
  },
  {
   "cell_type": "code",
   "execution_count": 66,
   "id": "fb9b4f70-e5b5-4a7a-af6c-8a0a378ccaf6",
   "metadata": {},
   "outputs": [
    {
     "data": {
      "text/plain": [
       "[]"
      ]
     },
     "execution_count": 66,
     "metadata": {},
     "output_type": "execute_result"
    }
   ],
   "source": [
    "lista1"
   ]
  },
  {
   "cell_type": "markdown",
   "id": "4fa4b63e-9858-46f2-ba0b-4d00907b62f6",
   "metadata": {},
   "source": [
    "## Almacenar cualquier tipo de dato\n",
    "Las listas, a diferencia de los arreglos, pueden almacenar cualquier tipo de dato incluyendo a las mismas listas."
   ]
  },
  {
   "cell_type": "code",
   "execution_count": 67,
   "id": "a4a141ff-9513-4018-bc00-6aa7f512f8c6",
   "metadata": {},
   "outputs": [],
   "source": [
    "lista_variada = [1, 2, 3, True, 'Python', [8, 9], 9.81, 'kg']"
   ]
  },
  {
   "cell_type": "code",
   "execution_count": 68,
   "id": "33d86a48-fcf9-459c-9c67-291d8a11c6e6",
   "metadata": {},
   "outputs": [
    {
     "data": {
      "text/plain": [
       "[8, 9]"
      ]
     },
     "execution_count": 68,
     "metadata": {},
     "output_type": "execute_result"
    }
   ],
   "source": [
    "lista_variada[-3]"
   ]
  },
  {
   "cell_type": "code",
   "execution_count": 69,
   "id": "361fe2e6-6c5d-40ba-8d94-af1261e81ddb",
   "metadata": {},
   "outputs": [
    {
     "data": {
      "text/plain": [
       "9"
      ]
     },
     "execution_count": 69,
     "metadata": {},
     "output_type": "execute_result"
    }
   ],
   "source": [
    "lista_variada[-3][-1]"
   ]
  },
  {
   "cell_type": "markdown",
   "id": "0a0c006e-163b-42b3-89f0-4c1dcb8e2c54",
   "metadata": {},
   "source": [
    "# Más cosas últiles para las listas\n",
    "## Funciones de agregación `sum()`, `max()`, `min()`"
   ]
  },
  {
   "cell_type": "code",
   "execution_count": 70,
   "id": "04bb05c3-c0ab-4d29-852e-ebf89e4cad32",
   "metadata": {},
   "outputs": [],
   "source": [
    "edades = [27, 30, 12]"
   ]
  },
  {
   "cell_type": "code",
   "execution_count": 71,
   "id": "febaac2b-458d-4ce3-b243-ca8bc28f83ae",
   "metadata": {},
   "outputs": [
    {
     "data": {
      "text/plain": [
       "69"
      ]
     },
     "execution_count": 71,
     "metadata": {},
     "output_type": "execute_result"
    }
   ],
   "source": [
    "sum(edades)"
   ]
  },
  {
   "cell_type": "code",
   "execution_count": 72,
   "id": "b1a3dfdb-aece-4d54-a672-b9b97fbfe503",
   "metadata": {},
   "outputs": [
    {
     "data": {
      "text/plain": [
       "30"
      ]
     },
     "execution_count": 72,
     "metadata": {},
     "output_type": "execute_result"
    }
   ],
   "source": [
    "max(edades)"
   ]
  },
  {
   "cell_type": "code",
   "execution_count": 73,
   "id": "d96ee07f-e71b-40d7-93bc-08738b9ebb78",
   "metadata": {},
   "outputs": [
    {
     "data": {
      "text/plain": [
       "12"
      ]
     },
     "execution_count": 73,
     "metadata": {},
     "output_type": "execute_result"
    }
   ],
   "source": [
    "min(edades)"
   ]
  },
  {
   "cell_type": "markdown",
   "id": "6a0de36d-b5eb-4aa1-bbf2-2ef5f4784d3c",
   "metadata": {
    "tags": []
   },
   "source": [
    "## Función `range()`\n",
    "Genera una secuencia inmutable de números enteros en un rango especificado.\n",
    "\n",
    "**Sintaxis**\n",
    "\n",
    "```python\n",
    "range(inicio=0, final, paso=1)\n",
    "```\n",
    "\n",
    "donde:\n",
    "\n",
    "- `inicio` (opcional): El valor inicial de la secuencia (por defecto es `0`).\n",
    "- `final`: El valor final de la secuencia (no se incluye en la secuencia).\n",
    "- `paso` (opcional): El tamaño del incremento entre cada número de la secuencia (por defecto es `1`)."
   ]
  },
  {
   "cell_type": "code",
   "execution_count": 74,
   "id": "b4c3e253-0470-4e98-a1e2-a554a75275ca",
   "metadata": {},
   "outputs": [
    {
     "data": {
      "text/plain": [
       "range(1, 10)"
      ]
     },
     "execution_count": 74,
     "metadata": {},
     "output_type": "execute_result"
    }
   ],
   "source": [
    "range(1, 10)"
   ]
  },
  {
   "cell_type": "code",
   "execution_count": 75,
   "id": "957f8f00-41f5-4f08-8fde-008e58e3da6b",
   "metadata": {},
   "outputs": [
    {
     "data": {
      "text/plain": [
       "range"
      ]
     },
     "execution_count": 75,
     "metadata": {},
     "output_type": "execute_result"
    }
   ],
   "source": [
    "rango = range(1, 10)\n",
    "type(rango)"
   ]
  },
  {
   "cell_type": "code",
   "execution_count": 76,
   "id": "c7d9517e-335a-4034-aadd-848e096e9816",
   "metadata": {},
   "outputs": [
    {
     "data": {
      "text/plain": [
       "[1, 2, 3, 4, 5, 6, 7, 8, 9]"
      ]
     },
     "execution_count": 76,
     "metadata": {},
     "output_type": "execute_result"
    }
   ],
   "source": [
    "list(rango)"
   ]
  },
  {
   "cell_type": "markdown",
   "id": "502bfbb6-f536-4d7a-a820-4ce896ee91d6",
   "metadata": {},
   "source": [
    "Recordar que si no se da un inicio por defecto empieza en `0`"
   ]
  },
  {
   "cell_type": "code",
   "execution_count": 77,
   "id": "d40a7496-087f-4d95-b7e3-7bd860ed4892",
   "metadata": {},
   "outputs": [
    {
     "data": {
      "text/plain": [
       "[0, 1, 2, 3, 4, 5, 6, 7, 8]"
      ]
     },
     "execution_count": 77,
     "metadata": {},
     "output_type": "execute_result"
    }
   ],
   "source": [
    "list(range(9))"
   ]
  },
  {
   "cell_type": "markdown",
   "id": "7ca413ae-e748-44a2-9e2f-1021bfa90a5a",
   "metadata": {},
   "source": [
    "Y que el incremento por defecto es de `1`"
   ]
  },
  {
   "cell_type": "code",
   "execution_count": 78,
   "id": "5fcc2cb7-8846-4af8-98af-d8671deff281",
   "metadata": {},
   "outputs": [
    {
     "data": {
      "text/plain": [
       "[5, 10, 15, 20]"
      ]
     },
     "execution_count": 78,
     "metadata": {},
     "output_type": "execute_result"
    }
   ],
   "source": [
    "list(range(5, 21, 5))"
   ]
  },
  {
   "cell_type": "markdown",
   "id": "7c404f54-d645-4663-a129-934b9351c11f",
   "metadata": {
    "tags": []
   },
   "source": [
    "# Ejercicio 1\n",
    "**Calificaciones**\n",
    "\n",
    "Crear un programa que:\n",
    "\n",
    "1. Le pida al usuario 5 calificaciones.\n",
    "2. Guarde cada calificación en una lista llamada `calificaciones`\n",
    "3. Imprima la calificación máxima, mínima y el promedio"
   ]
  },
  {
   "cell_type": "markdown",
   "id": "07b75f5a-3505-43f7-ab6e-d74fe4f090b8",
   "metadata": {
    "tags": []
   },
   "source": [
    "# Ejercicio 2\n",
    "**Números nones**\n",
    "\n",
    "1. Pedirle al usuario un número entero positivo y darle el nombre de `n`\n",
    "2. Crear una lista con todos los números nones del `1` al `n`"
   ]
  },
  {
   "cell_type": "markdown",
   "id": "d4e1fb3a-e943-49bc-b6b6-cde5879dc1fe",
   "metadata": {},
   "source": [
    "# Ejercicio 3\n",
    "A partir de la siguiente lista\n",
    "\n",
    "```python\n",
    "ejercicio3 = [['Tele', 'Radio'], True, range(1, 11), ['a', 'e', 'i', 'o', 'u'], False]\n",
    "```\n",
    "\n",
    "Obtener:\n",
    "\n",
    "1. `[1, 2, 3]`\n",
    "2. `True` pero se tiene que usar al menos una vez el operador `not`\n",
    "3. `['Tele', 'Compu']`\n",
    "4. `['a', 'i', 'u']`"
   ]
  },
  {
   "cell_type": "markdown",
   "id": "c8e5d2bb",
   "metadata": {},
   "source": [
    "# Tuplas\n",
    "Son estructuras de datos similares a las listas, pero con la diferencia de que son **inmutables**, es decir, una vez creadas no se pueden modificar.\n",
    "\n",
    "**Sintaxis**\n",
    "```python\n",
    "tupla = (elemento_1, elemento_2, ..., elemento_n)\n",
    "```"
   ]
  },
  {
   "cell_type": "markdown",
   "id": "328a315f",
   "metadata": {},
   "source": [
    "## Creación de tuplas"
   ]
  },
  {
   "cell_type": "markdown",
   "id": "42f9e036",
   "metadata": {},
   "source": [
    "### Tupla vacía"
   ]
  },
  {
   "cell_type": "code",
   "execution_count": 79,
   "id": "52072a02",
   "metadata": {},
   "outputs": [
    {
     "data": {
      "text/plain": [
       "()"
      ]
     },
     "execution_count": 79,
     "metadata": {},
     "output_type": "execute_result"
    }
   ],
   "source": [
    "()"
   ]
  },
  {
   "cell_type": "code",
   "execution_count": 80,
   "id": "a9ee8e41",
   "metadata": {},
   "outputs": [
    {
     "data": {
      "text/plain": [
       "()"
      ]
     },
     "execution_count": 80,
     "metadata": {},
     "output_type": "execute_result"
    }
   ],
   "source": [
    "tuple()"
   ]
  },
  {
   "cell_type": "markdown",
   "id": "a7db27d4",
   "metadata": {},
   "source": [
    "### Principales usos"
   ]
  },
  {
   "cell_type": "code",
   "execution_count": 83,
   "id": "9a980b45",
   "metadata": {},
   "outputs": [],
   "source": [
    "# color formato RGB\n",
    "rojo_coca = (244, 0, 0)"
   ]
  },
  {
   "cell_type": "markdown",
   "id": "faa0ea1a",
   "metadata": {},
   "source": [
    "Si se desea modificar..."
   ]
  },
  {
   "cell_type": "code",
   "execution_count": 84,
   "id": "fcfbc692",
   "metadata": {},
   "outputs": [
    {
     "ename": "TypeError",
     "evalue": "'tuple' object does not support item assignment",
     "output_type": "error",
     "traceback": [
      "\u001b[1;31m---------------------------------------------------------------------------\u001b[0m",
      "\u001b[1;31mTypeError\u001b[0m                                 Traceback (most recent call last)",
      "\u001b[1;32m~\\AppData\\Local\\Temp\\ipykernel_5916\\690791515.py\u001b[0m in \u001b[0;36m<module>\u001b[1;34m\u001b[0m\n\u001b[1;32m----> 1\u001b[1;33m \u001b[0mrojo_coca\u001b[0m\u001b[1;33m[\u001b[0m\u001b[1;36m0\u001b[0m\u001b[1;33m]\u001b[0m \u001b[1;33m=\u001b[0m \u001b[1;36m10\u001b[0m\u001b[1;33m\u001b[0m\u001b[1;33m\u001b[0m\u001b[0m\n\u001b[0m",
      "\u001b[1;31mTypeError\u001b[0m: 'tuple' object does not support item assignment"
     ]
    }
   ],
   "source": [
    "rojo_coca[0] = 10"
   ]
  },
  {
   "cell_type": "code",
   "execution_count": 85,
   "id": "1c1264f8",
   "metadata": {},
   "outputs": [
    {
     "ename": "AttributeError",
     "evalue": "'tuple' object has no attribute 'append'",
     "output_type": "error",
     "traceback": [
      "\u001b[1;31m---------------------------------------------------------------------------\u001b[0m",
      "\u001b[1;31mAttributeError\u001b[0m                            Traceback (most recent call last)",
      "\u001b[1;32m~\\AppData\\Local\\Temp\\ipykernel_5916\\2306638733.py\u001b[0m in \u001b[0;36m<module>\u001b[1;34m\u001b[0m\n\u001b[1;32m----> 1\u001b[1;33m \u001b[0mrojo_coca\u001b[0m\u001b[1;33m.\u001b[0m\u001b[0mappend\u001b[0m\u001b[1;33m(\u001b[0m\u001b[1;36m10\u001b[0m\u001b[1;33m)\u001b[0m\u001b[1;33m\u001b[0m\u001b[1;33m\u001b[0m\u001b[0m\n\u001b[0m",
      "\u001b[1;31mAttributeError\u001b[0m: 'tuple' object has no attribute 'append'"
     ]
    }
   ],
   "source": [
    "rojo_coca.append(10)"
   ]
  },
  {
   "cell_type": "markdown",
   "id": "0f6abf7f",
   "metadata": {},
   "source": [
    "## Métodos\n",
    "### `count()`\n",
    "\n",
    "**Sintaxis**\n",
    "\n",
    "```python\n",
    "tupla.count(elemento)\n",
    "```\n",
    "\n",
    "Devuelve el número de veces que aparece `elemento` en `tupla`"
   ]
  },
  {
   "cell_type": "code",
   "execution_count": 86,
   "id": "893c393f",
   "metadata": {},
   "outputs": [],
   "source": [
    "usuarios = ('Alex', 'Alex', 'Jorgue', 'María', 'Alex', 'Liliana')"
   ]
  },
  {
   "cell_type": "code",
   "execution_count": 87,
   "id": "158a3b00",
   "metadata": {},
   "outputs": [
    {
     "data": {
      "text/plain": [
       "3"
      ]
     },
     "execution_count": 87,
     "metadata": {},
     "output_type": "execute_result"
    }
   ],
   "source": [
    "usuarios.count('Alex')"
   ]
  },
  {
   "cell_type": "markdown",
   "id": "eaa31299",
   "metadata": {},
   "source": [
    "### `index()`\n",
    "\n",
    "**Sintaxis**\n",
    "\n",
    "```python\n",
    "tupla.index(elemento)\n",
    "```\n",
    "\n",
    "Devuelve el <u>índice</u> de la primer aparición de `elemento` en `tupla`"
   ]
  },
  {
   "cell_type": "code",
   "execution_count": 88,
   "id": "7213e2b8",
   "metadata": {},
   "outputs": [
    {
     "data": {
      "text/plain": [
       "0"
      ]
     },
     "execution_count": 88,
     "metadata": {},
     "output_type": "execute_result"
    }
   ],
   "source": [
    "usuarios.index('Alex')"
   ]
  },
  {
   "cell_type": "code",
   "execution_count": 89,
   "id": "629b3129",
   "metadata": {},
   "outputs": [
    {
     "data": {
      "text/plain": [
       "[2, 3, 5, 5]"
      ]
     },
     "execution_count": 89,
     "metadata": {},
     "output_type": "execute_result"
    }
   ],
   "source": [
    "lista2"
   ]
  },
  {
   "cell_type": "code",
   "execution_count": 90,
   "id": "adc949bb",
   "metadata": {},
   "outputs": [
    {
     "data": {
      "text/plain": [
       "2"
      ]
     },
     "execution_count": 90,
     "metadata": {},
     "output_type": "execute_result"
    }
   ],
   "source": [
    "lista2.count(5)"
   ]
  }
 ],
 "metadata": {
  "kernelspec": {
   "display_name": "Python 3 (ipykernel)",
   "language": "python",
   "name": "python3"
  },
  "language_info": {
   "codemirror_mode": {
    "name": "ipython",
    "version": 3
   },
   "file_extension": ".py",
   "mimetype": "text/x-python",
   "name": "python",
   "nbconvert_exporter": "python",
   "pygments_lexer": "ipython3",
   "version": "3.9.13"
  }
 },
 "nbformat": 4,
 "nbformat_minor": 5
}
