{
 "cells": [
  {
   "cell_type": "markdown",
   "id": "d0fa6b8c-fb0a-41e4-92b5-0755e6528f07",
   "metadata": {},
   "source": [
    "## Profitable Gamble\n",
    "Create a function that takes three arguments `prob`, `prize`, `pay` and returns `True` if `prob * prize > pay`; otherwise return `False`.\n",
    "\n",
    "### Function structure\n",
    "`profitableGamble(prob, prize, pay)`\n",
    "\n",
    "### Examples\n",
    "\n",
    "```python\n",
    "profitableGamble(0.2, 50, 9) ➞ True\n",
    "profitableGamble(0.9, 1, 2) ➞ False\n",
    "profitableGamble(0.9, 3, 2) ➞ True\n",
    "```"
   ]
  },
  {
   "cell_type": "markdown",
   "id": "82eef832-300b-4aeb-9c46-d4ddc052dbee",
   "metadata": {},
   "source": [
    "## Two Makes Ten\n",
    "Create a function that takes two arguments. Both arguments are integers, `a` and `b`. Return `True` if one of them is `10` or if their sum is `10`.\n",
    "\n",
    "### Function structure\n",
    "`makesTen(a, b)`\n",
    "\n",
    "### Examples\n",
    "```python\n",
    "makesTen(9, 10) ➞ True\n",
    "makesTen(9, 9) ➞ False\n",
    "makesTen(1, 9) ➞ True\n",
    "```"
   ]
  },
  {
   "cell_type": "markdown",
   "id": "7128219b-ec9f-4bf6-9c04-434b9500ad33",
   "metadata": {},
   "source": [
    "## Find the Discount\n",
    "Create a function that takes two arguments: the original `price` and the `discount` percentage as integers and returns the final price after the discount.\n",
    "\n",
    "### Function structure\n",
    "`dis(price, discount)`\n",
    "\n",
    "### Examples\n",
    "```python\n",
    "dis(1500, 50) ➞ 750\n",
    "dis(89, 20) ➞ 71.2\n",
    "dis(100, 75) ➞ 25\n",
    "```"
   ]
  },
  {
   "cell_type": "markdown",
   "id": "5096abbb-c0d7-4cf5-8184-70bbb00edf0f",
   "metadata": {},
   "source": [
    "## Convert a Number to Base-2\n",
    "Create a function that returns a base-2 (binary) representation of a base-10 (decimal) string number.\n",
    "\n",
    "**Example 1**. The number 9 writes $1001_2$ in base-2 because\n",
    "\n",
    "$$9 = 8 + 0 + 0 + 1 = 1\\cdot 8 + 0\\cdot 4 + 0\\cdot 2 + 1\\cdot 1 = 1001_2$$\n",
    "\n",
    "**Example 2**. The number 11 writes $1011_2$ in base-2 because\n",
    "\n",
    "$$11 = 8 + 0 + 2 + 1 = 1\\cdot 8 + 0\\cdot 4 + 1\\cdot 2 + 1\\cdot 1 = 1011_2$$\n",
    "\n",
    "**Example 3**. The number 8 writes $100_2$ in base-2 because\n",
    "\n",
    "$$8 = 8 + 0 + 0 = 1\\cdot 8 + 0\\cdot 4 + 0\\cdot 2 = 100_2$$\n",
    "\n",
    "### Function structure\n",
    "`binary(number)`\n",
    "\n",
    "### Examples\n",
    "```python\n",
    "binary(1) ➞ \"1\"\n",
    "binary(5) ➞ \"101\"\n",
    "binary(10) ➞ \"1010\"\n",
    "```"
   ]
  },
  {
   "cell_type": "markdown",
   "id": "da83af1f-871b-47c4-915b-dccefe7a05fa",
   "metadata": {},
   "source": [
    "## Fibonacci sequence\n",
    "The Fibonacci numbers are the numbers in the following integer sequence:\n",
    "\n",
    "$$0, 1, 1, 2, 3, 5, 8, 13, 21, 34, 55, 89, 144, \\ldots$$ \n",
    "\n",
    "In mathematical terms, the sequence $F_n$ of Fibonacci numbers is defined by the recurrence relation.\n",
    "\n",
    "$$F_n = F_{n-1} + F_{n-2}$$\n",
    "\n",
    "with seed values : $F_0 = 0$ and $F_1 = 1$.\n",
    "\n",
    "Create a function that given number $n$ print the Fibonacci sequence the $F_n$ term\n",
    "\n",
    "### Function structure\n",
    "`fibonacci(n)`\n",
    "\n",
    "### Examples\n",
    "```python\n",
    "fibonacci(3) ➞ \"0 1 1\"\n",
    "fibonacci(7) ➞ \"0 1 1 2 3 5 8\"\n",
    "fibonacci(10) ➞ \"0 1 1 2 3 5 8 13 21 34\"\n",
    "```"
   ]
  },
  {
   "cell_type": "markdown",
   "id": "d6392f7e-f528-41c7-9188-44be40f56e1d",
   "metadata": {},
   "source": [
    "## Fizz Buzz\n",
    "Write a program that prints the numbers from `1` to `100`. But for multiples of three print `\"Fizz\"` instead of the number and for the multiples of five print `\"Buzz\"`. For numbers which are multiples of both three and five print `\"FizzBuzz\"`"
   ]
  },
  {
   "cell_type": "markdown",
   "id": "27b7bab2-2e01-43ff-8b5b-3c940325665c",
   "metadata": {},
   "source": [
    "## Count vowels\n",
    "Enter a string and the program counts the number of vowels in the text. For added complexity have it report a sum of each vowel found."
   ]
  },
  {
   "cell_type": "markdown",
   "id": "14fb6565-2060-41d2-89bf-864061418727",
   "metadata": {},
   "source": [
    "## Collatz Conjecture\n",
    "Start with a number $n > 1$. Find the number of steps it takes to reach one using the following process: If $n$ is even, divide it by 2. If $n$ is odd, multiply it by $3$ and add $1$"
   ]
  }
 ],
 "metadata": {
  "kernelspec": {
   "display_name": "Python 3 (ipykernel)",
   "language": "python",
   "name": "python3"
  },
  "language_info": {
   "codemirror_mode": {
    "name": "ipython",
    "version": 3
   },
   "file_extension": ".py",
   "mimetype": "text/x-python",
   "name": "python",
   "nbconvert_exporter": "python",
   "pygments_lexer": "ipython3",
   "version": "3.9.13"
  }
 },
 "nbformat": 4,
 "nbformat_minor": 5
}
