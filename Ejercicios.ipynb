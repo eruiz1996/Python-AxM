{
 "cells": [
  {
   "cell_type": "markdown",
   "id": "9580ef6f-57ba-42f4-aa23-e8db0868cc95",
   "metadata": {},
   "source": [
    "# Functions"
   ]
  },
  {
   "cell_type": "markdown",
   "id": "d0fa6b8c-fb0a-41e4-92b5-0755e6528f07",
   "metadata": {},
   "source": [
    "## 1. Profitable Gamble\n",
    "Create a function that takes three arguments `prob`, `prize`, `pay` and returns `True` if `prob * prize > pay`; otherwise return `False`.\n",
    "\n",
    "### Function structure\n",
    "`profitableGamble(prob, prize, pay)`\n",
    "\n",
    "### Examples\n",
    "\n",
    "```python\n",
    "profitableGamble(0.2, 50, 9) ➞ True\n",
    "profitableGamble(0.9, 1, 2) ➞ False\n",
    "profitableGamble(0.9, 3, 2) ➞ True\n",
    "```"
   ]
  },
  {
   "cell_type": "markdown",
   "id": "82eef832-300b-4aeb-9c46-d4ddc052dbee",
   "metadata": {},
   "source": [
    "## 2. Two Makes Ten\n",
    "Create a function that takes two arguments. Both arguments are integers, `a` and `b`. Return `True` if one of them is `10` or if their sum is `10`.\n",
    "\n",
    "### Function structure\n",
    "`makesTen(a, b)`\n",
    "\n",
    "### Examples\n",
    "```python\n",
    "makesTen(9, 10) ➞ True\n",
    "makesTen(9, 9) ➞ False\n",
    "makesTen(1, 9) ➞ True\n",
    "```"
   ]
  },
  {
   "cell_type": "markdown",
   "id": "7128219b-ec9f-4bf6-9c04-434b9500ad33",
   "metadata": {},
   "source": [
    "## 3. Find the Discount\n",
    "Create a function that takes two arguments: the original `price` and the `discount` percentage as integers and returns the final price after the discount.\n",
    "\n",
    "### Function structure\n",
    "`dis(price, discount)`\n",
    "\n",
    "### Examples\n",
    "```python\n",
    "dis(1500, 50) ➞ 750\n",
    "dis(89, 20) ➞ 71.2\n",
    "dis(100, 75) ➞ 25\n",
    "```"
   ]
  },
  {
   "cell_type": "markdown",
   "id": "5096abbb-c0d7-4cf5-8184-70bbb00edf0f",
   "metadata": {},
   "source": [
    "## 4. Convert a Number to Base-2\n",
    "Create a function that returns a base-2 (binary) representation of a base-10 (decimal) integer number.\n",
    "\n",
    "**Example 1**. The number 9 writes $1001_2$ in base-2 because\n",
    "\n",
    "$$9 = 8 + 0 + 0 + 1 = 1\\cdot 8 + 0\\cdot 4 + 0\\cdot 2 + 1\\cdot 1 = 1001_2$$\n",
    "\n",
    "**Example 2**. The number 11 writes $1011_2$ in base-2 because\n",
    "\n",
    "$$11 = 8 + 0 + 2 + 1 = 1\\cdot 8 + 0\\cdot 4 + 1\\cdot 2 + 1\\cdot 1 = 1011_2$$\n",
    "\n",
    "**Example 3**. The number 8 writes $100_2$ in base-2 because\n",
    "\n",
    "$$8 = 8 + 0 + 0 = 1\\cdot 8 + 0\\cdot 4 + 0\\cdot 2 = 100_2$$\n",
    "\n",
    "### Function structure\n",
    "`binary(number)`\n",
    "\n",
    "### Examples\n",
    "```python\n",
    "binary(1) ➞ \"1\"\n",
    "binary(5) ➞ \"101\"\n",
    "binary(10) ➞ \"1010\"\n",
    "```"
   ]
  },
  {
   "cell_type": "markdown",
   "id": "55de5c3a-30ef-4166-89c4-c241d822fdfb",
   "metadata": {},
   "source": [
    "## 5. Convert binary to decimal\n",
    "Create a function that returns a base-10 (decimal) representation of a base-2 (binary) string number.\n",
    "\n",
    "### Function structure\n",
    "`decimal(number)`\n",
    "\n",
    "### Examples\n",
    "```python\n",
    "decimal('1') ➞ 1\n",
    "decimal('100') ➞ 4\n",
    "decimal('1001') ➞ 9\n",
    "```"
   ]
  },
  {
   "cell_type": "markdown",
   "id": "da83af1f-871b-47c4-915b-dccefe7a05fa",
   "metadata": {},
   "source": [
    "## 6. Fibonacci sequence\n",
    "The Fibonacci numbers are the numbers in the following integer sequence:\n",
    "\n",
    "$$0, 1, 1, 2, 3, 5, 8, 13, 21, 34, 55, 89, 144, \\ldots$$ \n",
    "\n",
    "In mathematical terms, the sequence $F_n$ of Fibonacci numbers is defined by the recurrence relation.\n",
    "\n",
    "$$F_n = F_{n-1} + F_{n-2}$$\n",
    "\n",
    "with seed values : $F_0 = 0$ and $F_1 = 1$.\n",
    "\n",
    "Create a function that given number $n$ print the Fibonacci sequence the $F_n$ term\n",
    "\n",
    "### Function structure\n",
    "`fibonacci(n)`\n",
    "\n",
    "### Examples\n",
    "```python\n",
    "fibonacci(3) ➞ \"0 1 1\"\n",
    "fibonacci(7) ➞ \"0 1 1 2 3 5 8\"\n",
    "fibonacci(10) ➞ \"0 1 1 2 3 5 8 13 21 34\"\n",
    "```"
   ]
  },
  {
   "cell_type": "markdown",
   "id": "6d956d12-a457-47a2-8b66-eac459b6dcb0",
   "metadata": {},
   "source": [
    "# General topics"
   ]
  },
  {
   "cell_type": "markdown",
   "id": "d6392f7e-f528-41c7-9188-44be40f56e1d",
   "metadata": {},
   "source": [
    "## 7. Fizz Buzz\n",
    "Write a program that prints the numbers from `1` to `100`. But for multiples of three print `\"Fizz\"` instead of the number and for the multiples of five print `\"Buzz\"`. For numbers which are multiples of both three and five print `\"FizzBuzz\"`"
   ]
  },
  {
   "cell_type": "markdown",
   "id": "27b7bab2-2e01-43ff-8b5b-3c940325665c",
   "metadata": {},
   "source": [
    "## 8. Count vowels\n",
    "Enter a string and the program counts the number of vowels in the text. For added complexity have it report a sum of each vowel found."
   ]
  },
  {
   "cell_type": "markdown",
   "id": "14fb6565-2060-41d2-89bf-864061418727",
   "metadata": {},
   "source": [
    "## 9. Collatz Conjecture\n",
    "Start with a number $n > 1$. Find the number of steps it takes to reach one using the following process: If $n$ is even, divide it by 2. If $n$ is odd, multiply it by $3$ and add $1$"
   ]
  },
  {
   "cell_type": "markdown",
   "id": "46858ec8-3f00-4361-ae70-25a7b887c0fc",
   "metadata": {},
   "source": [
    "# Object Oriented Programming"
   ]
  },
  {
   "cell_type": "markdown",
   "id": "b3f156d6-c80c-45a7-8770-faea2799788d",
   "metadata": {},
   "source": [
    "## 10. Triángulo\n",
    "1. Definir la Clase Padre - `Poligono()`:\n",
    "- Crea una clase llamada `Poligono()`.\n",
    "- Define un constructor que acepte un solo argumento, el número de lados (`n`). Este atributo deberá ser almacenado en una variable de instancia.\n",
    "- Agrega un método `definir_lados()` que pide al usuario ingresar el tamaño de cada lado del polígono, guardando los valores en una lista que también debe ser una variable de instancia.\n",
    "2. Definir la Clase Hijo - `Triangulo()`:\n",
    "- Crea una subclase llamada `Triangulo()` que herede de `Poligono()`.\n",
    "- Define un constructor en `Triangulo()` que automáticamente establezca el número de lados a `3`. Utiliza `super()` para inicializar este valor en la clase base.\n",
    "- Implementa un método `tipo()` en triangulo que determine si el triángulo es:\n",
    "    - Equilátero: todos sus lados son iguales\n",
    "    - Isósceles: dos de sus lados son iguales y uno diferente\n",
    "    - Escaleno: todos sus lados son diferentes"
   ]
  },
  {
   "cell_type": "markdown",
   "id": "6b5c0b10-cfa4-4082-910a-2f7b059af7e3",
   "metadata": {},
   "source": [
    "## 11. Punto\n",
    "**Vale por 2 ejercicios**\n",
    "\n",
    "Crear la clase `Punto()` la cual:\n",
    "- Tiene dos atributos: `x` y `y`\n",
    "- Su método `__str__()`  nos dice dónde se encuentra ubicado el punto\n",
    "- Tiene el método `mover(direccion, magnitud)` donde `direccion` es un dato de tipo `str` y `magnitud` uno de tipo `int`, siendo el último la cantidad de unidades que se va a mover y el primero la dirección hacia donde, tomando \n",
    "\t- `'w'` significa mover hacia arriba\n",
    "\t- `'s'` significa mover hacia abajo\n",
    "\t- `'a'` significa mover hacia izquierda\n",
    "\t- `'d'` significa mover hacia derecha\n",
    "- Tiene un método `distancia()` el cual saca la distancia de un punto a otro\n",
    "**Hint**: La distancia del punto $(x_1, y_1)$ al $(x_2, y_2)$ se puede calcular con la siguiente fórmula:\n",
    "$$\\sqrt{(x_2-x_1)^2+ (y_2-y_1)^2}$$\n",
    "Y recuerda que para usar la función *raíz cuadrada* podemos hacer uso de `sqrt()` desde el módulo `math` o desde el módulo `numpy`\n",
    "\n",
    "Puedes hacer la prueba de tu código con el siguiente ejemplo:\n",
    "\n",
    "```python\n",
    "p1 = Punto(2, 3)\n",
    "print(p1)\n",
    "# output: El punto se encuentra ubicado en la posición (2, 3)\n",
    "instrucciones = {\n",
    "    's':2,\n",
    "    'a':1\n",
    "}\n",
    "for direccion, movimiento in instrucciones.items():\n",
    "    p1.mover(direccion, movimiento)\n",
    "print(p1)\n",
    "# output: El punto se encuentra ubicado en la posición (1, 1)\n",
    "origen = Punto(0, 0)\n",
    "print(p1.distancia(origen))\n",
    "# output: 1.4142135623730951\n",
    "```"
   ]
  },
  {
   "cell_type": "markdown",
   "id": "1d54150a-69a3-4ef5-94b0-f53d66f59951",
   "metadata": {},
   "source": [
    "# Sorting Algorithms\n",
    "Sorting refers to rearrangement of a given array or list of elements according to a comparison operator on the elements. The comparison operator is used to decide the new order of elements in the respective data structure. Sorting means reordering of all the elements either in ascending or in descending order (see the complete article [here](https://www.geeksforgeeks.org/sorting-algorithms/))"
   ]
  },
  {
   "cell_type": "markdown",
   "id": "eb02037c-3bb0-4f48-b4c4-a43117dfb3b7",
   "metadata": {},
   "source": [
    "## 12. Bubble Sort\n",
    "Investigate the **bubble sort algorithm** (YouTube, web pages, papers, etc.) and create a function that implement this algorithm given a list of integer elements.\n",
    "### Function structure\n",
    "`bubble_sort(int_list)` where `int_list` is a list of integer numbers.\n",
    "\n",
    "### Examples\n",
    "```python\n",
    "bubble_sort([5,2,1,3,1,10,2]) ➞ [1,1,2,2,3,5,10]\n",
    "bubble_sort([4,3,2,1]) ➞ [1,2,3,4]\n",
    "bubble_sort([-3,-1,4,-10]) ➞ [-10,-3,-1,4]\n",
    "```"
   ]
  },
  {
   "cell_type": "markdown",
   "id": "c9d651c9-e3de-4578-b871-b96c0eeec54b",
   "metadata": {},
   "source": [
    "## 13. Quick Sort\n",
    "Investigate the **quick sort algorithm** (YouTube, web pages, papers, etc.) and create a function that implement this algorithm given a list of integer elements.\n",
    "### Function structure\n",
    "`quick_sort(int_list)` where `int_list` is a list of integer numbers.\n",
    "\n",
    "### Examples\n",
    "```python\n",
    "quick_sort([5,2,1,3,1,10,2]) ➞ [1,1,2,2,3,5,10]\n",
    "quick_sort([4,3,2,1]) ➞ [1,2,3,4]\n",
    "quick_sort([-3,-1,4,-10]) ➞ [-10,-3,-1,4]\n",
    "```"
   ]
  }
 ],
 "metadata": {
  "kernelspec": {
   "display_name": "Python 3 (ipykernel)",
   "language": "python",
   "name": "python3"
  },
  "language_info": {
   "codemirror_mode": {
    "name": "ipython",
    "version": 3
   },
   "file_extension": ".py",
   "mimetype": "text/x-python",
   "name": "python",
   "nbconvert_exporter": "python",
   "pygments_lexer": "ipython3",
   "version": "3.9.13"
  }
 },
 "nbformat": 4,
 "nbformat_minor": 5
}
