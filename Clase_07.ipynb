{
 "cells": [
  {
   "cell_type": "markdown",
   "id": "612b4ffa-96d9-4aef-8539-ee270831378e",
   "metadata": {},
   "source": [
    "# Creando una clase"
   ]
  },
  {
   "cell_type": "code",
   "execution_count": 1,
   "id": "f4aee35b-53d6-4656-80cd-37694060ca96",
   "metadata": {},
   "outputs": [],
   "source": [
    "class Car():\n",
    "    pass"
   ]
  },
  {
   "cell_type": "markdown",
   "id": "21ff2704-0af7-43d1-94a0-72485ebaf157",
   "metadata": {},
   "source": [
    "## Haciendo una instancia `Car`"
   ]
  },
  {
   "cell_type": "markdown",
   "id": "bdfa2abe-153a-4c91-b289-b8ae535e1771",
   "metadata": {},
   "source": [
    "**Coche Ferrari**"
   ]
  },
  {
   "cell_type": "code",
   "execution_count": 2,
   "id": "bd0e7abd-f242-4830-9de7-3305ec9d807e",
   "metadata": {},
   "outputs": [],
   "source": [
    "ferrari = Car()"
   ]
  },
  {
   "cell_type": "code",
   "execution_count": 3,
   "id": "3371cca6-4610-4fbd-aed4-51fc2e1ee8c8",
   "metadata": {},
   "outputs": [
    {
     "data": {
      "text/plain": [
       "__main__.Car"
      ]
     },
     "execution_count": 3,
     "metadata": {},
     "output_type": "execute_result"
    }
   ],
   "source": [
    "type(ferrari)"
   ]
  },
  {
   "cell_type": "markdown",
   "id": "7d2e911c-ac97-4d73-883a-4469ed45d67b",
   "metadata": {},
   "source": [
    "## Dando atributos"
   ]
  },
  {
   "cell_type": "code",
   "execution_count": 7,
   "id": "d697a313-fb82-499a-8448-2a733b772f73",
   "metadata": {},
   "outputs": [],
   "source": [
    "ferrari.model = 2020\n",
    "ferrari.color = 'rojo'\n",
    "ferrari.style = '296 GTS'"
   ]
  },
  {
   "cell_type": "code",
   "execution_count": 8,
   "id": "8c2578b5-1b5b-4e44-b15e-f86ce2cd5b16",
   "metadata": {},
   "outputs": [
    {
     "name": "stdout",
     "output_type": "stream",
     "text": [
      "Tengo un 296 GTS, modelo 2020 color rojo\n"
     ]
    }
   ],
   "source": [
    "print(f'Tengo un {ferrari.style}, modelo {ferrari.model} color {ferrari.color}')"
   ]
  },
  {
   "cell_type": "markdown",
   "id": "91adae88-cc48-4a9a-8d6e-33882e2c4b16",
   "metadata": {},
   "source": [
    "## Creando otra instancia"
   ]
  },
  {
   "cell_type": "markdown",
   "id": "db6bee5e-56a7-40ba-8974-cb95d2c3cac9",
   "metadata": {},
   "source": [
    "**Coche Lamborghini**"
   ]
  },
  {
   "cell_type": "code",
   "execution_count": 9,
   "id": "a3354d04-9305-4e7a-ac2a-4eade8c4c359",
   "metadata": {},
   "outputs": [],
   "source": [
    "# creo un objeto de la clase Car\n",
    "lambo = Car()\n",
    "# le doy los atributos\n",
    "lambo.model = 2022\n",
    "lambo.color = 'azul'\n",
    "lambo.style = 'Huracán STO'"
   ]
  },
  {
   "cell_type": "code",
   "execution_count": 10,
   "id": "3dc7377e-63ae-4ed8-9fcc-36c5b1baa5c2",
   "metadata": {},
   "outputs": [
    {
     "name": "stdout",
     "output_type": "stream",
     "text": [
      "Tengo un Huracán STO, modelo 2022 color azul\n"
     ]
    }
   ],
   "source": [
    "print(f'Tengo un {lambo.style}, modelo {lambo.model} color {lambo.color}')"
   ]
  },
  {
   "cell_type": "markdown",
   "id": "0be6978c-12fc-4159-b340-50be634dd40c",
   "metadata": {},
   "source": [
    "# Dunder methods"
   ]
  },
  {
   "cell_type": "markdown",
   "id": "8d11dc2c-22b3-4be4-8510-05e57b042973",
   "metadata": {},
   "source": [
    "## Método Constructor\n",
    "\n",
    "**Sintaxis**\n",
    "\n",
    "```python\n",
    "class ClassName():\n",
    "    \n",
    "    def __init__(self, atr_1, atr_2, atr_3, ..., atr_n):\n",
    "        self.atr_1 = atr_1\n",
    "        self.atr_2 = atr_2\n",
    "        self.atr_3 = atr_3\n",
    "        ...\n",
    "        self.atr_n = atr_n\n",
    "```"
   ]
  },
  {
   "cell_type": "code",
   "execution_count": 11,
   "id": "ea5fc67c-ed9f-44f1-8be8-5497f1e8e5ea",
   "metadata": {},
   "outputs": [],
   "source": [
    "class Car():\n",
    "    \n",
    "    def __init__(self, model, color, style):\n",
    "        self.model = model\n",
    "        self.color = color\n",
    "        self.style = style"
   ]
  },
  {
   "cell_type": "code",
   "execution_count": 12,
   "id": "ac76156b-ee2a-494a-93f6-6a9ac955683e",
   "metadata": {},
   "outputs": [],
   "source": [
    "mazda = Car(2024, 'negro', 'CX-30')\n",
    "nissan = Car(2023, 'rojo', 'X-trail')\n",
    "peugeot = Car(2021, 'gris', '3008')"
   ]
  },
  {
   "cell_type": "code",
   "execution_count": 13,
   "id": "167a618d-86d8-4b90-9d07-81e2168a5db9",
   "metadata": {},
   "outputs": [
    {
     "name": "stdout",
     "output_type": "stream",
     "text": [
      "Tengo un CX-30, modelo 2024 color negro\n",
      "Tengo un X-trail, modelo 2023 color rojo\n",
      "Tengo un 3008, modelo 2021 color gris\n"
     ]
    }
   ],
   "source": [
    "print(f'Tengo un {mazda.style}, modelo {mazda.model} color {mazda.color}')\n",
    "print(f'Tengo un {nissan.style}, modelo {nissan.model} color {nissan.color}')\n",
    "print(f'Tengo un {peugeot.style}, modelo {peugeot.model} color {peugeot.color}')"
   ]
  },
  {
   "cell_type": "markdown",
   "id": "329bb24d-f0f7-4d44-ad8d-ade7c4e89e32",
   "metadata": {},
   "source": [
    "Al todos tener los mismos atributos podemos simplificar las impresiones"
   ]
  },
  {
   "cell_type": "code",
   "execution_count": 14,
   "id": "98992b13-a3b8-4271-a268-6c6f19c1f539",
   "metadata": {},
   "outputs": [
    {
     "name": "stdout",
     "output_type": "stream",
     "text": [
      "Tengo un 296 GTS, modelo 2020 color rojo\n",
      "Tengo un Huracán STO, modelo 2022 color azul\n",
      "Tengo un CX-30, modelo 2024 color negro\n",
      "Tengo un X-trail, modelo 2023 color rojo\n",
      "Tengo un 3008, modelo 2021 color gris\n"
     ]
    }
   ],
   "source": [
    "# lista de instancias Car\n",
    "cars = [ferrari, lambo, mazda, nissan, peugeot]\n",
    "for car in cars:\n",
    "    print(f'Tengo un {car.style}, modelo {car.model} color {car.color}')"
   ]
  },
  {
   "cell_type": "markdown",
   "id": "0b38ccd7-6d8f-46d4-ac48-6ea7a9a0cf2d",
   "metadata": {},
   "source": [
    "## Método `__str__`\n",
    "\n",
    "**Sintaxis**\n",
    "\n",
    "```python\n",
    "class ClassName():\n",
    "    \n",
    "    ...\n",
    "    \n",
    "    def __str__(self):\n",
    "        return 'descripción'\n",
    "```"
   ]
  },
  {
   "cell_type": "code",
   "execution_count": 15,
   "id": "7d2ea08e-14f0-40a3-842e-028b44287123",
   "metadata": {},
   "outputs": [],
   "source": [
    "class Car():\n",
    "    \n",
    "    def __init__(self, model, color, style):\n",
    "        self.model = model\n",
    "        self.color = color\n",
    "        self.style = style\n",
    "        \n",
    "    def __str__(self):\n",
    "        return f'Tengo un {self.style}, modelo {self.model} color {self.color}'"
   ]
  },
  {
   "cell_type": "code",
   "execution_count": 16,
   "id": "0405d4fa-1547-4f40-a5e8-ae6f1042dea4",
   "metadata": {},
   "outputs": [],
   "source": [
    "bmv = Car(2022, 'azul', 'iX1')"
   ]
  },
  {
   "cell_type": "code",
   "execution_count": 17,
   "id": "446d1b58-9445-4e87-9482-61ac7c107693",
   "metadata": {},
   "outputs": [
    {
     "data": {
      "text/plain": [
       "'Tengo un iX1, modelo 2022 color azul'"
      ]
     },
     "execution_count": 17,
     "metadata": {},
     "output_type": "execute_result"
    }
   ],
   "source": [
    "str(bmv)"
   ]
  },
  {
   "cell_type": "markdown",
   "id": "664901d7-f0f5-4590-ad54-7c6749622267",
   "metadata": {},
   "source": [
    "# Agregando métodos propios\n",
    "**Sintaxis**\n",
    "\n",
    "```python\n",
    "class ClassName():\n",
    "    \n",
    "    ...\n",
    "    \n",
    "    def method_name(self, arg1, arg2):\n",
    "        # bloque de código\n",
    "```"
   ]
  },
  {
   "cell_type": "code",
   "execution_count": 18,
   "id": "77910b79-327c-49d1-8952-027a335169ad",
   "metadata": {},
   "outputs": [],
   "source": [
    "class Car():\n",
    "    \n",
    "    def __init__(self, model, color, style, off = True):\n",
    "        self.model = model\n",
    "        self.color = color\n",
    "        self.style = style\n",
    "        self.off = off\n",
    "        \n",
    "    def __str__(self):\n",
    "        return f'Tengo un {self.style}, modelo {self.model} color {self.color}'\n",
    "    \n",
    "    def start(self):\n",
    "        if self.off:\n",
    "            print(f'Coche {self.style} encendido')\n",
    "            self.off = False\n",
    "        else:\n",
    "            print(f'El coche {self.style} ya estaba encendido')"
   ]
  },
  {
   "cell_type": "code",
   "execution_count": 19,
   "id": "e1e028e3-b5b6-4251-b3b8-38f54c409ed6",
   "metadata": {},
   "outputs": [],
   "source": [
    "honda = Car(2010, 'gris', 'civic')"
   ]
  },
  {
   "cell_type": "code",
   "execution_count": 20,
   "id": "d29002ea-d283-4bc0-9f73-24e074747ee0",
   "metadata": {},
   "outputs": [
    {
     "data": {
      "text/plain": [
       "'Tengo un civic, modelo 2010 color gris'"
      ]
     },
     "execution_count": 20,
     "metadata": {},
     "output_type": "execute_result"
    }
   ],
   "source": [
    "str(honda)"
   ]
  },
  {
   "cell_type": "code",
   "execution_count": 21,
   "id": "8bd64c18-2242-4d6e-b5f6-00e7293a83f9",
   "metadata": {},
   "outputs": [
    {
     "data": {
      "text/plain": [
       "True"
      ]
     },
     "execution_count": 21,
     "metadata": {},
     "output_type": "execute_result"
    }
   ],
   "source": [
    "honda.off"
   ]
  },
  {
   "cell_type": "code",
   "execution_count": 22,
   "id": "d29eecae-e8b6-42b1-86d3-66d0db3dfaa4",
   "metadata": {},
   "outputs": [
    {
     "name": "stdout",
     "output_type": "stream",
     "text": [
      "Coche civic encendido\n"
     ]
    }
   ],
   "source": [
    "honda.start()"
   ]
  },
  {
   "cell_type": "code",
   "execution_count": 23,
   "id": "8060949c-cf6d-4d6b-a240-ba26d58530da",
   "metadata": {},
   "outputs": [
    {
     "data": {
      "text/plain": [
       "False"
      ]
     },
     "execution_count": 23,
     "metadata": {},
     "output_type": "execute_result"
    }
   ],
   "source": [
    "honda.off"
   ]
  },
  {
   "cell_type": "code",
   "execution_count": 24,
   "id": "bb579a68-bd83-4c7c-8b22-6f14df133eca",
   "metadata": {},
   "outputs": [
    {
     "name": "stdout",
     "output_type": "stream",
     "text": [
      "El coche civic ya estaba encendido\n"
     ]
    }
   ],
   "source": [
    "honda.start()"
   ]
  },
  {
   "cell_type": "code",
   "execution_count": 28,
   "id": "384b4eef-7695-4755-b4d2-54fb835f26ba",
   "metadata": {},
   "outputs": [],
   "source": [
    "class Car():\n",
    "    \n",
    "    def __init__(self, model, color, style, off = True):\n",
    "        self.model = model\n",
    "        self.color = color\n",
    "        self.style = style\n",
    "        self.off = off\n",
    "        \n",
    "    def __str__(self):\n",
    "        return f'Tengo un {self.style}, modelo {self.model} color {self.color}'\n",
    "    \n",
    "    def start(self):\n",
    "        if self.off:\n",
    "            print(f'Coche {self.style} encendido')\n",
    "            self.off = False\n",
    "        else:\n",
    "            print(f'El coche {self.style} ya estaba encendido')\n",
    "            \n",
    "    def turn_off(self):\n",
    "        if self.off:\n",
    "            print(f'El coche {self.style} ya estaba apagado')\n",
    "        else:\n",
    "            print(f'Coche {self.style} apagado.\\n¿Olvida algo?')\n",
    "            self.off = True"
   ]
  },
  {
   "cell_type": "code",
   "execution_count": 29,
   "id": "fe21ff83-1e20-4109-898a-5948b173db09",
   "metadata": {},
   "outputs": [],
   "source": [
    "volkswagen = Car(2018, 'blanco', 'Tugan', off = False)"
   ]
  },
  {
   "cell_type": "code",
   "execution_count": 30,
   "id": "59e1fa04-525a-4fa9-861a-e05310c4599b",
   "metadata": {},
   "outputs": [
    {
     "name": "stdout",
     "output_type": "stream",
     "text": [
      "Coche Tugan apagado.\n",
      "¿Olvida algo?\n"
     ]
    }
   ],
   "source": [
    "volkswagen.turn_off()"
   ]
  },
  {
   "cell_type": "code",
   "execution_count": 32,
   "id": "7f687e6d-b41b-4641-ab8c-a878919accaf",
   "metadata": {},
   "outputs": [
    {
     "name": "stdout",
     "output_type": "stream",
     "text": [
      "El coche Tugan ya estaba apagado\n"
     ]
    }
   ],
   "source": [
    "volkswagen.turn_off()"
   ]
  },
  {
   "cell_type": "code",
   "execution_count": 33,
   "id": "35b61749-eac5-4cb5-b2c3-2fc05817cf58",
   "metadata": {},
   "outputs": [
    {
     "name": "stdout",
     "output_type": "stream",
     "text": [
      "Coche Tugan encendido\n"
     ]
    }
   ],
   "source": [
    "volkswagen.start()"
   ]
  }
 ],
 "metadata": {
  "kernelspec": {
   "display_name": "Python 3 (ipykernel)",
   "language": "python",
   "name": "python3"
  },
  "language_info": {
   "codemirror_mode": {
    "name": "ipython",
    "version": 3
   },
   "file_extension": ".py",
   "mimetype": "text/x-python",
   "name": "python",
   "nbconvert_exporter": "python",
   "pygments_lexer": "ipython3",
   "version": "3.9.13"
  }
 },
 "nbformat": 4,
 "nbformat_minor": 5
}
