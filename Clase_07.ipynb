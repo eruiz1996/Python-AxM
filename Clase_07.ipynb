{
 "cells": [
  {
   "cell_type": "markdown",
   "id": "c99e64f6-e27e-4943-8ed9-4dc2713abb49",
   "metadata": {},
   "source": [
    "# Programación Orientada a Objetos\n",
    "La **Programación Orientada a Objetos** (POO) es un paradigma de programación en el que los conceptos del <u>mundo real</u> y <u>abstracto</u> se representan mediante objetos, los cuales encapsulan tanto datos como comportamientos.\n",
    "    \n",
    "Los objetos tienen:\n",
    "\n",
    "- Caracterísitcas o datos propios del objeto (**atributos**)\n",
    "- Funcionalidades o acciones que el objeto pueda realizar (**métodos**)\n",
    "\n",
    "Entonces el programar bajo la POO significa crear objetos y dejar que se interactúe entre ellos.\n",
    "\n",
    "Veamos algunos ejemplos de objetos con sus atributos y métodos:\n",
    "\n",
    "| Objeto    | Atributos                | Métodos                   |\n",
    "|-----------|--------------------------|---------------------------|\n",
    "| Celular   | Color, marca, modelo     | Llamar, apagar, prender   |\n",
    "| Coche     | Marca, modelo, color     | Arrancar, acelerar, frenar|\n",
    "| Computadora | Procesador, RAM, marca | Encender, apagar, ejecutar programas |\n",
    "| Humano | Nacionalidad, estatura, peso | Programar, llorar, jugar |\n"
   ]
  },
  {
   "cell_type": "markdown",
   "id": "89d33714-3d20-49c3-8f8d-e4f257df8f9d",
   "metadata": {},
   "source": [
    "# Abstracción\n",
    "## Clases\n",
    "Las clases son **plantillas para crear objetos**, es decir, una clase es un *conjunto de atributos y métodos que define el comportamiento y las características comunes a un grupo de objetos*, ya que proporciona un esquema o un molde a partir del cual se pueden crear múltiples objetos.\n",
    "## Instancias\n",
    "Al proceso de construir un objeto a partir de una clase se le llama **instanciación** o crear una instancia a partir de dicha clase.\n",
    "\n",
    "---\n",
    "\n",
    "La abstracción se logra mediante el uso de clases y objetos. Una **clase actúa** como un **modelo abstracto** que define las propiedades (atributos) y comportamientos (métodos) comunes a un conjunto de objetos, mientras que los objetos son instancias específicas de esas clases que encapsulan datos y comportamientos relacionados."
   ]
  },
  {
   "cell_type": "markdown",
   "id": "612b4ffa-96d9-4aef-8539-ee270831378e",
   "metadata": {},
   "source": [
    "# Creando una clase\n",
    "\n",
    "**Sintaxis**\n",
    "\n",
    "```python\n",
    "class ClassName():\n",
    "    # definición de la clase\n",
    "```\n",
    "\n",
    "- La comunidad recomienda usar mayúscula para la primer letra del nombre de la clase\n",
    "- Los paréntesis no son necesarios (por el momento)"
   ]
  },
  {
   "cell_type": "code",
   "execution_count": 1,
   "id": "f4aee35b-53d6-4656-80cd-37694060ca96",
   "metadata": {},
   "outputs": [],
   "source": [
    "class Car():\n",
    "    pass"
   ]
  },
  {
   "cell_type": "markdown",
   "id": "9f6d6f19-9a4a-493d-82a9-5c94a0a2e025",
   "metadata": {},
   "source": [
    "**Nota**. La partícula `pass` es una instrucción que, literalmente, no hace nada. Se usa principalmente como un <u>marcador</u> de posición cuando se requiere una declaración sintáctica pero *no se desea ejecutar ningún código*."
   ]
  },
  {
   "cell_type": "markdown",
   "id": "21ff2704-0af7-43d1-94a0-72485ebaf157",
   "metadata": {},
   "source": [
    "## Instanciación\n",
    "Para crear una instancia de una clase hacemos uso de la siguiente sintaxis:\n",
    "\n",
    "**Sintaxis**\n",
    "\n",
    "```python\n",
    "obj = ClassName()\n",
    "```"
   ]
  },
  {
   "cell_type": "markdown",
   "id": "bdfa2abe-153a-4c91-b289-b8ae535e1771",
   "metadata": {},
   "source": [
    "### Creando una instancia `Car()`\n",
    "**Coche Ferrari**"
   ]
  },
  {
   "cell_type": "code",
   "execution_count": 2,
   "id": "bd0e7abd-f242-4830-9de7-3305ec9d807e",
   "metadata": {},
   "outputs": [],
   "source": [
    "ferrari = Car()"
   ]
  },
  {
   "cell_type": "markdown",
   "id": "9d0c827a-542d-4c9b-8d25-7640c62cda7d",
   "metadata": {},
   "source": [
    "Podemos ver que en efecto es un objeto de la clase `Car()`"
   ]
  },
  {
   "cell_type": "code",
   "execution_count": 3,
   "id": "3371cca6-4610-4fbd-aed4-51fc2e1ee8c8",
   "metadata": {},
   "outputs": [
    {
     "data": {
      "text/plain": [
       "__main__.Car"
      ]
     },
     "execution_count": 3,
     "metadata": {},
     "output_type": "execute_result"
    }
   ],
   "source": [
    "type(ferrari)"
   ]
  },
  {
   "cell_type": "markdown",
   "id": "7d2e911c-ac97-4d73-883a-4469ed45d67b",
   "metadata": {},
   "source": [
    "## Definiendo atributos\n",
    "Para darle atributos a nuestros objetos hacemos uso de la **Notación Punto**\n",
    "\n",
    "**Sintaxis**\n",
    "\n",
    "```python\n",
    "obj.atr = value\n",
    "```\n",
    "\n",
    "Crea el atributo `atr` del objeto `obj` y le asigna el valor `value`"
   ]
  },
  {
   "cell_type": "markdown",
   "id": "3f186cc6-e8ab-464c-b40d-9ea08df8aa65",
   "metadata": {},
   "source": [
    "### Definiendo atributos del objeto `ferrari`\n",
    "- Crear atributo `model` con un valor de `2020`\n",
    "- Crear atributo `color` con un valor de `\"rojo\"`\n",
    "- Crear atributo `style` con un valor de `\"296 GTS\"`"
   ]
  },
  {
   "cell_type": "code",
   "execution_count": 4,
   "id": "d697a313-fb82-499a-8448-2a733b772f73",
   "metadata": {},
   "outputs": [],
   "source": [
    "ferrari.model = 2020\n",
    "ferrari.color = 'rojo'\n",
    "ferrari.style = '296 GTS'"
   ]
  },
  {
   "cell_type": "markdown",
   "id": "3ef0c458-a6df-4e0e-b7f4-ab353bf23411",
   "metadata": {},
   "source": [
    "Para acceder a los atributos de nuestro objeto usamos nuevamente la **notación punto**"
   ]
  },
  {
   "cell_type": "code",
   "execution_count": 5,
   "id": "8c2578b5-1b5b-4e44-b15e-f86ce2cd5b16",
   "metadata": {},
   "outputs": [
    {
     "name": "stdout",
     "output_type": "stream",
     "text": [
      "Tengo un 296 GTS, modelo 2020 color rojo\n"
     ]
    }
   ],
   "source": [
    "print(f'Tengo un {ferrari.style}, modelo {ferrari.model} color {ferrari.color}')"
   ]
  },
  {
   "cell_type": "markdown",
   "id": "91adae88-cc48-4a9a-8d6e-33882e2c4b16",
   "metadata": {},
   "source": [
    "### Creando otra instancia `Car()`\n",
    "**Coche Lamborghini**"
   ]
  },
  {
   "cell_type": "code",
   "execution_count": 6,
   "id": "a3354d04-9305-4e7a-ac2a-4eade8c4c359",
   "metadata": {},
   "outputs": [],
   "source": [
    "# creo un objeto de la clase Car\n",
    "lambo = Car()\n",
    "# le doy los atributos\n",
    "lambo.model = 2022\n",
    "lambo.color = 'azul'\n",
    "lambo.style = 'Huracán STO'"
   ]
  },
  {
   "cell_type": "code",
   "execution_count": 7,
   "id": "3dc7377e-63ae-4ed8-9fcc-36c5b1baa5c2",
   "metadata": {},
   "outputs": [
    {
     "name": "stdout",
     "output_type": "stream",
     "text": [
      "Tengo un Huracán STO, modelo 2022 color azul\n"
     ]
    }
   ],
   "source": [
    "print(f'Tengo un {lambo.style}, modelo {lambo.model} color {lambo.color}')"
   ]
  },
  {
   "cell_type": "markdown",
   "id": "641d1597-0e5b-40e2-973e-3211ec5efd73",
   "metadata": {},
   "source": [
    "**Ejercicio**.\n",
    "\n",
    "Determinar qué coche es del modelo más actualizado."
   ]
  },
  {
   "cell_type": "code",
   "execution_count": 8,
   "id": "d828cf26-afb2-4894-8913-48efabc13203",
   "metadata": {},
   "outputs": [
    {
     "name": "stdout",
     "output_type": "stream",
     "text": [
      "El coche lamborghini es de un modelo más actual que el ferrari\n"
     ]
    }
   ],
   "source": [
    "if lambo.model > ferrari.model:\n",
    "    print('El coche lamborghini es de un modelo más actual que el ferrari')\n",
    "elif lambo.model < ferrari.model:\n",
    "    print('El coche ferrari es de un modelo más actual que el lamborghini')\n",
    "else:\n",
    "    print(f'Ambos coches son modelo {lambo.model}')"
   ]
  },
  {
   "cell_type": "markdown",
   "id": "0be6978c-12fc-4159-b340-50be634dd40c",
   "metadata": {},
   "source": [
    "# Dunder methods\n",
    "También conocidos como *métodos mágicos* son métodos especiales de las clases y se caracterizan por iniciar y terminar su nombre con un doble guión bajo (`__`)"
   ]
  },
  {
   "cell_type": "markdown",
   "id": "8d11dc2c-22b3-4be4-8510-05e57b042973",
   "metadata": {},
   "source": [
    "## Método Constructor\n",
    "Sirve para **inicializa** los atributos de una clase.\n",
    "\n",
    "**Sintaxis**\n",
    "\n",
    "```python\n",
    "class ClassName():\n",
    "    \n",
    "    def __init__(self, atr_1, atr_2, atr_3, ..., atr_n):\n",
    "        self.atr_1 = atr_1\n",
    "        self.atr_2 = atr_2\n",
    "        self.atr_3 = atr_3\n",
    "        ...\n",
    "        self.atr_n = atr_n\n",
    "```\n",
    "\n",
    "Con esta sintaxis cuando se hagan instancias de la clase `ClassName()` se tendrá que usar:\n",
    "\n",
    "```python\n",
    "ClassName(atr_1, atr_2, atr_3, ..., atr_n)\n",
    "```"
   ]
  },
  {
   "cell_type": "markdown",
   "id": "fbf84555-47c6-4386-a7ee-db6a491eca9e",
   "metadata": {},
   "source": [
    "### Parámetro `self`\n",
    "Este parámetro se refiere *al mismo objeto*. \n",
    "\n",
    "Para entenderlo mejor vamos a regresar al ejemplo del coche lamborghini.\n",
    "\n",
    "```python\n",
    "# se crea un objeto 'Car' al que le damos el nombre de 'lambo'\n",
    "lambo = Car()\n",
    "# al objeto lambo le damos un atributo 'model' con un valor de '2022'\n",
    "lambo.model = 2022\n",
    "# luego un atributo 'color' con un valor de '\"azul\"'\n",
    "lambo.color = 'azul'\n",
    "# y por último atributo 'style' con un valor de '\"Huracán STO\"'\n",
    "lambo.style = 'Huracán STO'\n",
    "```\n",
    "\n",
    "Siguiendo la sintaxis de nuestro método `__init__` tendremos que:\n",
    "\n",
    "```python\n",
    "self = Car(2022, 'azul', 'Huracán STO')\n",
    "self.model = 2022\n",
    "self.color = 'azul'\n",
    "self.style = 'Huracán STO'\n",
    "```\n",
    "\n",
    "pues `self` va a tomar el lugar de `lambo`"
   ]
  },
  {
   "cell_type": "code",
   "execution_count": 9,
   "id": "ea5fc67c-ed9f-44f1-8be8-5497f1e8e5ea",
   "metadata": {},
   "outputs": [],
   "source": [
    "class Car():\n",
    "    \n",
    "    def __init__(self, model, color, style):\n",
    "        self.model = model\n",
    "        self.color = color\n",
    "        self.style = style"
   ]
  },
  {
   "cell_type": "markdown",
   "id": "4589d817-82ef-46c2-90ae-ccdf4bc5dcb1",
   "metadata": {},
   "source": [
    "Vamos a crear 3 objetos de la clase `Car()`"
   ]
  },
  {
   "cell_type": "code",
   "execution_count": 10,
   "id": "ac76156b-ee2a-494a-93f6-6a9ac955683e",
   "metadata": {},
   "outputs": [],
   "source": [
    "mazda = Car(2024, 'negro', 'CX-30')\n",
    "nissan = Car(2023, 'rojo', 'X-trail')\n",
    "peugeot = Car(2021, 'gris', '3008')"
   ]
  },
  {
   "cell_type": "markdown",
   "id": "86b035e9-1729-40a5-b776-dd7e1b9cfee7",
   "metadata": {},
   "source": [
    "Operamos con ellos"
   ]
  },
  {
   "cell_type": "code",
   "execution_count": 11,
   "id": "167a618d-86d8-4b90-9d07-81e2168a5db9",
   "metadata": {},
   "outputs": [
    {
     "name": "stdout",
     "output_type": "stream",
     "text": [
      "Tengo un CX-30, modelo 2024 color negro\n",
      "Tengo un X-trail, modelo 2023 color rojo\n",
      "Tengo un 3008, modelo 2021 color gris\n"
     ]
    }
   ],
   "source": [
    "print(f'Tengo un {mazda.style}, modelo {mazda.model} color {mazda.color}')\n",
    "print(f'Tengo un {nissan.style}, modelo {nissan.model} color {nissan.color}')\n",
    "print(f'Tengo un {peugeot.style}, modelo {peugeot.model} color {peugeot.color}')"
   ]
  },
  {
   "cell_type": "markdown",
   "id": "329bb24d-f0f7-4d44-ad8d-ade7c4e89e32",
   "metadata": {},
   "source": [
    "Al todos tener los mismos atributos podemos simplificar las impresiones"
   ]
  },
  {
   "cell_type": "code",
   "execution_count": 12,
   "id": "98992b13-a3b8-4271-a268-6c6f19c1f539",
   "metadata": {},
   "outputs": [
    {
     "name": "stdout",
     "output_type": "stream",
     "text": [
      "Tengo un 296 GTS, modelo 2020 color rojo\n",
      "Tengo un Huracán STO, modelo 2022 color azul\n",
      "Tengo un CX-30, modelo 2024 color negro\n",
      "Tengo un X-trail, modelo 2023 color rojo\n",
      "Tengo un 3008, modelo 2021 color gris\n"
     ]
    }
   ],
   "source": [
    "# lista de instancias Car\n",
    "cars = [ferrari, lambo, mazda, nissan, peugeot]\n",
    "for car in cars:\n",
    "    print(f'Tengo un {car.style}, modelo {car.model} color {car.color}')"
   ]
  },
  {
   "cell_type": "markdown",
   "id": "0b38ccd7-6d8f-46d4-ac48-6ea7a9a0cf2d",
   "metadata": {},
   "source": [
    "## Método `__str__`\n",
    "Define cómo se debe imprimir o representar un objeto cuando se utiliza la función `print()` o cuando se convierte el objeto a una cadena mediante la función `str()`.\n",
    "\n",
    "**Sintaxis**\n",
    "\n",
    "```python\n",
    "class ClassName():\n",
    "    \n",
    "    ...\n",
    "    \n",
    "    def __str__(self):\n",
    "        return 'descripción'\n",
    "```"
   ]
  },
  {
   "cell_type": "code",
   "execution_count": 13,
   "id": "7d2ea08e-14f0-40a3-842e-028b44287123",
   "metadata": {},
   "outputs": [],
   "source": [
    "class Car():\n",
    "    \n",
    "    def __init__(self, model, color, style):\n",
    "        self.model = model\n",
    "        self.color = color\n",
    "        self.style = style\n",
    "        \n",
    "    def __str__(self):\n",
    "        return f'Tengo un {self.style}, modelo {self.model} color {self.color}'"
   ]
  },
  {
   "cell_type": "markdown",
   "id": "d0914bc3-a126-4810-ac11-e4301dcd9f31",
   "metadata": {},
   "source": [
    "Hago una instacia de la clase `Car()`"
   ]
  },
  {
   "cell_type": "code",
   "execution_count": 14,
   "id": "0405d4fa-1547-4f40-a5e8-ae6f1042dea4",
   "metadata": {},
   "outputs": [],
   "source": [
    "bmv = Car(2022, 'azul', 'iX1')"
   ]
  },
  {
   "cell_type": "code",
   "execution_count": 19,
   "id": "cf19e06f-f969-4752-893c-810ae30fd66d",
   "metadata": {},
   "outputs": [
    {
     "data": {
      "text/plain": [
       "2022"
      ]
     },
     "execution_count": 19,
     "metadata": {},
     "output_type": "execute_result"
    }
   ],
   "source": [
    "bmv.model"
   ]
  },
  {
   "cell_type": "code",
   "execution_count": 20,
   "id": "aced541a-79da-4e2e-9c48-4d23577a9d90",
   "metadata": {},
   "outputs": [
    {
     "data": {
      "text/plain": [
       "'azul'"
      ]
     },
     "execution_count": 20,
     "metadata": {},
     "output_type": "execute_result"
    }
   ],
   "source": [
    "bmv.color"
   ]
  },
  {
   "cell_type": "code",
   "execution_count": 21,
   "id": "af43c4a0-8fb5-46ff-beeb-b8994f240eb2",
   "metadata": {},
   "outputs": [
    {
     "data": {
      "text/plain": [
       "'iX1'"
      ]
     },
     "execution_count": 21,
     "metadata": {},
     "output_type": "execute_result"
    }
   ],
   "source": [
    "bmv.style"
   ]
  },
  {
   "cell_type": "markdown",
   "id": "02024b75-29e9-4f04-a995-585660dfa362",
   "metadata": {},
   "source": [
    "Veo su representación (*casting*) `str()`"
   ]
  },
  {
   "cell_type": "code",
   "execution_count": 17,
   "id": "446d1b58-9445-4e87-9482-61ac7c107693",
   "metadata": {},
   "outputs": [
    {
     "data": {
      "text/plain": [
       "'Tengo un iX1, modelo 2022 color azul'"
      ]
     },
     "execution_count": 17,
     "metadata": {},
     "output_type": "execute_result"
    }
   ],
   "source": [
    "str(bmv)"
   ]
  },
  {
   "cell_type": "markdown",
   "id": "d4c32fc7-933b-4d20-bfa8-b6dcd21285c6",
   "metadata": {},
   "source": [
    "Veo qué sucede cuando uso `print()`"
   ]
  },
  {
   "cell_type": "code",
   "execution_count": 18,
   "id": "6508a02e-1998-4869-8a6a-e68d1224d208",
   "metadata": {},
   "outputs": [
    {
     "name": "stdout",
     "output_type": "stream",
     "text": [
      "Tengo un iX1, modelo 2022 color azul\n"
     ]
    }
   ],
   "source": [
    "print(bmv)"
   ]
  },
  {
   "cell_type": "markdown",
   "id": "c65ebd7e-faa9-4fa8-b79e-7e4113fb499a",
   "metadata": {},
   "source": [
    "**Recomendación** investigar el método `__eq__()`"
   ]
  },
  {
   "cell_type": "markdown",
   "id": "664901d7-f0f5-4590-ad54-7c6749622267",
   "metadata": {},
   "source": [
    "# Agregando métodos propios\n",
    "**Sintaxis**\n",
    "\n",
    "```python\n",
    "class ClassName():\n",
    "    \n",
    "    ...\n",
    "    \n",
    "    def method_name(self, arg_1, arg_2, ..., arg_n):\n",
    "        # bloque de código\n",
    "```\n",
    "\n",
    "**Nota**. En todos los métodos, ya sean especiales o propios, se debe de pasar como parámetro al `self`"
   ]
  },
  {
   "cell_type": "markdown",
   "id": "4af12aad-46da-4bbc-b477-8a7f476d5087",
   "metadata": {},
   "source": [
    "### Creando método de encendido\n",
    "Vamos a crear un método llamado `start()` el cual:\n",
    "- Requiere de un atributo `off` que por defecto tome el valor `True` (inicializar)\n",
    "- Si el coche está apagado:\n",
    "    - Imprime el mensaje `\"Coche estilo_coche encendido\"`\n",
    "    - Cambia atributo `off` a `False`\n",
    "- Si el coche está encendido:\n",
    "    - Imprime el mensaje `\"El coche estilo_coche ya estaba encendido\"`"
   ]
  },
  {
   "cell_type": "code",
   "execution_count": 22,
   "id": "77910b79-327c-49d1-8952-027a335169ad",
   "metadata": {},
   "outputs": [],
   "source": [
    "class Car():\n",
    "    \n",
    "    def __init__(self, model, color, style, off = True):\n",
    "        self.model = model\n",
    "        self.color = color\n",
    "        self.style = style\n",
    "        # nuevo atributo: por defecto es True\n",
    "        self.off = off\n",
    "        \n",
    "    def __str__(self):\n",
    "        return f'Tengo un {self.style}, modelo {self.model} color {self.color}'\n",
    "    \n",
    "    def start(self):\n",
    "        # si el coche está apagado\n",
    "        if self.off:\n",
    "            # imprimo mensaje de encendido\n",
    "            print(f'Coche {self.style} encendido')\n",
    "            # enciendo el teléfono\n",
    "            self.off = False\n",
    "        else:\n",
    "            print(f'El coche {self.style} ya estaba encendido')"
   ]
  },
  {
   "cell_type": "code",
   "execution_count": 23,
   "id": "e1e028e3-b5b6-4251-b3b8-38f54c409ed6",
   "metadata": {},
   "outputs": [],
   "source": [
    "honda = Car(2010, 'gris', 'civic')"
   ]
  },
  {
   "cell_type": "code",
   "execution_count": 24,
   "id": "d29002ea-d283-4bc0-9f73-24e074747ee0",
   "metadata": {},
   "outputs": [
    {
     "data": {
      "text/plain": [
       "'Tengo un civic, modelo 2010 color gris'"
      ]
     },
     "execution_count": 24,
     "metadata": {},
     "output_type": "execute_result"
    }
   ],
   "source": [
    "str(honda)"
   ]
  },
  {
   "cell_type": "markdown",
   "id": "f6bc6d55-42e3-486a-bb56-603a93a2538b",
   "metadata": {},
   "source": [
    "Como no di un valor al atributo `off` por defecto debe de estar apagado"
   ]
  },
  {
   "cell_type": "code",
   "execution_count": 25,
   "id": "8bd64c18-2242-4d6e-b5f6-00e7293a83f9",
   "metadata": {},
   "outputs": [
    {
     "data": {
      "text/plain": [
       "True"
      ]
     },
     "execution_count": 25,
     "metadata": {},
     "output_type": "execute_result"
    }
   ],
   "source": [
    "honda.off"
   ]
  },
  {
   "cell_type": "markdown",
   "id": "22038d01-8db1-4c25-88c3-2c1085289183",
   "metadata": {},
   "source": [
    "Aplico el método `start()` para encender el coche"
   ]
  },
  {
   "cell_type": "code",
   "execution_count": 26,
   "id": "d29eecae-e8b6-42b1-86d3-66d0db3dfaa4",
   "metadata": {},
   "outputs": [
    {
     "name": "stdout",
     "output_type": "stream",
     "text": [
      "Coche civic encendido\n"
     ]
    }
   ],
   "source": [
    "honda.start()"
   ]
  },
  {
   "cell_type": "markdown",
   "id": "f3e9d319-44f9-4547-a3d0-6ba93f95bc78",
   "metadata": {},
   "source": [
    "Corroboro que el coche esté encendido"
   ]
  },
  {
   "cell_type": "code",
   "execution_count": 27,
   "id": "8060949c-cf6d-4d6b-a240-ba26d58530da",
   "metadata": {},
   "outputs": [
    {
     "data": {
      "text/plain": [
       "False"
      ]
     },
     "execution_count": 27,
     "metadata": {},
     "output_type": "execute_result"
    }
   ],
   "source": [
    "honda.off"
   ]
  },
  {
   "cell_type": "markdown",
   "id": "9574247c-c37d-4860-a89a-39bc39e8c9d7",
   "metadata": {},
   "source": [
    "Si lo intento volver a encender..."
   ]
  },
  {
   "cell_type": "code",
   "execution_count": 28,
   "id": "bb579a68-bd83-4c7c-8b22-6f14df133eca",
   "metadata": {},
   "outputs": [
    {
     "name": "stdout",
     "output_type": "stream",
     "text": [
      "El coche civic ya estaba encendido\n"
     ]
    }
   ],
   "source": [
    "honda.start()"
   ]
  },
  {
   "cell_type": "markdown",
   "id": "6766e431-66a3-4c6c-9746-5715fa03390f",
   "metadata": {},
   "source": [
    "### Creando método de apagado\n",
    "Crear el método `turn_off` el cual:\n",
    "- Si el coche está apagado:\n",
    "    - Imprima `\"El coche estilo_coche\" ya estaba apagado`\n",
    "- Si el coche estaba encendido:\n",
    "    - Imprima `\"Coche estilo_coche apagado. ¿Olvida algo?\"`\n",
    "    - Cambie el atributo `off` a `True`"
   ]
  },
  {
   "cell_type": "code",
   "execution_count": 29,
   "id": "384b4eef-7695-4755-b4d2-54fb835f26ba",
   "metadata": {},
   "outputs": [],
   "source": [
    "class Car():\n",
    "    \n",
    "    def __init__(self, model, color, style, off = True):\n",
    "        self.model = model\n",
    "        self.color = color\n",
    "        self.style = style\n",
    "        self.off = off\n",
    "        \n",
    "    def __str__(self):\n",
    "        return f'Tengo un {self.style}, modelo {self.model} color {self.color}'\n",
    "    \n",
    "    def start(self):\n",
    "        if self.off:\n",
    "            print(f'Coche {self.style} encendido')\n",
    "            self.off = False\n",
    "        else:\n",
    "            print(f'El coche {self.style} ya estaba encendido')\n",
    "            \n",
    "    def turn_off(self):\n",
    "        if self.off:\n",
    "            print(f'El coche {self.style} ya estaba apagado')\n",
    "        else:\n",
    "            print(f'Coche {self.style} apagado.\\n¿Olvida algo?')\n",
    "            self.off = True"
   ]
  },
  {
   "cell_type": "code",
   "execution_count": 30,
   "id": "fe21ff83-1e20-4109-898a-5948b173db09",
   "metadata": {},
   "outputs": [],
   "source": [
    "# creamos objeto Car pero que el coche ya está encendido\n",
    "volkswagen = Car(2018, 'blanco', 'Tugan', off = False)"
   ]
  },
  {
   "cell_type": "markdown",
   "id": "bf959c04-3ac8-4b69-a9bf-1b5f86c45a28",
   "metadata": {},
   "source": [
    "Si lo apagamos"
   ]
  },
  {
   "cell_type": "code",
   "execution_count": 31,
   "id": "59e1fa04-525a-4fa9-861a-e05310c4599b",
   "metadata": {},
   "outputs": [
    {
     "name": "stdout",
     "output_type": "stream",
     "text": [
      "Coche Tugan apagado.\n",
      "¿Olvida algo?\n"
     ]
    }
   ],
   "source": [
    "volkswagen.turn_off()"
   ]
  },
  {
   "cell_type": "markdown",
   "id": "960cc9a1-c7cf-46e1-a7b7-0c9ea0c0486c",
   "metadata": {},
   "source": [
    "Si lo volvemos a intentar apagar"
   ]
  },
  {
   "cell_type": "code",
   "execution_count": 32,
   "id": "7f687e6d-b41b-4641-ab8c-a878919accaf",
   "metadata": {},
   "outputs": [
    {
     "name": "stdout",
     "output_type": "stream",
     "text": [
      "El coche Tugan ya estaba apagado\n"
     ]
    }
   ],
   "source": [
    "volkswagen.turn_off()"
   ]
  },
  {
   "cell_type": "markdown",
   "id": "7fa39cf6-5361-4174-a03c-5a2522a5afeb",
   "metadata": {},
   "source": [
    "Ahora lo encendemos"
   ]
  },
  {
   "cell_type": "code",
   "execution_count": 33,
   "id": "35b61749-eac5-4cb5-b2c3-2fc05817cf58",
   "metadata": {},
   "outputs": [
    {
     "name": "stdout",
     "output_type": "stream",
     "text": [
      "Coche Tugan encendido\n"
     ]
    }
   ],
   "source": [
    "volkswagen.start()"
   ]
  },
  {
   "cell_type": "markdown",
   "id": "9cebeaa6-cbfb-4380-b8b2-3054d951b885",
   "metadata": {},
   "source": [
    "#### Ejercicio 1. Alumno\n",
    "- Define la clase `Alumno`\n",
    "- Define el método `__init__()` para inicializar los atributos `nombre`, `edad` y `materia_favorita`\n",
    "- Define un método llamado `presentarse()` que **retorna** una cadena que incluye el nombre, la edad y la materia favorita del alumno\n",
    "- Define un método llamado `estudiar()` que **retorna** una cadena que simula al alumno estudiando su materia favorita\n",
    "- Define un método llamado `promedio(calificaciones)` donde `calificaciones` sea una lista de las calficaciones del alumno y me **retorne** el promedio de ellas\n",
    "- Crea 3 instancias de la clase `Alumno()` utilizando los siguientes valores para los atributos `nombre`, `edad` y `materia_favorita`:\n",
    "    - Alumno 1: Alejando, 21, Matemáticas\n",
    "    - Alumno 2: Victoria, 22, Geografía\n",
    "    - Alumno 3: Andrea, 19, Historia\n",
    "\n",
    "**Ejemplo**\n",
    "```python\n",
    "alumno2.presentarse()\n",
    "# output: Hola soy Victoria, tengo 22 años y mi materia favorita es Geografía\n",
    "alumno1.promedio([10, 9, 8])\n",
    "# output: El promedio de Alejandro es de 9.0\n",
    "```"
   ]
  },
  {
   "cell_type": "code",
   "execution_count": 34,
   "id": "86b02cf6-269a-4b1e-b1ed-01be187baff7",
   "metadata": {},
   "outputs": [],
   "source": [
    "class Alumno():\n",
    "    \n",
    "    def __init__(self, nombre, edad, materia_favorita):\n",
    "        self.nombre = nombre\n",
    "        self.edad = edad\n",
    "        self.materia_favorita = materia_favorita\n",
    "    \n",
    "    def presentarse(self):\n",
    "        return f'Hola soy {self.nombre}, tengo {self.edad} años y mi materia favorita es {self.materia_favorita}'\n",
    "    \n",
    "    def estudiar(self):\n",
    "        return f'El alumno {self.nombre} está estuadiando {self.materia_favorita}'\n",
    "    \n",
    "    def promedio(self, calificaciones):\n",
    "        return sum(calificaciones)/len(calificaciones)"
   ]
  },
  {
   "cell_type": "code",
   "execution_count": 35,
   "id": "701f09d6-d2c8-484b-97c8-c4236e72838b",
   "metadata": {},
   "outputs": [],
   "source": [
    "alumno1 = Alumno('Alejandro', 21, 'Matemáticas')\n",
    "alumno2 = Alumno('Victoria', 22, 'Geografía')\n",
    "alumno3 = Alumno('Andrea', 19, 'Historia')"
   ]
  },
  {
   "cell_type": "code",
   "execution_count": 36,
   "id": "fe28d6ce-7e4a-4c16-971e-e6778526886e",
   "metadata": {},
   "outputs": [
    {
     "name": "stdout",
     "output_type": "stream",
     "text": [
      "Hola soy Alejandro, tengo 21 años y mi materia favorita es Matemáticas\n",
      "El alumno Victoria está estuadiando Geografía\n",
      "8.0\n"
     ]
    }
   ],
   "source": [
    "print(alumno1.presentarse(), alumno2.estudiar(), alumno3.promedio([8, 8, 8]), sep = '\\n')"
   ]
  },
  {
   "cell_type": "markdown",
   "id": "4e6d7971-0c9e-4aaf-b025-d6a833bb5bbf",
   "metadata": {},
   "source": [
    "#### Ejercicio. Celular\n",
    "- Crea una clase que se llame `Celular()`\n",
    "- Toma los atributos de: `marca`, `color`, `encendido`, `saldo`\n",
    "- El atributo `encendido` por defecto será `False`\n",
    "- El atributo `saldo` por defecto será `0`\n",
    "- Crea el método `__str__` donde pongas una descripción del celular\n",
    "- Crea un método para encender el celular\n",
    "- Crea un método para cargar saldo\n",
    "- Crea un método para llamar a alguien (cada llamada cuesta 5 pesos)\n",
    "- Crea un método para apagar el celular"
   ]
  },
  {
   "cell_type": "code",
   "execution_count": 49,
   "id": "53bfa838-d889-4ec2-aa53-5111a4322b80",
   "metadata": {
    "tags": []
   },
   "outputs": [],
   "source": [
    "class Celular():\n",
    "    \n",
    "    def __init__(self, marca, color, encendido=False, saldo=0):\n",
    "        self.marca = marca\n",
    "        self.color = color\n",
    "        self.encendido = encendido\n",
    "        self.saldo = saldo\n",
    "        \n",
    "    def __str__(self):\n",
    "        return f'El celular {self.marca} tiene {self.saldo} pesos de saldo'\n",
    "    \n",
    "    def encender(self):\n",
    "        if not self.encendido:\n",
    "            print(f'Celular {self.color} encendido')\n",
    "            self.encendido = True\n",
    "        else:\n",
    "            print(f'El celular {self.color} ya estaba encendido')\n",
    "            \n",
    "    def cargar_saldo(self, monto):\n",
    "        if self.encendido:\n",
    "            self.saldo += monto\n",
    "            print(f'Ahora tienes {self.saldo} pesos de saldo')\n",
    "        else:\n",
    "            print('El celular está apagado')\n",
    "        \n",
    "    def llamar(self, persona):\n",
    "        if self.saldo < 5:\n",
    "            print('Saldo insuficiente')\n",
    "        else:\n",
    "            print(f'Llamando a {persona}')\n",
    "            self.saldo -= 5\n",
    "            \n",
    "    def apagar(self):\n",
    "        if self.encendido:\n",
    "            print(f'El celular {self.marca} está apagado')\n",
    "            self.encendido = False\n",
    "        else:\n",
    "            print(f'El celular {self.marca} ya estaba apagado')"
   ]
  },
  {
   "cell_type": "code",
   "execution_count": 50,
   "id": "94781f55-a102-41d1-9540-420556f74b05",
   "metadata": {},
   "outputs": [],
   "source": [
    "cel1 = Celular('Nokia', 'gris')"
   ]
  },
  {
   "cell_type": "code",
   "execution_count": 51,
   "id": "3629e71a-2408-430d-9837-108c25d61c8e",
   "metadata": {},
   "outputs": [
    {
     "data": {
      "text/plain": [
       "False"
      ]
     },
     "execution_count": 51,
     "metadata": {},
     "output_type": "execute_result"
    }
   ],
   "source": [
    "cel1.encendido"
   ]
  },
  {
   "cell_type": "code",
   "execution_count": 52,
   "id": "839b9960-11aa-4df1-8f6e-51fd56183610",
   "metadata": {},
   "outputs": [
    {
     "data": {
      "text/plain": [
       "0"
      ]
     },
     "execution_count": 52,
     "metadata": {},
     "output_type": "execute_result"
    }
   ],
   "source": [
    "cel1.saldo"
   ]
  },
  {
   "cell_type": "code",
   "execution_count": 53,
   "id": "ebc32b18-5af8-48fe-b9a2-e8e9af3bea5d",
   "metadata": {},
   "outputs": [
    {
     "data": {
      "text/plain": [
       "'El celular Nokia tiene 0 pesos de saldo'"
      ]
     },
     "execution_count": 53,
     "metadata": {},
     "output_type": "execute_result"
    }
   ],
   "source": [
    "str(cel1)"
   ]
  },
  {
   "cell_type": "code",
   "execution_count": 54,
   "id": "96a37ef0-cf15-4b37-9597-ea5a4141e8d1",
   "metadata": {},
   "outputs": [
    {
     "name": "stdout",
     "output_type": "stream",
     "text": [
      "Celular gris encendido\n"
     ]
    }
   ],
   "source": [
    "cel1.encender()"
   ]
  },
  {
   "cell_type": "code",
   "execution_count": 55,
   "id": "b172e969-7cba-4575-b58c-8ed2b3949576",
   "metadata": {},
   "outputs": [
    {
     "name": "stdout",
     "output_type": "stream",
     "text": [
      "El celular Nokia está apagado\n"
     ]
    }
   ],
   "source": [
    "cel1.apagar()"
   ]
  },
  {
   "cell_type": "code",
   "execution_count": 56,
   "id": "a60225fd-fab0-4380-bca6-b3d179a05747",
   "metadata": {},
   "outputs": [
    {
     "name": "stdout",
     "output_type": "stream",
     "text": [
      "El celular está apagado\n"
     ]
    }
   ],
   "source": [
    "cel1.cargar_saldo(10)"
   ]
  },
  {
   "cell_type": "code",
   "execution_count": 57,
   "id": "e5bd64e3-4549-443c-a0aa-b8db662f563d",
   "metadata": {},
   "outputs": [
    {
     "name": "stdout",
     "output_type": "stream",
     "text": [
      "Celular gris encendido\n"
     ]
    }
   ],
   "source": [
    "cel1.encender()"
   ]
  },
  {
   "cell_type": "code",
   "execution_count": 58,
   "id": "83eb1d65-d965-40e2-bfdb-b5fb4a4ece08",
   "metadata": {},
   "outputs": [
    {
     "name": "stdout",
     "output_type": "stream",
     "text": [
      "Ahora tienes 10 pesos de saldo\n"
     ]
    }
   ],
   "source": [
    "cel1.cargar_saldo(10)"
   ]
  },
  {
   "cell_type": "code",
   "execution_count": 59,
   "id": "743d4ba0-67cd-48e7-b71a-be1a47314ee9",
   "metadata": {},
   "outputs": [
    {
     "name": "stdout",
     "output_type": "stream",
     "text": [
      "Ahora tienes 40 pesos de saldo\n"
     ]
    }
   ],
   "source": [
    "cel1.cargar_saldo(30)"
   ]
  },
  {
   "cell_type": "code",
   "execution_count": 60,
   "id": "2a8e5ad3-9471-40ab-8cb1-057f0e97e754",
   "metadata": {},
   "outputs": [
    {
     "name": "stdout",
     "output_type": "stream",
     "text": [
      "Llamando a Daniel\n"
     ]
    }
   ],
   "source": [
    "cel1.llamar('Daniel')"
   ]
  },
  {
   "cell_type": "code",
   "execution_count": 61,
   "id": "6677b600-c6df-42d6-a061-25f3c4c357c3",
   "metadata": {},
   "outputs": [
    {
     "data": {
      "text/plain": [
       "35"
      ]
     },
     "execution_count": 61,
     "metadata": {},
     "output_type": "execute_result"
    }
   ],
   "source": [
    "cel1.saldo"
   ]
  },
  {
   "cell_type": "code",
   "execution_count": 62,
   "id": "10b40d31-2c73-4469-83a8-b0d87580f3cf",
   "metadata": {},
   "outputs": [
    {
     "name": "stdout",
     "output_type": "stream",
     "text": [
      "Llamando a Perla\n"
     ]
    },
    {
     "data": {
      "text/plain": [
       "30"
      ]
     },
     "execution_count": 62,
     "metadata": {},
     "output_type": "execute_result"
    }
   ],
   "source": [
    "cel1.llamar('Perla')\n",
    "cel1.saldo"
   ]
  },
  {
   "cell_type": "markdown",
   "id": "863e6b5e-fe62-4711-ac29-7a1378b0862f",
   "metadata": {
    "tags": []
   },
   "source": [
    "# Herencia\n",
    "Al igual que un hijo hereda aspectos físicos y de comportamiento de sus padres, las clases pueden heredar de otras clases, donde la clase que hereda se conoce como la *clase hija* o *subclase*, y la clase de la que hereda se conoce como la *clase padre* o *superclase*.\n",
    "\n",
    "Esto es fundamental en la POO porque así nos evitamos el repetir código!!\n",
    "\n",
    "**Sintaxis**\n",
    "\n",
    "```python\n",
    "class Child(Parent):\n",
    "    # código\n",
    "```"
   ]
  },
  {
   "cell_type": "markdown",
   "id": "62fb9b07-a6e9-4be3-a2ad-aceb84c2272a",
   "metadata": {},
   "source": [
    "### Clase Padre"
   ]
  },
  {
   "cell_type": "code",
   "execution_count": 63,
   "id": "956dbb49-4cba-49bc-ac19-8210cce95ed5",
   "metadata": {},
   "outputs": [],
   "source": [
    "class Animal():\n",
    "    \n",
    "    def __init__(self, nombre):\n",
    "        self.nombre = nombre\n",
    "    \n",
    "    def hacer_sonido(self, sonido):\n",
    "        print(f'{sonido}!!!')"
   ]
  },
  {
   "cell_type": "code",
   "execution_count": 64,
   "id": "0ea29fed-5c1f-46c1-9d8d-7856ee5ae32d",
   "metadata": {},
   "outputs": [
    {
     "name": "stdout",
     "output_type": "stream",
     "text": [
      "Cu-cu!!!\n"
     ]
    }
   ],
   "source": [
    "pajaro = Animal('Federico')\n",
    "pajaro.hacer_sonido('Cu-cu')"
   ]
  },
  {
   "cell_type": "markdown",
   "id": "c9da54cd-b435-4ab6-aa47-27abb81b7407",
   "metadata": {},
   "source": [
    "### Clases Hijo"
   ]
  },
  {
   "cell_type": "code",
   "execution_count": 65,
   "id": "f83ee42b-6a62-49fd-9b5f-a8d7fc4e77a9",
   "metadata": {},
   "outputs": [],
   "source": [
    "class Perro(Animal):\n",
    "    pass\n",
    "\n",
    "class Gato(Animal):\n",
    "    pass"
   ]
  },
  {
   "cell_type": "markdown",
   "id": "fe1bb0df-987f-45c4-8929-e2122dd7ce03",
   "metadata": {},
   "source": [
    "Como heredan de la clase `Animal()` entonces tienen los mismos atributos y métodos que los objetos de tipo animal."
   ]
  },
  {
   "cell_type": "code",
   "execution_count": 66,
   "id": "c44f5a64-bfc9-46d7-bc15-ff5328079779",
   "metadata": {},
   "outputs": [
    {
     "data": {
      "text/plain": [
       "'Tsuki'"
      ]
     },
     "execution_count": 66,
     "metadata": {},
     "output_type": "execute_result"
    }
   ],
   "source": [
    "mi_perro = Perro('Tsuki')\n",
    "mi_perro.nombre"
   ]
  },
  {
   "cell_type": "code",
   "execution_count": 67,
   "id": "3be490ac-af09-462e-96d7-5270cad50821",
   "metadata": {},
   "outputs": [
    {
     "name": "stdout",
     "output_type": "stream",
     "text": [
      "Gua!!!\n"
     ]
    }
   ],
   "source": [
    "mi_perro.hacer_sonido('Gua')"
   ]
  },
  {
   "cell_type": "code",
   "execution_count": 68,
   "id": "59baa968-7e8d-4667-8121-586aaadd98f6",
   "metadata": {},
   "outputs": [
    {
     "data": {
      "text/plain": [
       "'Dimas'"
      ]
     },
     "execution_count": 68,
     "metadata": {},
     "output_type": "execute_result"
    }
   ],
   "source": [
    "mi_gato = Gato('Dimas')\n",
    "mi_gato.nombre"
   ]
  },
  {
   "cell_type": "markdown",
   "id": "71558517-3544-40c0-a42a-b692e1ad00ac",
   "metadata": {},
   "source": [
    "Sin embargo, al ser perros y gatos les podemos dar su sonido específico modificando (reescribiendo) el método `hacer_sonido()`"
   ]
  },
  {
   "cell_type": "code",
   "execution_count": 69,
   "id": "13fa30a1-b4ce-441a-a739-c41fdbb4b556",
   "metadata": {},
   "outputs": [],
   "source": [
    "class Perro(Animal):\n",
    "    \n",
    "    def hacer_sonido(self):\n",
    "        print('Gua!')\n",
    "\n",
    "class Gato(Animal):\n",
    "    \n",
    "    def hacer_sonido(self):\n",
    "        print('Miau!')"
   ]
  },
  {
   "cell_type": "code",
   "execution_count": 70,
   "id": "b70e7309-030b-4fa1-9a8b-980aabbfe602",
   "metadata": {},
   "outputs": [
    {
     "name": "stdout",
     "output_type": "stream",
     "text": [
      "Gua!\n",
      "Miau!\n"
     ]
    }
   ],
   "source": [
    "mi_perro = Perro('Yue')\n",
    "mi_gato = Gato('Gestas')\n",
    "\n",
    "mi_perro.hacer_sonido()  \n",
    "mi_gato.hacer_sonido()   "
   ]
  },
  {
   "cell_type": "markdown",
   "id": "b4efe61a-a9fd-455b-906f-b120c272a9ff",
   "metadata": {},
   "source": [
    "## Herencia modificando atributos de la clase Padre\n",
    "Supongamos que tenemos la clase `Poligono()` la cual tiene un parámetro `n` referente al número de lados y un método `definir_lados()` para pedirle al usuario que de el valor de los lados."
   ]
  },
  {
   "cell_type": "code",
   "execution_count": 71,
   "id": "4ce981be-e135-4816-b96d-4952d4f51041",
   "metadata": {},
   "outputs": [],
   "source": [
    "class Poligono:\n",
    "    \n",
    "    def __init__(self, n):\n",
    "        self.n = n\n",
    "        \n",
    "    def definir_lados(self):\n",
    "        lados = []\n",
    "        for i in range(self.n):\n",
    "            lado = float(input(f'Introduce el tamaño del lado {i+1}: '))\n",
    "            lados.append(lado)\n",
    "        self.lados = lados"
   ]
  },
  {
   "cell_type": "markdown",
   "id": "9fcb1366-af55-44f7-99db-4d8c28685d22",
   "metadata": {},
   "source": [
    "Si ahora deseáramos crear la clase `Triangulo()`, podemos heredar de la clase `Poligono()`, sin embargo, tendríamos que modificar el atributo `n` por el valor de `3`.\n",
    "\n",
    "Para hacer este tipo de modificaciones hacemos uso de la siguiente sintaxis:\n",
    "\n",
    "**Sintaxis**\n",
    "\n",
    "```python\n",
    "def __init__(self):\n",
    "    super().__init__(atr_1 = value_1, atr_2 = value_2, ..., atr_n = value_n)\n",
    "```\n",
    "\n",
    "donde `atr_i` es el atributo de la clase padre al cual le damos el valor de `value_i`.\n",
    "\n",
    "En nuestro ejemplo tendríamos"
   ]
  },
  {
   "cell_type": "code",
   "execution_count": 72,
   "id": "3a606371-a1e0-4261-b637-2276c13fc353",
   "metadata": {},
   "outputs": [],
   "source": [
    "class Triangulo(Poligono):\n",
    "    \n",
    "    def __init__(self):\n",
    "        super().__init__(n=3)"
   ]
  },
  {
   "cell_type": "code",
   "execution_count": 73,
   "id": "b95416f8-5773-4cfe-9cf1-2cc3099ca7fa",
   "metadata": {},
   "outputs": [
    {
     "name": "stdin",
     "output_type": "stream",
     "text": [
      "Introduce el tamaño del lado 1:  1\n",
      "Introduce el tamaño del lado 2:  2\n",
      "Introduce el tamaño del lado 3:  3\n"
     ]
    }
   ],
   "source": [
    "t1 = Triangulo() # ya no es necesario darle el valor de 3\n",
    "t1.definir_lados()"
   ]
  },
  {
   "cell_type": "markdown",
   "id": "d06bd055-7c2f-4122-93be-b6273d86e980",
   "metadata": {},
   "source": [
    "Corroboramos"
   ]
  },
  {
   "cell_type": "code",
   "execution_count": 74,
   "id": "d4e508fd-ea03-4eca-aebf-7aae96b1bfeb",
   "metadata": {},
   "outputs": [
    {
     "data": {
      "text/plain": [
       "[1.0, 2.0, 3.0]"
      ]
     },
     "execution_count": 74,
     "metadata": {},
     "output_type": "execute_result"
    }
   ],
   "source": [
    "t1.lados"
   ]
  },
  {
   "cell_type": "markdown",
   "id": "db127a45-aff3-4e47-a394-8e71608ae398",
   "metadata": {},
   "source": [
    "# Tarea.\n",
    "\n",
    "Tomar la clase `Triangulo()` y definir el método `tipo()` el cual me diga si el triángulo es:\n",
    "\n",
    "- Equilátero: todos sus lados son iguales\n",
    "- Isósceles: dos lados son iguales y uno diferente\n",
    "- Escaleno: todos los lados son diferentes"
   ]
  },
  {
   "cell_type": "markdown",
   "id": "131d73e0-0115-4aef-a41b-0018193a71e9",
   "metadata": {},
   "source": [
    "# Los otros dos pilares\n",
    "## Encapsulamiento\n",
    "Ayuda a **proteger** la integridad de los datos al prevenir accesos no autorizados y facilita el mantenimiento del código al reducir la dependencia de la implementación interna de un objeto.\n",
    "\n",
    "## Polimorfismo\n",
    "Permite que objetos de diferentes clases pueden compartir el mismo nombre de método, pero cada clase puede implementar ese método de manera que lo requiera."
   ]
  },
  {
   "cell_type": "markdown",
   "id": "03e5cef1-9094-4b06-80c9-2269840fa204",
   "metadata": {},
   "source": [
    "# Modularización\n",
    "Se refiere a la práctica de **dividir** un sistema en *clases* y *objetos* que encapsulan funcionalidades específicas, en donde:\n",
    "- Cada clase representa un módulo\n",
    "- Se promueve la reutilización de código"
   ]
  },
  {
   "cell_type": "markdown",
   "id": "c815a3e4-a904-439c-bef4-c5be636fd2e9",
   "metadata": {},
   "source": [
    "## Importar módulos en Python\n",
    "En Python ya hay muchos módulos que se pueden utilizar y para importarlos se usa:\n",
    "\n",
    "**Sintaxis**\n",
    "\n",
    "```python\n",
    "import modulo as nick_name\n",
    "```\n",
    "\n",
    "Importa a `modulo` con un nombre clave (`nick_name`)\n",
    "\n",
    "**Notas**\n",
    "\n",
    "- El `nick_name` no es obligatorio\n",
    "- Hay `nick_name`'s que la comunidad suele usar (`np`, `pd`, `px`, `plt`, etc)\n",
    "- Se pueden importar funciones u objetos en específico"
   ]
  },
  {
   "cell_type": "code",
   "execution_count": 75,
   "id": "98c5eb2c-9421-4849-a525-79a428ab2b1e",
   "metadata": {},
   "outputs": [
    {
     "name": "stdout",
     "output_type": "stream",
     "text": [
      "The Zen of Python, by Tim Peters\n",
      "\n",
      "Beautiful is better than ugly.\n",
      "Explicit is better than implicit.\n",
      "Simple is better than complex.\n",
      "Complex is better than complicated.\n",
      "Flat is better than nested.\n",
      "Sparse is better than dense.\n",
      "Readability counts.\n",
      "Special cases aren't special enough to break the rules.\n",
      "Although practicality beats purity.\n",
      "Errors should never pass silently.\n",
      "Unless explicitly silenced.\n",
      "In the face of ambiguity, refuse the temptation to guess.\n",
      "There should be one-- and preferably only one --obvious way to do it.\n",
      "Although that way may not be obvious at first unless you're Dutch.\n",
      "Now is better than never.\n",
      "Although never is often better than *right* now.\n",
      "If the implementation is hard to explain, it's a bad idea.\n",
      "If the implementation is easy to explain, it may be a good idea.\n",
      "Namespaces are one honking great idea -- let's do more of those!\n"
     ]
    }
   ],
   "source": [
    "import this"
   ]
  },
  {
   "cell_type": "markdown",
   "id": "7d7129c5-cf9f-40fb-aea4-a80d041d91ff",
   "metadata": {},
   "source": [
    "## Importar funciones u objetos específicos\n",
    "**Sintaxis**\n",
    "\n",
    "```python\n",
    "from modulo import funcion_objeto\n",
    "```"
   ]
  },
  {
   "cell_type": "code",
   "execution_count": 76,
   "id": "80bcd2f4-4baa-4ca2-8173-857f04aa81ca",
   "metadata": {},
   "outputs": [],
   "source": [
    "from math import sqrt"
   ]
  },
  {
   "cell_type": "code",
   "execution_count": 77,
   "id": "4516175c-e679-45c3-89b9-da8df8493ce5",
   "metadata": {},
   "outputs": [
    {
     "data": {
      "text/plain": [
       "5.0"
      ]
     },
     "execution_count": 77,
     "metadata": {},
     "output_type": "execute_result"
    }
   ],
   "source": [
    "sqrt(25)"
   ]
  }
 ],
 "metadata": {
  "kernelspec": {
   "display_name": "Python 3 (ipykernel)",
   "language": "python",
   "name": "python3"
  },
  "language_info": {
   "codemirror_mode": {
    "name": "ipython",
    "version": 3
   },
   "file_extension": ".py",
   "mimetype": "text/x-python",
   "name": "python",
   "nbconvert_exporter": "python",
   "pygments_lexer": "ipython3",
   "version": "3.9.13"
  }
 },
 "nbformat": 4,
 "nbformat_minor": 5
}
